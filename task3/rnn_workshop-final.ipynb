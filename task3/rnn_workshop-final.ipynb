{
 "cells": [
  {
   "cell_type": "markdown",
   "id": "65cc45d5",
   "metadata": {
    "id": "65cc45d5",
    "papermill": {
     "duration": 0.036431,
     "end_time": "2025-04-03T10:51:42.952198",
     "exception": false,
     "start_time": "2025-04-03T10:51:42.915767",
     "status": "completed"
    },
    "tags": []
   },
   "source": [
    "# `Практикум по программированию на языке Python`\n",
    "\n",
    "## `Задание 03. Рекуррентные Нейронные Сети. Dropout. LM`\n",
    "\n",
    "#### Фамилия, имя: Долгушев Глеб\n",
    "\n",
    "Дата выдачи: <span style=\"color:red\">__18 марта 23:59__</span>.\n",
    "\n",
    "Мягкий дедлайн: <span style=\"color:red\">__31 марта 05:00__</span>.\n",
    "\n",
    "Стоимость: __10 баллов__ (основная часть заданий) + __7 баллов__ (дополнительные задания).\n",
    "\n",
    "<span style=\"color:red\">__В ноутбуке все клетки должны выполняться без ошибок при последовательном их выполнении.__</span>\n",
    "\n",
    "#### `Москва, 2025`"
   ]
  },
  {
   "cell_type": "markdown",
   "id": "6e1adda7",
   "metadata": {
    "id": "6e1adda7",
    "papermill": {
     "duration": 0.03226,
     "end_time": "2025-04-03T10:51:43.017609",
     "exception": false,
     "start_time": "2025-04-03T10:51:42.985349",
     "status": "completed"
    },
    "tags": []
   },
   "source": [
    "Данное задание будет состоять из двух частей:\n",
    "1. Применение рекуррентной сети для решения задачи классификации текста. Более конкретно -- предсказания рейтинга отзыва фильма.\n",
    "2. Простейшая лингвистическая модель для генерации текста на основе LSTM."
   ]
  },
  {
   "cell_type": "markdown",
   "id": "f058b8cd",
   "metadata": {
    "id": "f058b8cd",
    "papermill": {
     "duration": 0.0323,
     "end_time": "2025-04-03T10:51:43.081937",
     "exception": false,
     "start_time": "2025-04-03T10:51:43.049637",
     "status": "completed"
    },
    "tags": []
   },
   "source": [
    "При выполнении задания вы обучите LSTM с разным уровнем \"коробочности\", а также познакомитесь с различными способами применения DropOut к рекуррентным архитектурам. В рекуррентных архитектурах вариантов, куда можно наложить бинарную маску шума, гораздо больше, чем в нейросетях прямого прохода.\n",
    "\n",
    "Во второй части вы попробуете реализовать простейший рекуррентный декодер для генерации текстов.\n",
    "\n",
    "Задание сделано так, чтобы его можно было выполнять на CPU, однако RNN - это ресурсоёмкая вещь, поэтому на GPU с ними работать приятнее. Можете попробовать использовать [https://colab.research.google.com](https://colab.research.google.com) - бесплатное облако с GPU."
   ]
  },
  {
   "cell_type": "markdown",
   "id": "e2e3bf4a",
   "metadata": {
    "id": "e2e3bf4a",
    "papermill": {
     "duration": 0.032204,
     "end_time": "2025-04-03T10:51:43.146880",
     "exception": false,
     "start_time": "2025-04-03T10:51:43.114676",
     "status": "completed"
    },
    "tags": []
   },
   "source": [
    "**Для корректного отображения картинок, вам может понадобится сделать ноутбук доверенным (Trusted) в правом верхнем углу**"
   ]
  },
  {
   "cell_type": "markdown",
   "id": "6b761208",
   "metadata": {
    "id": "6b761208",
    "papermill": {
     "duration": 0.032295,
     "end_time": "2025-04-03T10:51:43.211793",
     "exception": false,
     "start_time": "2025-04-03T10:51:43.179498",
     "status": "completed"
    },
    "tags": []
   },
   "source": [
    "# `Часть 0. Загрузка и предобработка данных (1 балл)`"
   ]
  },
  {
   "cell_type": "markdown",
   "id": "4c24e12a",
   "metadata": {
    "id": "4c24e12a",
    "papermill": {
     "duration": 0.031949,
     "end_time": "2025-04-03T10:51:43.275825",
     "exception": false,
     "start_time": "2025-04-03T10:51:43.243876",
     "status": "completed"
    },
    "tags": []
   },
   "source": [
    "## `Рекомендуемые гиперпараметры`"
   ]
  },
  {
   "cell_type": "code",
   "execution_count": 1,
   "id": "091a9e93",
   "metadata": {
    "ExecuteTime": {
     "end_time": "2024-03-30T21:23:57.654183Z",
     "start_time": "2024-03-30T21:23:57.649242Z"
    },
    "execution": {
     "iopub.execute_input": "2025-04-03T10:51:43.379435Z",
     "iopub.status.busy": "2025-04-03T10:51:43.379069Z",
     "iopub.status.idle": "2025-04-03T10:51:43.384131Z",
     "shell.execute_reply": "2025-04-03T10:51:43.383334Z"
    },
    "id": "091a9e93",
    "papermill": {
     "duration": 0.077553,
     "end_time": "2025-04-03T10:51:43.385511",
     "exception": false,
     "start_time": "2025-04-03T10:51:43.307958",
     "status": "completed"
    },
    "tags": []
   },
   "outputs": [],
   "source": [
    "max_length = 200\n",
    "top_n_words = 5000\n",
    "\n",
    "hidden_dim = 128\n",
    "embedding_dim = 32\n",
    "\n",
    "num_epochs = 15\n",
    "batch_size = 64\n",
    "learning_rate = 1e-3"
   ]
  },
  {
   "cell_type": "markdown",
   "id": "bfb10682",
   "metadata": {
    "id": "bfb10682",
    "papermill": {
     "duration": 0.031759,
     "end_time": "2025-04-03T10:51:43.449653",
     "exception": false,
     "start_time": "2025-04-03T10:51:43.417894",
     "status": "completed"
    },
    "tags": []
   },
   "source": [
    "Первое, что нужно сделать — скачать, предобработать данные и организовать их таким образом, чтобы их можно было подавать в нейронную сеть.\n",
    "\n",
    "Для обеих частей задания мы будем использовать [**Large Movie Review Dataset**](https://ai.stanford.edu/~amaas/data/sentiment/)."
   ]
  },
  {
   "cell_type": "markdown",
   "id": "a7aae6e6",
   "metadata": {
    "id": "a7aae6e6",
    "papermill": {
     "duration": 0.031437,
     "end_time": "2025-04-03T10:51:43.512861",
     "exception": false,
     "start_time": "2025-04-03T10:51:43.481424",
     "status": "completed"
    },
    "tags": []
   },
   "source": [
    "## `Загрузка и предобработка данных`"
   ]
  },
  {
   "cell_type": "code",
   "execution_count": 2,
   "id": "3851a188",
   "metadata": {
    "colab": {
     "base_uri": "https://localhost:8080/"
    },
    "execution": {
     "iopub.execute_input": "2025-04-03T10:51:43.578124Z",
     "iopub.status.busy": "2025-04-03T10:51:43.577865Z",
     "iopub.status.idle": "2025-04-03T10:51:49.676464Z",
     "shell.execute_reply": "2025-04-03T10:51:49.675614Z"
    },
    "id": "3851a188",
    "outputId": "3de4e85c-c7a7-4cd4-febd-d4852ef198f4",
    "papermill": {
     "duration": 6.13328,
     "end_time": "2025-04-03T10:51:49.678103",
     "exception": false,
     "start_time": "2025-04-03T10:51:43.544823",
     "status": "completed"
    },
    "tags": []
   },
   "outputs": [
    {
     "name": "stdout",
     "output_type": "stream",
     "text": [
      "  Preparing metadata (setup.py) ... \u001b[?25l\u001b[?25hdone\n",
      "  Building wheel for wget (setup.py) ... \u001b[?25l\u001b[?25hdone\n"
     ]
    }
   ],
   "source": [
    "!pip install wget -q"
   ]
  },
  {
   "cell_type": "markdown",
   "id": "abbdbc79",
   "metadata": {
    "id": "abbdbc79",
    "papermill": {
     "duration": 0.032187,
     "end_time": "2025-04-03T10:51:49.744034",
     "exception": false,
     "start_time": "2025-04-03T10:51:49.711847",
     "status": "completed"
    },
    "tags": []
   },
   "source": [
    "Загрузите данные по ссылке выше. (**tip**: используйте `wget`)"
   ]
  },
  {
   "cell_type": "code",
   "execution_count": 3,
   "id": "4631dc90",
   "metadata": {
    "ExecuteTime": {
     "end_time": "2024-03-30T21:24:30.812994Z",
     "start_time": "2024-03-30T21:23:57.655622Z"
    },
    "execution": {
     "iopub.execute_input": "2025-04-03T10:51:49.809430Z",
     "iopub.status.busy": "2025-04-03T10:51:49.809105Z",
     "iopub.status.idle": "2025-04-03T10:52:10.409291Z",
     "shell.execute_reply": "2025-04-03T10:52:10.408624Z"
    },
    "id": "4631dc90",
    "papermill": {
     "duration": 20.634765,
     "end_time": "2025-04-03T10:52:10.410850",
     "exception": false,
     "start_time": "2025-04-03T10:51:49.776085",
     "status": "completed"
    },
    "tags": []
   },
   "outputs": [],
   "source": [
    "import wget\n",
    "import os\n",
    "\n",
    "if not os.path.exists('./aclImdb_v1.tar.gz'):\n",
    "    url = 'https://ai.stanford.edu/~amaas/data/sentiment/aclImdb_v1.tar.gz'\n",
    "    wget.download(url)"
   ]
  },
  {
   "cell_type": "markdown",
   "id": "20e9aaec",
   "metadata": {
    "id": "20e9aaec",
    "papermill": {
     "duration": 0.032023,
     "end_time": "2025-04-03T10:52:10.476676",
     "exception": false,
     "start_time": "2025-04-03T10:52:10.444653",
     "status": "completed"
    },
    "tags": []
   },
   "source": [
    "Распакуйте скачанные данные в папку `aclImdb` (**tip:** используйте `tar`)"
   ]
  },
  {
   "cell_type": "code",
   "execution_count": 4,
   "id": "20050044",
   "metadata": {
    "ExecuteTime": {
     "end_time": "2024-03-30T21:24:34.122786Z",
     "start_time": "2024-03-30T21:24:30.814849Z"
    },
    "execution": {
     "iopub.execute_input": "2025-04-03T10:52:10.542294Z",
     "iopub.status.busy": "2025-04-03T10:52:10.542013Z",
     "iopub.status.idle": "2025-04-03T10:52:27.313615Z",
     "shell.execute_reply": "2025-04-03T10:52:27.312777Z"
    },
    "id": "20050044",
    "papermill": {
     "duration": 16.805652,
     "end_time": "2025-04-03T10:52:27.315222",
     "exception": false,
     "start_time": "2025-04-03T10:52:10.509570",
     "status": "completed"
    },
    "tags": []
   },
   "outputs": [],
   "source": [
    "import tarfile\n",
    "\n",
    "if not os.path.exists('aclImdb'):\n",
    "    tar = tarfile.open(\"./aclImdb_v1.tar.gz\")\n",
    "    tar.extractall()\n",
    "    tar.close()\n"
   ]
  },
  {
   "cell_type": "markdown",
   "id": "af35408c",
   "metadata": {
    "id": "af35408c",
    "papermill": {
     "duration": 0.031783,
     "end_time": "2025-04-03T10:52:27.382015",
     "exception": false,
     "start_time": "2025-04-03T10:52:27.350232",
     "status": "completed"
    },
    "tags": []
   },
   "source": [
    "Посмотрите в файле `./aclImdb/README` как организованы данные:"
   ]
  },
  {
   "cell_type": "code",
   "execution_count": 5,
   "id": "fcc4bc0a",
   "metadata": {
    "ExecuteTime": {
     "end_time": "2024-03-30T21:24:34.232726Z",
     "start_time": "2024-03-30T21:24:34.124249Z"
    },
    "colab": {
     "base_uri": "https://localhost:8080/"
    },
    "execution": {
     "iopub.execute_input": "2025-04-03T10:52:27.447298Z",
     "iopub.status.busy": "2025-04-03T10:52:27.447010Z",
     "iopub.status.idle": "2025-04-03T10:52:27.567842Z",
     "shell.execute_reply": "2025-04-03T10:52:27.566821Z"
    },
    "id": "fcc4bc0a",
    "outputId": "04ca8eca-8066-4e4e-80f6-87e2f2d981d3",
    "papermill": {
     "duration": 0.155126,
     "end_time": "2025-04-03T10:52:27.569162",
     "exception": false,
     "start_time": "2025-04-03T10:52:27.414036",
     "status": "completed"
    },
    "tags": []
   },
   "outputs": [
    {
     "name": "stdout",
     "output_type": "stream",
     "text": [
      "This is not the typical Mel Brooks film. It was much less slapstick than most of his movies and actually had a plot that was followable. Leslie Ann Warren made the movie, she is such a fantastic, under-rated actress. There were some moments that could have been fleshed out a bit more, and some scenes that could probably have been cut to make the room to do so, but all in all, this is worth the price to rent and see it. The acting was good overall, Brooks himself did a good job without his characteristic speaking to directly to the audience. Again, Warren was the best actor in the movie, but \"Fume\" and \"Sailor\" both played their parts well."
     ]
    }
   ],
   "source": [
    "!cat ./aclImdb/train/pos/10003_8.txt"
   ]
  },
  {
   "cell_type": "code",
   "execution_count": 6,
   "id": "d08d330b",
   "metadata": {
    "ExecuteTime": {
     "end_time": "2024-03-30T21:24:34.236779Z",
     "start_time": "2024-03-30T21:24:34.234575Z"
    },
    "execution": {
     "iopub.execute_input": "2025-04-03T10:52:27.635019Z",
     "iopub.status.busy": "2025-04-03T10:52:27.634769Z",
     "iopub.status.idle": "2025-04-03T10:52:27.637954Z",
     "shell.execute_reply": "2025-04-03T10:52:27.637339Z"
    },
    "id": "d08d330b",
    "papermill": {
     "duration": 0.037177,
     "end_time": "2025-04-03T10:52:27.639134",
     "exception": false,
     "start_time": "2025-04-03T10:52:27.601957",
     "status": "completed"
    },
    "tags": []
   },
   "outputs": [],
   "source": [
    "test_data_path = './aclImdb/test/'\n",
    "train_data_path = './aclImdb/train/'"
   ]
  },
  {
   "cell_type": "code",
   "execution_count": 7,
   "id": "c2197d99",
   "metadata": {
    "ExecuteTime": {
     "end_time": "2024-03-30T21:24:35.529898Z",
     "start_time": "2024-03-30T21:24:34.238134Z"
    },
    "colab": {
     "base_uri": "https://localhost:8080/"
    },
    "execution": {
     "iopub.execute_input": "2025-04-03T10:52:27.705022Z",
     "iopub.status.busy": "2025-04-03T10:52:27.704770Z",
     "iopub.status.idle": "2025-04-03T10:52:33.096820Z",
     "shell.execute_reply": "2025-04-03T10:52:33.096132Z"
    },
    "id": "c2197d99",
    "outputId": "3753cc9b-0938-4f02-fa79-a6bd385dd94e",
    "papermill": {
     "duration": 5.426748,
     "end_time": "2025-04-03T10:52:33.098459",
     "exception": false,
     "start_time": "2025-04-03T10:52:27.671711",
     "status": "completed"
    },
    "tags": []
   },
   "outputs": [
    {
     "name": "stderr",
     "output_type": "stream",
     "text": [
      "[nltk_data] Downloading package stopwords to /root/nltk_data...\n",
      "[nltk_data]   Unzipping corpora/stopwords.zip.\n"
     ]
    }
   ],
   "source": [
    "import random\n",
    "from tqdm import tqdm\n",
    "from functools import partial\n",
    "from collections import defaultdict\n",
    "from typing import Optional, Tuple, Union, List\n",
    "\n",
    "from IPython.display import Markdown, display\n",
    "\n",
    "\n",
    "import nltk\n",
    "nltk.download('stopwords')\n",
    "\n",
    "import regex\n",
    "import numpy as np\n",
    "\n",
    "import torch\n",
    "from torch.utils.data import Dataset, DataLoader\n",
    "\n",
    "import tokenizers\n",
    "from tokenizers import Tokenizer, trainers, pre_tokenizers\n",
    "\n",
    "torch.backends.cudnn.benchmark = True\n",
    "torch.use_deterministic_algorithms(False)\n",
    "\n",
    "torch.autograd.profiler.profile(False)\n",
    "torch.autograd.profiler.emit_nvtx(False)\n",
    "torch.autograd.set_detect_anomaly(False)\n",
    "\n",
    "torch.set_float32_matmul_precision('high')\n",
    "torch.backends.cuda.matmul.allow_tf32 = True\n",
    "\n",
    "os.environ[\"TOKENIZERS_PARALLELISM\"] = \"false\""
   ]
  },
  {
   "cell_type": "code",
   "execution_count": 8,
   "id": "6e2527a9",
   "metadata": {
    "execution": {
     "iopub.execute_input": "2025-04-03T10:52:33.165883Z",
     "iopub.status.busy": "2025-04-03T10:52:33.165501Z",
     "iopub.status.idle": "2025-04-03T10:52:33.170547Z",
     "shell.execute_reply": "2025-04-03T10:52:33.169869Z"
    },
    "id": "6e2527a9",
    "papermill": {
     "duration": 0.039502,
     "end_time": "2025-04-03T10:52:33.171683",
     "exception": false,
     "start_time": "2025-04-03T10:52:33.132181",
     "status": "completed"
    },
    "tags": []
   },
   "outputs": [],
   "source": [
    "def set_global_seed(seed: int) -> None:\n",
    "    \"\"\"Set global seed for reproducibility.\n",
    "    :param int seed: Seed to be set\n",
    "    \"\"\"\n",
    "    random.seed(seed)\n",
    "    np.random.seed(seed)\n",
    "\n",
    "    torch.manual_seed(seed)\n",
    "    torch.cuda.manual_seed(seed)\n",
    "    torch.cuda.manual_seed_all(seed)\n",
    "\n",
    "def check_numel(module: torch.nn.Module, params_numel: int, buffers_numel: Optional[int] = None) -> None:\n",
    "    \"\"\"Check whether module has correct number of parameters and buffers\n",
    "    :param torch.nn.Module module: Target model\n",
    "    :param int params_numel: Target number of parameters\n",
    "    :param Optional[int] buffers_numel: Target number of buffers\n",
    "    :rtype:\n",
    "    \"\"\"\n",
    "    numel = sum(param.numel() for param in module.parameters())\n",
    "    assert numel == params_numel, f'For params numel != correct numel: {numel} vs {params_numel}'\n",
    "\n",
    "    if buffers_numel is not None:\n",
    "        numel = sum(param.numel() for param in module.buffers())\n",
    "        assert numel == buffers_numel, f'For buffers numel != correct numel: {numel} vs {buffers_numel}'\n"
   ]
  },
  {
   "cell_type": "code",
   "execution_count": 9,
   "id": "7b46e88b",
   "metadata": {
    "execution": {
     "iopub.execute_input": "2025-04-03T10:52:33.237928Z",
     "iopub.status.busy": "2025-04-03T10:52:33.237686Z",
     "iopub.status.idle": "2025-04-03T10:52:33.245962Z",
     "shell.execute_reply": "2025-04-03T10:52:33.245136Z"
    },
    "id": "7b46e88b",
    "papermill": {
     "duration": 0.042684,
     "end_time": "2025-04-03T10:52:33.247141",
     "exception": false,
     "start_time": "2025-04-03T10:52:33.204457",
     "status": "completed"
    },
    "tags": []
   },
   "outputs": [],
   "source": [
    "set_global_seed(42)"
   ]
  },
  {
   "cell_type": "markdown",
   "id": "2ae577cb",
   "metadata": {
    "id": "2ae577cb",
    "papermill": {
     "duration": 0.032002,
     "end_time": "2025-04-03T10:52:33.311024",
     "exception": false,
     "start_time": "2025-04-03T10:52:33.279022",
     "status": "completed"
    },
    "tags": []
   },
   "source": [
    "Стандартной предобработкой данных является токенизация текстов. Полученные токены можно будет закодировать и затем подавать на вход нейронной сети. Ключевым моментом, который влияет на скорость работы нейросети и её размер в памяти — размер словаря, используемого при токенизации. Для задачи классификации мы можем убрать часть слов (стоп слова, редкие слова), ускорив обучение без потери в качестве."
   ]
  },
  {
   "cell_type": "code",
   "execution_count": 10,
   "id": "44bf316e",
   "metadata": {
    "ExecuteTime": {
     "end_time": "2024-03-30T21:24:35.534374Z",
     "start_time": "2024-03-30T21:24:35.531641Z"
    },
    "execution": {
     "iopub.execute_input": "2025-04-03T10:52:33.376183Z",
     "iopub.status.busy": "2025-04-03T10:52:33.375915Z",
     "iopub.status.idle": "2025-04-03T10:52:33.380792Z",
     "shell.execute_reply": "2025-04-03T10:52:33.380001Z"
    },
    "id": "44bf316e",
    "papermill": {
     "duration": 0.038996,
     "end_time": "2025-04-03T10:52:33.382024",
     "exception": false,
     "start_time": "2025-04-03T10:52:33.343028",
     "status": "completed"
    },
    "tags": []
   },
   "outputs": [],
   "source": [
    "STOPWORDS = nltk.corpus.stopwords.words('english')"
   ]
  },
  {
   "cell_type": "markdown",
   "id": "c22eb178",
   "metadata": {
    "id": "c22eb178",
    "papermill": {
     "duration": 0.03217,
     "end_time": "2025-04-03T10:52:33.446621",
     "exception": false,
     "start_time": "2025-04-03T10:52:33.414451",
     "status": "completed"
    },
    "tags": []
   },
   "source": [
    "Реализуйте функцию для токенизации текста. Выполнять токенизацию можно по-разному, но в данном задании предлагается это делать следующим образом:\n",
    "1. Привести текст к нижнему регистру\n",
    "2. Убрать html разметку из текстов (`<br />`, ...)\n",
    "3. Убрать все символы кроме латинских букв\n",
    "4. Разбить строку по пробелам\n",
    "5. Убрать стоп слова"
   ]
  },
  {
   "cell_type": "code",
   "execution_count": 11,
   "id": "2a4c57d3",
   "metadata": {
    "ExecuteTime": {
     "end_time": "2024-03-30T21:24:35.544159Z",
     "start_time": "2024-03-30T21:24:35.535637Z"
    },
    "execution": {
     "iopub.execute_input": "2025-04-03T10:52:33.512935Z",
     "iopub.status.busy": "2025-04-03T10:52:33.512657Z",
     "iopub.status.idle": "2025-04-03T10:52:33.517086Z",
     "shell.execute_reply": "2025-04-03T10:52:33.516439Z"
    },
    "id": "2a4c57d3",
    "papermill": {
     "duration": 0.038749,
     "end_time": "2025-04-03T10:52:33.518158",
     "exception": false,
     "start_time": "2025-04-03T10:52:33.479409",
     "status": "completed"
    },
    "tags": []
   },
   "outputs": [],
   "source": [
    "import re\n",
    "from html import unescape\n",
    "\n",
    "def remove_html_tags(text):\n",
    "    cleaned = re.sub(r'<[^>]+>', '', text)\n",
    "    return unescape(cleaned)\n",
    "\n",
    "def tokenize(text):\n",
    "    \"\"\"\n",
    "    :param str text: Input text\n",
    "    :return List[str]: List of words\n",
    "    \"\"\"\n",
    "    # YOUR CODE HERE\n",
    "    text = text.lower()\n",
    "    text = remove_html_tags(text)\n",
    "    text = re.sub(r'[^A-Za-z]', ' ', text)\n",
    "    text = text.split()\n",
    "    text = [word for word in text if word not in STOPWORDS]\n",
    "    return text"
   ]
  },
  {
   "cell_type": "code",
   "execution_count": 12,
   "id": "dfbee780",
   "metadata": {
    "ExecuteTime": {
     "end_time": "2024-03-30T21:24:35.555455Z",
     "start_time": "2024-03-30T21:24:35.545516Z"
    },
    "colab": {
     "base_uri": "https://localhost:8080/"
    },
    "execution": {
     "iopub.execute_input": "2025-04-03T10:52:33.583085Z",
     "iopub.status.busy": "2025-04-03T10:52:33.582864Z",
     "iopub.status.idle": "2025-04-03T10:52:33.588182Z",
     "shell.execute_reply": "2025-04-03T10:52:33.587409Z"
    },
    "id": "dfbee780",
    "outputId": "ac2e2608-b80f-45c7-fc97-402b8b9151b2",
    "papermill": {
     "duration": 0.039027,
     "end_time": "2025-04-03T10:52:33.589383",
     "exception": false,
     "start_time": "2025-04-03T10:52:33.550356",
     "status": "completed"
    },
    "tags": []
   },
   "outputs": [
    {
     "data": {
      "text/plain": [
       "['hello', 'words', 'program']"
      ]
     },
     "execution_count": 12,
     "metadata": {},
     "output_type": "execute_result"
    }
   ],
   "source": [
    "tokenize('1. Hello <br />  words!!   I am program!  <br />')"
   ]
  },
  {
   "cell_type": "markdown",
   "id": "1af3c756",
   "metadata": {
    "id": "1af3c756",
    "papermill": {
     "duration": 0.032444,
     "end_time": "2025-04-03T10:52:33.654191",
     "exception": false,
     "start_time": "2025-04-03T10:52:33.621747",
     "status": "completed"
    },
    "tags": []
   },
   "source": [
    "Теперь мы можем создать словарь, с помощью которого мы будем кодировать токены из текста в числа и наоборот. Для этого мы воспользуемся библиотекой [tokenizers](https://huggingface.co/docs/tokenizers/index)\n",
    "\n",
    "Токенезация происходит через класс `tokenizer`. Для того чтобы получить `tokenizer` его надо сначала **обучить**, для этого нам необходимо использовать `tokenizers.trainers`. Так как мы будем работать на уровне слов, то выберем `tokenizers.trainers.WordLevelTrainer`.\n",
    "\n",
    "Для работы с текстами нам необходимо зарезервировать два специальных токена:\n",
    "1. `<pad>` для токена означающего паддинг\n",
    "2. `<unk>` для токенов, которые отсутствуют в словаре\n",
    "3. `<sos>` для токенов, которые обозначают начало последовательности (потребуется во второй части задания)\n",
    "4. `<eos>` для токенов, которые обозначают конец последовательности (потребуется во второй части задания)"
   ]
  },
  {
   "cell_type": "markdown",
   "id": "baa5f8ff",
   "metadata": {
    "id": "baa5f8ff",
    "papermill": {
     "duration": 0.032254,
     "end_time": "2025-04-03T10:52:33.718471",
     "exception": false,
     "start_time": "2025-04-03T10:52:33.686217",
     "status": "completed"
    },
    "tags": []
   },
   "source": [
    "Для начала мы будем разбивать предложение по словам, для этого воспользуемся `trainers.WordLevelTrainer`. Будем рассматривать словарь размером `top_n_words` слов. Подробнее про различных `trainers` можно почитать в [документации](https://huggingface.co/docs/tokenizers/api/trainers), например, из коробки можно использовать BPE."
   ]
  },
  {
   "cell_type": "markdown",
   "id": "5121edec",
   "metadata": {
    "id": "5121edec",
    "papermill": {
     "duration": 0.032311,
     "end_time": "2025-04-03T10:52:33.784018",
     "exception": false,
     "start_time": "2025-04-03T10:52:33.751707",
     "status": "completed"
    },
    "tags": []
   },
   "source": [
    "```python\n",
    "trainers.WordLevelTrainer(self, /, *args, **kwargs)\n",
    "Docstring:     \n",
    "Trainer capable of training a WorldLevel model\n",
    "\n",
    "Args:\n",
    "    vocab_size (:obj:`int`, `optional`):\n",
    "        The size of the final vocabulary, including all tokens and alphabet.\n",
    "\n",
    "    min_frequency (:obj:`int`, `optional`):\n",
    "        The minimum frequency a pair should have in order to be merged.\n",
    "\n",
    "    show_progress (:obj:`bool`, `optional`):\n",
    "        Whether to show progress bars while training.\n",
    "\n",
    "    special_tokens (:obj:`List[Union[str, AddedToken]]`):\n",
    "        A list of special tokens the model should know of.\n",
    "```"
   ]
  },
  {
   "cell_type": "markdown",
   "id": "d671b342",
   "metadata": {
    "id": "d671b342",
    "papermill": {
     "duration": 0.032049,
     "end_time": "2025-04-03T10:52:33.848227",
     "exception": false,
     "start_time": "2025-04-03T10:52:33.816178",
     "status": "completed"
    },
    "tags": []
   },
   "source": [
    "Не забудьте добавить специальные токены. В первой части это токены, отвечающие за паддинг и слова, которых нет в словаре."
   ]
  },
  {
   "cell_type": "code",
   "execution_count": 13,
   "id": "5bb91d3d",
   "metadata": {
    "execution": {
     "iopub.execute_input": "2025-04-03T10:52:33.914088Z",
     "iopub.status.busy": "2025-04-03T10:52:33.913756Z",
     "iopub.status.idle": "2025-04-03T10:52:33.926178Z",
     "shell.execute_reply": "2025-04-03T10:52:33.925378Z"
    },
    "id": "5bb91d3d",
    "papermill": {
     "duration": 0.047016,
     "end_time": "2025-04-03T10:52:33.927503",
     "exception": false,
     "start_time": "2025-04-03T10:52:33.880487",
     "status": "completed"
    },
    "tags": []
   },
   "outputs": [],
   "source": [
    "# YOUR CODE HERE\n",
    "trainer = trainers.WordLevelTrainer(\n",
    "    vocab_size=top_n_words,\n",
    "    show_progress=True,\n",
    "    special_tokens=['<pad>', '<unk>']\n",
    ")\n",
    "\n",
    "tokenizer = tokenizers.Tokenizer(\n",
    "    model = tokenizers.models.WordLevel(unk_token='<unk>')\n",
    ")"
   ]
  },
  {
   "cell_type": "markdown",
   "id": "1ea6d36a",
   "metadata": {
    "id": "1ea6d36a",
    "papermill": {
     "duration": 0.033964,
     "end_time": "2025-04-03T10:52:33.993822",
     "exception": false,
     "start_time": "2025-04-03T10:52:33.959858",
     "status": "completed"
    },
    "tags": []
   },
   "source": [
    "Обучить `tokenizers.Tokenizer` можно **двумя способами**:\n",
    "\n",
    "- [указать список файлов и обучиться на них](https://huggingface.co/docs/tokenizers/pipeline), бывает полезно, когда датасет нельзя поместить в оперативную память;\n",
    "\n",
    "- [обучиться из памяти](https://huggingface.co/docs/tokenizers/training_from_memory), то есть хранить датасет в оперативной памяти, бывает полезно при маленьких датасетах как наш.\n",
    "\n",
    "\n",
    "Чтобы обучиться из файлов нам необходимо задать `tokenizers.normalizers.Normalizer` для нормализации строк (удаление лишних слов и символов), после чего необходимо задать `tokenizers.pre_tokenizers.PreTokenizer` для разделение строки на слова. Подробнее можно посмотреть [в этом примере](https://github.com/huggingface/tokenizers/blob/4383a25787cf366f5e8eaf12643b64f0ba548dc2/bindings/python/examples/custom_components.py). Такая сложность обусловленна тем, что `tokenizers` крайне много использует особенности ООП (объектно-ориентированного программирования).\n",
    "\n",
    "Мы будем обучаться из памяти, поэтому нам необходимо сделать итератор, который пройдет по всем файлам и токенизирует текст в них их. Подробнее можно почитать [в официальной документации](https://huggingface.co/docs/tokenizers/training_from_memory).\n"
   ]
  },
  {
   "cell_type": "code",
   "execution_count": 14,
   "id": "c980b0d8",
   "metadata": {
    "execution": {
     "iopub.execute_input": "2025-04-03T10:52:34.059204Z",
     "iopub.status.busy": "2025-04-03T10:52:34.058938Z",
     "iopub.status.idle": "2025-04-03T10:52:34.062935Z",
     "shell.execute_reply": "2025-04-03T10:52:34.062313Z"
    },
    "id": "c980b0d8",
    "papermill": {
     "duration": 0.038114,
     "end_time": "2025-04-03T10:52:34.064172",
     "exception": false,
     "start_time": "2025-04-03T10:52:34.026058",
     "status": "completed"
    },
    "tags": []
   },
   "outputs": [],
   "source": [
    "def get_data_iterator():\n",
    "    for path in ['./aclImdb/test/neg', './aclImdb/test/pos', './aclImdb/train/neg', './aclImdb/train/pos']:\n",
    "        paths = sorted(list(os.listdir(path)))\n",
    "\n",
    "        # YOUR CODE HERE\n",
    "        for file_path in paths:\n",
    "            text = open(os.path.join(path, file_path), 'r', encoding='utf-8', errors='ignore').read().strip()\n",
    "            yield tokenize(text)"
   ]
  },
  {
   "cell_type": "code",
   "execution_count": 15,
   "id": "37e85316",
   "metadata": {
    "colab": {
     "base_uri": "https://localhost:8080/"
    },
    "execution": {
     "iopub.execute_input": "2025-04-03T10:52:34.129625Z",
     "iopub.status.busy": "2025-04-03T10:52:34.129403Z",
     "iopub.status.idle": "2025-04-03T10:53:08.450352Z",
     "shell.execute_reply": "2025-04-03T10:53:08.449332Z"
    },
    "id": "37e85316",
    "outputId": "a917550f-3cff-49d7-b3c0-30fd7e934da6",
    "papermill": {
     "duration": 34.35537,
     "end_time": "2025-04-03T10:53:08.451843",
     "exception": false,
     "start_time": "2025-04-03T10:52:34.096473",
     "status": "completed"
    },
    "tags": []
   },
   "outputs": [
    {
     "name": "stderr",
     "output_type": "stream",
     "text": [
      "100%|██████████| 50000/50000 [00:43<00:00, 1139.32it/s]\n"
     ]
    }
   ],
   "source": [
    "tokenizer.train_from_iterator(tqdm(get_data_iterator(), total=50000), trainer=trainer)"
   ]
  },
  {
   "cell_type": "markdown",
   "id": "33930825",
   "metadata": {
    "id": "33930825",
    "papermill": {
     "duration": 0.047787,
     "end_time": "2025-04-03T10:53:08.548626",
     "exception": false,
     "start_time": "2025-04-03T10:53:08.500839",
     "status": "completed"
    },
    "tags": []
   },
   "source": [
    "Посмотрим на токены с наименьшим *id*. Обратим внимание, что специальные токены имеют наименьшие *id* по-умолчанию."
   ]
  },
  {
   "cell_type": "code",
   "execution_count": 16,
   "id": "729b2d78",
   "metadata": {
    "colab": {
     "base_uri": "https://localhost:8080/"
    },
    "execution": {
     "iopub.execute_input": "2025-04-03T10:53:08.643734Z",
     "iopub.status.busy": "2025-04-03T10:53:08.643444Z",
     "iopub.status.idle": "2025-04-03T10:53:08.649103Z",
     "shell.execute_reply": "2025-04-03T10:53:08.648248Z"
    },
    "id": "729b2d78",
    "outputId": "7986a9ed-fc2b-49d8-d078-c7edecc83287",
    "papermill": {
     "duration": 0.055433,
     "end_time": "2025-04-03T10:53:08.650504",
     "exception": false,
     "start_time": "2025-04-03T10:53:08.595071",
     "status": "completed"
    },
    "tags": []
   },
   "outputs": [
    {
     "name": "stdout",
     "output_type": "stream",
     "text": [
      "ID = 0, token = <pad>\n",
      "ID = 1, token = <unk>\n",
      "ID = 2, token = movie\n",
      "ID = 3, token = film\n",
      "ID = 4, token = one\n",
      "ID = 5, token = like\n",
      "ID = 6, token = good\n",
      "ID = 7, token = time\n",
      "ID = 8, token = even\n",
      "ID = 9, token = would\n"
     ]
    }
   ],
   "source": [
    "for i in range(10):\n",
    "    token = tokenizer.id_to_token(i)\n",
    "    print(f\"ID = {i}, token = {token}\")"
   ]
  },
  {
   "cell_type": "code",
   "execution_count": 17,
   "id": "bfd996c8",
   "metadata": {
    "execution": {
     "iopub.execute_input": "2025-04-03T10:53:08.744203Z",
     "iopub.status.busy": "2025-04-03T10:53:08.743942Z",
     "iopub.status.idle": "2025-04-03T10:53:08.747108Z",
     "shell.execute_reply": "2025-04-03T10:53:08.746285Z"
    },
    "id": "bfd996c8",
    "papermill": {
     "duration": 0.051496,
     "end_time": "2025-04-03T10:53:08.748440",
     "exception": false,
     "start_time": "2025-04-03T10:53:08.696944",
     "status": "completed"
    },
    "tags": []
   },
   "outputs": [],
   "source": [
    "# assert tokenizer.get_vocab_size() == top_n_words\n",
    "\n",
    "# assert tokenizer.id_to_token(464) == 'complete', f\"token = {tokenizer.id_to_token(464)}\"\n",
    "# assert tokenizer.id_to_token(647) == 'typical',  f\"token = {tokenizer.id_to_token(647)}\"\n",
    "# assert tokenizer.id_to_token(573) == 'fast',     f\"token = {tokenizer.id_to_token(573)}\""
   ]
  },
  {
   "cell_type": "markdown",
   "id": "902a3b66",
   "metadata": {
    "id": "902a3b66",
    "papermill": {
     "duration": 0.053582,
     "end_time": "2025-04-03T10:53:08.848772",
     "exception": false,
     "start_time": "2025-04-03T10:53:08.795190",
     "status": "completed"
    },
    "tags": []
   },
   "source": [
    "**Важно:** При создании итератора мы сортировали файлы, поэтому результат при корретной реализации должен быть детерминированный."
   ]
  },
  {
   "cell_type": "markdown",
   "id": "40caa674",
   "metadata": {
    "id": "40caa674",
    "papermill": {
     "duration": 0.05475,
     "end_time": "2025-04-03T10:53:08.958310",
     "exception": false,
     "start_time": "2025-04-03T10:53:08.903560",
     "status": "completed"
    },
    "tags": []
   },
   "source": [
    "Для кодирования предложений используется метод `encode`, так как мы самостоятельно описали функцию `tokenize`, то установим `is_pretokenized=True`."
   ]
  },
  {
   "cell_type": "code",
   "execution_count": 18,
   "id": "d8097ce0",
   "metadata": {
    "colab": {
     "base_uri": "https://localhost:8080/"
    },
    "execution": {
     "iopub.execute_input": "2025-04-03T10:53:09.062494Z",
     "iopub.status.busy": "2025-04-03T10:53:09.062121Z",
     "iopub.status.idle": "2025-04-03T10:53:09.068137Z",
     "shell.execute_reply": "2025-04-03T10:53:09.067182Z"
    },
    "id": "d8097ce0",
    "outputId": "fe4f2fa4-74c7-4741-a61c-9bb4611349c1",
    "papermill": {
     "duration": 0.059723,
     "end_time": "2025-04-03T10:53:09.069689",
     "exception": false,
     "start_time": "2025-04-03T10:53:09.009966",
     "status": "completed"
    },
    "tags": []
   },
   "outputs": [
    {
     "name": "stdout",
     "output_type": "stream",
     "text": [
      "Encoding(num_tokens=2, attributes=[ids, type_ids, tokens, offsets, attention_mask, special_tokens_mask, overflowing])\n",
      "Tokens ids:  [4773, 536]\n"
     ]
    }
   ],
   "source": [
    "result = tokenizer.encode(\n",
    "    sequence        = tokenize('1. Hello <br /> words!! <br />'),\n",
    "    is_pretokenized = True\n",
    ")\n",
    "\n",
    "print(result)\n",
    "print(\"Tokens ids: \", result.ids)"
   ]
  },
  {
   "cell_type": "markdown",
   "id": "90ef609f",
   "metadata": {
    "id": "90ef609f",
    "papermill": {
     "duration": 0.056205,
     "end_time": "2025-04-03T10:53:09.182537",
     "exception": false,
     "start_time": "2025-04-03T10:53:09.126332",
     "status": "completed"
    },
    "tags": []
   },
   "source": [
    "Для декодирования, следует использовать метод `decode`, по умолчанию все специальные токены будут пропущены, то есть все токены `<unk>` будут пропущены."
   ]
  },
  {
   "cell_type": "code",
   "execution_count": 19,
   "id": "09a34db5",
   "metadata": {
    "colab": {
     "base_uri": "https://localhost:8080/"
    },
    "execution": {
     "iopub.execute_input": "2025-04-03T10:53:09.286058Z",
     "iopub.status.busy": "2025-04-03T10:53:09.285777Z",
     "iopub.status.idle": "2025-04-03T10:53:09.289766Z",
     "shell.execute_reply": "2025-04-03T10:53:09.288811Z"
    },
    "id": "09a34db5",
    "outputId": "531db7ae-2350-46d1-cd39-34031288780f",
    "papermill": {
     "duration": 0.054959,
     "end_time": "2025-04-03T10:53:09.290966",
     "exception": false,
     "start_time": "2025-04-03T10:53:09.236007",
     "status": "completed"
    },
    "tags": []
   },
   "outputs": [
    {
     "name": "stdout",
     "output_type": "stream",
     "text": [
      "Decode result: hello words\n"
     ]
    }
   ],
   "source": [
    "decode_res = tokenizer.decode(\n",
    "    ids                 = result.ids,\n",
    "    skip_special_tokens = True\n",
    ")\n",
    "print(f\"Decode result: {decode_res}\")"
   ]
  },
  {
   "cell_type": "markdown",
   "id": "fd91b94c",
   "metadata": {
    "id": "fd91b94c",
    "papermill": {
     "duration": 0.046379,
     "end_time": "2025-04-03T10:53:09.389292",
     "exception": false,
     "start_time": "2025-04-03T10:53:09.342913",
     "status": "completed"
    },
    "tags": []
   },
   "source": [
    "Теперь мы готовы создать обёртку-датасет для наших данных.\n",
    "\n",
    "Необходимо добавить несколько опций, которые понадобятся во второй части задания:\n",
    "1. Ограничение на максимальную длину текста в токенах. Если текст оказывается длиннее, то последние токены отбрасываются. Иметь ограничение на максимальную длину бывает полезно, так вы имеете гарантии, что во время обучения не засэмплируется очень большой батч, после которого упадет обучение с ошибкой **CUDA error: out of memory**. Кроме того, вы гарантированно знаете на контекстах какой длины обучалась модель, то есть если на валидации вам подасться текст большей длины, то он гарантировано будет отличаться от обучащей выборки.\n",
    "2. Возможность добавить в специальные токены `<sos>`, `<eos>` в начало и конец токенизированного текста\n",
    "    \n",
    "**tips:**\n",
    "1. В исходных данных рейтинг закодирован в названии файла в виде числа от $1$ до $10$. Для удобства, вычтите $1$, чтобы рейтинг был от $0$ до $9$"
   ]
  },
  {
   "cell_type": "code",
   "execution_count": 20,
   "id": "34d2584c",
   "metadata": {
    "ExecuteTime": {
     "end_time": "2024-03-30T21:24:48.821229Z",
     "start_time": "2024-03-30T21:24:48.813451Z"
    },
    "execution": {
     "iopub.execute_input": "2025-04-03T10:53:09.483445Z",
     "iopub.status.busy": "2025-04-03T10:53:09.483125Z",
     "iopub.status.idle": "2025-04-03T10:53:09.492384Z",
     "shell.execute_reply": "2025-04-03T10:53:09.491701Z"
    },
    "id": "34d2584c",
    "papermill": {
     "duration": 0.057957,
     "end_time": "2025-04-03T10:53:09.493673",
     "exception": false,
     "start_time": "2025-04-03T10:53:09.435716",
     "status": "completed"
    },
    "tags": []
   },
   "outputs": [],
   "source": [
    "class LargeMovieReviewDataset(Dataset):\n",
    "    def __init__(self, data_path, tokenizer, max_len, pad_sos=False, pad_eos=False):\n",
    "        \"\"\"\n",
    "        :param str data_path: Path to folder with one of the data splits (train or test)\n",
    "        :param tokenizers.tokenizer: tokenizer with lookup_indices method\n",
    "        :param int max_len: Maximum length of tokenized text\n",
    "        :param bool pad_sos: If True pad sequence at the beginning with <sos>\n",
    "        :param bool pad_eos: If True pad sequence at the end with <eos>\n",
    "        \"\"\"\n",
    "        super().__init__()\n",
    "\n",
    "        self.pad_sos = pad_sos\n",
    "        if self.pad_sos:\n",
    "            self.sos_id = tokenizer.token_to_id('<sos>')\n",
    "        self.pad_eos = pad_eos\n",
    "        if self.pad_eos:\n",
    "            self.eos_id = tokenizer.token_to_id('<eos>')\n",
    "\n",
    "        self.tokenizer = tokenizer\n",
    "        self.max_len   = max_len\n",
    "        self.data_path = data_path\n",
    "        self.negative_path = os.path.join(data_path, 'neg')\n",
    "        self.positive_path = os.path.join(data_path, 'pos')\n",
    "\n",
    "        self.negative_paths = []\n",
    "        self.positive_paths = []\n",
    "\n",
    "        for file_path in os.listdir(self.negative_path):\n",
    "            self.negative_paths.append(os.path.join(self.negative_path, file_path))\n",
    "\n",
    "        for file_path in os.listdir(self.positive_path):\n",
    "            self.positive_paths.append(os.path.join(self.positive_path, file_path))\n",
    "\n",
    "        self.negative_paths = sorted(self.negative_paths)\n",
    "        self.positive_paths = sorted(self.positive_paths)\n",
    "\n",
    "        self.texts = []\n",
    "        self.tokens = []\n",
    "        self.ratings = []\n",
    "        self.labels = [0] * len(self.negative_paths) + [1] * len(self.positive_paths)\n",
    "\n",
    "        # Read each file in data_path, tokenize it, get tokens ids, its rating and store\n",
    "        for path in tqdm(self.negative_paths + self.positive_paths):\n",
    "            # YOUR CODE HERE\n",
    "            with open(path, 'r') as file:\n",
    "                text = file.readline()\n",
    "                self.texts.append(text)\n",
    "            tmp_tokens = self.tokenizer.encode(\n",
    "                sequence=tokenize(text),\n",
    "                is_pretokenized=True\n",
    "            ).ids\n",
    "            if self.pad_sos:\n",
    "                tmp_tokens.insert(0, self.sos_id)\n",
    "            if self.pad_eos:\n",
    "                tmp_tokens = tmp_tokens[:max_len - 1]\n",
    "                tmp_tokens.append(self.eos_id)\n",
    "            else:\n",
    "                tmp_tokens = tmp_tokens[:max_len]\n",
    "            self.tokens.append(tmp_tokens)\n",
    "            self.ratings.append(int(path[:-4].split('_')[1]) - 1)\n",
    "\n",
    "    def __getitem__(self, idx):\n",
    "        \"\"\"\n",
    "        :param int idx: index of object in dataset\n",
    "        :return dict: Dictionary with all useful object data\n",
    "            {\n",
    "                'text' str: unprocessed text,\n",
    "                'label' torch.Tensor(dtype=torch.long): sentiment of the text (0 for negative, 1 for positive)\n",
    "                'rating' torch.Tensor(dtype=torch.long): rating of the text\n",
    "                'tokens' torch.Tensor(dtype=torch.long): tensor of tokens ids for the text\n",
    "                'tokens_len' torch.Tensor(dtype=torch.long): number of tokens\n",
    "            }\n",
    "        \"\"\"\n",
    "        # YOUR CODE HERE\n",
    "        # Do not forget to add <sos> and <eos> if needed!\n",
    "\n",
    "        tokens = torch.Tensor(self.tokens[idx]).to(torch.long)\n",
    "        return {\n",
    "            'text': self.texts[idx],\n",
    "            'label': torch.tensor(self.labels[idx]).to(torch.long),\n",
    "            'tokens': tokens,\n",
    "            'tokens_len': torch.tensor(tokens.shape[0]).to(torch.long),\n",
    "            'rating': torch.tensor(self.ratings[idx]).to(torch.long)\n",
    "        }\n",
    "\n",
    "    def __len__(self):\n",
    "        \"\"\"\n",
    "        :return int: number of objects in dataset\n",
    "        \"\"\"\n",
    "        # YOUR CODE HERE\n",
    "        return len(self.labels)"
   ]
  },
  {
   "cell_type": "markdown",
   "id": "62424381",
   "metadata": {
    "id": "62424381",
    "papermill": {
     "duration": 0.045943,
     "end_time": "2025-04-03T10:53:09.586022",
     "exception": false,
     "start_time": "2025-04-03T10:53:09.540079",
     "status": "completed"
    },
    "tags": []
   },
   "source": [
    "Создайте датасеты для тестовой и обучающей выборки.\n",
    "\n",
    "Обратите внимание, что для задачи классификации нам не потребуется дополнять текст с помощью `<sos>`, `<eos>`. Эти токены отвечают за обозначение начала последовательности (**start of sequence**) и её конца (**end of sequence**). При моделировании языка нам будет необходимо уметь понимать где начался и закончился текст. Например, предложения часто начинаются со слова **\"однажды\"** и крайне редко со слова **\"щекотать\"**, аналогично про конец предложения.\n",
    "\n",
    "Не забудьте обрезать длинные тексты, передав параметр `max_length`."
   ]
  },
  {
   "cell_type": "code",
   "execution_count": 21,
   "id": "d57e1e06",
   "metadata": {
    "ExecuteTime": {
     "end_time": "2024-03-30T21:25:02.011587Z",
     "start_time": "2024-03-30T21:24:48.822597Z"
    },
    "colab": {
     "base_uri": "https://localhost:8080/"
    },
    "execution": {
     "iopub.execute_input": "2025-04-03T10:53:09.719211Z",
     "iopub.status.busy": "2025-04-03T10:53:09.718934Z",
     "iopub.status.idle": "2025-04-03T10:53:52.746322Z",
     "shell.execute_reply": "2025-04-03T10:53:52.745004Z"
    },
    "id": "d57e1e06",
    "outputId": "b3fcf30e-f51b-428b-aae0-f45ecf26980f",
    "papermill": {
     "duration": 43.076728,
     "end_time": "2025-04-03T10:53:52.747755",
     "exception": false,
     "start_time": "2025-04-03T10:53:09.671027",
     "status": "completed"
    },
    "tags": []
   },
   "outputs": [
    {
     "name": "stderr",
     "output_type": "stream",
     "text": [
      "100%|██████████| 25000/25000 [00:27<00:00, 907.33it/s] \n",
      "100%|██████████| 25000/25000 [00:23<00:00, 1057.11it/s]\n"
     ]
    }
   ],
   "source": [
    "# YOUR CODE HERE\n",
    "path = './aclImdb'\n",
    "train_path = os.path.join(path, 'train')\n",
    "test_path = os.path.join(path, 'test')\n",
    "\n",
    "test_dataset = LargeMovieReviewDataset(test_path, tokenizer, max_length)\n",
    "train_dataset = LargeMovieReviewDataset(train_path, tokenizer, max_length)"
   ]
  },
  {
   "cell_type": "markdown",
   "id": "e336923d",
   "metadata": {
    "id": "e336923d",
    "papermill": {
     "duration": 0.063311,
     "end_time": "2025-04-03T10:53:52.876133",
     "exception": false,
     "start_time": "2025-04-03T10:53:52.812822",
     "status": "completed"
    },
    "tags": []
   },
   "source": [
    "Посмотрим, как выглядит объект в датасете:"
   ]
  },
  {
   "cell_type": "code",
   "execution_count": 22,
   "id": "38b484e8",
   "metadata": {
    "colab": {
     "base_uri": "https://localhost:8080/"
    },
    "execution": {
     "iopub.execute_input": "2025-04-03T10:53:53.003331Z",
     "iopub.status.busy": "2025-04-03T10:53:53.002972Z",
     "iopub.status.idle": "2025-04-03T10:53:53.078974Z",
     "shell.execute_reply": "2025-04-03T10:53:53.078248Z"
    },
    "id": "38b484e8",
    "outputId": "917edbee-b3bc-408c-b73c-1ff2192d95f3",
    "papermill": {
     "duration": 0.140982,
     "end_time": "2025-04-03T10:53:53.080204",
     "exception": false,
     "start_time": "2025-04-03T10:53:52.939222",
     "status": "completed"
    },
    "tags": []
   },
   "outputs": [
    {
     "data": {
      "text/plain": [
       "{'text': \"This film lacked something I couldn't put my finger on at first: charisma on the part of the leading actress. This inevitably translated to lack of chemistry when she shared the screen with her leading man. Even the romantic scenes came across as being merely the actors at play. It could very well have been the director who miscalculated what he needed from the actors. I just don't know.<br /><br />But could it have been the screenplay? Just exactly who was the chef in love with? He seemed more enamored of his culinary skills and restaurant, and ultimately of himself and his youthful exploits, than of anybody or anything else. He never convinced me he was in love with the princess.<br /><br />I was disappointed in this movie. But, don't forget it was nominated for an Oscar, so judge for yourself.\",\n",
       " 'label': tensor(0),\n",
       " 'tokens': tensor([   3, 3099,   51,  159, 3535,   20, 3268,   74,  839,  400,    1,    1,\n",
       "          440, 1061,    1,  146,  839,   44,    8,  599,   50,  263,  483, 1421,\n",
       "           57,  173,   24,   13,   58,    1,  736,   57,   41,   24,  767,  488,\n",
       "            1,   34,  336,    1,    1, 1863, 3274, 1009,    1,    1, 1534,  125,\n",
       "          207,   35, 2501,   34, 2555,  541,    2,  688, 2101,  654, 1518]),\n",
       " 'tokens_len': tensor(59),\n",
       " 'rating': tensor(3)}"
      ]
     },
     "execution_count": 22,
     "metadata": {},
     "output_type": "execute_result"
    }
   ],
   "source": [
    "train_dataset[2]"
   ]
  },
  {
   "cell_type": "code",
   "execution_count": 23,
   "id": "430a6ec0",
   "metadata": {
    "ExecuteTime": {
     "end_time": "2024-03-30T21:25:02.017429Z",
     "start_time": "2024-03-30T21:25:02.013091Z"
    },
    "colab": {
     "base_uri": "https://localhost:8080/"
    },
    "execution": {
     "iopub.execute_input": "2025-04-03T10:53:53.210372Z",
     "iopub.status.busy": "2025-04-03T10:53:53.210076Z",
     "iopub.status.idle": "2025-04-03T10:53:53.215940Z",
     "shell.execute_reply": "2025-04-03T10:53:53.215316Z"
    },
    "id": "430a6ec0",
    "outputId": "ad515da8-aa92-4742-a050-6de09f593f43",
    "papermill": {
     "duration": 0.072666,
     "end_time": "2025-04-03T10:53:53.217089",
     "exception": false,
     "start_time": "2025-04-03T10:53:53.144423",
     "status": "completed"
    },
    "tags": []
   },
   "outputs": [
    {
     "data": {
      "text/plain": [
       "{'text': \"Once again Mr. Costner has dragged out a movie for far longer than necessary. Aside from the terrific sea rescue sequences, of which there are very few I just did not care about any of the characters. Most of us have ghosts in the closet, and Costner's character are realized early on, and then forgotten until much later, by which time I did not care. The character we should really care about is a very cocky, overconfident Ashton Kutcher. The problem is he comes off as kid who thinks he's better than anyone else around him and shows no signs of a cluttered closet. His only obstacle appears to be winning over Costner. Finally when we are well past the half way point of this stinker, Costner tells us all about Kutcher's ghosts. We are told why Kutcher is driven to be the best with no prior inkling or foreshadowing. No magic here, it was all I could do to keep from turning it off an hour in.\",\n",
       " 'label': tensor(0),\n",
       " 'tokens': tensor([ 315,    1, 3238,    2,  117,  997, 1569, 1033, 1175, 1468, 1998,  706,\n",
       "          332,   26,   77, 2842, 4040,    1,   29, 1520,  281, 1370,   14,  190,\n",
       "            7,  332,   29,   11,  332,    1,    1,    1,    1,  324,  158,  394,\n",
       "         1102,   45,  136,  207,   83,  162, 3653,    1, 4040,    1,  593, 1571,\n",
       "            1,  294,   13,  379,  188,   23,  112, 3735,    1,  577,   77,    1,\n",
       "         2842,  432,    1, 1959,   40, 2380,    1,    1, 1182,   24,  269, 1457,\n",
       "          397]),\n",
       " 'tokens_len': tensor(73),\n",
       " 'rating': tensor(1)}"
      ]
     },
     "execution_count": 23,
     "metadata": {},
     "output_type": "execute_result"
    }
   ],
   "source": [
    "test_dataset[0]"
   ]
  },
  {
   "cell_type": "markdown",
   "id": "07be18b8",
   "metadata": {
    "id": "07be18b8",
    "papermill": {
     "duration": 0.06295,
     "end_time": "2025-04-03T10:53:53.343835",
     "exception": false,
     "start_time": "2025-04-03T10:53:53.280885",
     "status": "completed"
    },
    "tags": []
   },
   "source": [
    "Теперь нам нужно создать `DataLoader` для наших данных. `DataLoader` умеет из коробки объединять список объектов из датасета в один батч, даже когда датасет возвращает словарь тензоров. Однако, это работает только в случае когда все эти тензоры имеют один и тот же размер во всех батчах. В нашем случае, это не так, так как разные тексты могут иметь разную длину.\n",
    "\n",
    "Чтобы обойти эту проблему у `DataLoader` есть параметр `collate_fn`, который позволяет задать функцию для объединения списка объектов в один батч.\n",
    "\n",
    "**tips**\n",
    "1. Обратите свое внимание на функцию `torch.stack`, она позволяет \"застакать\" элементы списка в тензор"
   ]
  },
  {
   "cell_type": "markdown",
   "id": "8f92b280",
   "metadata": {
    "id": "8f92b280",
    "papermill": {
     "duration": 0.063968,
     "end_time": "2025-04-03T10:53:53.470972",
     "exception": false,
     "start_time": "2025-04-03T10:53:53.407004",
     "status": "completed"
    },
    "tags": []
   },
   "source": [
    "Чтобы объединить несколько тензоров разной длины в один можно использовать функцию `torch.nn.utils.rnn.pad_sequence`. Такой формат позволит удобно передавать данные в rnn модель.\n",
    "\n",
    "Обратите внимание на её аргументы:\n",
    "1. `batch_first` определяет по какой оси \"складывать\" тензоры. Предпочтительнее использовать `batch_first=False` так как это может упростить выполнение задания в дальнейшем\n",
    "2. `padding_value` — число, которое будет использоваться в качестве паддинга, чтобы сделать все тензоры одинаковой длины\n"
   ]
  },
  {
   "cell_type": "code",
   "execution_count": 24,
   "id": "9352fc7a",
   "metadata": {
    "ExecuteTime": {
     "end_time": "2024-03-30T21:25:02.026862Z",
     "start_time": "2024-03-30T21:25:02.018970Z"
    },
    "colab": {
     "base_uri": "https://localhost:8080/"
    },
    "execution": {
     "iopub.execute_input": "2025-04-03T10:53:53.598771Z",
     "iopub.status.busy": "2025-04-03T10:53:53.598481Z",
     "iopub.status.idle": "2025-04-03T10:53:53.627223Z",
     "shell.execute_reply": "2025-04-03T10:53:53.626346Z"
    },
    "id": "9352fc7a",
    "outputId": "fdf7bc39-bf78-4526-97d7-9f8f6d24b1a5",
    "papermill": {
     "duration": 0.093901,
     "end_time": "2025-04-03T10:53:53.628459",
     "exception": false,
     "start_time": "2025-04-03T10:53:53.534558",
     "status": "completed"
    },
    "tags": []
   },
   "outputs": [
    {
     "name": "stdout",
     "output_type": "stream",
     "text": [
      "batch_first=False\n",
      "Shape = torch.Size([4, 3])\n",
      "tensor([[ 1,  4,  6],\n",
      "        [ 2,  5,  7],\n",
      "        [ 3, -1,  8],\n",
      "        [-1, -1,  9]])\n",
      "batch_first=True\n",
      "Shape = torch.Size([3, 4])\n",
      "tensor([[ 1,  2,  3, -1],\n",
      "        [ 4,  5, -1, -1],\n",
      "        [ 6,  7,  8,  9]])\n"
     ]
    }
   ],
   "source": [
    "elemets = [\n",
    "    torch.tensor([1, 2, 3]),\n",
    "    torch.tensor([4, 5]),\n",
    "    torch.tensor([6, 7, 8, 9])\n",
    "]\n",
    "\n",
    "out_nbf = torch.nn.utils.rnn.pad_sequence(\n",
    "    elemets,\n",
    "    batch_first   = False,\n",
    "    padding_value = -1\n",
    ")\n",
    "\n",
    "out_bf = torch.nn.utils.rnn.pad_sequence(\n",
    "    elemets,\n",
    "    batch_first   = True,\n",
    "    padding_value = -1\n",
    ")\n",
    "\n",
    "print(f\"batch_first=False\")\n",
    "print(f\"Shape = {out_nbf.shape}\")\n",
    "print(out_nbf)\n",
    "\n",
    "print(f\"batch_first=True\")\n",
    "print(f\"Shape = {out_bf.shape}\")\n",
    "print(out_bf)"
   ]
  },
  {
   "cell_type": "code",
   "execution_count": 25,
   "id": "ad787650",
   "metadata": {
    "ExecuteTime": {
     "end_time": "2024-03-30T21:25:02.036500Z",
     "start_time": "2024-03-30T21:25:02.027955Z"
    },
    "execution": {
     "iopub.execute_input": "2025-04-03T10:53:53.757769Z",
     "iopub.status.busy": "2025-04-03T10:53:53.757460Z",
     "iopub.status.idle": "2025-04-03T10:53:53.762726Z",
     "shell.execute_reply": "2025-04-03T10:53:53.762077Z"
    },
    "id": "ad787650",
    "papermill": {
     "duration": 0.071636,
     "end_time": "2025-04-03T10:53:53.763874",
     "exception": false,
     "start_time": "2025-04-03T10:53:53.692238",
     "status": "completed"
    },
    "tags": []
   },
   "outputs": [],
   "source": [
    "def collate_fn(batch, padding_value, batch_first=False):\n",
    "    \"\"\"\n",
    "    :param List[Dict] batch: List of objects from dataset\n",
    "    :param int padding_value: Value that will be used to pad tokens\n",
    "    :param bool batch_first: If True resulting tensor with tokens must have shape [B, T] otherwise [T, B]\n",
    "    :return dict: Dictionary with all data collated\n",
    "        {\n",
    "            'ratings' torch.Tensor(dtype=torch.long): rating of the text for each object in batch\n",
    "            'labels' torch.Tensor(dtype=torch.long): sentiment of the text for each object in batch\n",
    "\n",
    "            'texts' List[str]: All texts in one list\n",
    "            'tokens' torch.Tensor(dtype=torch.long): tensor of tokens ids padded with @padding_value\n",
    "            'tokens_lens' torch.Tensor(dtype=torch.long): number of tokens for each object in batch\n",
    "        }\n",
    "    \"\"\"\n",
    "    # YOUR CODE HERE\n",
    "    res = {\n",
    "        'ratings': [],\n",
    "        'labels': [],\n",
    "        'texts': [],\n",
    "        'tokens': [],\n",
    "        'tokens_lens': [],\n",
    "    }\n",
    "\n",
    "    for element in batch:\n",
    "        for key in element.keys():\n",
    "            if key == 'tokens':\n",
    "                res[key].append(element[key])\n",
    "            else:\n",
    "                res[key + 's'].append(element[key])\n",
    "    for key in res.keys():\n",
    "        if key == 'tokens':\n",
    "            res[key] = torch.nn.utils.rnn.pad_sequence(\n",
    "                res[key],\n",
    "                batch_first   = batch_first,\n",
    "                padding_value = padding_value\n",
    "            )\n",
    "        elif key != 'texts':\n",
    "            res[key] = torch.stack(res[key])\n",
    "    return res"
   ]
  },
  {
   "cell_type": "markdown",
   "id": "7fcf28ba",
   "metadata": {
    "id": "7fcf28ba",
    "papermill": {
     "duration": 0.063229,
     "end_time": "2025-04-03T10:53:53.890397",
     "exception": false,
     "start_time": "2025-04-03T10:53:53.827168",
     "status": "completed"
    },
    "tags": []
   },
   "source": [
    "Создайте даталоадеры с использованием `collate_fn`.\n",
    "\n",
    "**tips**:\n",
    "1. Передать в `collate_fn` правильное значение паддинга можно, например, с помощью `functools.partial`\n",
    "2. Если вы работаете в Google Colab, то, возможно, вам будет необходимо установить `num_workers=0` во избежание падения ноутбука.\n",
    "3. Для определения индекса `<pad>` надо использовать `tokenizer.token_to_id('<pad>')`, а не магическую константу 0."
   ]
  },
  {
   "cell_type": "code",
   "execution_count": 26,
   "id": "aa249442",
   "metadata": {
    "ExecuteTime": {
     "end_time": "2024-03-30T21:25:02.047505Z",
     "start_time": "2024-03-30T21:25:02.037806Z"
    },
    "execution": {
     "iopub.execute_input": "2025-04-03T10:53:54.019753Z",
     "iopub.status.busy": "2025-04-03T10:53:54.019475Z",
     "iopub.status.idle": "2025-04-03T10:53:54.023765Z",
     "shell.execute_reply": "2025-04-03T10:53:54.023115Z"
    },
    "id": "aa249442",
    "papermill": {
     "duration": 0.070425,
     "end_time": "2025-04-03T10:53:54.024911",
     "exception": false,
     "start_time": "2025-04-03T10:53:53.954486",
     "status": "completed"
    },
    "tags": []
   },
   "outputs": [],
   "source": [
    "from functools import partial\n",
    "\n",
    "# YOUR CODE HERE\n",
    "padding_value = tokenizer.token_to_id('<pad>')\n",
    "collate_fn = partial(collate_fn, padding_value=padding_value)\n",
    "test_dataloader = DataLoader(\n",
    "    test_dataset,\n",
    "    batch_size=batch_size,\n",
    "    shuffle=False,\n",
    "    collate_fn=collate_fn,\n",
    "    num_workers=0,\n",
    ")\n",
    "train_dataloader = DataLoader(\n",
    "    train_dataset,\n",
    "    batch_size=batch_size,\n",
    "    shuffle=True,\n",
    "    collate_fn=collate_fn,\n",
    "    num_workers=0,\n",
    ")"
   ]
  },
  {
   "cell_type": "markdown",
   "id": "3bbcbc91",
   "metadata": {
    "id": "3bbcbc91",
    "papermill": {
     "duration": 0.064066,
     "end_time": "2025-04-03T10:53:54.153499",
     "exception": false,
     "start_time": "2025-04-03T10:53:54.089433",
     "status": "completed"
    },
    "tags": []
   },
   "source": [
    "Посмотрим на какой-нибудь батч:"
   ]
  },
  {
   "cell_type": "code",
   "execution_count": 27,
   "id": "da1030f9",
   "metadata": {
    "ExecuteTime": {
     "end_time": "2024-03-30T21:25:02.506858Z",
     "start_time": "2024-03-30T21:25:02.048584Z"
    },
    "colab": {
     "base_uri": "https://localhost:8080/"
    },
    "execution": {
     "iopub.execute_input": "2025-04-03T10:53:54.284660Z",
     "iopub.status.busy": "2025-04-03T10:53:54.284378Z",
     "iopub.status.idle": "2025-04-03T10:53:54.306756Z",
     "shell.execute_reply": "2025-04-03T10:53:54.305928Z"
    },
    "id": "da1030f9",
    "outputId": "bb40bf67-eb7d-4bd5-b998-54e34488a83e",
    "papermill": {
     "duration": 0.088208,
     "end_time": "2025-04-03T10:53:54.308070",
     "exception": false,
     "start_time": "2025-04-03T10:53:54.219862",
     "status": "completed"
    },
    "tags": []
   },
   "outputs": [
    {
     "data": {
      "text/plain": [
       "(dict_keys(['ratings', 'labels', 'texts', 'tokens', 'tokens_lens']),\n",
       " tensor([0, 0, 0, 0, 0, 0, 0, 0, 0, 0, 0, 0, 0, 0, 0, 0, 0, 0, 0, 0, 0, 0, 0, 0,\n",
       "         0, 0, 0, 0, 0, 0, 0, 0, 0, 0, 0, 0, 0, 0, 0, 0, 0, 0, 0, 0, 0, 0, 0, 0,\n",
       "         0, 0, 0, 0, 0, 0, 0, 0, 0, 0, 0, 0, 0, 0, 0, 0]),\n",
       " tensor([1, 3, 0, 2, 2, 1, 1, 1, 3, 3, 2, 2, 1, 0, 0, 3, 1, 3, 2, 0, 0, 0, 3, 0,\n",
       "         2, 3, 3, 2, 1, 2, 0, 2, 0, 2, 2, 1, 0, 0, 0, 0, 0, 0, 3, 0, 3, 1, 0, 0,\n",
       "         0, 1, 0, 3, 0, 0, 0, 3, 3, 1, 3, 3, 2, 0, 0, 0]),\n",
       " tensor([[ 315,  342,   20,  ..., 2230,  607,    1],\n",
       "         [   1, 2080,  595,  ...,  127,    1,  282],\n",
       "         [3238,  100, 4991,  ...,   58,  527,  474],\n",
       "         ...,\n",
       "         [   0,    0,    0,  ...,    0,    0,    0],\n",
       "         [   0,    0,    0,  ...,    0,    0,    0],\n",
       "         [   0,    0,    0,  ...,    0,    0,    0]]),\n",
       " tensor([ 73, 126, 110, 164, 139,  55,  77,  70,  72,  99,  58, 142, 142,  50,\n",
       "         102, 114,  65, 115, 190,  47,  37,  93, 200, 200, 135, 107, 103, 200,\n",
       "         200, 144,  77,  83, 185,  98, 156, 135, 125,  51, 179, 102,  66,  57,\n",
       "          84, 200, 125,  66, 200,  53, 111,  76,  55, 141, 126,  30,  64,  60,\n",
       "         200,  16, 140,  86,  64,  73,  85,  88]))"
      ]
     },
     "execution_count": 27,
     "metadata": {},
     "output_type": "execute_result"
    }
   ],
   "source": [
    "batch = next(iter(test_dataloader))\n",
    "batch.keys(), batch['labels'], batch['ratings'], batch['tokens'], batch['tokens_lens']"
   ]
  },
  {
   "cell_type": "markdown",
   "id": "5fe38a5b",
   "metadata": {
    "id": "5fe38a5b",
    "papermill": {
     "duration": 0.063799,
     "end_time": "2025-04-03T10:53:54.435796",
     "exception": false,
     "start_time": "2025-04-03T10:53:54.371997",
     "status": "completed"
    },
    "tags": []
   },
   "source": [
    "# `Часть 1. Классификация текстов (4 балла)`"
   ]
  },
  {
   "cell_type": "markdown",
   "id": "a237eb0a",
   "metadata": {
    "id": "a237eb0a",
    "papermill": {
     "duration": 0.063971,
     "end_time": "2025-04-03T10:53:54.563432",
     "exception": false,
     "start_time": "2025-04-03T10:53:54.499461",
     "status": "completed"
    },
    "tags": []
   },
   "source": [
    "В этой части вы обучите классификатор текстов на основе рекуррентной нейронной сети. Выше мы уже создали удобные класс-обёртки для работы с данными. Теперь мы соберем модель для решения задачи классификации. Вам предлагается решить задачу предсказания **рейтинга фильма** (классы 0 до 9), то есть мы решаем задачу многоклассовой классификации."
   ]
  },
  {
   "cell_type": "markdown",
   "id": "c1c2fe6d",
   "metadata": {
    "id": "c1c2fe6d",
    "papermill": {
     "duration": 0.063932,
     "end_time": "2025-04-03T10:53:54.691664",
     "exception": false,
     "start_time": "2025-04-03T10:53:54.627732",
     "status": "completed"
    },
    "tags": []
   },
   "source": [
    "## `Сборка и обучение RNN в pytorch (1 балл)`"
   ]
  },
  {
   "cell_type": "markdown",
   "id": "72ec533e",
   "metadata": {
    "id": "72ec533e",
    "papermill": {
     "duration": 0.064687,
     "end_time": "2025-04-03T10:53:54.820194",
     "exception": false,
     "start_time": "2025-04-03T10:53:54.755507",
     "status": "completed"
    },
    "tags": []
   },
   "source": [
    "Создадим переменные для device-agnostic кода:"
   ]
  },
  {
   "cell_type": "code",
   "execution_count": 28,
   "id": "fb958820",
   "metadata": {
    "ExecuteTime": {
     "end_time": "2024-03-30T21:25:02.686316Z",
     "start_time": "2024-03-30T21:25:02.508620Z"
    },
    "colab": {
     "base_uri": "https://localhost:8080/"
    },
    "execution": {
     "iopub.execute_input": "2025-04-03T10:53:54.950929Z",
     "iopub.status.busy": "2025-04-03T10:53:54.950615Z",
     "iopub.status.idle": "2025-04-03T10:53:55.002415Z",
     "shell.execute_reply": "2025-04-03T10:53:55.001528Z"
    },
    "id": "fb958820",
    "outputId": "010f0add-009e-4552-bda9-59355a067906",
    "papermill": {
     "duration": 0.118652,
     "end_time": "2025-04-03T10:53:55.003638",
     "exception": false,
     "start_time": "2025-04-03T10:53:54.884986",
     "status": "completed"
    },
    "tags": []
   },
   "outputs": [
    {
     "name": "stdout",
     "output_type": "stream",
     "text": [
      "Using device: cuda:0, dtype: torch.float32\n"
     ]
    }
   ],
   "source": [
    "dtype, device, cuda_device_id = torch.float32, None, 0\n",
    "os.environ[\"CUDA_VISIBLE_DEVICES\"] = '{0}'.format(str(cuda_device_id) if cuda_device_id is not None else '')\n",
    "if cuda_device_id is not None and torch.cuda.is_available():\n",
    "    device = 'cuda:{0:d}'.format(0)\n",
    "else:\n",
    "    device = torch.device('cpu')\n",
    "print(f'Using device: {device}, dtype: {dtype}')"
   ]
  },
  {
   "cell_type": "markdown",
   "id": "3750838b",
   "metadata": {
    "id": "3750838b",
    "papermill": {
     "duration": 0.10302,
     "end_time": "2025-04-03T10:53:55.171882",
     "exception": false,
     "start_time": "2025-04-03T10:53:55.068862",
     "status": "completed"
    },
    "tags": []
   },
   "source": [
    "Наша нейросеть будет обрабатывать входную последовательность по словам (word level). Мы будем использовать простую и стандартную рекуррентную архитектуру для классификации:\n",
    "1. Слой представлений, превращающий id токена в вектор-эмбеддинг этого слова\n",
    "2. Слой LSTM\n",
    "3. Полносвязный слой, предсказывающий выход по последнему скрытому состоянию\n",
    "\n",
    "Ниже дан код для сборки и обучения нашей нейросети."
   ]
  },
  {
   "cell_type": "markdown",
   "id": "cf219c10",
   "metadata": {
    "id": "cf219c10",
    "papermill": {
     "duration": 0.065082,
     "end_time": "2025-04-03T10:53:55.304226",
     "exception": false,
     "start_time": "2025-04-03T10:53:55.239144",
     "status": "completed"
    },
    "tags": []
   },
   "source": [
    "Допишите класс-обёртку над LSTM для задачи классификации.\n",
    "**Не используйте циклы.**"
   ]
  },
  {
   "cell_type": "markdown",
   "id": "5d8a8649",
   "metadata": {
    "ExecuteTime": {
     "end_time": "2021-04-01T20:59:16.467178Z",
     "start_time": "2021-04-01T20:59:16.441112Z"
    },
    "id": "5d8a8649",
    "papermill": {
     "duration": 0.064156,
     "end_time": "2025-04-03T10:53:55.432478",
     "exception": false,
     "start_time": "2025-04-03T10:53:55.368322",
     "status": "completed"
    },
    "tags": []
   },
   "source": [
    "**Для каждого тензора в функции `forward` подпишите в комментарии его размеры**"
   ]
  },
  {
   "cell_type": "code",
   "execution_count": 29,
   "id": "4f5377a5",
   "metadata": {
    "ExecuteTime": {
     "end_time": "2024-03-30T21:25:02.698015Z",
     "start_time": "2024-03-30T21:25:02.687965Z"
    },
    "execution": {
     "iopub.execute_input": "2025-04-03T10:53:55.561501Z",
     "iopub.status.busy": "2025-04-03T10:53:55.561132Z",
     "iopub.status.idle": "2025-04-03T10:53:55.567857Z",
     "shell.execute_reply": "2025-04-03T10:53:55.567166Z"
    },
    "id": "4f5377a5",
    "papermill": {
     "duration": 0.072643,
     "end_time": "2025-04-03T10:53:55.569041",
     "exception": false,
     "start_time": "2025-04-03T10:53:55.496398",
     "status": "completed"
    },
    "tags": []
   },
   "outputs": [],
   "source": [
    "class RNNClassifier(torch.nn.Module):\n",
    "    def __init__(\n",
    "        self, embedding_dim, hidden_dim, output_size, tokenizer,\n",
    "        rec_layer=torch.nn.LSTM, dropout=None, **kwargs\n",
    "    ):\n",
    "        super().__init__()\n",
    "\n",
    "        self.dropout = dropout\n",
    "\n",
    "        self.tokenizer = tokenizer\n",
    "        self.hidden_dim = hidden_dim\n",
    "        self.output_size = output_size\n",
    "        self.embedding_dim = embedding_dim\n",
    "\n",
    "        # Create a simple lookup table that stores embeddings of a fixed dictionary and size.\n",
    "        #    Use torch.nn.Embedding. Do not forget specify padding_idx!\n",
    "        # YOUR CODE HERE\n",
    "        self.word_embeddings = torch.nn.Embedding(\n",
    "            num_embeddings=tokenizer.get_vocab_size(),\n",
    "            embedding_dim=embedding_dim,\n",
    "            padding_idx=tokenizer.token_to_id('<pad>')\n",
    "        )\n",
    "\n",
    "        # Add **kwargs in rec_layer constructor\n",
    "        if dropout is not None:\n",
    "            self.rnn = rec_layer(\n",
    "                input_size=embedding_dim,\n",
    "                hidden_size=hidden_dim,\n",
    "                dropout=dropout,\n",
    "                **kwargs\n",
    "            )\n",
    "        else:\n",
    "            self.rnn = rec_layer(\n",
    "                input_size=embedding_dim,\n",
    "                hidden_size=hidden_dim,\n",
    "                **kwargs\n",
    "            )\n",
    "\n",
    "        # Create linear layer for classification\n",
    "        # YOUR CODE HERE\n",
    "        self.output = torch.nn.Linear(hidden_dim, output_size)\n",
    "\n",
    "    def forward(self, tokens, tokens_lens):\n",
    "        \"\"\"\n",
    "        :param torch.Tensor(dtype=torch.long) tokens: Batch of texts represented with tokens.\n",
    "        :param torch.Tensor(dtype=torch.long) tokens_lens: Number of non-padding tokens for each object in batch.\n",
    "        :return torch.Tensor(dtype=torch.long): Vector representation for each sequence in batch\n",
    "        \"\"\"\n",
    "        # Evaluate embeddings\n",
    "        # YOUR CODE HERE\n",
    "        # Length x Batch_sz -> Length x Batch_sz x Embedding_dim\n",
    "        embeddings = self.word_embeddings(tokens)\n",
    "\n",
    "        # Make forward pass through recurrent network\n",
    "        # YOUR CODE HERE\n",
    "        # Length x Batch_sz x Embedding_dim -> Length x Batch_sz x Hidden_dim, (... , ...)\n",
    "        batch_sz = tokens.shape[1]\n",
    "        out, (h_n, c_n) = self.rnn(embeddings)\n",
    "\n",
    "        # Pass output from rnn to linear layer\n",
    "        # Note: each object in batch has its own length\n",
    "        #     so we must take rnn hidden state after the last token for each text in batch\n",
    "        # YOUR CODE HERE\n",
    "        # Batch_sz x Hidden_dim -> Batch_sz x Output_dim\n",
    "        out = self.output(out[tokens_lens - 1, torch.arange(batch_sz), :])\n",
    "        return out"
   ]
  },
  {
   "cell_type": "markdown",
   "id": "c6d08323",
   "metadata": {
    "id": "c6d08323",
    "papermill": {
     "duration": 0.064541,
     "end_time": "2025-04-03T10:53:55.697419",
     "exception": false,
     "start_time": "2025-04-03T10:53:55.632878",
     "status": "completed"
    },
    "tags": []
   },
   "source": [
    "[Исходный код LSTM](http://pytorch.org/docs/master/_modules/torch/nn/modules/rnn.html#LSTM)"
   ]
  },
  {
   "cell_type": "markdown",
   "id": "c9d036af",
   "metadata": {
    "id": "c9d036af",
    "papermill": {
     "duration": 0.064793,
     "end_time": "2025-04-03T10:53:55.826385",
     "exception": false,
     "start_time": "2025-04-03T10:53:55.761592",
     "status": "completed"
    },
    "tags": []
   },
   "source": [
    "Допишите функции для обучения и оценки модели:\n",
    "\n",
    "**tip:**\n",
    "1. В функции `evaluate` при подсчёте метрик учитывайте, что батчи могут иметь разный размер. (в частности последний батч)\n",
    "\n",
    "**Важно:** Мы предсказываем `rating`, не `label`."
   ]
  },
  {
   "cell_type": "code",
   "execution_count": 30,
   "id": "d9600f87",
   "metadata": {
    "ExecuteTime": {
     "end_time": "2024-03-30T21:25:02.709854Z",
     "start_time": "2024-03-30T21:25:02.699539Z"
    },
    "execution": {
     "iopub.execute_input": "2025-04-03T10:53:55.955663Z",
     "iopub.status.busy": "2025-04-03T10:53:55.955361Z",
     "iopub.status.idle": "2025-04-03T10:53:55.964167Z",
     "shell.execute_reply": "2025-04-03T10:53:55.963502Z"
    },
    "id": "d9600f87",
    "papermill": {
     "duration": 0.075577,
     "end_time": "2025-04-03T10:53:55.965452",
     "exception": false,
     "start_time": "2025-04-03T10:53:55.889875",
     "status": "completed"
    },
    "tags": []
   },
   "outputs": [],
   "source": [
    "from time import perf_counter\n",
    "\n",
    "def train_epoch(dataloader, model, loss_fn, optimizer, device):\n",
    "    model.train()\n",
    "    for idx, data in enumerate(dataloader):\n",
    "        optimizer.zero_grad()\n",
    "        # 1. Take data from batch\n",
    "        ratings = data['ratings'].to(device)\n",
    "        tokens = data['tokens'].to(device)\n",
    "        tokens_lens = data['tokens_lens'].to(device)\n",
    "        # 2. Perform forward pass\n",
    "        output = model(tokens, tokens_lens)\n",
    "        # 3. Evaluate loss\n",
    "        loss = loss_fn(output, ratings)\n",
    "        loss.backward()\n",
    "        # 4. Make optimizer step\n",
    "        optimizer.step()\n",
    "        # YOUR CODE HERE\n",
    "\n",
    "def evaluate(dataloader, model, loss_fn, device):\n",
    "    model.eval()\n",
    "\n",
    "    total_loss = 0.0\n",
    "    total_accuracy = 0.0\n",
    "    with torch.no_grad():\n",
    "        for idx, data in enumerate(dataloader):\n",
    "            # 1. Take data from batch\n",
    "            ratings = data['ratings'].to(device)\n",
    "            tokens = data['tokens'].to(device)\n",
    "            tokens_lens = data['tokens_lens'].to(device)\n",
    "            # 2. Perform forward pass\n",
    "            output = model(tokens, tokens_lens)\n",
    "            # 3. Evaluate loss\n",
    "            loss = loss_fn(output, ratings)\n",
    "            total_loss += loss.item() * ratings.shape[0]\n",
    "            # 4. Evaluate accuracy\n",
    "            total_accuracy += torch.sum(ratings == torch.argmax(output, dim=1))\n",
    "            # YOUR CODE HERE\n",
    "\n",
    "    return total_loss / len(dataloader.dataset), total_accuracy / len(dataloader.dataset)\n",
    "\n",
    "\n",
    "def train(\n",
    "    train_loader, test_loader, model, loss_fn, optimizer, device, num_epochs\n",
    "):\n",
    "    test_losses = []\n",
    "    train_losses = []\n",
    "    test_accuracies = []\n",
    "    train_accuracies = []\n",
    "    train_time = perf_counter()\n",
    "    for epoch in range(num_epochs):\n",
    "        train_epoch(train_loader, model, loss_fn, optimizer, device)\n",
    "\n",
    "        train_loss, train_acc = evaluate(train_loader, model, loss_fn, device)\n",
    "        train_accuracies.append(train_acc)\n",
    "        train_losses.append(train_loss)\n",
    "\n",
    "        test_loss, test_acc = evaluate(test_loader, model, loss_fn, device)\n",
    "        test_accuracies.append(test_acc)\n",
    "        test_losses.append(test_loss)\n",
    "\n",
    "        print(\n",
    "            'Epoch: {0:d}/{1:d}. Loss (Train/Test): {2:.3f}/{3:.3f}. Accuracy (Train/Test): {4:.3f}/{5:.3f}'.format(\n",
    "                epoch + 1, num_epochs, train_losses[-1], test_losses[-1], train_accuracies[-1], test_accuracies[-1]\n",
    "            )\n",
    "        )\n",
    "    train_time = perf_counter() - train_time\n",
    "    res_dct = {\n",
    "        'train_losses': train_losses,\n",
    "        'train_accuracies': train_accuracies,\n",
    "        'test_losses': test_losses,\n",
    "        'test_accuracies': test_accuracies,\n",
    "        'train_time': train_time,\n",
    "    }\n",
    "    return res_dct"
   ]
  },
  {
   "cell_type": "markdown",
   "id": "b0420012",
   "metadata": {
    "id": "b0420012",
    "papermill": {
     "duration": 0.064554,
     "end_time": "2025-04-03T10:53:56.094462",
     "exception": false,
     "start_time": "2025-04-03T10:53:56.029908",
     "status": "completed"
    },
    "tags": []
   },
   "source": [
    "Создадим модель:"
   ]
  },
  {
   "cell_type": "code",
   "execution_count": null,
   "id": "781b88fb",
   "metadata": {
    "ExecuteTime": {
     "end_time": "2024-03-30T21:25:03.029866Z",
     "start_time": "2024-03-30T21:25:02.711287Z"
    },
    "execution": {
     "iopub.execute_input": "2025-04-03T10:53:56.226075Z",
     "iopub.status.busy": "2025-04-03T10:53:56.225799Z",
     "iopub.status.idle": "2025-04-03T10:53:56.498702Z",
     "shell.execute_reply": "2025-04-03T10:53:56.497868Z"
    },
    "id": "781b88fb",
    "papermill": {
     "duration": 0.341458,
     "end_time": "2025-04-03T10:53:56.500157",
     "exception": false,
     "start_time": "2025-04-03T10:53:56.158699",
     "status": "completed"
    },
    "tags": []
   },
   "outputs": [],
   "source": [
    "set_global_seed(42)\n",
    "\n",
    "model = RNNClassifier(\n",
    "    embedding_dim=embedding_dim, hidden_dim=hidden_dim, output_size=10, tokenizer=tokenizer,\n",
    "    rec_layer=torch.nn.LSTM, dropout=None\n",
    ").to(device)\n",
    "\n",
    "check_numel(model, 244234, 0)"
   ]
  },
  {
   "cell_type": "markdown",
   "id": "9d578fb6",
   "metadata": {
    "id": "9d578fb6",
    "papermill": {
     "duration": 0.063909,
     "end_time": "2025-04-03T10:53:56.629468",
     "exception": false,
     "start_time": "2025-04-03T10:53:56.565559",
     "status": "completed"
    },
    "tags": []
   },
   "source": [
    "Создадим класс для подсчёта функции потерь и оптимизатор:"
   ]
  },
  {
   "cell_type": "code",
   "execution_count": null,
   "id": "0793bb54",
   "metadata": {
    "ExecuteTime": {
     "end_time": "2024-03-30T21:25:03.541742Z",
     "start_time": "2024-03-30T21:25:03.031367Z"
    },
    "execution": {
     "iopub.execute_input": "2025-04-03T10:53:56.758052Z",
     "iopub.status.busy": "2025-04-03T10:53:56.757741Z",
     "iopub.status.idle": "2025-04-03T10:54:00.116193Z",
     "shell.execute_reply": "2025-04-03T10:54:00.115539Z"
    },
    "id": "0793bb54",
    "papermill": {
     "duration": 3.424475,
     "end_time": "2025-04-03T10:54:00.117682",
     "exception": false,
     "start_time": "2025-04-03T10:53:56.693207",
     "status": "completed"
    },
    "tags": []
   },
   "outputs": [],
   "source": [
    "loss_fn = torch.nn.CrossEntropyLoss(reduction='mean')\n",
    "optimizer = torch.optim.Adam(model.parameters(), lr=learning_rate)"
   ]
  },
  {
   "cell_type": "markdown",
   "id": "ca793830",
   "metadata": {
    "id": "ca793830",
    "papermill": {
     "duration": 0.066193,
     "end_time": "2025-04-03T10:54:00.249291",
     "exception": false,
     "start_time": "2025-04-03T10:54:00.183098",
     "status": "completed"
    },
    "tags": []
   },
   "source": [
    "Попробуем обучить модель:"
   ]
  },
  {
   "cell_type": "markdown",
   "id": "f6addf9b",
   "metadata": {
    "id": "f6addf9b",
    "papermill": {
     "duration": 0.066245,
     "end_time": "2025-04-03T10:54:00.379285",
     "exception": false,
     "start_time": "2025-04-03T10:54:00.313040",
     "status": "completed"
    },
    "tags": []
   },
   "source": [
    "**Сохраните все метрики и время работы модели. Это потребуется в конце первой части для построения графиков обучения и сравнения времени работы для всех моделей в этой секции**\n",
    "\n",
    "**Возможно стоит сохранить результаты в виде файлов и скачать их**\n",
    "\n",
    "**Обратите внимание, что надо сохранить и время**"
   ]
  },
  {
   "cell_type": "code",
   "execution_count": null,
   "id": "f1de1e6b",
   "metadata": {
    "execution": {
     "iopub.execute_input": "2025-04-03T10:54:00.550378Z",
     "iopub.status.busy": "2025-04-03T10:54:00.549919Z",
     "iopub.status.idle": "2025-04-03T10:55:49.192101Z",
     "shell.execute_reply": "2025-04-03T10:55:49.191112Z"
    },
    "id": "f1de1e6b",
    "outputId": "aa9b69aa-c5c2-4355-cfea-e1db6e62c778",
    "papermill": {
     "duration": 108.777632,
     "end_time": "2025-04-03T10:55:49.259678",
     "exception": false,
     "start_time": "2025-04-03T10:54:00.482046",
     "status": "completed"
    },
    "tags": []
   },
   "outputs": [
    {
     "name": "stdout",
     "output_type": "stream",
     "text": [
      "Epoch: 1/15. Loss (Train/Test): 2.008/2.011. Accuracy (Train/Test): 0.233/0.236\n",
      "Epoch: 2/15. Loss (Train/Test): 1.663/1.706. Accuracy (Train/Test): 0.362/0.348\n",
      "Epoch: 3/15. Loss (Train/Test): 1.535/1.618. Accuracy (Train/Test): 0.405/0.377\n",
      "Epoch: 4/15. Loss (Train/Test): 1.473/1.592. Accuracy (Train/Test): 0.423/0.390\n",
      "Epoch: 5/15. Loss (Train/Test): 1.411/1.571. Accuracy (Train/Test): 0.451/0.389\n",
      "Epoch: 6/15. Loss (Train/Test): 1.349/1.575. Accuracy (Train/Test): 0.468/0.398\n",
      "Epoch: 7/15. Loss (Train/Test): 1.290/1.574. Accuracy (Train/Test): 0.486/0.402\n",
      "Epoch: 8/15. Loss (Train/Test): 1.232/1.589. Accuracy (Train/Test): 0.513/0.397\n",
      "Epoch: 9/15. Loss (Train/Test): 1.169/1.616. Accuracy (Train/Test): 0.541/0.396\n",
      "Epoch: 10/15. Loss (Train/Test): 1.113/1.651. Accuracy (Train/Test): 0.564/0.387\n",
      "Epoch: 11/15. Loss (Train/Test): 1.033/1.716. Accuracy (Train/Test): 0.604/0.378\n",
      "Epoch: 12/15. Loss (Train/Test): 0.967/1.763. Accuracy (Train/Test): 0.641/0.367\n",
      "Epoch: 13/15. Loss (Train/Test): 0.884/1.859. Accuracy (Train/Test): 0.676/0.367\n",
      "Epoch: 14/15. Loss (Train/Test): 0.819/1.961. Accuracy (Train/Test): 0.698/0.363\n",
      "Epoch: 15/15. Loss (Train/Test): 0.722/2.049. Accuracy (Train/Test): 0.747/0.367\n"
     ]
    }
   ],
   "source": [
    "base_res = train(\n",
    "    train_dataloader, test_dataloader, model, loss_fn, optimizer, device, num_epochs\n",
    ")\n",
    "torch.save(base_res, 'base_res')"
   ]
  },
  {
   "cell_type": "markdown",
   "id": "f7f51386",
   "metadata": {
    "id": "f7f51386",
    "papermill": {
     "duration": 0.065435,
     "end_time": "2025-04-03T10:55:49.392379",
     "exception": false,
     "start_time": "2025-04-03T10:55:49.326944",
     "status": "completed"
    },
    "tags": []
   },
   "source": [
    "Нерегуляризованные LSTM часто быстро переобучаются (и мы это видим по точности на контроле). Чтобы с этим бороться, часто используют *L2-регуляризацию* и *дропаут*.\n",
    "Однако способов накладывать дропаут на рекуррентный слой достаточно много, и далеко не все хорошо работают. По [ссылке](https://medium.com/@bingobee01/a-review-of-dropout-as-applied-to-rnns-72e79ecd5b7b) доступен хороший обзор дропаутов для RNN.\n",
    "\n",
    "Мы реализуем два варианта DropOut для RNN (и третий дополнительно). Заодно увидим, что для реализации различных усовершенствований рекуррентной архитектуры приходится \"вскрывать\" слой до различной \"глубины\"."
   ]
  },
  {
   "cell_type": "markdown",
   "id": "cd67073e",
   "metadata": {
    "id": "cd67073e",
    "papermill": {
     "duration": 0.066369,
     "end_time": "2025-04-03T10:55:49.523415",
     "exception": false,
     "start_time": "2025-04-03T10:55:49.457046",
     "status": "completed"
    },
    "tags": []
   },
   "source": [
    "## `Реализация дропаута по статье Гала и Гарамани. Variational Dropout (1 балл)`"
   ]
  },
  {
   "cell_type": "markdown",
   "id": "cfa029a8",
   "metadata": {
    "id": "cfa029a8",
    "papermill": {
     "duration": 0.064513,
     "end_time": "2025-04-03T10:55:49.652397",
     "exception": false,
     "start_time": "2025-04-03T10:55:49.587884",
     "status": "completed"
    },
    "tags": []
   },
   "source": [
    "Начнем с дропаута, описанного в [статье Гала и Гарамани](https://arxiv.org/abs/1512.05287).\n",
    "Для этого нам потребуется перейти от использования слоя `torch.nn.LSTM`, полностью скрывающего от нас рекуррентную логику, к использованию слоя `torch.nn.LSTMCell`, обрабатывающего лишь один временной шаг нашей последовательности (а всю логику вокруг придется реализовать самостоятельно).\n",
    "\n",
    "Для начала напишем функцию, которая позволит нам получать $h_0$ и $c_0$, которые мы будем использовать в качестве инициализаций.\n",
    "\n",
    "**tips:**\n",
    "\n",
    "1. Используйте some_existing_tensor, как тензор в котором содержится информация о типе данных, девайсе целевого тензора. Обратите внимание на функцию [new_ones](https://pytorch.org/docs/stable/generated/torch.Tensor.new_ones.html)."
   ]
  },
  {
   "cell_type": "code",
   "execution_count": 31,
   "id": "5249165e",
   "metadata": {
    "execution": {
     "iopub.execute_input": "2025-04-03T10:55:49.783150Z",
     "iopub.status.busy": "2025-04-03T10:55:49.782861Z",
     "iopub.status.idle": "2025-04-03T10:55:49.786684Z",
     "shell.execute_reply": "2025-04-03T10:55:49.786002Z"
    },
    "id": "5249165e",
    "papermill": {
     "duration": 0.070272,
     "end_time": "2025-04-03T10:55:49.787906",
     "exception": false,
     "start_time": "2025-04-03T10:55:49.717634",
     "status": "completed"
    },
    "tags": []
   },
   "outputs": [],
   "source": [
    "def init_h0_c0(num_objects, hidden_size, some_existing_tensor):\n",
    "    \"\"\"\n",
    "    return h0 and c0, use some_existing_tensor.new_zeros() to gen them\n",
    "    h0 shape: num_objects x hidden_size\n",
    "    c0 shape: num_objects x hidden_size\n",
    "    \"\"\"\n",
    "    # YOUR CODE HERE\n",
    "    h_0 = some_existing_tensor.new_zeros(\n",
    "        (num_objects, hidden_size)\n",
    "    )\n",
    "    c_0 = some_existing_tensor.new_zeros(\n",
    "        (num_objects, hidden_size)\n",
    "    )\n",
    "    return h_0, c_0"
   ]
  },
  {
   "cell_type": "markdown",
   "id": "8e4132a2",
   "metadata": {
    "id": "8e4132a2",
    "papermill": {
     "duration": 0.064572,
     "end_time": "2025-04-03T10:55:49.917009",
     "exception": false,
     "start_time": "2025-04-03T10:55:49.852437",
     "status": "completed"
    },
    "tags": []
   },
   "source": [
    "Допишите класс `RNNLayer`. При `dropout=0` ваш класс должен работать как обычный слой LSTM, а при `dropout > 0` накладывать бинарную маску на входной и скрытый вектор на каждом временном шаге, причем эта маска должна быть одинаковой во все моменты времени.\n",
    "\n",
    "Дропаут Гала и Гарамани в виде формул (m обозначает маску дропаута):\n",
    "\n",
    "$$\n",
    "h_{t-1} = h_{t-1}*m_h, \\, x_t = x_t * m_x\n",
    "$$\n",
    "\n",
    "Далее обычный шаг рекуррентной архитектуры, например, LSTM:\n",
    "\n",
    "$$\n",
    "i = \\sigma(h_{t-1}W^i + x_t U^i+b_i) \\quad\n",
    "o = \\sigma(h_{t-1}W^o + x_t U^o+b_o)\n",
    "$$\n",
    "$$\n",
    "f = \\sigma(h_{t-1}W^f + x_t U^f+b_f) \\quad\n",
    "g = tanh(h_{t-1} W^g + x_t U^g+b_g)\n",
    "$$\n",
    "$$\n",
    "c_t = f \\odot c_{t-1} +  i \\odot  g \\quad\n",
    "h_t =  o \\odot tanh(c_t)\n",
    "$$\n",
    "\n",
    "**Важно**: Мы считаем, что объекты в батче независимы, то есть маски для них должны быть разные.\n",
    "\n",
    "**tips:**\n",
    "\n",
    "1. Для получения бернулливской случайной величины достаточно вызвать `.bernoulli()` от массива содержащего вероятности.\n"
   ]
  },
  {
   "cell_type": "code",
   "execution_count": 32,
   "id": "a5033c9b",
   "metadata": {
    "ExecuteTime": {
     "end_time": "2024-03-30T21:26:14.063117Z",
     "start_time": "2024-03-30T21:26:14.052307Z"
    },
    "execution": {
     "iopub.execute_input": "2025-04-03T10:55:50.046964Z",
     "iopub.status.busy": "2025-04-03T10:55:50.046697Z",
     "iopub.status.idle": "2025-04-03T10:55:50.050635Z",
     "shell.execute_reply": "2025-04-03T10:55:50.049973Z"
    },
    "id": "a5033c9b",
    "papermill": {
     "duration": 0.070286,
     "end_time": "2025-04-03T10:55:50.051826",
     "exception": false,
     "start_time": "2025-04-03T10:55:49.981540",
     "status": "completed"
    },
    "tags": []
   },
   "outputs": [],
   "source": [
    "def gen_dropout_mask(input_size, hidden_size, is_training, p, some_existing_tensor):\n",
    "    \"\"\"\n",
    "    is_training: if True, gen masks from Bernoulli\n",
    "                 if False, gen masks consisting of (1-p)\n",
    "\n",
    "    return dropout masks of size input_size, hidden_size if p is not None\n",
    "    return one masks if p is None\n",
    "    \"\"\"\n",
    "    if p is None:\n",
    "        p = 0.\n",
    "    probs = some_existing_tensor.new_ones((input_size, hidden_size)) * (1 - p)\n",
    "    if is_training:\n",
    "        return probs.bernoulli()\n",
    "    else:\n",
    "        return probs"
   ]
  },
  {
   "cell_type": "code",
   "execution_count": 33,
   "id": "d1bade42",
   "metadata": {
    "colab": {
     "base_uri": "https://localhost:8080/"
    },
    "execution": {
     "iopub.execute_input": "2025-04-03T10:55:50.185239Z",
     "iopub.status.busy": "2025-04-03T10:55:50.184970Z",
     "iopub.status.idle": "2025-04-03T10:55:50.196159Z",
     "shell.execute_reply": "2025-04-03T10:55:50.195338Z"
    },
    "id": "d1bade42",
    "outputId": "e8d0f9b6-0c76-4882-a685-d21df6c53b07",
    "papermill": {
     "duration": 0.078798,
     "end_time": "2025-04-03T10:55:50.197292",
     "exception": false,
     "start_time": "2025-04-03T10:55:50.118494",
     "status": "completed"
    },
    "tags": []
   },
   "outputs": [
    {
     "name": "stdout",
     "output_type": "stream",
     "text": [
      "m.mean(): 0.8808\n"
     ]
    }
   ],
   "source": [
    "set_global_seed(42)\n",
    "p = 0.12\n",
    "m = gen_dropout_mask(100, 120, is_training=True, p=p, some_existing_tensor=torch.tensor(1.))\n",
    "\n",
    "\n",
    "print(f'm.mean(): {m.mean():0.4f}')\n",
    "assert m.shape == (100, 120)\n",
    "assert (1 - p) - 0.005 <= m.mean() <= (1 - p) + 0.005"
   ]
  },
  {
   "cell_type": "markdown",
   "id": "2966b5af",
   "metadata": {
    "ExecuteTime": {
     "end_time": "2021-04-01T21:09:12.282613Z",
     "start_time": "2021-04-01T21:09:12.256019Z"
    },
    "id": "2966b5af",
    "papermill": {
     "duration": 0.065275,
     "end_time": "2025-04-03T10:55:50.326893",
     "exception": false,
     "start_time": "2025-04-03T10:55:50.261618",
     "status": "completed"
    },
    "tags": []
   },
   "source": [
    "Допишите класс-обёртку над `LSTMCell` для реализации Variational Dropout. **Используйте только цикл по времени**"
   ]
  },
  {
   "cell_type": "markdown",
   "id": "cf2413de",
   "metadata": {
    "id": "cf2413de",
    "papermill": {
     "duration": 0.064425,
     "end_time": "2025-04-03T10:55:50.455288",
     "exception": false,
     "start_time": "2025-04-03T10:55:50.390863",
     "status": "completed"
    },
    "tags": []
   },
   "source": [
    "**Для каждого тензора в функции `forward` подпишите в комментарии его размеры**"
   ]
  },
  {
   "cell_type": "code",
   "execution_count": 34,
   "id": "4a5074d4",
   "metadata": {
    "ExecuteTime": {
     "end_time": "2024-03-30T21:26:14.072540Z",
     "start_time": "2024-03-30T21:26:14.064809Z"
    },
    "execution": {
     "iopub.execute_input": "2025-04-03T10:55:50.587700Z",
     "iopub.status.busy": "2025-04-03T10:55:50.587390Z",
     "iopub.status.idle": "2025-04-03T10:55:50.593439Z",
     "shell.execute_reply": "2025-04-03T10:55:50.592599Z"
    },
    "id": "4a5074d4",
    "papermill": {
     "duration": 0.072196,
     "end_time": "2025-04-03T10:55:50.594642",
     "exception": false,
     "start_time": "2025-04-03T10:55:50.522446",
     "status": "completed"
    },
    "tags": []
   },
   "outputs": [],
   "source": [
    "class RNNLayer(torch.nn.Module):\n",
    "    def __init__(self, input_size, hidden_size, dropout=None):\n",
    "        super().__init__()\n",
    "\n",
    "        self.dropout = dropout\n",
    "        self.input_size = input_size\n",
    "        self.hidden_size = hidden_size\n",
    "\n",
    "        self.rnn_cell = torch.nn.LSTMCell(self.input_size, self.hidden_size)\n",
    "\n",
    "    def forward(self, x):\n",
    "        # Initialize h_0, c_0\n",
    "        # YOUR CODE HERE\n",
    "        h_0, c_0 = init_h0_c0(x.shape[1], self.hidden_size, x)\n",
    "\n",
    "        # Gen masks for input and hidden state\n",
    "        # YOUR CODE HERE\n",
    "        masks_h = gen_dropout_mask(x.shape[1], self.hidden_size, self.training, self.dropout, x)\n",
    "        masks_x = gen_dropout_mask(x.shape[1], self.input_size, self.training, self.dropout, x)\n",
    "\n",
    "        # Implement recurrent logic and return what nn.LSTM returns\n",
    "        # Do not forget to apply generated dropout masks!\n",
    "        # YOUR CODE HERE\n",
    "        # Length x Batch_sz x input_size\n",
    "        h_t, c_t = h_0, c_0\n",
    "        output = []\n",
    "\n",
    "        for i in range(x.shape[0]):\n",
    "            h_t, x_masked = h_t * masks_h, x[i] * masks_x\n",
    "            h_t, c_t = self.rnn_cell(x_masked, (h_t, c_t))\n",
    "            output.append(h_t)\n",
    "        output = torch.stack(output, dim=0)\n",
    "        return output, (h_t, c_t)"
   ]
  },
  {
   "cell_type": "code",
   "execution_count": 35,
   "id": "66395d78",
   "metadata": {
    "execution": {
     "iopub.execute_input": "2025-04-03T10:55:50.764100Z",
     "iopub.status.busy": "2025-04-03T10:55:50.763793Z",
     "iopub.status.idle": "2025-04-03T10:55:50.821333Z",
     "shell.execute_reply": "2025-04-03T10:55:50.820475Z"
    },
    "id": "66395d78",
    "papermill": {
     "duration": 0.163413,
     "end_time": "2025-04-03T10:55:50.822804",
     "exception": false,
     "start_time": "2025-04-03T10:55:50.659391",
     "status": "completed"
    },
    "tags": []
   },
   "outputs": [],
   "source": [
    "layer = RNNLayer(32, 64, dropout=None)\n",
    "dummy_input = torch.ones((10, 16, 32))\n",
    "\n",
    "out = layer(dummy_input)\n",
    "\n",
    "assert out[0].shape == (10, 16, 64)\n",
    "assert out[1][0].shape == (16, 64)\n",
    "assert out[1][1].shape == (16, 64)"
   ]
  },
  {
   "cell_type": "markdown",
   "id": "fcb4f389",
   "metadata": {
    "id": "fcb4f389",
    "papermill": {
     "duration": 0.064772,
     "end_time": "2025-04-03T10:55:50.955660",
     "exception": false,
     "start_time": "2025-04-03T10:55:50.890888",
     "status": "completed"
    },
    "tags": []
   },
   "source": [
    "Протестируйте реализованную модель с выключенным дропаутом (слой `RNNLayer` надо передать в `RNNClassifier` в качестве `rec_layer`). Замерьте время обучения. Сильно ли оно увеличилось по сравнению с `torch.nn.LSTM` (LSTM \"из коробки\")?"
   ]
  },
  {
   "cell_type": "markdown",
   "id": "17229021",
   "metadata": {
    "id": "17229021",
    "papermill": {
     "duration": 0.065172,
     "end_time": "2025-04-03T10:55:51.085348",
     "exception": false,
     "start_time": "2025-04-03T10:55:51.020176",
     "status": "completed"
    },
    "tags": []
   },
   "source": [
    "**Сохраните все метрики и время работы модели. Это потребуется в конце первой части для построения графиков обучения и сравнения времени работы для всех моделей в этой секции**\n",
    "\n",
    "**Возможно стоит сохранить результаты в виде файлов и скачать их**"
   ]
  },
  {
   "cell_type": "code",
   "execution_count": null,
   "id": "e678da81",
   "metadata": {
    "ExecuteTime": {
     "end_time": "2024-03-30T21:37:48.546191Z",
     "start_time": "2024-03-30T21:26:14.073988Z"
    },
    "execution": {
     "iopub.execute_input": "2025-04-03T10:55:51.217848Z",
     "iopub.status.busy": "2025-04-03T10:55:51.217539Z",
     "iopub.status.idle": "2025-04-03T11:06:20.279281Z",
     "shell.execute_reply": "2025-04-03T11:06:20.278462Z"
    },
    "id": "e678da81",
    "outputId": "6e114b7d-fdef-4106-8654-e8f330a7bc7b",
    "papermill": {
     "duration": 629.196344,
     "end_time": "2025-04-03T11:06:20.347429",
     "exception": false,
     "start_time": "2025-04-03T10:55:51.151085",
     "status": "completed"
    },
    "tags": []
   },
   "outputs": [
    {
     "name": "stdout",
     "output_type": "stream",
     "text": [
      "Epoch: 1/15. Loss (Train/Test): 2.014/2.016. Accuracy (Train/Test): 0.225/0.229\n",
      "Epoch: 2/15. Loss (Train/Test): 1.699/1.739. Accuracy (Train/Test): 0.349/0.342\n",
      "Epoch: 3/15. Loss (Train/Test): 1.555/1.626. Accuracy (Train/Test): 0.401/0.374\n",
      "Epoch: 4/15. Loss (Train/Test): 1.482/1.596. Accuracy (Train/Test): 0.418/0.382\n",
      "Epoch: 5/15. Loss (Train/Test): 1.421/1.574. Accuracy (Train/Test): 0.447/0.386\n",
      "Epoch: 6/15. Loss (Train/Test): 1.361/1.587. Accuracy (Train/Test): 0.462/0.394\n",
      "Epoch: 7/15. Loss (Train/Test): 1.302/1.563. Accuracy (Train/Test): 0.485/0.398\n",
      "Epoch: 8/15. Loss (Train/Test): 1.239/1.590. Accuracy (Train/Test): 0.511/0.395\n",
      "Epoch: 9/15. Loss (Train/Test): 1.176/1.618. Accuracy (Train/Test): 0.538/0.393\n",
      "Epoch: 10/15. Loss (Train/Test): 1.124/1.653. Accuracy (Train/Test): 0.559/0.388\n",
      "Epoch: 11/15. Loss (Train/Test): 1.041/1.709. Accuracy (Train/Test): 0.602/0.378\n",
      "Epoch: 12/15. Loss (Train/Test): 0.987/1.751. Accuracy (Train/Test): 0.636/0.361\n",
      "Epoch: 13/15. Loss (Train/Test): 0.893/1.848. Accuracy (Train/Test): 0.672/0.365\n",
      "Epoch: 14/15. Loss (Train/Test): 0.806/1.973. Accuracy (Train/Test): 0.711/0.361\n",
      "Epoch: 15/15. Loss (Train/Test): 0.721/2.057. Accuracy (Train/Test): 0.747/0.361\n"
     ]
    }
   ],
   "source": [
    "set_global_seed(42)\n",
    "\n",
    "# YOUR CODE HERE\n",
    "model = RNNClassifier(\n",
    "    embedding_dim=embedding_dim, hidden_dim=hidden_dim, output_size=10, tokenizer=tokenizer,\n",
    "    rec_layer=RNNLayer, dropout=None\n",
    ").to(device)\n",
    "\n",
    "loss_fn = torch.nn.CrossEntropyLoss(reduction='mean')\n",
    "optimizer = torch.optim.Adam(model.parameters(), lr=learning_rate)\n",
    "\n",
    "var_drop_check_res = train(\n",
    "    train_dataloader, test_dataloader, model, loss_fn, optimizer, device, num_epochs\n",
    ")\n",
    "torch.save(var_drop_check_res, 'var_drop_check_res')"
   ]
  },
  {
   "cell_type": "code",
   "execution_count": null,
   "id": "fe4969a6",
   "metadata": {
    "execution": {
     "iopub.execute_input": "2025-04-03T11:06:20.522147Z",
     "iopub.status.busy": "2025-04-03T11:06:20.521864Z",
     "iopub.status.idle": "2025-04-03T11:06:20.526134Z",
     "shell.execute_reply": "2025-04-03T11:06:20.525229Z"
    },
    "id": "fe4969a6",
    "outputId": "0801db21-0d3b-40f9-db1d-22c948a51cd1",
    "papermill": {
     "duration": 0.07267,
     "end_time": "2025-04-03T11:06:20.527497",
     "exception": false,
     "start_time": "2025-04-03T11:06:20.454827",
     "status": "completed"
    },
    "tags": []
   },
   "outputs": [
    {
     "name": "stdout",
     "output_type": "stream",
     "text": [
      "Training time for pure LSTM: 108.634 s\n",
      "Training time for custom LSTM: 629.048 s\n"
     ]
    }
   ],
   "source": [
    "print(f\"Training time for pure LSTM: {base_res['train_time']:.3f} s\")\n",
    "print(f\"Training time for custom LSTM: {var_drop_check_res['train_time']:.3f} s\")"
   ]
  },
  {
   "cell_type": "markdown",
   "id": "2566507a",
   "metadata": {
    "id": "2566507a",
    "papermill": {
     "duration": 0.064605,
     "end_time": "2025-04-03T11:06:20.657993",
     "exception": false,
     "start_time": "2025-04-03T11:06:20.593388",
     "status": "completed"
    },
    "tags": []
   },
   "source": [
    "Протестируйте полученную модель с `dropout=0.25`, вновь замерив время обучения. Получилось ли побороть переобучение? Сильно ли дольше обучается данная модель по сравнению с предыдущей? (доп. время тратится на генерацию масок дропаута)."
   ]
  },
  {
   "cell_type": "code",
   "execution_count": null,
   "id": "b6680984",
   "metadata": {
    "execution": {
     "iopub.execute_input": "2025-04-03T11:06:20.788752Z",
     "iopub.status.busy": "2025-04-03T11:06:20.788466Z",
     "iopub.status.idle": "2025-04-03T11:17:06.970197Z",
     "shell.execute_reply": "2025-04-03T11:17:06.969308Z"
    },
    "id": "b6680984",
    "outputId": "eafeaad5-aa13-4058-9d34-2681c89ef13f",
    "papermill": {
     "duration": 646.338405,
     "end_time": "2025-04-03T11:17:07.061214",
     "exception": false,
     "start_time": "2025-04-03T11:06:20.722809",
     "status": "completed"
    },
    "tags": []
   },
   "outputs": [
    {
     "name": "stdout",
     "output_type": "stream",
     "text": [
      "Epoch: 1/15. Loss (Train/Test): 2.017/2.018. Accuracy (Train/Test): 0.223/0.225\n",
      "Epoch: 2/15. Loss (Train/Test): 1.863/1.878. Accuracy (Train/Test): 0.311/0.312\n",
      "Epoch: 3/15. Loss (Train/Test): 1.647/1.682. Accuracy (Train/Test): 0.373/0.355\n",
      "Epoch: 4/15. Loss (Train/Test): 1.578/1.622. Accuracy (Train/Test): 0.385/0.374\n",
      "Epoch: 5/15. Loss (Train/Test): 1.530/1.592. Accuracy (Train/Test): 0.407/0.387\n",
      "Epoch: 6/15. Loss (Train/Test): 1.472/1.564. Accuracy (Train/Test): 0.425/0.388\n",
      "Epoch: 7/15. Loss (Train/Test): 1.430/1.534. Accuracy (Train/Test): 0.438/0.403\n",
      "Epoch: 8/15. Loss (Train/Test): 1.402/1.524. Accuracy (Train/Test): 0.450/0.406\n",
      "Epoch: 9/15. Loss (Train/Test): 1.389/1.527. Accuracy (Train/Test): 0.455/0.404\n",
      "Epoch: 10/15. Loss (Train/Test): 1.357/1.514. Accuracy (Train/Test): 0.467/0.408\n",
      "Epoch: 11/15. Loss (Train/Test): 1.335/1.505. Accuracy (Train/Test): 0.476/0.411\n",
      "Epoch: 12/15. Loss (Train/Test): 1.319/1.507. Accuracy (Train/Test): 0.479/0.413\n",
      "Epoch: 13/15. Loss (Train/Test): 1.295/1.507. Accuracy (Train/Test): 0.493/0.411\n",
      "Epoch: 14/15. Loss (Train/Test): 1.283/1.518. Accuracy (Train/Test): 0.497/0.412\n",
      "Epoch: 15/15. Loss (Train/Test): 1.256/1.509. Accuracy (Train/Test): 0.504/0.413\n"
     ]
    }
   ],
   "source": [
    "set_global_seed(42)\n",
    "\n",
    "# YOUR CODE HERE\n",
    "model = RNNClassifier(\n",
    "    embedding_dim=embedding_dim, hidden_dim=hidden_dim, output_size=10, tokenizer=tokenizer,\n",
    "    rec_layer=RNNLayer, dropout=0.25\n",
    ").to(device)\n",
    "\n",
    "loss_fn = torch.nn.CrossEntropyLoss(reduction='mean')\n",
    "optimizer = torch.optim.Adam(model.parameters(), lr=learning_rate)\n",
    "\n",
    "var_drop_res = train(\n",
    "    train_dataloader, test_dataloader, model, loss_fn, optimizer, device, num_epochs\n",
    ")\n",
    "torch.save(var_drop_res, 'var_drop_res')"
   ]
  },
  {
   "cell_type": "code",
   "execution_count": null,
   "id": "548574fd",
   "metadata": {
    "execution": {
     "iopub.execute_input": "2025-04-03T11:17:07.201413Z",
     "iopub.status.busy": "2025-04-03T11:17:07.201079Z",
     "iopub.status.idle": "2025-04-03T11:17:07.205207Z",
     "shell.execute_reply": "2025-04-03T11:17:07.204331Z"
    },
    "id": "548574fd",
    "outputId": "83c0d8ea-3265-4d91-e92f-01392baaeafc",
    "papermill": {
     "duration": 0.074973,
     "end_time": "2025-04-03T11:17:07.206512",
     "exception": false,
     "start_time": "2025-04-03T11:17:07.131539",
     "status": "completed"
    },
    "tags": []
   },
   "outputs": [
    {
     "name": "stdout",
     "output_type": "stream",
     "text": [
      "Training time for pure LSTM: 108.634 s\n",
      "Training time for custom LSTM without dropout: 629.048 s\n",
      "Training time for custom LSTM with dropout: 646.167 s\n"
     ]
    }
   ],
   "source": [
    "print(f\"Training time for pure LSTM: {base_res['train_time']:.3f} s\")\n",
    "print(f\"Training time for custom LSTM without dropout: {var_drop_check_res['train_time']:.3f} s\")\n",
    "print(f\"Training time for custom LSTM with dropout: {var_drop_res['train_time']:.3f} s\")"
   ]
  },
  {
   "cell_type": "markdown",
   "id": "576ad8ea-6238-42d8-a460-1168968cd151",
   "metadata": {
    "id": "576ad8ea-6238-42d8-a460-1168968cd151"
   },
   "source": [
    "---\n",
    "\n",
    "**Вывод:** Добавление дропаута действительно помогло увеличить качество на валидации и побороть переобучение, при этом время обучения увеличилось незначительно"
   ]
  },
  {
   "cell_type": "markdown",
   "id": "ad5650bb",
   "metadata": {
    "id": "ad5650bb",
    "papermill": {
     "duration": 0.068404,
     "end_time": "2025-04-03T11:17:07.388628",
     "exception": false,
     "start_time": "2025-04-03T11:17:07.320224",
     "status": "completed"
    },
    "tags": []
   },
   "source": [
    "## `Реализация дропаута по статье Гала и Гарамани. Дубль 2 (1 балл)`"
   ]
  },
  {
   "cell_type": "markdown",
   "id": "34757a10",
   "metadata": {
    "id": "34757a10",
    "papermill": {
     "duration": 0.068311,
     "end_time": "2025-04-03T11:17:07.525300",
     "exception": false,
     "start_time": "2025-04-03T11:17:07.456989",
     "status": "completed"
    },
    "tags": []
   },
   "source": [
    "<начало взлома pytorch>"
   ]
  },
  {
   "cell_type": "markdown",
   "id": "1aa72a69",
   "metadata": {
    "id": "1aa72a69",
    "papermill": {
     "duration": 0.06908,
     "end_time": "2025-04-03T11:17:07.662557",
     "exception": false,
     "start_time": "2025-04-03T11:17:07.593477",
     "status": "completed"
    },
    "tags": []
   },
   "source": [
    "При разворачивании цикла по времени средствами python обучение рекуррентной нейросети сильно замедляется. Однако для реализации дропаута Гала и Гарамани необязательно явно задавать в коде умножение нейронов на маски. Можно схитрить и обойтись использованием слоя `torch.nn.LSTM`: перед вызовом `forward` слоя `torch.nn.LSTM` подменять его веса на веса, домноженные **по строкам** на маски. А обучаемые веса хранить отдельно. Именно так этот дропаут реализован в библиотеке `fastai`, код из которой использован в ячейке ниже.\n",
    "\n",
    "Благодаря такому подходу мы используем быстрый код слоя `torch.nn.LSTM`, который гарантировано написан хорошо и правильно, но подменяем веса так, чтобы получить необходимый эффект.\n",
    "\n",
    "Для начала посмотрим на стандартный слой `nn.LSTM` и вспомним дропаут Гала и Гарамани (m обозначает маску дропаута):\n",
    "\n",
    "$$\n",
    "h_{t-1} = h_{t-1}*m_h, \\, x_t = x_t * m_x\n",
    "$$\n",
    "\n",
    "Далее обычный шаг рекуррентной архитектуры, например, LSTM:\n",
    "\n",
    "$$\n",
    "i = \\sigma(h_{t-1}W^i + x_t U^i+b_i) \\quad\n",
    "o = \\sigma(h_{t-1}W^o + x_t U^o+b_o)\n",
    "$$\n",
    "$$\n",
    "f = \\sigma(h_{t-1}W^f + x_t U^f+b_f) \\quad\n",
    "g = tanh(h_{t-1} W^g + x_t U^g+b_g)\n",
    "$$\n",
    "$$\n",
    "c_t = f \\odot c_{t-1} +  i \\odot  g \\quad\n",
    "h_t =  o \\odot tanh(c_t)\n",
    "$$"
   ]
  },
  {
   "cell_type": "markdown",
   "id": "8602f815",
   "metadata": {
    "id": "8602f815",
    "papermill": {
     "duration": 0.069701,
     "end_time": "2025-04-03T11:17:07.800186",
     "exception": false,
     "start_time": "2025-04-03T11:17:07.730485",
     "status": "completed"
    },
    "tags": []
   },
   "source": [
    "Сначал посмотрим на параметры слоя `nn.LSTM`."
   ]
  },
  {
   "cell_type": "code",
   "execution_count": 36,
   "id": "d589f3a0",
   "metadata": {
    "colab": {
     "base_uri": "https://localhost:8080/"
    },
    "execution": {
     "iopub.execute_input": "2025-04-03T11:17:07.939290Z",
     "iopub.status.busy": "2025-04-03T11:17:07.938986Z",
     "iopub.status.idle": "2025-04-03T11:17:07.946502Z",
     "shell.execute_reply": "2025-04-03T11:17:07.945546Z"
    },
    "id": "d589f3a0",
    "outputId": "10bd1ea7-1aec-4ef0-943e-d88a93f57ff9",
    "papermill": {
     "duration": 0.078777,
     "end_time": "2025-04-03T11:17:07.947826",
     "exception": false,
     "start_time": "2025-04-03T11:17:07.869049",
     "status": "completed"
    },
    "tags": []
   },
   "outputs": [
    {
     "name": "stdout",
     "output_type": "stream",
     "text": [
      "weight_ih_l0: torch.Size([512, 32])\n",
      "weight_hh_l0: torch.Size([512, 128])\n",
      "bias_ih_l0  : torch.Size([512])\n",
      "bias_hh_l0  : torch.Size([512])\n",
      "weight_ih_l1: torch.Size([512, 128])\n",
      "weight_hh_l1: torch.Size([512, 128])\n",
      "bias_ih_l1  : torch.Size([512])\n",
      "bias_hh_l1  : torch.Size([512])\n"
     ]
    }
   ],
   "source": [
    "lstm = torch.nn.LSTM(embedding_dim, hidden_dim, num_layers=2)\n",
    "\n",
    "for tag, p in lstm.named_parameters():\n",
    "    print(f\"{tag:<12}: {p.shape}\")"
   ]
  },
  {
   "cell_type": "markdown",
   "id": "a2000ba9",
   "metadata": {
    "id": "a2000ba9",
    "papermill": {
     "duration": 0.068301,
     "end_time": "2025-04-03T11:17:08.084614",
     "exception": false,
     "start_time": "2025-04-03T11:17:08.016313",
     "status": "completed"
    },
    "tags": []
   },
   "source": [
    "Подробнее про каждый отдельный модуль можно почитать на [официальной странице](https://pytorch.org/docs/stable/generated/torch.nn.LSTM.html), важно, что умножая каждую строку весов **weight\\_\\*\\*\\_\\*\\*** на маску, мы получим те же вычисления, что и при умножении $h_{t-1}$ и $x_t$ на маску. Для проверки этого факта рассмотрим игрушечный пример:"
   ]
  },
  {
   "cell_type": "code",
   "execution_count": 37,
   "id": "decc3251",
   "metadata": {
    "colab": {
     "base_uri": "https://localhost:8080/"
    },
    "execution": {
     "iopub.execute_input": "2025-04-03T11:17:08.224134Z",
     "iopub.status.busy": "2025-04-03T11:17:08.223828Z",
     "iopub.status.idle": "2025-04-03T11:17:08.240915Z",
     "shell.execute_reply": "2025-04-03T11:17:08.240205Z"
    },
    "id": "decc3251",
    "outputId": "c0abd260-693a-4e7c-c768-f4aa2be30ef4",
    "papermill": {
     "duration": 0.088363,
     "end_time": "2025-04-03T11:17:08.242237",
     "exception": false,
     "start_time": "2025-04-03T11:17:08.153874",
     "status": "completed"
    },
    "tags": []
   },
   "outputs": [
    {
     "data": {
      "text/plain": [
       "tensor(True)"
      ]
     },
     "execution_count": 37,
     "metadata": {},
     "output_type": "execute_result"
    }
   ],
   "source": [
    "set_global_seed(42)\n",
    "\n",
    "W = torch.randn((hidden_dim * 4, hidden_dim))\n",
    "x = torch.arange(hidden_dim).float()\n",
    "mask = (torch.arange(hidden_dim) % 2 == 0).long()\n",
    "\n",
    "res1 = W @ (x * mask)\n",
    "\n",
    "res2 = (W * mask[None, :]) @ x\n",
    "\n",
    "torch.isclose(res1, res2).all()"
   ]
  },
  {
   "cell_type": "markdown",
   "id": "f1f05a6d",
   "metadata": {
    "id": "f1f05a6d",
    "papermill": {
     "duration": 0.072474,
     "end_time": "2025-04-03T11:17:08.384524",
     "exception": false,
     "start_time": "2025-04-03T11:17:08.312050",
     "status": "completed"
    },
    "tags": []
   },
   "source": [
    "Реализуйте слой, который с помощью подмены весов реализует  дропаут Гала и Гарамани, в виде обертки над `torch.nn.LSTM`. Допишите класс:"
   ]
  },
  {
   "cell_type": "code",
   "execution_count": 38,
   "id": "044fa7d3",
   "metadata": {
    "ExecuteTime": {
     "end_time": "2024-03-30T21:50:53.808422Z",
     "start_time": "2024-03-30T21:50:53.806289Z"
    },
    "execution": {
     "iopub.execute_input": "2025-04-03T11:17:08.528876Z",
     "iopub.status.busy": "2025-04-03T11:17:08.528582Z",
     "iopub.status.idle": "2025-04-03T11:17:08.531878Z",
     "shell.execute_reply": "2025-04-03T11:17:08.531165Z"
    },
    "id": "044fa7d3",
    "papermill": {
     "duration": 0.076609,
     "end_time": "2025-04-03T11:17:08.533157",
     "exception": false,
     "start_time": "2025-04-03T11:17:08.456548",
     "status": "completed"
    },
    "tags": []
   },
   "outputs": [],
   "source": [
    "import warnings"
   ]
  },
  {
   "cell_type": "code",
   "execution_count": 39,
   "id": "b410701c",
   "metadata": {
    "ExecuteTime": {
     "end_time": "2024-03-30T21:50:53.819063Z",
     "start_time": "2024-03-30T21:50:53.810046Z"
    },
    "execution": {
     "iopub.execute_input": "2025-04-03T11:17:08.673350Z",
     "iopub.status.busy": "2025-04-03T11:17:08.673037Z",
     "iopub.status.idle": "2025-04-03T11:17:08.681002Z",
     "shell.execute_reply": "2025-04-03T11:17:08.680347Z"
    },
    "id": "b410701c",
    "papermill": {
     "duration": 0.077682,
     "end_time": "2025-04-03T11:17:08.682387",
     "exception": false,
     "start_time": "2025-04-03T11:17:08.604705",
     "status": "completed"
    },
    "tags": []
   },
   "outputs": [],
   "source": [
    "class FastRNNLayer(torch.nn.Module):\n",
    "    def __init__(self, input_size, hidden_size, dropout=0.0, layers_dropout=0.0, num_layers=1):\n",
    "        super().__init__()\n",
    "\n",
    "        self.input_size = input_size\n",
    "        self.hidden_size = hidden_size\n",
    "\n",
    "        self.num_layers = num_layers\n",
    "\n",
    "        self.dropout = dropout\n",
    "        self.layers_dropout = layers_dropout\n",
    "        self.module = torch.nn.LSTM(input_size, hidden_size, dropout=layers_dropout, num_layers=num_layers)\n",
    "\n",
    "        self.layer_names = []\n",
    "        for layer_n in range(self.num_layers):\n",
    "            self.layer_names += [f'weight_hh_l{layer_n}', f'weight_ih_l{layer_n}']\n",
    "\n",
    "        for layer in self.layer_names:\n",
    "            # Get torch.nn.Parameter with weights from torch.nn.LSTM instance\n",
    "            w = getattr(self.module, layer)\n",
    "\n",
    "            # Remove it from model\n",
    "            delattr(self.module, layer)\n",
    "\n",
    "            # And create new torch.nn.Parameter with the same data but different name\n",
    "            self.register_parameter(f'{layer}_raw', torch.nn.Parameter(w.data))\n",
    "\n",
    "            # Note. In torch.nn.LSTM.forward parameter with name `layer` will be used\n",
    "            #     so we must initialize it using `layer_raw` before forward pass\n",
    "\n",
    "    def _setweights(self, x):\n",
    "        \"\"\"\n",
    "            Apply dropout to the raw weights.\n",
    "        \"\"\"\n",
    "        for layer in self.layer_names:\n",
    "            # Get torch.nn.Parameter with weights\n",
    "            raw_w = getattr(self, f'{layer}_raw')\n",
    "\n",
    "            # Generate mask (use function gen_dropout_mask)\n",
    "            # YOUR CODE HERE\n",
    "\n",
    "            # Apply dropout mask\n",
    "            # YOUR CODE HERE\n",
    "            if layer.startswith('weight_hh'):\n",
    "                masks = gen_dropout_mask(1, self.hidden_size, self.training, self.dropout, x)\n",
    "            elif layer.startswith('weight_ih'):\n",
    "                masks = gen_dropout_mask(1, self.input_size, self.training, self.dropout, x)\n",
    "            masked_raw_w = masks * raw_w\n",
    "\n",
    "            # Set modified weights in its place\n",
    "            setattr(self.module, layer, masked_raw_w)\n",
    "\n",
    "    def forward(self, x, h_c=None):\n",
    "        \"\"\"\n",
    "        :param x: tensor containing the features of the input sequence.\n",
    "        :param Optional[Tuple[torch.Tensor, torch.Tensor]] h_c: initial hidden state and initial cell state\n",
    "        \"\"\"\n",
    "        with warnings.catch_warnings():\n",
    "            # To avoid the warning that comes because the weights aren't flattened.\n",
    "            warnings.simplefilter(\"ignore\")\n",
    "\n",
    "            # Set new weights of self.module and call its forward\n",
    "            # Pass h_c with x if it is not None. Otherwise pass only x\n",
    "            # YOUR CODE HERE\n",
    "            self._setweights(x)\n",
    "            if h_c is None:\n",
    "                return self.module(x)\n",
    "            else:\n",
    "                return self.module(x)\n",
    "\n",
    "    def reset(self):\n",
    "        if hasattr(self.module, 'reset'):\n",
    "            self.module.reset()"
   ]
  },
  {
   "cell_type": "code",
   "execution_count": 40,
   "id": "c39ccbdd",
   "metadata": {
    "execution": {
     "iopub.execute_input": "2025-04-03T11:17:08.820877Z",
     "iopub.status.busy": "2025-04-03T11:17:08.820564Z",
     "iopub.status.idle": "2025-04-03T11:17:08.931776Z",
     "shell.execute_reply": "2025-04-03T11:17:08.931005Z"
    },
    "id": "c39ccbdd",
    "papermill": {
     "duration": 0.182517,
     "end_time": "2025-04-03T11:17:08.933284",
     "exception": false,
     "start_time": "2025-04-03T11:17:08.750767",
     "status": "completed"
    },
    "tags": []
   },
   "outputs": [],
   "source": [
    "layer = FastRNNLayer(32, 64, dropout=None)\n",
    "dummy_input = torch.ones((10, 16, 32))\n",
    "\n",
    "out = layer(dummy_input)\n",
    "\n",
    "assert out[0].shape == (10, 16, 64)\n",
    "assert out[1][0].shape == (1, 16, 64)\n",
    "assert out[1][1].shape == (1, 16, 64)"
   ]
  },
  {
   "cell_type": "markdown",
   "id": "3324f72d",
   "metadata": {
    "id": "3324f72d",
    "papermill": {
     "duration": 0.0675,
     "end_time": "2025-04-03T11:17:09.070014",
     "exception": false,
     "start_time": "2025-04-03T11:17:09.002514",
     "status": "completed"
    },
    "tags": []
   },
   "source": [
    "Протестируйте реализованную модель с выключенным дропаутом (слой `FastRNNLayer` надо передать в `RNNClassifier` в качестве `rec_layer`). Замерьте время обучения. Убедитесь, что модель выдаёт такое же качество, как и оригинальная реализация LSTM."
   ]
  },
  {
   "cell_type": "markdown",
   "id": "4566eee9",
   "metadata": {
    "id": "4566eee9",
    "papermill": {
     "duration": 0.069444,
     "end_time": "2025-04-03T11:17:09.209049",
     "exception": false,
     "start_time": "2025-04-03T11:17:09.139605",
     "status": "completed"
    },
    "tags": []
   },
   "source": [
    "**Сохраните все метрики и время работы модели. Это потребуется в конце первой части для построения графиков обучения и сравнения времени работы для всех моделей в этой секции**\n",
    "\n",
    "**Возможно стоит сохранить результаты в виде файлов и скачать их**"
   ]
  },
  {
   "cell_type": "code",
   "execution_count": null,
   "id": "2b172317",
   "metadata": {
    "execution": {
     "iopub.execute_input": "2025-04-03T11:17:09.346788Z",
     "iopub.status.busy": "2025-04-03T11:17:09.346511Z",
     "iopub.status.idle": "2025-04-03T11:19:07.327094Z",
     "shell.execute_reply": "2025-04-03T11:19:07.326084Z"
    },
    "id": "2b172317",
    "outputId": "5ad27cd8-f1a2-4275-83c5-b6c1dbab1039",
    "papermill": {
     "duration": 118.050886,
     "end_time": "2025-04-03T11:19:07.328519",
     "exception": false,
     "start_time": "2025-04-03T11:17:09.277633",
     "status": "completed"
    },
    "tags": []
   },
   "outputs": [
    {
     "name": "stdout",
     "output_type": "stream",
     "text": [
      "Epoch: 1/15. Loss (Train/Test): 2.008/2.011. Accuracy (Train/Test): 0.233/0.236\n",
      "Epoch: 2/15. Loss (Train/Test): 1.663/1.706. Accuracy (Train/Test): 0.362/0.348\n",
      "Epoch: 3/15. Loss (Train/Test): 1.535/1.618. Accuracy (Train/Test): 0.405/0.377\n",
      "Epoch: 4/15. Loss (Train/Test): 1.473/1.592. Accuracy (Train/Test): 0.423/0.390\n",
      "Epoch: 5/15. Loss (Train/Test): 1.411/1.571. Accuracy (Train/Test): 0.451/0.389\n",
      "Epoch: 6/15. Loss (Train/Test): 1.349/1.575. Accuracy (Train/Test): 0.468/0.398\n",
      "Epoch: 7/15. Loss (Train/Test): 1.290/1.574. Accuracy (Train/Test): 0.486/0.402\n",
      "Epoch: 8/15. Loss (Train/Test): 1.232/1.589. Accuracy (Train/Test): 0.513/0.397\n",
      "Epoch: 9/15. Loss (Train/Test): 1.169/1.616. Accuracy (Train/Test): 0.541/0.396\n",
      "Epoch: 10/15. Loss (Train/Test): 1.113/1.651. Accuracy (Train/Test): 0.564/0.387\n",
      "Epoch: 11/15. Loss (Train/Test): 1.033/1.716. Accuracy (Train/Test): 0.604/0.378\n",
      "Epoch: 12/15. Loss (Train/Test): 0.967/1.763. Accuracy (Train/Test): 0.641/0.367\n",
      "Epoch: 13/15. Loss (Train/Test): 0.884/1.859. Accuracy (Train/Test): 0.676/0.367\n",
      "Epoch: 14/15. Loss (Train/Test): 0.819/1.961. Accuracy (Train/Test): 0.698/0.363\n",
      "Epoch: 15/15. Loss (Train/Test): 0.722/2.049. Accuracy (Train/Test): 0.747/0.367\n"
     ]
    }
   ],
   "source": [
    "set_global_seed(42)\n",
    "\n",
    "# YOUR CODE HERE\n",
    "model = RNNClassifier(\n",
    "    embedding_dim=embedding_dim, hidden_dim=hidden_dim, output_size=10, tokenizer=tokenizer,\n",
    "    rec_layer=FastRNNLayer, dropout=None\n",
    ").to(device)\n",
    "\n",
    "loss_fn = torch.nn.CrossEntropyLoss(reduction='mean')\n",
    "optimizer = torch.optim.Adam(model.parameters(), lr=learning_rate)\n",
    "\n",
    "fast_var_drop_check_res = train(\n",
    "    train_dataloader, test_dataloader, model, loss_fn, optimizer, device, num_epochs\n",
    ")\n",
    "torch.save(fast_var_drop_check_res, 'fast_var_drop_check_res')"
   ]
  },
  {
   "cell_type": "code",
   "execution_count": null,
   "id": "4259f45e",
   "metadata": {
    "execution": {
     "iopub.execute_input": "2025-04-03T11:19:07.514285Z",
     "iopub.status.busy": "2025-04-03T11:19:07.513952Z",
     "iopub.status.idle": "2025-04-03T11:19:07.518859Z",
     "shell.execute_reply": "2025-04-03T11:19:07.517917Z"
    },
    "id": "4259f45e",
    "outputId": "94d7190a-76cb-41fc-fc28-239cd764ab63",
    "papermill": {
     "duration": 0.121391,
     "end_time": "2025-04-03T11:19:07.520244",
     "exception": false,
     "start_time": "2025-04-03T11:19:07.398853",
     "status": "completed"
    },
    "tags": []
   },
   "outputs": [
    {
     "name": "stdout",
     "output_type": "stream",
     "text": [
      "Training time for pure LSTM: 108.634 s\n",
      "Training time for custom LSTM: 629.048 s\n",
      "Training time for custom LSTM with hacks: 117.966 s\n"
     ]
    }
   ],
   "source": [
    "print(f\"Training time for pure LSTM: {base_res['train_time']:.3f} s\")\n",
    "print(f\"Training time for custom LSTM: {var_drop_check_res['train_time']:.3f} s\")\n",
    "print(f\"Training time for custom LSTM with hacks: {fast_var_drop_check_res['train_time']:.3f} s\")"
   ]
  },
  {
   "cell_type": "code",
   "execution_count": null,
   "id": "ec0f7881",
   "metadata": {
    "execution": {
     "iopub.execute_input": "2025-04-03T11:19:07.659251Z",
     "iopub.status.busy": "2025-04-03T11:19:07.658927Z",
     "iopub.status.idle": "2025-04-03T11:19:07.681292Z",
     "shell.execute_reply": "2025-04-03T11:19:07.680455Z"
    },
    "id": "ec0f7881",
    "outputId": "82b736d5-1e6a-4bfa-ec83-283c5aad5455",
    "papermill": {
     "duration": 0.093183,
     "end_time": "2025-04-03T11:19:07.682727",
     "exception": false,
     "start_time": "2025-04-03T11:19:07.589544",
     "status": "completed"
    },
    "tags": []
   },
   "outputs": [
    {
     "name": "stdout",
     "output_type": "stream",
     "text": [
      "Best accuracy of pure LSTM: 0.402\n",
      "Best accuracy of custom LSTM: 0.398\n",
      "Best accuracy of fast custom LSTM: 0.402\n"
     ]
    }
   ],
   "source": [
    "print(f\"Best accuracy of pure LSTM: {float(max(base_res['test_accuracies'])):.3f}\")\n",
    "print(f\"Best accuracy of custom LSTM: {float(max(var_drop_check_res['test_accuracies'])):.3f}\")\n",
    "print(f\"Best accuracy of fast custom LSTM: {float(max(fast_var_drop_check_res['test_accuracies'])):.3f}\")\n",
    "\n",
    "# assert max(var_drop_check_res['test_accuracies']) == max(fast_var_drop_check_res['test_accuracies'])\n",
    "# assert max(base_res['test_accuracies']) == max(fast_var_drop_check_res['test_accuracies'])"
   ]
  },
  {
   "cell_type": "markdown",
   "id": "4964a1c5",
   "metadata": {
    "id": "4964a1c5",
    "papermill": {
     "duration": 0.06931,
     "end_time": "2025-04-03T11:19:07.821622",
     "exception": false,
     "start_time": "2025-04-03T11:19:07.752312",
     "status": "completed"
    },
    "tags": []
   },
   "source": [
    "Протестируйте полученный слой (вновь подставив его в `RNNClassifier` в качестве `rec_layer`) с `dropout=0.25`. Сравните время обучения с предыдущими моделями. Проследите, чтобы качество получилось такое же, как при первой реализации этого дропаута."
   ]
  },
  {
   "cell_type": "code",
   "execution_count": null,
   "id": "99ed858f",
   "metadata": {
    "execution": {
     "iopub.execute_input": "2025-04-03T11:19:07.971182Z",
     "iopub.status.busy": "2025-04-03T11:19:07.970899Z",
     "iopub.status.idle": "2025-04-03T11:21:05.595350Z",
     "shell.execute_reply": "2025-04-03T11:21:05.594365Z"
    },
    "id": "99ed858f",
    "outputId": "f8c94c4d-eb60-4878-baa3-0d0def36930d",
    "papermill": {
     "duration": 117.703046,
     "end_time": "2025-04-03T11:21:05.596974",
     "exception": false,
     "start_time": "2025-04-03T11:19:07.893928",
     "status": "completed"
    },
    "tags": []
   },
   "outputs": [
    {
     "name": "stdout",
     "output_type": "stream",
     "text": [
      "Epoch: 1/15. Loss (Train/Test): 2.009/2.011. Accuracy (Train/Test): 0.223/0.230\n",
      "Epoch: 2/15. Loss (Train/Test): 1.777/1.803. Accuracy (Train/Test): 0.330/0.329\n",
      "Epoch: 3/15. Loss (Train/Test): 1.649/1.686. Accuracy (Train/Test): 0.369/0.359\n",
      "Epoch: 4/15. Loss (Train/Test): 1.563/1.616. Accuracy (Train/Test): 0.390/0.377\n",
      "Epoch: 5/15. Loss (Train/Test): 1.516/1.583. Accuracy (Train/Test): 0.406/0.388\n",
      "Epoch: 6/15. Loss (Train/Test): 1.483/1.579. Accuracy (Train/Test): 0.420/0.387\n",
      "Epoch: 7/15. Loss (Train/Test): 1.432/1.539. Accuracy (Train/Test): 0.435/0.402\n",
      "Epoch: 8/15. Loss (Train/Test): 1.410/1.526. Accuracy (Train/Test): 0.445/0.406\n",
      "Epoch: 9/15. Loss (Train/Test): 1.386/1.526. Accuracy (Train/Test): 0.459/0.401\n",
      "Epoch: 10/15. Loss (Train/Test): 1.364/1.521. Accuracy (Train/Test): 0.464/0.406\n",
      "Epoch: 11/15. Loss (Train/Test): 1.343/1.510. Accuracy (Train/Test): 0.472/0.410\n",
      "Epoch: 12/15. Loss (Train/Test): 1.321/1.508. Accuracy (Train/Test): 0.477/0.412\n",
      "Epoch: 13/15. Loss (Train/Test): 1.299/1.513. Accuracy (Train/Test): 0.490/0.409\n",
      "Epoch: 14/15. Loss (Train/Test): 1.283/1.521. Accuracy (Train/Test): 0.491/0.412\n",
      "Epoch: 15/15. Loss (Train/Test): 1.269/1.531. Accuracy (Train/Test): 0.499/0.409\n"
     ]
    }
   ],
   "source": [
    "set_global_seed(42)\n",
    "\n",
    "# YOUR CODE HERE\n",
    "model = RNNClassifier(\n",
    "    embedding_dim=embedding_dim, hidden_dim=hidden_dim, output_size=10, tokenizer=tokenizer,\n",
    "    rec_layer=FastRNNLayer, dropout=0.25\n",
    ").to(device)\n",
    "\n",
    "loss_fn = torch.nn.CrossEntropyLoss(reduction='mean')\n",
    "optimizer = torch.optim.Adam(model.parameters(), lr=learning_rate)\n",
    "\n",
    "fast_var_drop_res = train(\n",
    "    train_dataloader, test_dataloader, model, loss_fn, optimizer, device, num_epochs\n",
    ")\n",
    "torch.save(fast_var_drop_res, 'fast_var_drop_res')"
   ]
  },
  {
   "cell_type": "code",
   "execution_count": null,
   "id": "cf2fbdb3",
   "metadata": {
    "execution": {
     "iopub.execute_input": "2025-04-03T11:21:05.739087Z",
     "iopub.status.busy": "2025-04-03T11:21:05.738789Z",
     "iopub.status.idle": "2025-04-03T11:21:05.743639Z",
     "shell.execute_reply": "2025-04-03T11:21:05.742866Z"
    },
    "id": "cf2fbdb3",
    "outputId": "5f316966-d44f-4841-aeab-b533a439f104",
    "papermill": {
     "duration": 0.076594,
     "end_time": "2025-04-03T11:21:05.744810",
     "exception": false,
     "start_time": "2025-04-03T11:21:05.668216",
     "status": "completed"
    },
    "tags": []
   },
   "outputs": [
    {
     "name": "stdout",
     "output_type": "stream",
     "text": [
      "Training time for pure LSTM: 108.634 s\n",
      "Training time for custom LSTM without dropout: 629.048 s\n",
      "Training time for custom LSTM with dropout: 646.167 s\n",
      "Training time for custom LSTM without dropout with hacks: 117.966 s\n",
      "Training time for custom LSTM with dropout with hacks: 117.610 s\n"
     ]
    }
   ],
   "source": [
    "print(f\"Training time for pure LSTM: {base_res['train_time']:.3f} s\")\n",
    "print(f\"Training time for custom LSTM without dropout: {var_drop_check_res['train_time']:.3f} s\")\n",
    "print(f\"Training time for custom LSTM with dropout: {var_drop_res['train_time']:.3f} s\")\n",
    "print(f\"Training time for custom LSTM without dropout with hacks: {fast_var_drop_check_res['train_time']:.3f} s\")\n",
    "print(f\"Training time for custom LSTM with dropout with hacks: {fast_var_drop_res['train_time']:.3f} s\")"
   ]
  },
  {
   "cell_type": "code",
   "execution_count": null,
   "id": "351b75ed",
   "metadata": {
    "execution": {
     "iopub.execute_input": "2025-04-03T11:21:05.889056Z",
     "iopub.status.busy": "2025-04-03T11:21:05.888729Z",
     "iopub.status.idle": "2025-04-03T11:21:05.894314Z",
     "shell.execute_reply": "2025-04-03T11:21:05.893607Z"
    },
    "id": "351b75ed",
    "outputId": "80da7168-6054-4765-d105-7dc90f11c643",
    "papermill": {
     "duration": 0.081103,
     "end_time": "2025-04-03T11:21:05.895689",
     "exception": false,
     "start_time": "2025-04-03T11:21:05.814586",
     "status": "completed"
    },
    "tags": []
   },
   "outputs": [
    {
     "name": "stdout",
     "output_type": "stream",
     "text": [
      "Best accuracy of custom LSTM with dropout: 0.413\n",
      "Best accuracy of fast custom LSTM with dropout: 0.412\n"
     ]
    }
   ],
   "source": [
    "print(f\"Best accuracy of custom LSTM with dropout: {float(max(var_drop_res['test_accuracies'])):.3f}\")\n",
    "print(f\"Best accuracy of fast custom LSTM with dropout: {float(max(fast_var_drop_res['test_accuracies'])):.3f}\")\n",
    "\n",
    "# assert max(var_drop_res['test_accuracies']) == max(fast_var_drop_res['test_accuracies'])"
   ]
  },
  {
   "cell_type": "markdown",
   "id": "5b74fcee-a73e-41e2-b945-0788a6724f6b",
   "metadata": {
    "id": "5b74fcee-a73e-41e2-b945-0788a6724f6b"
   },
   "source": [
    "---\n",
    "\n",
    "**Вывод:** Как видим, время обучения уменьшилось почти в 6 раз, при этом качество похоже. Из-за того что в первой реализации мы применяли к каждому элементу батча свою максу, а при быстрой вариации дропаута - одну и ту же качество в первом случае получилось лучше (сильнее регуляризация)"
   ]
  },
  {
   "cell_type": "markdown",
   "id": "b90f1cd6",
   "metadata": {
    "id": "b90f1cd6",
    "papermill": {
     "duration": 0.071159,
     "end_time": "2025-04-03T11:21:06.037732",
     "exception": false,
     "start_time": "2025-04-03T11:21:05.966573",
     "status": "completed"
    },
    "tags": []
   },
   "source": [
    "</конец взлома pytorch>"
   ]
  },
  {
   "cell_type": "markdown",
   "id": "93501d06",
   "metadata": {
    "id": "93501d06",
    "papermill": {
     "duration": 0.071239,
     "end_time": "2025-04-03T11:21:06.183440",
     "exception": false,
     "start_time": "2025-04-03T11:21:06.112201",
     "status": "completed"
    },
    "tags": []
   },
   "source": [
    "## `Реализация дропаута по статье Семениуты и др. (1 балл)`"
   ]
  },
  {
   "cell_type": "markdown",
   "id": "e70ee0c3",
   "metadata": {
    "id": "e70ee0c3",
    "papermill": {
     "duration": 0.071999,
     "end_time": "2025-04-03T11:21:06.325157",
     "exception": false,
     "start_time": "2025-04-03T11:21:06.253158",
     "status": "completed"
    },
    "tags": []
   },
   "source": [
    "Перейдем к реализации дропаута для LSTM по статье [Semeniuta et al](http://www.aclweb.org/anthology/C16-1165).\n",
    "\n",
    "Этот метод применения дропаута не менее популярен, чем предыдущий. Его особенность состоит в том, что он придуман специально для гейтовых архитектур. В контексте LSTM этот дропаут накладывается только на информационный поток ($m_h$ — маска дропаута):\n",
    "$$\n",
    "i = \\sigma(h_{t-1}W^i + x_t U^i+b_i) \\quad\n",
    "o = \\sigma(h_{t-1}W^o + x_t U^o+b_o)\n",
    "$$\n",
    "$$\n",
    "f = \\sigma(h_{t-1}W^f + x_t U^f+b_f) \\quad\n",
    "g = tanh(h_{t-1} W^g + x_t U^g+b_g)\n",
    "$$\n",
    "$$\n",
    "c_t = f \\odot c_{t-1} +  i \\odot g \\odot {\\bf m_h} \\quad\n",
    "h_t =  o \\odot tanh(c_t)\n",
    "$$\n",
    "**На входы $x_t$ маска накладывается как в предыдущем дропауте.** Впрочем, на входы маску можно наложить вообще до вызова рекуррентного слоя.\n",
    "\n",
    "Согласно статье, маска дропаута может быть как одинаковая, так и разная для всех моментов времени. Мы сделаем одинаковую для всех моментов времени.\n",
    "\n",
    "Для реализации этого дропаута можно:\n",
    "1. самостоятельно реализовать LSTM (интерфейса LSTMCell не хватит)\n",
    "2. снова воспользоваться трюком с установкой весов (но тут мы опираемся на свойство $tanh(0)=0$, к тому же, трюк в данном случае выглядит менее тривиально, чем с дропаутом Гала).\n",
    "\n",
    "**Внимание:** Раньше мы реализовывали через LSTMCell и модель работала долго, теперь при рукописном варианте будет работать еще дольше!\n",
    "\n",
    "Предлагается реализовать дропаут по сценарию 1. Допишите класс:"
   ]
  },
  {
   "cell_type": "markdown",
   "id": "ef4e88f7",
   "metadata": {
    "id": "ef4e88f7",
    "papermill": {
     "duration": 0.07277,
     "end_time": "2025-04-03T11:21:06.468344",
     "exception": false,
     "start_time": "2025-04-03T11:21:06.395574",
     "status": "completed"
    },
    "tags": []
   },
   "source": [
    "**Для каждого тензора в функции `forward` подпишите в комментарии его размеры**"
   ]
  },
  {
   "cell_type": "code",
   "execution_count": 41,
   "id": "4007ef33",
   "metadata": {
    "ExecuteTime": {
     "end_time": "2024-03-30T21:53:49.270179Z",
     "start_time": "2024-03-30T21:53:49.265063Z"
    },
    "execution": {
     "iopub.execute_input": "2025-04-03T11:21:06.611507Z",
     "iopub.status.busy": "2025-04-03T11:21:06.611175Z",
     "iopub.status.idle": "2025-04-03T11:21:06.619458Z",
     "shell.execute_reply": "2025-04-03T11:21:06.618694Z"
    },
    "id": "4007ef33",
    "papermill": {
     "duration": 0.081212,
     "end_time": "2025-04-03T11:21:06.620820",
     "exception": false,
     "start_time": "2025-04-03T11:21:06.539608",
     "status": "completed"
    },
    "tags": []
   },
   "outputs": [],
   "source": [
    "class HandmadeLSTM(torch.nn.Module):\n",
    "    def __init__(self, input_size, hidden_size, dropout=0.0):\n",
    "        super().__init__()\n",
    "\n",
    "        self.dropout = dropout\n",
    "        self.input_size = input_size\n",
    "        self.hidden_size = hidden_size\n",
    "\n",
    "        self.input_weights = torch.nn.Linear(input_size, 4 * hidden_size)\n",
    "        self.hidden_weights = torch.nn.Linear(hidden_size, 4 * hidden_size)\n",
    "\n",
    "        self.reset_params()\n",
    "\n",
    "    def reset_params(self):\n",
    "        \"\"\"\n",
    "        Initialization as in Pytorch.\n",
    "        Do not forget to call this method!\n",
    "        https://pytorch.org/docs/stable/_modules/torch/nn/modules/rnn.html#LSTM\n",
    "        \"\"\"\n",
    "        stdv = 1.0 / np.sqrt(self.hidden_size)\n",
    "        for weight in self.parameters():\n",
    "            torch.nn.init.uniform_(weight, -stdv, stdv)\n",
    "\n",
    "    def forward(self, x):\n",
    "        # Use functions init_h0_c0 and gen_dropout_masks defined above\n",
    "        # YOUR CODE HERE\n",
    "        h_0, c_0 = init_h0_c0(x.shape[1], self.hidden_size, x)\n",
    "        masks_h = gen_dropout_mask(1, self.hidden_size, self.training, self.dropout, x)\n",
    "        masks_x = gen_dropout_mask(1, self.input_size, self.training, self.dropout, x)\n",
    "\n",
    "        # Implement recurrent logic to mimic torch.nn.LSTM\n",
    "        # Do not forget to apply dropout mask\n",
    "        # YOUR CODE HERE\n",
    "        h_t, c_t = h_0, c_0\n",
    "        output = []\n",
    "\n",
    "        for i in range(x.shape[0]):\n",
    "            x_masked = x[i] * masks_x\n",
    "            gates_h = self.hidden_weights(h_t)\n",
    "            gates_x = self.input_weights(x_masked)\n",
    "            gates = gates_h + gates_x\n",
    "\n",
    "            i = torch.sigmoid(gates[:, :self.hidden_size])\n",
    "            f = torch.sigmoid(gates[:, self.hidden_size:2 * self.hidden_size])\n",
    "            o = torch.sigmoid(gates[:, 2 * self.hidden_size:3 * self.hidden_size])\n",
    "            g = torch.tanh(gates[:, 3 * self.hidden_size:4 * self.hidden_size])\n",
    "\n",
    "            c_t = f * c_t + i * g * masks_h\n",
    "            h_t = o * torch.tanh(c_t)\n",
    "            output.append(h_t)\n",
    "        output = torch.stack(output, dim=0)\n",
    "        return output, (h_t, c_t)"
   ]
  },
  {
   "cell_type": "code",
   "execution_count": 42,
   "id": "9f147e73",
   "metadata": {
    "execution": {
     "iopub.execute_input": "2025-04-03T11:21:06.763523Z",
     "iopub.status.busy": "2025-04-03T11:21:06.763192Z",
     "iopub.status.idle": "2025-04-03T11:21:06.772579Z",
     "shell.execute_reply": "2025-04-03T11:21:06.771725Z"
    },
    "id": "9f147e73",
    "papermill": {
     "duration": 0.081917,
     "end_time": "2025-04-03T11:21:06.773880",
     "exception": false,
     "start_time": "2025-04-03T11:21:06.691963",
     "status": "completed"
    },
    "tags": []
   },
   "outputs": [],
   "source": [
    "layer = HandmadeLSTM(32, 64, dropout=None)\n",
    "dummy_input = torch.ones((10, 16, 32))\n",
    "\n",
    "out = layer(dummy_input)\n",
    "\n",
    "assert out[0].shape == (10, 16, 64)\n",
    "assert out[1][0].shape == (16, 64)\n",
    "assert out[1][1].shape == (16, 64)"
   ]
  },
  {
   "cell_type": "markdown",
   "id": "eda2805b",
   "metadata": {
    "id": "eda2805b",
    "papermill": {
     "duration": 0.071355,
     "end_time": "2025-04-03T11:21:06.922685",
     "exception": false,
     "start_time": "2025-04-03T11:21:06.851330",
     "status": "completed"
    },
    "tags": []
   },
   "source": [
    "Протестируйте вашу реализацию без дропаута (проконтролируйте качество и сравните время обучения с временем обучения `torch.nn.LSTM` и `RNNLayer`), а также с `dropout=0.25`. Сравните качество модели с таким дропаутом с качеством модели с дропаутом Гала и Гарамани."
   ]
  },
  {
   "cell_type": "markdown",
   "id": "a69fb188",
   "metadata": {
    "id": "a69fb188",
    "papermill": {
     "duration": 0.078037,
     "end_time": "2025-04-03T11:21:07.090412",
     "exception": false,
     "start_time": "2025-04-03T11:21:07.012375",
     "status": "completed"
    },
    "tags": []
   },
   "source": [
    "**Сохраните все метрики и время работы модели. Это потребуется в конце первой части для построения графиков обучения и сравнения времени работы для всех моделей в этой секции**\n",
    "\n",
    "**Возможно стоит сохранить результаты в виде файлов и скачать их**"
   ]
  },
  {
   "cell_type": "code",
   "execution_count": null,
   "id": "8bd6c0d7",
   "metadata": {
    "execution": {
     "iopub.execute_input": "2025-04-03T11:21:07.231905Z",
     "iopub.status.busy": "2025-04-03T11:21:07.231590Z",
     "iopub.status.idle": "2025-04-03T11:48:33.790515Z",
     "shell.execute_reply": "2025-04-03T11:48:33.789673Z"
    },
    "id": "8bd6c0d7",
    "outputId": "7aef2639-c1e7-49e5-c9eb-85f3c42aba20",
    "papermill": {
     "duration": 1646.704816,
     "end_time": "2025-04-03T11:48:33.865797",
     "exception": false,
     "start_time": "2025-04-03T11:21:07.160981",
     "status": "completed"
    },
    "tags": []
   },
   "outputs": [
    {
     "name": "stdout",
     "output_type": "stream",
     "text": [
      "Epoch: 1/15. Loss (Train/Test): 1.990/1.994. Accuracy (Train/Test): 0.240/0.234\n",
      "Epoch: 2/15. Loss (Train/Test): 1.671/1.720. Accuracy (Train/Test): 0.360/0.347\n",
      "Epoch: 3/15. Loss (Train/Test): 1.558/1.645. Accuracy (Train/Test): 0.393/0.368\n",
      "Epoch: 4/15. Loss (Train/Test): 1.510/1.614. Accuracy (Train/Test): 0.411/0.379\n",
      "Epoch: 5/15. Loss (Train/Test): 1.451/1.614. Accuracy (Train/Test): 0.432/0.385\n",
      "Epoch: 6/15. Loss (Train/Test): 1.377/1.586. Accuracy (Train/Test): 0.458/0.389\n",
      "Epoch: 7/15. Loss (Train/Test): 1.307/1.577. Accuracy (Train/Test): 0.485/0.394\n",
      "Epoch: 8/15. Loss (Train/Test): 1.261/1.597. Accuracy (Train/Test): 0.507/0.386\n",
      "Epoch: 9/15. Loss (Train/Test): 1.199/1.612. Accuracy (Train/Test): 0.530/0.389\n",
      "Epoch: 10/15. Loss (Train/Test): 1.147/1.659. Accuracy (Train/Test): 0.553/0.382\n",
      "Epoch: 11/15. Loss (Train/Test): 1.051/1.699. Accuracy (Train/Test): 0.598/0.377\n",
      "Epoch: 12/15. Loss (Train/Test): 0.977/1.773. Accuracy (Train/Test): 0.634/0.374\n",
      "Epoch: 13/15. Loss (Train/Test): 0.899/1.888. Accuracy (Train/Test): 0.665/0.367\n",
      "Epoch: 14/15. Loss (Train/Test): 0.813/1.980. Accuracy (Train/Test): 0.710/0.357\n",
      "Epoch: 15/15. Loss (Train/Test): 0.740/2.042. Accuracy (Train/Test): 0.738/0.360\n"
     ]
    }
   ],
   "source": [
    "set_global_seed(42)\n",
    "\n",
    "# YOUR CODE HERE\n",
    "model = RNNClassifier(\n",
    "    embedding_dim=embedding_dim, hidden_dim=hidden_dim, output_size=10, tokenizer=tokenizer,\n",
    "    rec_layer=HandmadeLSTM, dropout=None\n",
    ").to(device)\n",
    "\n",
    "loss_fn = torch.nn.CrossEntropyLoss(reduction='mean')\n",
    "optimizer = torch.optim.Adam(model.parameters(), lr=learning_rate)\n",
    "\n",
    "handmade_check_res = train(\n",
    "    train_dataloader, test_dataloader, model, loss_fn, optimizer, device, num_epochs\n",
    ")\n",
    "torch.save(handmade_check_res, 'handmade_check_res')"
   ]
  },
  {
   "cell_type": "code",
   "execution_count": null,
   "id": "c2feb2a9",
   "metadata": {
    "execution": {
     "iopub.execute_input": "2025-04-03T11:48:34.005704Z",
     "iopub.status.busy": "2025-04-03T11:48:34.005421Z",
     "iopub.status.idle": "2025-04-03T11:48:34.010070Z",
     "shell.execute_reply": "2025-04-03T11:48:34.009282Z"
    },
    "id": "c2feb2a9",
    "outputId": "cb9ee83b-0d63-4157-a297-a5e9e9ca82ae",
    "papermill": {
     "duration": 0.075839,
     "end_time": "2025-04-03T11:48:34.011192",
     "exception": false,
     "start_time": "2025-04-03T11:48:33.935353",
     "status": "completed"
    },
    "tags": []
   },
   "outputs": [
    {
     "name": "stdout",
     "output_type": "stream",
     "text": [
      "Training time for pure LSTM: 108.634 s\n",
      "Training time for custom LSTM: 629.048 s\n",
      "Training time for custom LSTM with hacks: 117.966 s\n",
      "Training time for handmade LSTM: 1646.543 s\n"
     ]
    }
   ],
   "source": [
    "print(f\"Training time for pure LSTM: {base_res['train_time']:.3f} s\")\n",
    "print(f\"Training time for custom LSTM: {var_drop_check_res['train_time']:.3f} s\")\n",
    "print(f\"Training time for custom LSTM with hacks: {fast_var_drop_check_res['train_time']:.3f} s\")\n",
    "print(f\"Training time for handmade LSTM: {handmade_check_res['train_time']:.3f} s\")"
   ]
  },
  {
   "cell_type": "code",
   "execution_count": null,
   "id": "c3624a5a",
   "metadata": {
    "execution": {
     "iopub.execute_input": "2025-04-03T11:48:34.150276Z",
     "iopub.status.busy": "2025-04-03T11:48:34.150017Z",
     "iopub.status.idle": "2025-04-03T11:48:34.156919Z",
     "shell.execute_reply": "2025-04-03T11:48:34.155932Z"
    },
    "id": "c3624a5a",
    "outputId": "44e7c7fa-3a8a-449a-8e92-61cedd47df23",
    "papermill": {
     "duration": 0.077784,
     "end_time": "2025-04-03T11:48:34.158133",
     "exception": false,
     "start_time": "2025-04-03T11:48:34.080349",
     "status": "completed"
    },
    "tags": []
   },
   "outputs": [
    {
     "name": "stdout",
     "output_type": "stream",
     "text": [
      "Best accuracy of pure LSTM (GG): 0.402\n",
      "Best accuracy of custom LSTM: 0.398\n",
      "Best accuracy of fast custom LSTM: 0.402\n",
      "Best accuracy of handmade LSTM: 0.394\n"
     ]
    }
   ],
   "source": [
    "print(f\"Best accuracy of pure LSTM (GG): {float(max(base_res['test_accuracies'])):.3f}\")\n",
    "print(f\"Best accuracy of custom LSTM: {float(max(var_drop_check_res['test_accuracies'])):.3f}\")\n",
    "print(f\"Best accuracy of fast custom LSTM: {float(max(fast_var_drop_check_res['test_accuracies'])):.3f}\")\n",
    "print(f\"Best accuracy of handmade LSTM: {float(max(handmade_check_res['test_accuracies'])):.3f}\")"
   ]
  },
  {
   "cell_type": "markdown",
   "id": "eacca51d",
   "metadata": {
    "id": "eacca51d",
    "papermill": {
     "duration": 0.069599,
     "end_time": "2025-04-03T11:48:34.342159",
     "exception": false,
     "start_time": "2025-04-03T11:48:34.272560",
     "status": "completed"
    },
    "tags": []
   },
   "source": [
    "---\n",
    "\n",
    "**Примечание:** у нас получилось качество ниже, чем у предыдущих моделей, так как реализация не предполагала bias"
   ]
  },
  {
   "cell_type": "code",
   "execution_count": null,
   "id": "ddeec434",
   "metadata": {
    "execution": {
     "iopub.execute_input": "2025-04-03T11:48:34.481683Z",
     "iopub.status.busy": "2025-04-03T11:48:34.481368Z",
     "iopub.status.idle": "2025-04-03T12:15:44.367514Z",
     "shell.execute_reply": "2025-04-03T12:15:44.366579Z"
    },
    "id": "ddeec434",
    "outputId": "ef2d0cc0-1f8b-46cc-d3d2-7c972c7b1f20",
    "papermill": {
     "duration": 1630.028003,
     "end_time": "2025-04-03T12:15:44.438955",
     "exception": false,
     "start_time": "2025-04-03T11:48:34.410952",
     "status": "completed"
    },
    "tags": []
   },
   "outputs": [
    {
     "name": "stdout",
     "output_type": "stream",
     "text": [
      "Epoch: 1/15. Loss (Train/Test): 2.014/2.015. Accuracy (Train/Test): 0.226/0.223\n",
      "Epoch: 2/15. Loss (Train/Test): 1.918/1.924. Accuracy (Train/Test): 0.275/0.283\n",
      "Epoch: 3/15. Loss (Train/Test): 1.793/1.806. Accuracy (Train/Test): 0.333/0.337\n",
      "Epoch: 4/15. Loss (Train/Test): 1.627/1.662. Accuracy (Train/Test): 0.372/0.366\n",
      "Epoch: 5/15. Loss (Train/Test): 1.591/1.647. Accuracy (Train/Test): 0.375/0.358\n",
      "Epoch: 6/15. Loss (Train/Test): 1.552/1.620. Accuracy (Train/Test): 0.393/0.369\n",
      "Epoch: 7/15. Loss (Train/Test): 1.522/1.597. Accuracy (Train/Test): 0.400/0.383\n",
      "Epoch: 8/15. Loss (Train/Test): 1.484/1.568. Accuracy (Train/Test): 0.415/0.391\n",
      "Epoch: 9/15. Loss (Train/Test): 1.448/1.549. Accuracy (Train/Test): 0.426/0.398\n",
      "Epoch: 10/15. Loss (Train/Test): 1.441/1.553. Accuracy (Train/Test): 0.428/0.399\n",
      "Epoch: 11/15. Loss (Train/Test): 1.402/1.538. Accuracy (Train/Test): 0.444/0.401\n",
      "Epoch: 12/15. Loss (Train/Test): 1.381/1.520. Accuracy (Train/Test): 0.451/0.406\n",
      "Epoch: 13/15. Loss (Train/Test): 1.362/1.530. Accuracy (Train/Test): 0.455/0.407\n",
      "Epoch: 14/15. Loss (Train/Test): 1.367/1.552. Accuracy (Train/Test): 0.458/0.406\n",
      "Epoch: 15/15. Loss (Train/Test): 1.332/1.515. Accuracy (Train/Test): 0.470/0.409\n"
     ]
    }
   ],
   "source": [
    "set_global_seed(42)\n",
    "\n",
    "# YOUR CODE HERE\n",
    "model = RNNClassifier(\n",
    "    embedding_dim=embedding_dim, hidden_dim=hidden_dim, output_size=10, tokenizer=tokenizer,\n",
    "    rec_layer=HandmadeLSTM, dropout=0.25\n",
    ").to(device)\n",
    "\n",
    "loss_fn = torch.nn.CrossEntropyLoss(reduction='mean')\n",
    "optimizer = torch.optim.Adam(model.parameters(), lr=learning_rate)\n",
    "\n",
    "handmade_res = train(\n",
    "    train_dataloader, test_dataloader, model, loss_fn, optimizer, device, num_epochs\n",
    ")\n",
    "torch.save(handmade_res, 'handmade_res')"
   ]
  },
  {
   "cell_type": "code",
   "execution_count": null,
   "id": "f4db08ca",
   "metadata": {
    "execution": {
     "iopub.execute_input": "2025-04-03T12:15:44.579415Z",
     "iopub.status.busy": "2025-04-03T12:15:44.579121Z",
     "iopub.status.idle": "2025-04-03T12:15:44.584851Z",
     "shell.execute_reply": "2025-04-03T12:15:44.584186Z"
    },
    "id": "f4db08ca",
    "outputId": "71f83831-bb4a-4edb-997c-f3e4e34656c2",
    "papermill": {
     "duration": 0.07764,
     "end_time": "2025-04-03T12:15:44.586062",
     "exception": false,
     "start_time": "2025-04-03T12:15:44.508422",
     "status": "completed"
    },
    "tags": []
   },
   "outputs": [
    {
     "name": "stdout",
     "output_type": "stream",
     "text": [
      "Training time for pure LSTM: 108.634 s\n",
      "Training time for LSTM (GG) without dropout: 629.048 s\n",
      "Training time for LSTM (GG) with dropout: 646.167 s\n",
      "Training time for LSTM (GG) without dropout with hacks: 117.966 s\n",
      "Training time for LSTM (GG) with dropout with hacks: 117.610 s\n",
      "Training time for LSTM (Semeniuta) without dropout: 1646.543 s\n",
      "Training time for LSTM (Semeniuta) with dropout: 1629.871 s\n"
     ]
    }
   ],
   "source": [
    "print(f\"Training time for pure LSTM: {base_res['train_time']:.3f} s\")\n",
    "print(f\"Training time for LSTM (GG) without dropout: {var_drop_check_res['train_time']:.3f} s\")\n",
    "print(f\"Training time for LSTM (GG) with dropout: {var_drop_res['train_time']:.3f} s\")\n",
    "print(f\"Training time for LSTM (GG) without dropout with hacks: {fast_var_drop_check_res['train_time']:.3f} s\")\n",
    "print(f\"Training time for LSTM (GG) with dropout with hacks: {fast_var_drop_res['train_time']:.3f} s\")\n",
    "print(f\"Training time for LSTM (Semeniuta) without dropout: {handmade_check_res['train_time']:.3f} s\")\n",
    "print(f\"Training time for LSTM (Semeniuta) with dropout: {handmade_res['train_time']:.3f} s\")"
   ]
  },
  {
   "cell_type": "code",
   "execution_count": null,
   "id": "8fa9c8fb",
   "metadata": {
    "execution": {
     "iopub.execute_input": "2025-04-03T12:15:44.772933Z",
     "iopub.status.busy": "2025-04-03T12:15:44.772638Z",
     "iopub.status.idle": "2025-04-03T12:15:44.778304Z",
     "shell.execute_reply": "2025-04-03T12:15:44.777481Z"
    },
    "id": "8fa9c8fb",
    "outputId": "627505fb-3f5a-4a8e-95fb-de90739e0831",
    "papermill": {
     "duration": 0.080096,
     "end_time": "2025-04-03T12:15:44.779545",
     "exception": false,
     "start_time": "2025-04-03T12:15:44.699449",
     "status": "completed"
    },
    "tags": []
   },
   "outputs": [
    {
     "name": "stdout",
     "output_type": "stream",
     "text": [
      "Best accuracy of LSTM (GG) with dropout: 0.413\n",
      "Best accuracy of LSTM (Semeniuta) with dropout: 0.409\n"
     ]
    }
   ],
   "source": [
    "print(f\"Best accuracy of LSTM (GG) with dropout: {float(max(var_drop_res['test_accuracies'])):.3f}\")\n",
    "print(f\"Best accuracy of LSTM (Semeniuta) with dropout: {float(max(handmade_res['test_accuracies'])):.3f}\")"
   ]
  },
  {
   "cell_type": "markdown",
   "id": "e71e103d-c7e4-45f2-b144-82ce378efb26",
   "metadata": {
    "id": "e71e103d-c7e4-45f2-b144-82ce378efb26"
   },
   "source": [
    "---\n",
    "\n",
    "**Вывод:** С реализацией дропаута Семиуты качество получилось ниже, что можно опять же связать с отсутствием `bias` при вычислении гейтов в нашей самописной LSTM."
   ]
  },
  {
   "cell_type": "markdown",
   "id": "2a861b60",
   "metadata": {
    "ExecuteTime": {
     "end_time": "2021-04-01T23:33:28.831346Z",
     "start_time": "2021-04-01T23:33:28.810453Z"
    },
    "id": "2a861b60",
    "papermill": {
     "duration": 0.068695,
     "end_time": "2025-04-03T12:15:44.920051",
     "exception": false,
     "start_time": "2025-04-03T12:15:44.851356",
     "status": "completed"
    },
    "tags": []
   },
   "source": [
    "## `Сравнение всех предложенных моделей (1 балл)`"
   ]
  },
  {
   "cell_type": "markdown",
   "id": "2de62f5c",
   "metadata": {
    "ExecuteTime": {
     "end_time": "2021-04-01T23:48:05.361634Z",
     "start_time": "2021-04-01T23:48:05.333901Z"
    },
    "id": "2de62f5c",
    "papermill": {
     "duration": 0.068844,
     "end_time": "2025-04-03T12:15:45.057948",
     "exception": false,
     "start_time": "2025-04-03T12:15:44.989104",
     "status": "completed"
    },
    "tags": []
   },
   "source": [
    "Используя замеры времени заполните табличку с временем работы четырёх реализованных моделей в следующей ячейке:"
   ]
  },
  {
   "cell_type": "markdown",
   "id": "f4c979cc",
   "metadata": {
    "id": "f4c979cc",
    "papermill": {
     "duration": 0.069246,
     "end_time": "2025-04-03T12:15:45.196359",
     "exception": false,
     "start_time": "2025-04-03T12:15:45.127113",
     "status": "completed"
    },
    "tags": []
   },
   "source": [
    "| torch.nn.LSTM | RNNLayer | FastRNNLayer | HandmadeLSTM |\n",
    "|---------------|----------|--------------|--------------|\n",
    "| 1m 49s        | 10m 29s  | 1m 58s       | 27m 27s      |"
   ]
  },
  {
   "cell_type": "code",
   "execution_count": null,
   "id": "43cb4a94",
   "metadata": {
    "ExecuteTime": {
     "end_time": "2024-03-30T22:43:31.566217Z",
     "start_time": "2024-03-30T22:43:31.389958Z"
    },
    "execution": {
     "iopub.execute_input": "2025-04-03T12:15:45.334649Z",
     "iopub.status.busy": "2025-04-03T12:15:45.334370Z",
     "iopub.status.idle": "2025-04-03T12:15:45.337619Z",
     "shell.execute_reply": "2025-04-03T12:15:45.336968Z"
    },
    "id": "43cb4a94",
    "papermill": {
     "duration": 0.07346,
     "end_time": "2025-04-03T12:15:45.338807",
     "exception": false,
     "start_time": "2025-04-03T12:15:45.265347",
     "status": "completed"
    },
    "tags": []
   },
   "outputs": [],
   "source": [
    "import matplotlib.pyplot as plt"
   ]
  },
  {
   "cell_type": "markdown",
   "id": "e5381a19",
   "metadata": {
    "id": "e5381a19",
    "papermill": {
     "duration": 0.069546,
     "end_time": "2025-04-03T12:15:45.476712",
     "exception": false,
     "start_time": "2025-04-03T12:15:45.407166",
     "status": "completed"
    },
    "tags": []
   },
   "source": [
    "Крайне желательно рисовать графики в векторном формате.\n",
    "\n",
    "Если по каким-то причинам, отрисовка не будет работать, закомментируйте следующую ячейку."
   ]
  },
  {
   "cell_type": "code",
   "execution_count": null,
   "id": "fa28de41",
   "metadata": {
    "ExecuteTime": {
     "end_time": "2024-03-30T22:43:31.573342Z",
     "start_time": "2024-03-30T22:43:31.567690Z"
    },
    "execution": {
     "iopub.execute_input": "2025-04-03T12:15:45.616996Z",
     "iopub.status.busy": "2025-04-03T12:15:45.616717Z",
     "iopub.status.idle": "2025-04-03T12:15:45.621787Z",
     "shell.execute_reply": "2025-04-03T12:15:45.620992Z"
    },
    "id": "fa28de41",
    "papermill": {
     "duration": 0.07676,
     "end_time": "2025-04-03T12:15:45.623102",
     "exception": false,
     "start_time": "2025-04-03T12:15:45.546342",
     "status": "completed"
    },
    "tags": []
   },
   "outputs": [],
   "source": [
    "%matplotlib inline\n",
    "\n",
    "import matplotlib_inline\n",
    "from IPython.display import set_matplotlib_formats\n",
    "import matplotlib.pyplot as plt\n",
    "\n",
    "matplotlib_inline.backend_inline.set_matplotlib_formats('pdf', 'svg')"
   ]
  },
  {
   "cell_type": "markdown",
   "id": "e9a85560",
   "metadata": {
    "id": "e9a85560",
    "papermill": {
     "duration": 0.068799,
     "end_time": "2025-04-03T12:15:45.760919",
     "exception": false,
     "start_time": "2025-04-03T12:15:45.692120",
     "status": "completed"
    },
    "tags": []
   },
   "source": [
    "Нарисуйте два графика — функция потерь и качество на обучающей и тестовой выборке для всех 7 моделей обученных выше."
   ]
  },
  {
   "cell_type": "code",
   "execution_count": null,
   "id": "63b49a6d",
   "metadata": {
    "ExecuteTime": {
     "end_time": "2024-03-30T22:43:32.290598Z",
     "start_time": "2024-03-30T22:43:31.575031Z"
    },
    "execution": {
     "iopub.execute_input": "2025-04-03T12:15:45.902170Z",
     "iopub.status.busy": "2025-04-03T12:15:45.901886Z",
     "iopub.status.idle": "2025-04-03T12:15:48.122694Z",
     "shell.execute_reply": "2025-04-03T12:15:48.121863Z"
    },
    "id": "63b49a6d",
    "outputId": "687f2972-4e35-4152-8950-fd90edd339e3",
    "papermill": {
     "duration": 2.29569,
     "end_time": "2025-04-03T12:15:48.125045",
     "exception": false,
     "start_time": "2025-04-03T12:15:45.829355",
     "status": "completed"
    },
    "tags": []
   },
   "outputs": [
    {
     "data": {
      "application/pdf": "[encoded data removed]",
      "image/svg+xml": [
       "<?xml version=\"1.0\" encoding=\"utf-8\" standalone=\"no\"?>\n",
       "<!DOCTYPE svg PUBLIC \"-//W3C//DTD SVG 1.1//EN\"\n",
       "  \"http://www.w3.org/Graphics/SVG/1.1/DTD/svg11.dtd\">\n",
       "<svg xmlns:xlink=\"http://www.w3.org/1999/xlink\" width=\"712.773125pt\" height=\"711.034375pt\" viewBox=\"0 0 712.773125 711.034375\" xmlns=\"http://www.w3.org/2000/svg\" version=\"1.1\">\n",
       " <metadata>\n",
       "  <rdf:RDF xmlns:dc=\"http://purl.org/dc/elements/1.1/\" xmlns:cc=\"http://creativecommons.org/ns#\" xmlns:rdf=\"http://www.w3.org/1999/02/22-rdf-syntax-ns#\">\n",
       "   <cc:Work>\n",
       "    <dc:type rdf:resource=\"http://purl.org/dc/dcmitype/StillImage\"/>\n",
       "    <dc:date>2025-04-03T12:15:47.490730</dc:date>\n",
       "    <dc:format>image/svg+xml</dc:format>\n",
       "    <dc:creator>\n",
       "     <cc:Agent>\n",
       "      <dc:title>Matplotlib v3.7.5, https://matplotlib.org/</dc:title>\n",
       "     </cc:Agent>\n",
       "    </dc:creator>\n",
       "   </cc:Work>\n",
       "  </rdf:RDF>\n",
       " </metadata>\n",
       " <defs>\n",
       "  <style type=\"text/css\">*{stroke-linejoin: round; stroke-linecap: butt}</style>\n",
       " </defs>\n",
       " <g id=\"figure_1\">\n",
       "  <g id=\"patch_1\">\n",
       "   <path d=\"M 0 711.034375 \n",
       "L 712.773125 711.034375 \n",
       "L 712.773125 0 \n",
       "L 0 0 \n",
       "z\n",
       "\" style=\"fill: #ffffff\"/>\n",
       "  </g>\n",
       "  <g id=\"axes_1\">\n",
       "   <g id=\"patch_2\">\n",
       "    <path d=\"M 30.103125 318.878125 \n",
       "L 705.573125 318.878125 \n",
       "L 705.573125 22.318125 \n",
       "L 30.103125 22.318125 \n",
       "z\n",
       "\" style=\"fill: #ffffff\"/>\n",
       "   </g>\n",
       "   <g id=\"matplotlib.axis_1\">\n",
       "    <g id=\"xtick_1\">\n",
       "     <g id=\"line2d_1\">\n",
       "      <path d=\"M 60.806307 318.878125 \n",
       "L 60.806307 22.318125 \n",
       "\" clip-path=\"url(#p530d9799bc)\" style=\"fill: none; stroke: #b0b0b0; stroke-width: 0.8; stroke-linecap: square\"/>\n",
       "     </g>\n",
       "     <g id=\"line2d_2\">\n",
       "      <defs>\n",
       "       <path id=\"m83a443f03c\" d=\"M 0 0 \n",
       "L 0 3.5 \n",
       "\" style=\"stroke: #000000; stroke-width: 0.8\"/>\n",
       "      </defs>\n",
       "      <g>\n",
       "       <use xlink:href=\"#m83a443f03c\" x=\"60.806307\" y=\"318.878125\" style=\"stroke: #000000; stroke-width: 0.8\"/>\n",
       "      </g>\n",
       "     </g>\n",
       "     <g id=\"text_1\">\n",
       "      <!-- 0 -->\n",
       "      <g transform=\"translate(57.625057 333.476562) scale(0.1 -0.1)\">\n",
       "       <defs>\n",
       "        <path id=\"DejaVuSans-30\" d=\"M 2034 4250 \n",
       "Q 1547 4250 1301 3770 \n",
       "Q 1056 3291 1056 2328 \n",
       "Q 1056 1369 1301 889 \n",
       "Q 1547 409 2034 409 \n",
       "Q 2525 409 2770 889 \n",
       "Q 3016 1369 3016 2328 \n",
       "Q 3016 3291 2770 3770 \n",
       "Q 2525 4250 2034 4250 \n",
       "z\n",
       "M 2034 4750 \n",
       "Q 2819 4750 3233 4129 \n",
       "Q 3647 3509 3647 2328 \n",
       "Q 3647 1150 3233 529 \n",
       "Q 2819 -91 2034 -91 \n",
       "Q 1250 -91 836 529 \n",
       "Q 422 1150 422 2328 \n",
       "Q 422 3509 836 4129 \n",
       "Q 1250 4750 2034 4750 \n",
       "z\n",
       "\" transform=\"scale(0.015625)\"/>\n",
       "       </defs>\n",
       "       <use xlink:href=\"#DejaVuSans-30\"/>\n",
       "      </g>\n",
       "     </g>\n",
       "    </g>\n",
       "    <g id=\"xtick_2\">\n",
       "     <g id=\"line2d_3\">\n",
       "      <path d=\"M 148.529683 318.878125 \n",
       "L 148.529683 22.318125 \n",
       "\" clip-path=\"url(#p530d9799bc)\" style=\"fill: none; stroke: #b0b0b0; stroke-width: 0.8; stroke-linecap: square\"/>\n",
       "     </g>\n",
       "     <g id=\"line2d_4\">\n",
       "      <g>\n",
       "       <use xlink:href=\"#m83a443f03c\" x=\"148.529683\" y=\"318.878125\" style=\"stroke: #000000; stroke-width: 0.8\"/>\n",
       "      </g>\n",
       "     </g>\n",
       "     <g id=\"text_2\">\n",
       "      <!-- 2 -->\n",
       "      <g transform=\"translate(145.348433 333.476562) scale(0.1 -0.1)\">\n",
       "       <defs>\n",
       "        <path id=\"DejaVuSans-32\" d=\"M 1228 531 \n",
       "L 3431 531 \n",
       "L 3431 0 \n",
       "L 469 0 \n",
       "L 469 531 \n",
       "Q 828 903 1448 1529 \n",
       "Q 2069 2156 2228 2338 \n",
       "Q 2531 2678 2651 2914 \n",
       "Q 2772 3150 2772 3378 \n",
       "Q 2772 3750 2511 3984 \n",
       "Q 2250 4219 1831 4219 \n",
       "Q 1534 4219 1204 4116 \n",
       "Q 875 4013 500 3803 \n",
       "L 500 4441 \n",
       "Q 881 4594 1212 4672 \n",
       "Q 1544 4750 1819 4750 \n",
       "Q 2544 4750 2975 4387 \n",
       "Q 3406 4025 3406 3419 \n",
       "Q 3406 3131 3298 2873 \n",
       "Q 3191 2616 2906 2266 \n",
       "Q 2828 2175 2409 1742 \n",
       "Q 1991 1309 1228 531 \n",
       "z\n",
       "\" transform=\"scale(0.015625)\"/>\n",
       "       </defs>\n",
       "       <use xlink:href=\"#DejaVuSans-32\"/>\n",
       "      </g>\n",
       "     </g>\n",
       "    </g>\n",
       "    <g id=\"xtick_3\">\n",
       "     <g id=\"line2d_5\">\n",
       "      <path d=\"M 236.25306 318.878125 \n",
       "L 236.25306 22.318125 \n",
       "\" clip-path=\"url(#p530d9799bc)\" style=\"fill: none; stroke: #b0b0b0; stroke-width: 0.8; stroke-linecap: square\"/>\n",
       "     </g>\n",
       "     <g id=\"line2d_6\">\n",
       "      <g>\n",
       "       <use xlink:href=\"#m83a443f03c\" x=\"236.25306\" y=\"318.878125\" style=\"stroke: #000000; stroke-width: 0.8\"/>\n",
       "      </g>\n",
       "     </g>\n",
       "     <g id=\"text_3\">\n",
       "      <!-- 4 -->\n",
       "      <g transform=\"translate(233.07181 333.476562) scale(0.1 -0.1)\">\n",
       "       <defs>\n",
       "        <path id=\"DejaVuSans-34\" d=\"M 2419 4116 \n",
       "L 825 1625 \n",
       "L 2419 1625 \n",
       "L 2419 4116 \n",
       "z\n",
       "M 2253 4666 \n",
       "L 3047 4666 \n",
       "L 3047 1625 \n",
       "L 3713 1625 \n",
       "L 3713 1100 \n",
       "L 3047 1100 \n",
       "L 3047 0 \n",
       "L 2419 0 \n",
       "L 2419 1100 \n",
       "L 313 1100 \n",
       "L 313 1709 \n",
       "L 2253 4666 \n",
       "z\n",
       "\" transform=\"scale(0.015625)\"/>\n",
       "       </defs>\n",
       "       <use xlink:href=\"#DejaVuSans-34\"/>\n",
       "      </g>\n",
       "     </g>\n",
       "    </g>\n",
       "    <g id=\"xtick_4\">\n",
       "     <g id=\"line2d_7\">\n",
       "      <path d=\"M 323.976437 318.878125 \n",
       "L 323.976437 22.318125 \n",
       "\" clip-path=\"url(#p530d9799bc)\" style=\"fill: none; stroke: #b0b0b0; stroke-width: 0.8; stroke-linecap: square\"/>\n",
       "     </g>\n",
       "     <g id=\"line2d_8\">\n",
       "      <g>\n",
       "       <use xlink:href=\"#m83a443f03c\" x=\"323.976437\" y=\"318.878125\" style=\"stroke: #000000; stroke-width: 0.8\"/>\n",
       "      </g>\n",
       "     </g>\n",
       "     <g id=\"text_4\">\n",
       "      <!-- 6 -->\n",
       "      <g transform=\"translate(320.795187 333.476562) scale(0.1 -0.1)\">\n",
       "       <defs>\n",
       "        <path id=\"DejaVuSans-36\" d=\"M 2113 2584 \n",
       "Q 1688 2584 1439 2293 \n",
       "Q 1191 2003 1191 1497 \n",
       "Q 1191 994 1439 701 \n",
       "Q 1688 409 2113 409 \n",
       "Q 2538 409 2786 701 \n",
       "Q 3034 994 3034 1497 \n",
       "Q 3034 2003 2786 2293 \n",
       "Q 2538 2584 2113 2584 \n",
       "z\n",
       "M 3366 4563 \n",
       "L 3366 3988 \n",
       "Q 3128 4100 2886 4159 \n",
       "Q 2644 4219 2406 4219 \n",
       "Q 1781 4219 1451 3797 \n",
       "Q 1122 3375 1075 2522 \n",
       "Q 1259 2794 1537 2939 \n",
       "Q 1816 3084 2150 3084 \n",
       "Q 2853 3084 3261 2657 \n",
       "Q 3669 2231 3669 1497 \n",
       "Q 3669 778 3244 343 \n",
       "Q 2819 -91 2113 -91 \n",
       "Q 1303 -91 875 529 \n",
       "Q 447 1150 447 2328 \n",
       "Q 447 3434 972 4092 \n",
       "Q 1497 4750 2381 4750 \n",
       "Q 2619 4750 2861 4703 \n",
       "Q 3103 4656 3366 4563 \n",
       "z\n",
       "\" transform=\"scale(0.015625)\"/>\n",
       "       </defs>\n",
       "       <use xlink:href=\"#DejaVuSans-36\"/>\n",
       "      </g>\n",
       "     </g>\n",
       "    </g>\n",
       "    <g id=\"xtick_5\">\n",
       "     <g id=\"line2d_9\">\n",
       "      <path d=\"M 411.699813 318.878125 \n",
       "L 411.699813 22.318125 \n",
       "\" clip-path=\"url(#p530d9799bc)\" style=\"fill: none; stroke: #b0b0b0; stroke-width: 0.8; stroke-linecap: square\"/>\n",
       "     </g>\n",
       "     <g id=\"line2d_10\">\n",
       "      <g>\n",
       "       <use xlink:href=\"#m83a443f03c\" x=\"411.699813\" y=\"318.878125\" style=\"stroke: #000000; stroke-width: 0.8\"/>\n",
       "      </g>\n",
       "     </g>\n",
       "     <g id=\"text_5\">\n",
       "      <!-- 8 -->\n",
       "      <g transform=\"translate(408.518563 333.476562) scale(0.1 -0.1)\">\n",
       "       <defs>\n",
       "        <path id=\"DejaVuSans-38\" d=\"M 2034 2216 \n",
       "Q 1584 2216 1326 1975 \n",
       "Q 1069 1734 1069 1313 \n",
       "Q 1069 891 1326 650 \n",
       "Q 1584 409 2034 409 \n",
       "Q 2484 409 2743 651 \n",
       "Q 3003 894 3003 1313 \n",
       "Q 3003 1734 2745 1975 \n",
       "Q 2488 2216 2034 2216 \n",
       "z\n",
       "M 1403 2484 \n",
       "Q 997 2584 770 2862 \n",
       "Q 544 3141 544 3541 \n",
       "Q 544 4100 942 4425 \n",
       "Q 1341 4750 2034 4750 \n",
       "Q 2731 4750 3128 4425 \n",
       "Q 3525 4100 3525 3541 \n",
       "Q 3525 3141 3298 2862 \n",
       "Q 3072 2584 2669 2484 \n",
       "Q 3125 2378 3379 2068 \n",
       "Q 3634 1759 3634 1313 \n",
       "Q 3634 634 3220 271 \n",
       "Q 2806 -91 2034 -91 \n",
       "Q 1263 -91 848 271 \n",
       "Q 434 634 434 1313 \n",
       "Q 434 1759 690 2068 \n",
       "Q 947 2378 1403 2484 \n",
       "z\n",
       "M 1172 3481 \n",
       "Q 1172 3119 1398 2916 \n",
       "Q 1625 2713 2034 2713 \n",
       "Q 2441 2713 2670 2916 \n",
       "Q 2900 3119 2900 3481 \n",
       "Q 2900 3844 2670 4047 \n",
       "Q 2441 4250 2034 4250 \n",
       "Q 1625 4250 1398 4047 \n",
       "Q 1172 3844 1172 3481 \n",
       "z\n",
       "\" transform=\"scale(0.015625)\"/>\n",
       "       </defs>\n",
       "       <use xlink:href=\"#DejaVuSans-38\"/>\n",
       "      </g>\n",
       "     </g>\n",
       "    </g>\n",
       "    <g id=\"xtick_6\">\n",
       "     <g id=\"line2d_11\">\n",
       "      <path d=\"M 499.42319 318.878125 \n",
       "L 499.42319 22.318125 \n",
       "\" clip-path=\"url(#p530d9799bc)\" style=\"fill: none; stroke: #b0b0b0; stroke-width: 0.8; stroke-linecap: square\"/>\n",
       "     </g>\n",
       "     <g id=\"line2d_12\">\n",
       "      <g>\n",
       "       <use xlink:href=\"#m83a443f03c\" x=\"499.42319\" y=\"318.878125\" style=\"stroke: #000000; stroke-width: 0.8\"/>\n",
       "      </g>\n",
       "     </g>\n",
       "     <g id=\"text_6\">\n",
       "      <!-- 10 -->\n",
       "      <g transform=\"translate(493.06069 333.476562) scale(0.1 -0.1)\">\n",
       "       <defs>\n",
       "        <path id=\"DejaVuSans-31\" d=\"M 794 531 \n",
       "L 1825 531 \n",
       "L 1825 4091 \n",
       "L 703 3866 \n",
       "L 703 4441 \n",
       "L 1819 4666 \n",
       "L 2450 4666 \n",
       "L 2450 531 \n",
       "L 3481 531 \n",
       "L 3481 0 \n",
       "L 794 0 \n",
       "L 794 531 \n",
       "z\n",
       "\" transform=\"scale(0.015625)\"/>\n",
       "       </defs>\n",
       "       <use xlink:href=\"#DejaVuSans-31\"/>\n",
       "       <use xlink:href=\"#DejaVuSans-30\" x=\"63.623047\"/>\n",
       "      </g>\n",
       "     </g>\n",
       "    </g>\n",
       "    <g id=\"xtick_7\">\n",
       "     <g id=\"line2d_13\">\n",
       "      <path d=\"M 587.146567 318.878125 \n",
       "L 587.146567 22.318125 \n",
       "\" clip-path=\"url(#p530d9799bc)\" style=\"fill: none; stroke: #b0b0b0; stroke-width: 0.8; stroke-linecap: square\"/>\n",
       "     </g>\n",
       "     <g id=\"line2d_14\">\n",
       "      <g>\n",
       "       <use xlink:href=\"#m83a443f03c\" x=\"587.146567\" y=\"318.878125\" style=\"stroke: #000000; stroke-width: 0.8\"/>\n",
       "      </g>\n",
       "     </g>\n",
       "     <g id=\"text_7\">\n",
       "      <!-- 12 -->\n",
       "      <g transform=\"translate(580.784067 333.476562) scale(0.1 -0.1)\">\n",
       "       <use xlink:href=\"#DejaVuSans-31\"/>\n",
       "       <use xlink:href=\"#DejaVuSans-32\" x=\"63.623047\"/>\n",
       "      </g>\n",
       "     </g>\n",
       "    </g>\n",
       "    <g id=\"xtick_8\">\n",
       "     <g id=\"line2d_15\">\n",
       "      <path d=\"M 674.869943 318.878125 \n",
       "L 674.869943 22.318125 \n",
       "\" clip-path=\"url(#p530d9799bc)\" style=\"fill: none; stroke: #b0b0b0; stroke-width: 0.8; stroke-linecap: square\"/>\n",
       "     </g>\n",
       "     <g id=\"line2d_16\">\n",
       "      <g>\n",
       "       <use xlink:href=\"#m83a443f03c\" x=\"674.869943\" y=\"318.878125\" style=\"stroke: #000000; stroke-width: 0.8\"/>\n",
       "      </g>\n",
       "     </g>\n",
       "     <g id=\"text_8\">\n",
       "      <!-- 14 -->\n",
       "      <g transform=\"translate(668.507443 333.476562) scale(0.1 -0.1)\">\n",
       "       <use xlink:href=\"#DejaVuSans-31\"/>\n",
       "       <use xlink:href=\"#DejaVuSans-34\" x=\"63.623047\"/>\n",
       "      </g>\n",
       "     </g>\n",
       "    </g>\n",
       "    <g id=\"text_9\">\n",
       "     <!-- Epoch -->\n",
       "     <g transform=\"translate(352.527187 347.154687) scale(0.1 -0.1)\">\n",
       "      <defs>\n",
       "       <path id=\"DejaVuSans-45\" d=\"M 628 4666 \n",
       "L 3578 4666 \n",
       "L 3578 4134 \n",
       "L 1259 4134 \n",
       "L 1259 2753 \n",
       "L 3481 2753 \n",
       "L 3481 2222 \n",
       "L 1259 2222 \n",
       "L 1259 531 \n",
       "L 3634 531 \n",
       "L 3634 0 \n",
       "L 628 0 \n",
       "L 628 4666 \n",
       "z\n",
       "\" transform=\"scale(0.015625)\"/>\n",
       "       <path id=\"DejaVuSans-70\" d=\"M 1159 525 \n",
       "L 1159 -1331 \n",
       "L 581 -1331 \n",
       "L 581 3500 \n",
       "L 1159 3500 \n",
       "L 1159 2969 \n",
       "Q 1341 3281 1617 3432 \n",
       "Q 1894 3584 2278 3584 \n",
       "Q 2916 3584 3314 3078 \n",
       "Q 3713 2572 3713 1747 \n",
       "Q 3713 922 3314 415 \n",
       "Q 2916 -91 2278 -91 \n",
       "Q 1894 -91 1617 61 \n",
       "Q 1341 213 1159 525 \n",
       "z\n",
       "M 3116 1747 \n",
       "Q 3116 2381 2855 2742 \n",
       "Q 2594 3103 2138 3103 \n",
       "Q 1681 3103 1420 2742 \n",
       "Q 1159 2381 1159 1747 \n",
       "Q 1159 1113 1420 752 \n",
       "Q 1681 391 2138 391 \n",
       "Q 2594 391 2855 752 \n",
       "Q 3116 1113 3116 1747 \n",
       "z\n",
       "\" transform=\"scale(0.015625)\"/>\n",
       "       <path id=\"DejaVuSans-6f\" d=\"M 1959 3097 \n",
       "Q 1497 3097 1228 2736 \n",
       "Q 959 2375 959 1747 \n",
       "Q 959 1119 1226 758 \n",
       "Q 1494 397 1959 397 \n",
       "Q 2419 397 2687 759 \n",
       "Q 2956 1122 2956 1747 \n",
       "Q 2956 2369 2687 2733 \n",
       "Q 2419 3097 1959 3097 \n",
       "z\n",
       "M 1959 3584 \n",
       "Q 2709 3584 3137 3096 \n",
       "Q 3566 2609 3566 1747 \n",
       "Q 3566 888 3137 398 \n",
       "Q 2709 -91 1959 -91 \n",
       "Q 1206 -91 779 398 \n",
       "Q 353 888 353 1747 \n",
       "Q 353 2609 779 3096 \n",
       "Q 1206 3584 1959 3584 \n",
       "z\n",
       "\" transform=\"scale(0.015625)\"/>\n",
       "       <path id=\"DejaVuSans-63\" d=\"M 3122 3366 \n",
       "L 3122 2828 \n",
       "Q 2878 2963 2633 3030 \n",
       "Q 2388 3097 2138 3097 \n",
       "Q 1578 3097 1268 2742 \n",
       "Q 959 2388 959 1747 \n",
       "Q 959 1106 1268 751 \n",
       "Q 1578 397 2138 397 \n",
       "Q 2388 397 2633 464 \n",
       "Q 2878 531 3122 666 \n",
       "L 3122 134 \n",
       "Q 2881 22 2623 -34 \n",
       "Q 2366 -91 2075 -91 \n",
       "Q 1284 -91 818 406 \n",
       "Q 353 903 353 1747 \n",
       "Q 353 2603 823 3093 \n",
       "Q 1294 3584 2113 3584 \n",
       "Q 2378 3584 2631 3529 \n",
       "Q 2884 3475 3122 3366 \n",
       "z\n",
       "\" transform=\"scale(0.015625)\"/>\n",
       "       <path id=\"DejaVuSans-68\" d=\"M 3513 2113 \n",
       "L 3513 0 \n",
       "L 2938 0 \n",
       "L 2938 2094 \n",
       "Q 2938 2591 2744 2837 \n",
       "Q 2550 3084 2163 3084 \n",
       "Q 1697 3084 1428 2787 \n",
       "Q 1159 2491 1159 1978 \n",
       "L 1159 0 \n",
       "L 581 0 \n",
       "L 581 4863 \n",
       "L 1159 4863 \n",
       "L 1159 2956 \n",
       "Q 1366 3272 1645 3428 \n",
       "Q 1925 3584 2291 3584 \n",
       "Q 2894 3584 3203 3211 \n",
       "Q 3513 2838 3513 2113 \n",
       "z\n",
       "\" transform=\"scale(0.015625)\"/>\n",
       "      </defs>\n",
       "      <use xlink:href=\"#DejaVuSans-45\"/>\n",
       "      <use xlink:href=\"#DejaVuSans-70\" x=\"63.183594\"/>\n",
       "      <use xlink:href=\"#DejaVuSans-6f\" x=\"126.660156\"/>\n",
       "      <use xlink:href=\"#DejaVuSans-63\" x=\"187.841797\"/>\n",
       "      <use xlink:href=\"#DejaVuSans-68\" x=\"242.822266\"/>\n",
       "     </g>\n",
       "    </g>\n",
       "   </g>\n",
       "   <g id=\"matplotlib.axis_2\">\n",
       "    <g id=\"ytick_1\">\n",
       "     <g id=\"line2d_17\">\n",
       "      <path d=\"M 30.103125 289.37566 \n",
       "L 705.573125 289.37566 \n",
       "\" clip-path=\"url(#p530d9799bc)\" style=\"fill: none; stroke: #b0b0b0; stroke-width: 0.8; stroke-linecap: square\"/>\n",
       "     </g>\n",
       "     <g id=\"line2d_18\">\n",
       "      <defs>\n",
       "       <path id=\"m630be87460\" d=\"M 0 0 \n",
       "L -3.5 0 \n",
       "\" style=\"stroke: #000000; stroke-width: 0.8\"/>\n",
       "      </defs>\n",
       "      <g>\n",
       "       <use xlink:href=\"#m630be87460\" x=\"30.103125\" y=\"289.37566\" style=\"stroke: #000000; stroke-width: 0.8\"/>\n",
       "      </g>\n",
       "     </g>\n",
       "     <g id=\"text_10\">\n",
       "      <!-- 0.8 -->\n",
       "      <g transform=\"translate(7.2 293.174879) scale(0.1 -0.1)\">\n",
       "       <defs>\n",
       "        <path id=\"DejaVuSans-2e\" d=\"M 684 794 \n",
       "L 1344 794 \n",
       "L 1344 0 \n",
       "L 684 0 \n",
       "L 684 794 \n",
       "z\n",
       "\" transform=\"scale(0.015625)\"/>\n",
       "       </defs>\n",
       "       <use xlink:href=\"#DejaVuSans-30\"/>\n",
       "       <use xlink:href=\"#DejaVuSans-2e\" x=\"63.623047\"/>\n",
       "       <use xlink:href=\"#DejaVuSans-38\" x=\"95.410156\"/>\n",
       "      </g>\n",
       "     </g>\n",
       "    </g>\n",
       "    <g id=\"ytick_2\">\n",
       "     <g id=\"line2d_19\">\n",
       "      <path d=\"M 30.103125 249.03939 \n",
       "L 705.573125 249.03939 \n",
       "\" clip-path=\"url(#p530d9799bc)\" style=\"fill: none; stroke: #b0b0b0; stroke-width: 0.8; stroke-linecap: square\"/>\n",
       "     </g>\n",
       "     <g id=\"line2d_20\">\n",
       "      <g>\n",
       "       <use xlink:href=\"#m630be87460\" x=\"30.103125\" y=\"249.03939\" style=\"stroke: #000000; stroke-width: 0.8\"/>\n",
       "      </g>\n",
       "     </g>\n",
       "     <g id=\"text_11\">\n",
       "      <!-- 1.0 -->\n",
       "      <g transform=\"translate(7.2 252.838609) scale(0.1 -0.1)\">\n",
       "       <use xlink:href=\"#DejaVuSans-31\"/>\n",
       "       <use xlink:href=\"#DejaVuSans-2e\" x=\"63.623047\"/>\n",
       "       <use xlink:href=\"#DejaVuSans-30\" x=\"95.410156\"/>\n",
       "      </g>\n",
       "     </g>\n",
       "    </g>\n",
       "    <g id=\"ytick_3\">\n",
       "     <g id=\"line2d_21\">\n",
       "      <path d=\"M 30.103125 208.703121 \n",
       "L 705.573125 208.703121 \n",
       "\" clip-path=\"url(#p530d9799bc)\" style=\"fill: none; stroke: #b0b0b0; stroke-width: 0.8; stroke-linecap: square\"/>\n",
       "     </g>\n",
       "     <g id=\"line2d_22\">\n",
       "      <g>\n",
       "       <use xlink:href=\"#m630be87460\" x=\"30.103125\" y=\"208.703121\" style=\"stroke: #000000; stroke-width: 0.8\"/>\n",
       "      </g>\n",
       "     </g>\n",
       "     <g id=\"text_12\">\n",
       "      <!-- 1.2 -->\n",
       "      <g transform=\"translate(7.2 212.50234) scale(0.1 -0.1)\">\n",
       "       <use xlink:href=\"#DejaVuSans-31\"/>\n",
       "       <use xlink:href=\"#DejaVuSans-2e\" x=\"63.623047\"/>\n",
       "       <use xlink:href=\"#DejaVuSans-32\" x=\"95.410156\"/>\n",
       "      </g>\n",
       "     </g>\n",
       "    </g>\n",
       "    <g id=\"ytick_4\">\n",
       "     <g id=\"line2d_23\">\n",
       "      <path d=\"M 30.103125 168.366851 \n",
       "L 705.573125 168.366851 \n",
       "\" clip-path=\"url(#p530d9799bc)\" style=\"fill: none; stroke: #b0b0b0; stroke-width: 0.8; stroke-linecap: square\"/>\n",
       "     </g>\n",
       "     <g id=\"line2d_24\">\n",
       "      <g>\n",
       "       <use xlink:href=\"#m630be87460\" x=\"30.103125\" y=\"168.366851\" style=\"stroke: #000000; stroke-width: 0.8\"/>\n",
       "      </g>\n",
       "     </g>\n",
       "     <g id=\"text_13\">\n",
       "      <!-- 1.4 -->\n",
       "      <g transform=\"translate(7.2 172.16607) scale(0.1 -0.1)\">\n",
       "       <use xlink:href=\"#DejaVuSans-31\"/>\n",
       "       <use xlink:href=\"#DejaVuSans-2e\" x=\"63.623047\"/>\n",
       "       <use xlink:href=\"#DejaVuSans-34\" x=\"95.410156\"/>\n",
       "      </g>\n",
       "     </g>\n",
       "    </g>\n",
       "    <g id=\"ytick_5\">\n",
       "     <g id=\"line2d_25\">\n",
       "      <path d=\"M 30.103125 128.030582 \n",
       "L 705.573125 128.030582 \n",
       "\" clip-path=\"url(#p530d9799bc)\" style=\"fill: none; stroke: #b0b0b0; stroke-width: 0.8; stroke-linecap: square\"/>\n",
       "     </g>\n",
       "     <g id=\"line2d_26\">\n",
       "      <g>\n",
       "       <use xlink:href=\"#m630be87460\" x=\"30.103125\" y=\"128.030582\" style=\"stroke: #000000; stroke-width: 0.8\"/>\n",
       "      </g>\n",
       "     </g>\n",
       "     <g id=\"text_14\">\n",
       "      <!-- 1.6 -->\n",
       "      <g transform=\"translate(7.2 131.829801) scale(0.1 -0.1)\">\n",
       "       <use xlink:href=\"#DejaVuSans-31\"/>\n",
       "       <use xlink:href=\"#DejaVuSans-2e\" x=\"63.623047\"/>\n",
       "       <use xlink:href=\"#DejaVuSans-36\" x=\"95.410156\"/>\n",
       "      </g>\n",
       "     </g>\n",
       "    </g>\n",
       "    <g id=\"ytick_6\">\n",
       "     <g id=\"line2d_27\">\n",
       "      <path d=\"M 30.103125 87.694312 \n",
       "L 705.573125 87.694312 \n",
       "\" clip-path=\"url(#p530d9799bc)\" style=\"fill: none; stroke: #b0b0b0; stroke-width: 0.8; stroke-linecap: square\"/>\n",
       "     </g>\n",
       "     <g id=\"line2d_28\">\n",
       "      <g>\n",
       "       <use xlink:href=\"#m630be87460\" x=\"30.103125\" y=\"87.694312\" style=\"stroke: #000000; stroke-width: 0.8\"/>\n",
       "      </g>\n",
       "     </g>\n",
       "     <g id=\"text_15\">\n",
       "      <!-- 1.8 -->\n",
       "      <g transform=\"translate(7.2 91.493531) scale(0.1 -0.1)\">\n",
       "       <use xlink:href=\"#DejaVuSans-31\"/>\n",
       "       <use xlink:href=\"#DejaVuSans-2e\" x=\"63.623047\"/>\n",
       "       <use xlink:href=\"#DejaVuSans-38\" x=\"95.410156\"/>\n",
       "      </g>\n",
       "     </g>\n",
       "    </g>\n",
       "    <g id=\"ytick_7\">\n",
       "     <g id=\"line2d_29\">\n",
       "      <path d=\"M 30.103125 47.358043 \n",
       "L 705.573125 47.358043 \n",
       "\" clip-path=\"url(#p530d9799bc)\" style=\"fill: none; stroke: #b0b0b0; stroke-width: 0.8; stroke-linecap: square\"/>\n",
       "     </g>\n",
       "     <g id=\"line2d_30\">\n",
       "      <g>\n",
       "       <use xlink:href=\"#m630be87460\" x=\"30.103125\" y=\"47.358043\" style=\"stroke: #000000; stroke-width: 0.8\"/>\n",
       "      </g>\n",
       "     </g>\n",
       "     <g id=\"text_16\">\n",
       "      <!-- 2.0 -->\n",
       "      <g transform=\"translate(7.2 51.157262) scale(0.1 -0.1)\">\n",
       "       <use xlink:href=\"#DejaVuSans-32\"/>\n",
       "       <use xlink:href=\"#DejaVuSans-2e\" x=\"63.623047\"/>\n",
       "       <use xlink:href=\"#DejaVuSans-30\" x=\"95.410156\"/>\n",
       "      </g>\n",
       "     </g>\n",
       "    </g>\n",
       "   </g>\n",
       "   <g id=\"line2d_31\">\n",
       "    <path d=\"M 60.806307 45.764472 \n",
       "L 104.667995 115.253446 \n",
       "L 148.529683 141.21246 \n",
       "L 192.391372 153.543967 \n",
       "L 236.25306 166.145156 \n",
       "L 280.114748 178.558936 \n",
       "L 323.976437 190.497328 \n",
       "L 367.838125 202.265259 \n",
       "L 411.699813 215.046694 \n",
       "L 455.561502 226.242611 \n",
       "L 499.42319 242.477384 \n",
       "L 543.284878 255.67362 \n",
       "L 587.146567 272.521002 \n",
       "L 631.008255 285.631432 \n",
       "L 674.869943 305.155586 \n",
       "\" clip-path=\"url(#p530d9799bc)\" style=\"fill: none; stroke: #000000; stroke-width: 1.5; stroke-linecap: square\"/>\n",
       "   </g>\n",
       "   <g id=\"line2d_32\">\n",
       "    <path d=\"M 60.806307 44.513215 \n",
       "L 104.667995 107.993732 \n",
       "L 148.529683 137.150683 \n",
       "L 192.391372 151.823044 \n",
       "L 236.25306 164.045062 \n",
       "L 280.114748 176.175744 \n",
       "L 323.976437 188.150055 \n",
       "L 367.838125 200.862969 \n",
       "L 411.699813 213.457787 \n",
       "L 455.561502 223.96083 \n",
       "L 499.42319 240.725326 \n",
       "L 543.284878 251.630657 \n",
       "L 587.146567 270.601754 \n",
       "L 631.008255 288.163085 \n",
       "L 674.869943 305.398125 \n",
       "\" clip-path=\"url(#p530d9799bc)\" style=\"fill: none; stroke: #ff0000; stroke-width: 1.5; stroke-linecap: square\"/>\n",
       "   </g>\n",
       "   <g id=\"line2d_33\">\n",
       "    <path d=\"M 60.806307 43.991209 \n",
       "L 104.667995 74.969772 \n",
       "L 148.529683 118.564094 \n",
       "L 192.391372 132.41791 \n",
       "L 236.25306 142.125322 \n",
       "L 280.114748 153.918426 \n",
       "L 323.976437 162.271487 \n",
       "L 367.838125 167.908153 \n",
       "L 411.699813 170.49722 \n",
       "L 455.561502 177.042469 \n",
       "L 499.42319 181.40285 \n",
       "L 543.284878 184.731626 \n",
       "L 587.146567 189.586437 \n",
       "L 631.008255 191.92568 \n",
       "L 674.869943 197.417612 \n",
       "\" clip-path=\"url(#p530d9799bc)\" style=\"fill: none; stroke: #0000ff; stroke-width: 1.5; stroke-linecap: square\"/>\n",
       "   </g>\n",
       "   <g id=\"line2d_34\">\n",
       "    <path d=\"M 60.806307 45.764472 \n",
       "L 104.667995 115.253446 \n",
       "L 148.529683 141.21246 \n",
       "L 192.391372 153.543967 \n",
       "L 236.25306 166.145156 \n",
       "L 280.114748 178.558936 \n",
       "L 323.976437 190.497328 \n",
       "L 367.838125 202.265259 \n",
       "L 411.699813 215.046694 \n",
       "L 455.561502 226.242611 \n",
       "L 499.42319 242.477384 \n",
       "L 543.284878 255.67362 \n",
       "L 587.146567 272.521002 \n",
       "L 631.008255 285.631432 \n",
       "L 674.869943 305.155586 \n",
       "\" clip-path=\"url(#p530d9799bc)\" style=\"fill: none; stroke: #008000; stroke-width: 1.5; stroke-linecap: square\"/>\n",
       "   </g>\n",
       "   <g id=\"line2d_35\">\n",
       "    <path d=\"M 60.806307 45.466299 \n",
       "L 104.667995 92.366701 \n",
       "L 148.529683 118.126788 \n",
       "L 192.391372 135.497151 \n",
       "L 236.25306 144.890065 \n",
       "L 280.114748 151.596421 \n",
       "L 323.976437 161.866182 \n",
       "L 367.838125 166.361609 \n",
       "L 411.699813 171.231279 \n",
       "L 455.561502 175.642799 \n",
       "L 499.42319 179.77187 \n",
       "L 543.284878 184.309515 \n",
       "L 587.146567 188.674153 \n",
       "L 631.008255 191.937148 \n",
       "L 674.869943 194.802677 \n",
       "\" clip-path=\"url(#p530d9799bc)\" style=\"fill: none; stroke: #ffa500; stroke-width: 1.5; stroke-linecap: square\"/>\n",
       "   </g>\n",
       "   <g id=\"line2d_36\">\n",
       "    <path d=\"M 60.806307 49.395242 \n",
       "L 104.667995 113.675695 \n",
       "L 148.529683 136.528829 \n",
       "L 192.391372 146.20501 \n",
       "L 236.25306 158.039827 \n",
       "L 280.114748 173.100182 \n",
       "L 323.976437 187.064377 \n",
       "L 367.838125 196.336262 \n",
       "L 411.699813 208.991499 \n",
       "L 455.561502 219.382961 \n",
       "L 499.42319 238.791821 \n",
       "L 543.284878 253.617403 \n",
       "L 587.146567 269.500978 \n",
       "L 631.008255 286.667979 \n",
       "L 674.869943 301.505979 \n",
       "\" clip-path=\"url(#p530d9799bc)\" style=\"fill: none; stroke: #800080; stroke-width: 1.5; stroke-linecap: square\"/>\n",
       "   </g>\n",
       "   <g id=\"line2d_37\">\n",
       "    <path d=\"M 60.806307 44.507637 \n",
       "L 104.667995 63.960855 \n",
       "L 148.529683 89.028044 \n",
       "L 192.391372 122.662703 \n",
       "L 236.25306 129.74662 \n",
       "L 280.114748 137.643743 \n",
       "L 323.976437 143.675713 \n",
       "L 367.838125 151.462938 \n",
       "L 411.699813 158.736332 \n",
       "L 455.561502 160.000524 \n",
       "L 499.42319 167.931883 \n",
       "L 543.284878 172.290245 \n",
       "L 587.146567 176.100059 \n",
       "L 631.008255 175.077781 \n",
       "L 674.869943 182.117748 \n",
       "\" clip-path=\"url(#p530d9799bc)\" style=\"fill: none; stroke: #00ffff; stroke-width: 1.5; stroke-linecap: square\"/>\n",
       "   </g>\n",
       "   <g id=\"line2d_38\">\n",
       "    <path d=\"M 60.806307 45.120235 \n",
       "L 104.667995 106.715019 \n",
       "L 148.529683 124.479675 \n",
       "L 192.391372 129.724092 \n",
       "L 236.25306 133.943105 \n",
       "L 280.114748 133.110977 \n",
       "L 323.976437 133.358805 \n",
       "L 367.838125 130.242324 \n",
       "L 411.699813 124.788739 \n",
       "L 455.561502 117.668566 \n",
       "L 499.42319 104.681426 \n",
       "L 543.284878 95.208115 \n",
       "L 587.146567 75.730301 \n",
       "L 631.008255 55.289642 \n",
       "L 674.869943 37.520515 \n",
       "\" clip-path=\"url(#p530d9799bc)\" style=\"fill: none; stroke-dasharray: 5.55,2.4; stroke-dashoffset: 0; stroke: #000000; stroke-width: 1.5\"/>\n",
       "   </g>\n",
       "   <g id=\"line2d_39\">\n",
       "    <path d=\"M 60.806307 44.182922 \n",
       "L 104.667995 99.938988 \n",
       "L 148.529683 122.877088 \n",
       "L 192.391372 128.900018 \n",
       "L 236.25306 133.313173 \n",
       "L 280.114748 130.736224 \n",
       "L 323.976437 135.418412 \n",
       "L 367.838125 130.116775 \n",
       "L 411.699813 124.451978 \n",
       "L 455.561502 117.414752 \n",
       "L 499.42319 106.143005 \n",
       "L 543.284878 97.554883 \n",
       "L 587.146567 78.102987 \n",
       "L 631.008255 52.748661 \n",
       "L 674.869943 35.798125 \n",
       "\" clip-path=\"url(#p530d9799bc)\" style=\"fill: none; stroke-dasharray: 5.55,2.4; stroke-dashoffset: 0; stroke: #ff0000; stroke-width: 1.5\"/>\n",
       "   </g>\n",
       "   <g id=\"line2d_40\">\n",
       "    <path d=\"M 60.806307 43.685968 \n",
       "L 104.667995 71.990836 \n",
       "L 148.529683 111.516745 \n",
       "L 192.391372 123.541978 \n",
       "L 236.25306 129.719428 \n",
       "L 280.114748 135.249587 \n",
       "L 323.976437 141.256722 \n",
       "L 367.838125 143.302841 \n",
       "L 411.699813 142.784633 \n",
       "L 455.561502 145.452173 \n",
       "L 499.42319 147.154151 \n",
       "L 543.284878 146.697564 \n",
       "L 587.146567 146.869106 \n",
       "L 631.008255 144.500483 \n",
       "L 674.869943 146.30404 \n",
       "\" clip-path=\"url(#p530d9799bc)\" style=\"fill: none; stroke-dasharray: 5.55,2.4; stroke-dashoffset: 0; stroke: #0000ff; stroke-width: 1.5\"/>\n",
       "   </g>\n",
       "   <g id=\"line2d_41\">\n",
       "    <path d=\"M 60.806307 45.120235 \n",
       "L 104.667995 106.715019 \n",
       "L 148.529683 124.479675 \n",
       "L 192.391372 129.724092 \n",
       "L 236.25306 133.943105 \n",
       "L 280.114748 133.110977 \n",
       "L 323.976437 133.358805 \n",
       "L 367.838125 130.242324 \n",
       "L 411.699813 124.788739 \n",
       "L 455.561502 117.668566 \n",
       "L 499.42319 104.681426 \n",
       "L 543.284878 95.208115 \n",
       "L 587.146567 75.730301 \n",
       "L 631.008255 55.289642 \n",
       "L 674.869943 37.520515 \n",
       "\" clip-path=\"url(#p530d9799bc)\" style=\"fill: none; stroke-dasharray: 5.55,2.4; stroke-dashoffset: 0; stroke: #008000; stroke-width: 1.5\"/>\n",
       "   </g>\n",
       "   <g id=\"line2d_42\">\n",
       "    <path d=\"M 60.806307 45.204911 \n",
       "L 104.667995 87.039049 \n",
       "L 148.529683 110.765496 \n",
       "L 192.391372 124.712669 \n",
       "L 236.25306 131.427344 \n",
       "L 280.114748 132.364488 \n",
       "L 323.976437 140.292025 \n",
       "L 367.838125 142.889602 \n",
       "L 411.699813 142.880105 \n",
       "L 455.561502 144.038294 \n",
       "L 499.42319 146.084991 \n",
       "L 543.284878 146.615388 \n",
       "L 587.146567 145.556733 \n",
       "L 631.008255 144.010237 \n",
       "L 674.869943 141.895549 \n",
       "\" clip-path=\"url(#p530d9799bc)\" style=\"fill: none; stroke-dasharray: 5.55,2.4; stroke-dashoffset: 0; stroke: #ffa500; stroke-width: 1.5\"/>\n",
       "   </g>\n",
       "   <g id=\"line2d_43\">\n",
       "    <path d=\"M 60.806307 48.512698 \n",
       "L 104.667995 103.884088 \n",
       "L 148.529683 119.024672 \n",
       "L 192.391372 125.2786 \n",
       "L 236.25306 125.298483 \n",
       "L 280.114748 130.904641 \n",
       "L 323.976437 132.632344 \n",
       "L 367.838125 128.682267 \n",
       "L 411.699813 125.700831 \n",
       "L 455.561502 116.227063 \n",
       "L 499.42319 108.050352 \n",
       "L 543.284878 93.093595 \n",
       "L 587.146567 69.987464 \n",
       "L 631.008255 51.360555 \n",
       "L 674.869943 38.949059 \n",
       "\" clip-path=\"url(#p530d9799bc)\" style=\"fill: none; stroke-dasharray: 5.55,2.4; stroke-dashoffset: 0; stroke: #800080; stroke-width: 1.5\"/>\n",
       "   </g>\n",
       "   <g id=\"line2d_44\">\n",
       "    <path d=\"M 60.806307 44.35016 \n",
       "L 104.667995 62.623863 \n",
       "L 148.529683 86.436141 \n",
       "L 192.391372 115.431576 \n",
       "L 236.25306 118.604893 \n",
       "L 280.114748 124.028618 \n",
       "L 323.976437 128.570543 \n",
       "L 367.838125 134.480595 \n",
       "L 411.699813 138.384966 \n",
       "L 455.561502 137.512832 \n",
       "L 499.42319 140.510257 \n",
       "L 543.284878 144.197262 \n",
       "L 587.146567 142.232382 \n",
       "L 631.008255 137.62059 \n",
       "L 674.869943 145.249112 \n",
       "\" clip-path=\"url(#p530d9799bc)\" style=\"fill: none; stroke-dasharray: 5.55,2.4; stroke-dashoffset: 0; stroke: #00ffff; stroke-width: 1.5\"/>\n",
       "   </g>\n",
       "   <g id=\"patch_3\">\n",
       "    <path d=\"M 30.103125 318.878125 \n",
       "L 30.103125 22.318125 \n",
       "\" style=\"fill: none; stroke: #000000; stroke-width: 0.8; stroke-linejoin: miter; stroke-linecap: square\"/>\n",
       "   </g>\n",
       "   <g id=\"patch_4\">\n",
       "    <path d=\"M 705.573125 318.878125 \n",
       "L 705.573125 22.318125 \n",
       "\" style=\"fill: none; stroke: #000000; stroke-width: 0.8; stroke-linejoin: miter; stroke-linecap: square\"/>\n",
       "   </g>\n",
       "   <g id=\"patch_5\">\n",
       "    <path d=\"M 30.103125 318.878125 \n",
       "L 705.573125 318.878125 \n",
       "\" style=\"fill: none; stroke: #000000; stroke-width: 0.8; stroke-linejoin: miter; stroke-linecap: square\"/>\n",
       "   </g>\n",
       "   <g id=\"patch_6\">\n",
       "    <path d=\"M 30.103125 22.318125 \n",
       "L 705.573125 22.318125 \n",
       "\" style=\"fill: none; stroke: #000000; stroke-width: 0.8; stroke-linejoin: miter; stroke-linecap: square\"/>\n",
       "   </g>\n",
       "   <g id=\"text_17\">\n",
       "    <!-- CrossEntropy Loss -->\n",
       "    <g transform=\"translate(313.017812 16.318125) scale(0.12 -0.12)\">\n",
       "     <defs>\n",
       "      <path id=\"DejaVuSans-43\" d=\"M 4122 4306 \n",
       "L 4122 3641 \n",
       "Q 3803 3938 3442 4084 \n",
       "Q 3081 4231 2675 4231 \n",
       "Q 1875 4231 1450 3742 \n",
       "Q 1025 3253 1025 2328 \n",
       "Q 1025 1406 1450 917 \n",
       "Q 1875 428 2675 428 \n",
       "Q 3081 428 3442 575 \n",
       "Q 3803 722 4122 1019 \n",
       "L 4122 359 \n",
       "Q 3791 134 3420 21 \n",
       "Q 3050 -91 2638 -91 \n",
       "Q 1578 -91 968 557 \n",
       "Q 359 1206 359 2328 \n",
       "Q 359 3453 968 4101 \n",
       "Q 1578 4750 2638 4750 \n",
       "Q 3056 4750 3426 4639 \n",
       "Q 3797 4528 4122 4306 \n",
       "z\n",
       "\" transform=\"scale(0.015625)\"/>\n",
       "      <path id=\"DejaVuSans-72\" d=\"M 2631 2963 \n",
       "Q 2534 3019 2420 3045 \n",
       "Q 2306 3072 2169 3072 \n",
       "Q 1681 3072 1420 2755 \n",
       "Q 1159 2438 1159 1844 \n",
       "L 1159 0 \n",
       "L 581 0 \n",
       "L 581 3500 \n",
       "L 1159 3500 \n",
       "L 1159 2956 \n",
       "Q 1341 3275 1631 3429 \n",
       "Q 1922 3584 2338 3584 \n",
       "Q 2397 3584 2469 3576 \n",
       "Q 2541 3569 2628 3553 \n",
       "L 2631 2963 \n",
       "z\n",
       "\" transform=\"scale(0.015625)\"/>\n",
       "      <path id=\"DejaVuSans-73\" d=\"M 2834 3397 \n",
       "L 2834 2853 \n",
       "Q 2591 2978 2328 3040 \n",
       "Q 2066 3103 1784 3103 \n",
       "Q 1356 3103 1142 2972 \n",
       "Q 928 2841 928 2578 \n",
       "Q 928 2378 1081 2264 \n",
       "Q 1234 2150 1697 2047 \n",
       "L 1894 2003 \n",
       "Q 2506 1872 2764 1633 \n",
       "Q 3022 1394 3022 966 \n",
       "Q 3022 478 2636 193 \n",
       "Q 2250 -91 1575 -91 \n",
       "Q 1294 -91 989 -36 \n",
       "Q 684 19 347 128 \n",
       "L 347 722 \n",
       "Q 666 556 975 473 \n",
       "Q 1284 391 1588 391 \n",
       "Q 1994 391 2212 530 \n",
       "Q 2431 669 2431 922 \n",
       "Q 2431 1156 2273 1281 \n",
       "Q 2116 1406 1581 1522 \n",
       "L 1381 1569 \n",
       "Q 847 1681 609 1914 \n",
       "Q 372 2147 372 2553 \n",
       "Q 372 3047 722 3315 \n",
       "Q 1072 3584 1716 3584 \n",
       "Q 2034 3584 2315 3537 \n",
       "Q 2597 3491 2834 3397 \n",
       "z\n",
       "\" transform=\"scale(0.015625)\"/>\n",
       "      <path id=\"DejaVuSans-6e\" d=\"M 3513 2113 \n",
       "L 3513 0 \n",
       "L 2938 0 \n",
       "L 2938 2094 \n",
       "Q 2938 2591 2744 2837 \n",
       "Q 2550 3084 2163 3084 \n",
       "Q 1697 3084 1428 2787 \n",
       "Q 1159 2491 1159 1978 \n",
       "L 1159 0 \n",
       "L 581 0 \n",
       "L 581 3500 \n",
       "L 1159 3500 \n",
       "L 1159 2956 \n",
       "Q 1366 3272 1645 3428 \n",
       "Q 1925 3584 2291 3584 \n",
       "Q 2894 3584 3203 3211 \n",
       "Q 3513 2838 3513 2113 \n",
       "z\n",
       "\" transform=\"scale(0.015625)\"/>\n",
       "      <path id=\"DejaVuSans-74\" d=\"M 1172 4494 \n",
       "L 1172 3500 \n",
       "L 2356 3500 \n",
       "L 2356 3053 \n",
       "L 1172 3053 \n",
       "L 1172 1153 \n",
       "Q 1172 725 1289 603 \n",
       "Q 1406 481 1766 481 \n",
       "L 2356 481 \n",
       "L 2356 0 \n",
       "L 1766 0 \n",
       "Q 1100 0 847 248 \n",
       "Q 594 497 594 1153 \n",
       "L 594 3053 \n",
       "L 172 3053 \n",
       "L 172 3500 \n",
       "L 594 3500 \n",
       "L 594 4494 \n",
       "L 1172 4494 \n",
       "z\n",
       "\" transform=\"scale(0.015625)\"/>\n",
       "      <path id=\"DejaVuSans-79\" d=\"M 2059 -325 \n",
       "Q 1816 -950 1584 -1140 \n",
       "Q 1353 -1331 966 -1331 \n",
       "L 506 -1331 \n",
       "L 506 -850 \n",
       "L 844 -850 \n",
       "Q 1081 -850 1212 -737 \n",
       "Q 1344 -625 1503 -206 \n",
       "L 1606 56 \n",
       "L 191 3500 \n",
       "L 800 3500 \n",
       "L 1894 763 \n",
       "L 2988 3500 \n",
       "L 3597 3500 \n",
       "L 2059 -325 \n",
       "z\n",
       "\" transform=\"scale(0.015625)\"/>\n",
       "      <path id=\"DejaVuSans-20\" transform=\"scale(0.015625)\"/>\n",
       "      <path id=\"DejaVuSans-4c\" d=\"M 628 4666 \n",
       "L 1259 4666 \n",
       "L 1259 531 \n",
       "L 3531 531 \n",
       "L 3531 0 \n",
       "L 628 0 \n",
       "L 628 4666 \n",
       "z\n",
       "\" transform=\"scale(0.015625)\"/>\n",
       "     </defs>\n",
       "     <use xlink:href=\"#DejaVuSans-43\"/>\n",
       "     <use xlink:href=\"#DejaVuSans-72\" x=\"69.824219\"/>\n",
       "     <use xlink:href=\"#DejaVuSans-6f\" x=\"108.6875\"/>\n",
       "     <use xlink:href=\"#DejaVuSans-73\" x=\"169.869141\"/>\n",
       "     <use xlink:href=\"#DejaVuSans-73\" x=\"221.96875\"/>\n",
       "     <use xlink:href=\"#DejaVuSans-45\" x=\"274.068359\"/>\n",
       "     <use xlink:href=\"#DejaVuSans-6e\" x=\"337.251953\"/>\n",
       "     <use xlink:href=\"#DejaVuSans-74\" x=\"400.630859\"/>\n",
       "     <use xlink:href=\"#DejaVuSans-72\" x=\"439.839844\"/>\n",
       "     <use xlink:href=\"#DejaVuSans-6f\" x=\"478.703125\"/>\n",
       "     <use xlink:href=\"#DejaVuSans-70\" x=\"539.884766\"/>\n",
       "     <use xlink:href=\"#DejaVuSans-79\" x=\"603.361328\"/>\n",
       "     <use xlink:href=\"#DejaVuSans-20\" x=\"662.541016\"/>\n",
       "     <use xlink:href=\"#DejaVuSans-4c\" x=\"694.328125\"/>\n",
       "     <use xlink:href=\"#DejaVuSans-6f\" x=\"748.291016\"/>\n",
       "     <use xlink:href=\"#DejaVuSans-73\" x=\"809.472656\"/>\n",
       "     <use xlink:href=\"#DejaVuSans-73\" x=\"861.572266\"/>\n",
       "    </g>\n",
       "   </g>\n",
       "   <g id=\"legend_1\">\n",
       "    <g id=\"patch_7\">\n",
       "     <path d=\"M 37.103125 313.878125 \n",
       "L 160.320313 313.878125 \n",
       "Q 162.320313 313.878125 162.320313 311.878125 \n",
       "L 162.320313 107.384375 \n",
       "Q 162.320313 105.384375 160.320313 105.384375 \n",
       "L 37.103125 105.384375 \n",
       "Q 35.103125 105.384375 35.103125 107.384375 \n",
       "L 35.103125 311.878125 \n",
       "Q 35.103125 313.878125 37.103125 313.878125 \n",
       "z\n",
       "\" style=\"fill: #ffffff; opacity: 0.8; stroke: #cccccc; stroke-linejoin: miter\"/>\n",
       "    </g>\n",
       "    <g id=\"line2d_45\">\n",
       "     <path d=\"M 39.103125 113.482812 \n",
       "L 49.103125 113.482812 \n",
       "L 59.103125 113.482812 \n",
       "\" style=\"fill: none; stroke: #000000; stroke-width: 1.5; stroke-linecap: square\"/>\n",
       "    </g>\n",
       "    <g id=\"text_18\">\n",
       "     <!-- Base -->\n",
       "     <g transform=\"translate(67.103125 116.982812) scale(0.1 -0.1)\">\n",
       "      <defs>\n",
       "       <path id=\"DejaVuSans-42\" d=\"M 1259 2228 \n",
       "L 1259 519 \n",
       "L 2272 519 \n",
       "Q 2781 519 3026 730 \n",
       "Q 3272 941 3272 1375 \n",
       "Q 3272 1813 3026 2020 \n",
       "Q 2781 2228 2272 2228 \n",
       "L 1259 2228 \n",
       "z\n",
       "M 1259 4147 \n",
       "L 1259 2741 \n",
       "L 2194 2741 \n",
       "Q 2656 2741 2882 2914 \n",
       "Q 3109 3088 3109 3444 \n",
       "Q 3109 3797 2882 3972 \n",
       "Q 2656 4147 2194 4147 \n",
       "L 1259 4147 \n",
       "z\n",
       "M 628 4666 \n",
       "L 2241 4666 \n",
       "Q 2963 4666 3353 4366 \n",
       "Q 3744 4066 3744 3513 \n",
       "Q 3744 3084 3544 2831 \n",
       "Q 3344 2578 2956 2516 \n",
       "Q 3422 2416 3680 2098 \n",
       "Q 3938 1781 3938 1306 \n",
       "Q 3938 681 3513 340 \n",
       "Q 3088 0 2303 0 \n",
       "L 628 0 \n",
       "L 628 4666 \n",
       "z\n",
       "\" transform=\"scale(0.015625)\"/>\n",
       "       <path id=\"DejaVuSans-61\" d=\"M 2194 1759 \n",
       "Q 1497 1759 1228 1600 \n",
       "Q 959 1441 959 1056 \n",
       "Q 959 750 1161 570 \n",
       "Q 1363 391 1709 391 \n",
       "Q 2188 391 2477 730 \n",
       "Q 2766 1069 2766 1631 \n",
       "L 2766 1759 \n",
       "L 2194 1759 \n",
       "z\n",
       "M 3341 1997 \n",
       "L 3341 0 \n",
       "L 2766 0 \n",
       "L 2766 531 \n",
       "Q 2569 213 2275 61 \n",
       "Q 1981 -91 1556 -91 \n",
       "Q 1019 -91 701 211 \n",
       "Q 384 513 384 1019 \n",
       "Q 384 1609 779 1909 \n",
       "Q 1175 2209 1959 2209 \n",
       "L 2766 2209 \n",
       "L 2766 2266 \n",
       "Q 2766 2663 2505 2880 \n",
       "Q 2244 3097 1772 3097 \n",
       "Q 1472 3097 1187 3025 \n",
       "Q 903 2953 641 2809 \n",
       "L 641 3341 \n",
       "Q 956 3463 1253 3523 \n",
       "Q 1550 3584 1831 3584 \n",
       "Q 2591 3584 2966 3190 \n",
       "Q 3341 2797 3341 1997 \n",
       "z\n",
       "\" transform=\"scale(0.015625)\"/>\n",
       "       <path id=\"DejaVuSans-65\" d=\"M 3597 1894 \n",
       "L 3597 1613 \n",
       "L 953 1613 \n",
       "Q 991 1019 1311 708 \n",
       "Q 1631 397 2203 397 \n",
       "Q 2534 397 2845 478 \n",
       "Q 3156 559 3463 722 \n",
       "L 3463 178 \n",
       "Q 3153 47 2828 -22 \n",
       "Q 2503 -91 2169 -91 \n",
       "Q 1331 -91 842 396 \n",
       "Q 353 884 353 1716 \n",
       "Q 353 2575 817 3079 \n",
       "Q 1281 3584 2069 3584 \n",
       "Q 2775 3584 3186 3129 \n",
       "Q 3597 2675 3597 1894 \n",
       "z\n",
       "M 3022 2063 \n",
       "Q 3016 2534 2758 2815 \n",
       "Q 2500 3097 2075 3097 \n",
       "Q 1594 3097 1305 2825 \n",
       "Q 1016 2553 972 2059 \n",
       "L 3022 2063 \n",
       "z\n",
       "\" transform=\"scale(0.015625)\"/>\n",
       "      </defs>\n",
       "      <use xlink:href=\"#DejaVuSans-42\"/>\n",
       "      <use xlink:href=\"#DejaVuSans-61\" x=\"68.603516\"/>\n",
       "      <use xlink:href=\"#DejaVuSans-73\" x=\"129.882812\"/>\n",
       "      <use xlink:href=\"#DejaVuSans-65\" x=\"181.982422\"/>\n",
       "     </g>\n",
       "    </g>\n",
       "    <g id=\"line2d_46\">\n",
       "     <path d=\"M 39.103125 128.160937 \n",
       "L 49.103125 128.160937 \n",
       "L 59.103125 128.160937 \n",
       "\" style=\"fill: none; stroke: #ff0000; stroke-width: 1.5; stroke-linecap: square\"/>\n",
       "    </g>\n",
       "    <g id=\"text_19\">\n",
       "     <!-- VarDropCheck -->\n",
       "     <g transform=\"translate(67.103125 131.660937) scale(0.1 -0.1)\">\n",
       "      <defs>\n",
       "       <path id=\"DejaVuSans-56\" d=\"M 1831 0 \n",
       "L 50 4666 \n",
       "L 709 4666 \n",
       "L 2188 738 \n",
       "L 3669 4666 \n",
       "L 4325 4666 \n",
       "L 2547 0 \n",
       "L 1831 0 \n",
       "z\n",
       "\" transform=\"scale(0.015625)\"/>\n",
       "       <path id=\"DejaVuSans-44\" d=\"M 1259 4147 \n",
       "L 1259 519 \n",
       "L 2022 519 \n",
       "Q 2988 519 3436 956 \n",
       "Q 3884 1394 3884 2338 \n",
       "Q 3884 3275 3436 3711 \n",
       "Q 2988 4147 2022 4147 \n",
       "L 1259 4147 \n",
       "z\n",
       "M 628 4666 \n",
       "L 1925 4666 \n",
       "Q 3281 4666 3915 4102 \n",
       "Q 4550 3538 4550 2338 \n",
       "Q 4550 1131 3912 565 \n",
       "Q 3275 0 1925 0 \n",
       "L 628 0 \n",
       "L 628 4666 \n",
       "z\n",
       "\" transform=\"scale(0.015625)\"/>\n",
       "       <path id=\"DejaVuSans-6b\" d=\"M 581 4863 \n",
       "L 1159 4863 \n",
       "L 1159 1991 \n",
       "L 2875 3500 \n",
       "L 3609 3500 \n",
       "L 1753 1863 \n",
       "L 3688 0 \n",
       "L 2938 0 \n",
       "L 1159 1709 \n",
       "L 1159 0 \n",
       "L 581 0 \n",
       "L 581 4863 \n",
       "z\n",
       "\" transform=\"scale(0.015625)\"/>\n",
       "      </defs>\n",
       "      <use xlink:href=\"#DejaVuSans-56\"/>\n",
       "      <use xlink:href=\"#DejaVuSans-61\" x=\"60.658203\"/>\n",
       "      <use xlink:href=\"#DejaVuSans-72\" x=\"121.9375\"/>\n",
       "      <use xlink:href=\"#DejaVuSans-44\" x=\"163.050781\"/>\n",
       "      <use xlink:href=\"#DejaVuSans-72\" x=\"240.052734\"/>\n",
       "      <use xlink:href=\"#DejaVuSans-6f\" x=\"278.916016\"/>\n",
       "      <use xlink:href=\"#DejaVuSans-70\" x=\"340.097656\"/>\n",
       "      <use xlink:href=\"#DejaVuSans-43\" x=\"403.574219\"/>\n",
       "      <use xlink:href=\"#DejaVuSans-68\" x=\"473.398438\"/>\n",
       "      <use xlink:href=\"#DejaVuSans-65\" x=\"536.777344\"/>\n",
       "      <use xlink:href=\"#DejaVuSans-63\" x=\"598.300781\"/>\n",
       "      <use xlink:href=\"#DejaVuSans-6b\" x=\"653.28125\"/>\n",
       "     </g>\n",
       "    </g>\n",
       "    <g id=\"line2d_47\">\n",
       "     <path d=\"M 39.103125 142.839062 \n",
       "L 49.103125 142.839062 \n",
       "L 59.103125 142.839062 \n",
       "\" style=\"fill: none; stroke: #0000ff; stroke-width: 1.5; stroke-linecap: square\"/>\n",
       "    </g>\n",
       "    <g id=\"text_20\">\n",
       "     <!-- VarDrop -->\n",
       "     <g transform=\"translate(67.103125 146.339062) scale(0.1 -0.1)\">\n",
       "      <use xlink:href=\"#DejaVuSans-56\"/>\n",
       "      <use xlink:href=\"#DejaVuSans-61\" x=\"60.658203\"/>\n",
       "      <use xlink:href=\"#DejaVuSans-72\" x=\"121.9375\"/>\n",
       "      <use xlink:href=\"#DejaVuSans-44\" x=\"163.050781\"/>\n",
       "      <use xlink:href=\"#DejaVuSans-72\" x=\"240.052734\"/>\n",
       "      <use xlink:href=\"#DejaVuSans-6f\" x=\"278.916016\"/>\n",
       "      <use xlink:href=\"#DejaVuSans-70\" x=\"340.097656\"/>\n",
       "     </g>\n",
       "    </g>\n",
       "    <g id=\"line2d_48\">\n",
       "     <path d=\"M 39.103125 157.517187 \n",
       "L 49.103125 157.517187 \n",
       "L 59.103125 157.517187 \n",
       "\" style=\"fill: none; stroke: #008000; stroke-width: 1.5; stroke-linecap: square\"/>\n",
       "    </g>\n",
       "    <g id=\"text_21\">\n",
       "     <!-- FastVarDropCheck -->\n",
       "     <g transform=\"translate(67.103125 161.017187) scale(0.1 -0.1)\">\n",
       "      <defs>\n",
       "       <path id=\"DejaVuSans-46\" d=\"M 628 4666 \n",
       "L 3309 4666 \n",
       "L 3309 4134 \n",
       "L 1259 4134 \n",
       "L 1259 2759 \n",
       "L 3109 2759 \n",
       "L 3109 2228 \n",
       "L 1259 2228 \n",
       "L 1259 0 \n",
       "L 628 0 \n",
       "L 628 4666 \n",
       "z\n",
       "\" transform=\"scale(0.015625)\"/>\n",
       "      </defs>\n",
       "      <use xlink:href=\"#DejaVuSans-46\"/>\n",
       "      <use xlink:href=\"#DejaVuSans-61\" x=\"48.394531\"/>\n",
       "      <use xlink:href=\"#DejaVuSans-73\" x=\"109.673828\"/>\n",
       "      <use xlink:href=\"#DejaVuSans-74\" x=\"161.773438\"/>\n",
       "      <use xlink:href=\"#DejaVuSans-56\" x=\"200.982422\"/>\n",
       "      <use xlink:href=\"#DejaVuSans-61\" x=\"261.640625\"/>\n",
       "      <use xlink:href=\"#DejaVuSans-72\" x=\"322.919922\"/>\n",
       "      <use xlink:href=\"#DejaVuSans-44\" x=\"364.033203\"/>\n",
       "      <use xlink:href=\"#DejaVuSans-72\" x=\"441.035156\"/>\n",
       "      <use xlink:href=\"#DejaVuSans-6f\" x=\"479.898438\"/>\n",
       "      <use xlink:href=\"#DejaVuSans-70\" x=\"541.080078\"/>\n",
       "      <use xlink:href=\"#DejaVuSans-43\" x=\"604.556641\"/>\n",
       "      <use xlink:href=\"#DejaVuSans-68\" x=\"674.380859\"/>\n",
       "      <use xlink:href=\"#DejaVuSans-65\" x=\"737.759766\"/>\n",
       "      <use xlink:href=\"#DejaVuSans-63\" x=\"799.283203\"/>\n",
       "      <use xlink:href=\"#DejaVuSans-6b\" x=\"854.263672\"/>\n",
       "     </g>\n",
       "    </g>\n",
       "    <g id=\"line2d_49\">\n",
       "     <path d=\"M 39.103125 172.195312 \n",
       "L 49.103125 172.195312 \n",
       "L 59.103125 172.195312 \n",
       "\" style=\"fill: none; stroke: #ffa500; stroke-width: 1.5; stroke-linecap: square\"/>\n",
       "    </g>\n",
       "    <g id=\"text_22\">\n",
       "     <!-- FastVarDrop -->\n",
       "     <g transform=\"translate(67.103125 175.695312) scale(0.1 -0.1)\">\n",
       "      <use xlink:href=\"#DejaVuSans-46\"/>\n",
       "      <use xlink:href=\"#DejaVuSans-61\" x=\"48.394531\"/>\n",
       "      <use xlink:href=\"#DejaVuSans-73\" x=\"109.673828\"/>\n",
       "      <use xlink:href=\"#DejaVuSans-74\" x=\"161.773438\"/>\n",
       "      <use xlink:href=\"#DejaVuSans-56\" x=\"200.982422\"/>\n",
       "      <use xlink:href=\"#DejaVuSans-61\" x=\"261.640625\"/>\n",
       "      <use xlink:href=\"#DejaVuSans-72\" x=\"322.919922\"/>\n",
       "      <use xlink:href=\"#DejaVuSans-44\" x=\"364.033203\"/>\n",
       "      <use xlink:href=\"#DejaVuSans-72\" x=\"441.035156\"/>\n",
       "      <use xlink:href=\"#DejaVuSans-6f\" x=\"479.898438\"/>\n",
       "      <use xlink:href=\"#DejaVuSans-70\" x=\"541.080078\"/>\n",
       "     </g>\n",
       "    </g>\n",
       "    <g id=\"line2d_50\">\n",
       "     <path d=\"M 39.103125 186.873437 \n",
       "L 49.103125 186.873437 \n",
       "L 59.103125 186.873437 \n",
       "\" style=\"fill: none; stroke: #800080; stroke-width: 1.5; stroke-linecap: square\"/>\n",
       "    </g>\n",
       "    <g id=\"text_23\">\n",
       "     <!-- HandmadeCheck -->\n",
       "     <g transform=\"translate(67.103125 190.373437) scale(0.1 -0.1)\">\n",
       "      <defs>\n",
       "       <path id=\"DejaVuSans-48\" d=\"M 628 4666 \n",
       "L 1259 4666 \n",
       "L 1259 2753 \n",
       "L 3553 2753 \n",
       "L 3553 4666 \n",
       "L 4184 4666 \n",
       "L 4184 0 \n",
       "L 3553 0 \n",
       "L 3553 2222 \n",
       "L 1259 2222 \n",
       "L 1259 0 \n",
       "L 628 0 \n",
       "L 628 4666 \n",
       "z\n",
       "\" transform=\"scale(0.015625)\"/>\n",
       "       <path id=\"DejaVuSans-64\" d=\"M 2906 2969 \n",
       "L 2906 4863 \n",
       "L 3481 4863 \n",
       "L 3481 0 \n",
       "L 2906 0 \n",
       "L 2906 525 \n",
       "Q 2725 213 2448 61 \n",
       "Q 2172 -91 1784 -91 \n",
       "Q 1150 -91 751 415 \n",
       "Q 353 922 353 1747 \n",
       "Q 353 2572 751 3078 \n",
       "Q 1150 3584 1784 3584 \n",
       "Q 2172 3584 2448 3432 \n",
       "Q 2725 3281 2906 2969 \n",
       "z\n",
       "M 947 1747 \n",
       "Q 947 1113 1208 752 \n",
       "Q 1469 391 1925 391 \n",
       "Q 2381 391 2643 752 \n",
       "Q 2906 1113 2906 1747 \n",
       "Q 2906 2381 2643 2742 \n",
       "Q 2381 3103 1925 3103 \n",
       "Q 1469 3103 1208 2742 \n",
       "Q 947 2381 947 1747 \n",
       "z\n",
       "\" transform=\"scale(0.015625)\"/>\n",
       "       <path id=\"DejaVuSans-6d\" d=\"M 3328 2828 \n",
       "Q 3544 3216 3844 3400 \n",
       "Q 4144 3584 4550 3584 \n",
       "Q 5097 3584 5394 3201 \n",
       "Q 5691 2819 5691 2113 \n",
       "L 5691 0 \n",
       "L 5113 0 \n",
       "L 5113 2094 \n",
       "Q 5113 2597 4934 2840 \n",
       "Q 4756 3084 4391 3084 \n",
       "Q 3944 3084 3684 2787 \n",
       "Q 3425 2491 3425 1978 \n",
       "L 3425 0 \n",
       "L 2847 0 \n",
       "L 2847 2094 \n",
       "Q 2847 2600 2669 2842 \n",
       "Q 2491 3084 2119 3084 \n",
       "Q 1678 3084 1418 2786 \n",
       "Q 1159 2488 1159 1978 \n",
       "L 1159 0 \n",
       "L 581 0 \n",
       "L 581 3500 \n",
       "L 1159 3500 \n",
       "L 1159 2956 \n",
       "Q 1356 3278 1631 3431 \n",
       "Q 1906 3584 2284 3584 \n",
       "Q 2666 3584 2933 3390 \n",
       "Q 3200 3197 3328 2828 \n",
       "z\n",
       "\" transform=\"scale(0.015625)\"/>\n",
       "      </defs>\n",
       "      <use xlink:href=\"#DejaVuSans-48\"/>\n",
       "      <use xlink:href=\"#DejaVuSans-61\" x=\"75.195312\"/>\n",
       "      <use xlink:href=\"#DejaVuSans-6e\" x=\"136.474609\"/>\n",
       "      <use xlink:href=\"#DejaVuSans-64\" x=\"199.853516\"/>\n",
       "      <use xlink:href=\"#DejaVuSans-6d\" x=\"263.330078\"/>\n",
       "      <use xlink:href=\"#DejaVuSans-61\" x=\"360.742188\"/>\n",
       "      <use xlink:href=\"#DejaVuSans-64\" x=\"422.021484\"/>\n",
       "      <use xlink:href=\"#DejaVuSans-65\" x=\"485.498047\"/>\n",
       "      <use xlink:href=\"#DejaVuSans-43\" x=\"547.021484\"/>\n",
       "      <use xlink:href=\"#DejaVuSans-68\" x=\"616.845703\"/>\n",
       "      <use xlink:href=\"#DejaVuSans-65\" x=\"680.224609\"/>\n",
       "      <use xlink:href=\"#DejaVuSans-63\" x=\"741.748047\"/>\n",
       "      <use xlink:href=\"#DejaVuSans-6b\" x=\"796.728516\"/>\n",
       "     </g>\n",
       "    </g>\n",
       "    <g id=\"line2d_51\">\n",
       "     <path d=\"M 39.103125 201.551562 \n",
       "L 49.103125 201.551562 \n",
       "L 59.103125 201.551562 \n",
       "\" style=\"fill: none; stroke: #00ffff; stroke-width: 1.5; stroke-linecap: square\"/>\n",
       "    </g>\n",
       "    <g id=\"text_24\">\n",
       "     <!-- Handmade -->\n",
       "     <g transform=\"translate(67.103125 205.051562) scale(0.1 -0.1)\">\n",
       "      <use xlink:href=\"#DejaVuSans-48\"/>\n",
       "      <use xlink:href=\"#DejaVuSans-61\" x=\"75.195312\"/>\n",
       "      <use xlink:href=\"#DejaVuSans-6e\" x=\"136.474609\"/>\n",
       "      <use xlink:href=\"#DejaVuSans-64\" x=\"199.853516\"/>\n",
       "      <use xlink:href=\"#DejaVuSans-6d\" x=\"263.330078\"/>\n",
       "      <use xlink:href=\"#DejaVuSans-61\" x=\"360.742188\"/>\n",
       "      <use xlink:href=\"#DejaVuSans-64\" x=\"422.021484\"/>\n",
       "      <use xlink:href=\"#DejaVuSans-65\" x=\"485.498047\"/>\n",
       "     </g>\n",
       "    </g>\n",
       "    <g id=\"line2d_52\">\n",
       "     <path d=\"M 39.103125 216.229687 \n",
       "L 49.103125 216.229687 \n",
       "L 59.103125 216.229687 \n",
       "\" style=\"fill: none; stroke-dasharray: 5.55,2.4; stroke-dashoffset: 0; stroke: #000000; stroke-width: 1.5\"/>\n",
       "    </g>\n",
       "    <g id=\"text_25\">\n",
       "     <!-- Base -->\n",
       "     <g transform=\"translate(67.103125 219.729687) scale(0.1 -0.1)\">\n",
       "      <use xlink:href=\"#DejaVuSans-42\"/>\n",
       "      <use xlink:href=\"#DejaVuSans-61\" x=\"68.603516\"/>\n",
       "      <use xlink:href=\"#DejaVuSans-73\" x=\"129.882812\"/>\n",
       "      <use xlink:href=\"#DejaVuSans-65\" x=\"181.982422\"/>\n",
       "     </g>\n",
       "    </g>\n",
       "    <g id=\"line2d_53\">\n",
       "     <path d=\"M 39.103125 230.907812 \n",
       "L 49.103125 230.907812 \n",
       "L 59.103125 230.907812 \n",
       "\" style=\"fill: none; stroke-dasharray: 5.55,2.4; stroke-dashoffset: 0; stroke: #ff0000; stroke-width: 1.5\"/>\n",
       "    </g>\n",
       "    <g id=\"text_26\">\n",
       "     <!-- VarDropCheck -->\n",
       "     <g transform=\"translate(67.103125 234.407812) scale(0.1 -0.1)\">\n",
       "      <use xlink:href=\"#DejaVuSans-56\"/>\n",
       "      <use xlink:href=\"#DejaVuSans-61\" x=\"60.658203\"/>\n",
       "      <use xlink:href=\"#DejaVuSans-72\" x=\"121.9375\"/>\n",
       "      <use xlink:href=\"#DejaVuSans-44\" x=\"163.050781\"/>\n",
       "      <use xlink:href=\"#DejaVuSans-72\" x=\"240.052734\"/>\n",
       "      <use xlink:href=\"#DejaVuSans-6f\" x=\"278.916016\"/>\n",
       "      <use xlink:href=\"#DejaVuSans-70\" x=\"340.097656\"/>\n",
       "      <use xlink:href=\"#DejaVuSans-43\" x=\"403.574219\"/>\n",
       "      <use xlink:href=\"#DejaVuSans-68\" x=\"473.398438\"/>\n",
       "      <use xlink:href=\"#DejaVuSans-65\" x=\"536.777344\"/>\n",
       "      <use xlink:href=\"#DejaVuSans-63\" x=\"598.300781\"/>\n",
       "      <use xlink:href=\"#DejaVuSans-6b\" x=\"653.28125\"/>\n",
       "     </g>\n",
       "    </g>\n",
       "    <g id=\"line2d_54\">\n",
       "     <path d=\"M 39.103125 245.585937 \n",
       "L 49.103125 245.585937 \n",
       "L 59.103125 245.585937 \n",
       "\" style=\"fill: none; stroke-dasharray: 5.55,2.4; stroke-dashoffset: 0; stroke: #0000ff; stroke-width: 1.5\"/>\n",
       "    </g>\n",
       "    <g id=\"text_27\">\n",
       "     <!-- VarDrop -->\n",
       "     <g transform=\"translate(67.103125 249.085937) scale(0.1 -0.1)\">\n",
       "      <use xlink:href=\"#DejaVuSans-56\"/>\n",
       "      <use xlink:href=\"#DejaVuSans-61\" x=\"60.658203\"/>\n",
       "      <use xlink:href=\"#DejaVuSans-72\" x=\"121.9375\"/>\n",
       "      <use xlink:href=\"#DejaVuSans-44\" x=\"163.050781\"/>\n",
       "      <use xlink:href=\"#DejaVuSans-72\" x=\"240.052734\"/>\n",
       "      <use xlink:href=\"#DejaVuSans-6f\" x=\"278.916016\"/>\n",
       "      <use xlink:href=\"#DejaVuSans-70\" x=\"340.097656\"/>\n",
       "     </g>\n",
       "    </g>\n",
       "    <g id=\"line2d_55\">\n",
       "     <path d=\"M 39.103125 260.264062 \n",
       "L 49.103125 260.264062 \n",
       "L 59.103125 260.264062 \n",
       "\" style=\"fill: none; stroke-dasharray: 5.55,2.4; stroke-dashoffset: 0; stroke: #008000; stroke-width: 1.5\"/>\n",
       "    </g>\n",
       "    <g id=\"text_28\">\n",
       "     <!-- FastVarDropCheck -->\n",
       "     <g transform=\"translate(67.103125 263.764062) scale(0.1 -0.1)\">\n",
       "      <use xlink:href=\"#DejaVuSans-46\"/>\n",
       "      <use xlink:href=\"#DejaVuSans-61\" x=\"48.394531\"/>\n",
       "      <use xlink:href=\"#DejaVuSans-73\" x=\"109.673828\"/>\n",
       "      <use xlink:href=\"#DejaVuSans-74\" x=\"161.773438\"/>\n",
       "      <use xlink:href=\"#DejaVuSans-56\" x=\"200.982422\"/>\n",
       "      <use xlink:href=\"#DejaVuSans-61\" x=\"261.640625\"/>\n",
       "      <use xlink:href=\"#DejaVuSans-72\" x=\"322.919922\"/>\n",
       "      <use xlink:href=\"#DejaVuSans-44\" x=\"364.033203\"/>\n",
       "      <use xlink:href=\"#DejaVuSans-72\" x=\"441.035156\"/>\n",
       "      <use xlink:href=\"#DejaVuSans-6f\" x=\"479.898438\"/>\n",
       "      <use xlink:href=\"#DejaVuSans-70\" x=\"541.080078\"/>\n",
       "      <use xlink:href=\"#DejaVuSans-43\" x=\"604.556641\"/>\n",
       "      <use xlink:href=\"#DejaVuSans-68\" x=\"674.380859\"/>\n",
       "      <use xlink:href=\"#DejaVuSans-65\" x=\"737.759766\"/>\n",
       "      <use xlink:href=\"#DejaVuSans-63\" x=\"799.283203\"/>\n",
       "      <use xlink:href=\"#DejaVuSans-6b\" x=\"854.263672\"/>\n",
       "     </g>\n",
       "    </g>\n",
       "    <g id=\"line2d_56\">\n",
       "     <path d=\"M 39.103125 274.942187 \n",
       "L 49.103125 274.942187 \n",
       "L 59.103125 274.942187 \n",
       "\" style=\"fill: none; stroke-dasharray: 5.55,2.4; stroke-dashoffset: 0; stroke: #ffa500; stroke-width: 1.5\"/>\n",
       "    </g>\n",
       "    <g id=\"text_29\">\n",
       "     <!-- FastVarDrop -->\n",
       "     <g transform=\"translate(67.103125 278.442187) scale(0.1 -0.1)\">\n",
       "      <use xlink:href=\"#DejaVuSans-46\"/>\n",
       "      <use xlink:href=\"#DejaVuSans-61\" x=\"48.394531\"/>\n",
       "      <use xlink:href=\"#DejaVuSans-73\" x=\"109.673828\"/>\n",
       "      <use xlink:href=\"#DejaVuSans-74\" x=\"161.773438\"/>\n",
       "      <use xlink:href=\"#DejaVuSans-56\" x=\"200.982422\"/>\n",
       "      <use xlink:href=\"#DejaVuSans-61\" x=\"261.640625\"/>\n",
       "      <use xlink:href=\"#DejaVuSans-72\" x=\"322.919922\"/>\n",
       "      <use xlink:href=\"#DejaVuSans-44\" x=\"364.033203\"/>\n",
       "      <use xlink:href=\"#DejaVuSans-72\" x=\"441.035156\"/>\n",
       "      <use xlink:href=\"#DejaVuSans-6f\" x=\"479.898438\"/>\n",
       "      <use xlink:href=\"#DejaVuSans-70\" x=\"541.080078\"/>\n",
       "     </g>\n",
       "    </g>\n",
       "    <g id=\"line2d_57\">\n",
       "     <path d=\"M 39.103125 289.620312 \n",
       "L 49.103125 289.620312 \n",
       "L 59.103125 289.620312 \n",
       "\" style=\"fill: none; stroke-dasharray: 5.55,2.4; stroke-dashoffset: 0; stroke: #800080; stroke-width: 1.5\"/>\n",
       "    </g>\n",
       "    <g id=\"text_30\">\n",
       "     <!-- HandmadeCheck -->\n",
       "     <g transform=\"translate(67.103125 293.120312) scale(0.1 -0.1)\">\n",
       "      <use xlink:href=\"#DejaVuSans-48\"/>\n",
       "      <use xlink:href=\"#DejaVuSans-61\" x=\"75.195312\"/>\n",
       "      <use xlink:href=\"#DejaVuSans-6e\" x=\"136.474609\"/>\n",
       "      <use xlink:href=\"#DejaVuSans-64\" x=\"199.853516\"/>\n",
       "      <use xlink:href=\"#DejaVuSans-6d\" x=\"263.330078\"/>\n",
       "      <use xlink:href=\"#DejaVuSans-61\" x=\"360.742188\"/>\n",
       "      <use xlink:href=\"#DejaVuSans-64\" x=\"422.021484\"/>\n",
       "      <use xlink:href=\"#DejaVuSans-65\" x=\"485.498047\"/>\n",
       "      <use xlink:href=\"#DejaVuSans-43\" x=\"547.021484\"/>\n",
       "      <use xlink:href=\"#DejaVuSans-68\" x=\"616.845703\"/>\n",
       "      <use xlink:href=\"#DejaVuSans-65\" x=\"680.224609\"/>\n",
       "      <use xlink:href=\"#DejaVuSans-63\" x=\"741.748047\"/>\n",
       "      <use xlink:href=\"#DejaVuSans-6b\" x=\"796.728516\"/>\n",
       "     </g>\n",
       "    </g>\n",
       "    <g id=\"line2d_58\">\n",
       "     <path d=\"M 39.103125 304.298437 \n",
       "L 49.103125 304.298437 \n",
       "L 59.103125 304.298437 \n",
       "\" style=\"fill: none; stroke-dasharray: 5.55,2.4; stroke-dashoffset: 0; stroke: #00ffff; stroke-width: 1.5\"/>\n",
       "    </g>\n",
       "    <g id=\"text_31\">\n",
       "     <!-- Handmade -->\n",
       "     <g transform=\"translate(67.103125 307.798437) scale(0.1 -0.1)\">\n",
       "      <use xlink:href=\"#DejaVuSans-48\"/>\n",
       "      <use xlink:href=\"#DejaVuSans-61\" x=\"75.195312\"/>\n",
       "      <use xlink:href=\"#DejaVuSans-6e\" x=\"136.474609\"/>\n",
       "      <use xlink:href=\"#DejaVuSans-64\" x=\"199.853516\"/>\n",
       "      <use xlink:href=\"#DejaVuSans-6d\" x=\"263.330078\"/>\n",
       "      <use xlink:href=\"#DejaVuSans-61\" x=\"360.742188\"/>\n",
       "      <use xlink:href=\"#DejaVuSans-64\" x=\"422.021484\"/>\n",
       "      <use xlink:href=\"#DejaVuSans-65\" x=\"485.498047\"/>\n",
       "     </g>\n",
       "    </g>\n",
       "   </g>\n",
       "  </g>\n",
       "  <g id=\"axes_2\">\n",
       "   <g id=\"patch_8\">\n",
       "    <path d=\"M 30.103125 673.478125 \n",
       "L 705.573125 673.478125 \n",
       "L 705.573125 376.918125 \n",
       "L 30.103125 376.918125 \n",
       "z\n",
       "\" style=\"fill: #ffffff\"/>\n",
       "   </g>\n",
       "   <g id=\"matplotlib.axis_3\">\n",
       "    <g id=\"xtick_9\">\n",
       "     <g id=\"line2d_59\">\n",
       "      <path d=\"M 60.806307 673.478125 \n",
       "L 60.806307 376.918125 \n",
       "\" clip-path=\"url(#pc36e852f8c)\" style=\"fill: none; stroke: #b0b0b0; stroke-width: 0.8; stroke-linecap: square\"/>\n",
       "     </g>\n",
       "     <g id=\"line2d_60\">\n",
       "      <g>\n",
       "       <use xlink:href=\"#m83a443f03c\" x=\"60.806307\" y=\"673.478125\" style=\"stroke: #000000; stroke-width: 0.8\"/>\n",
       "      </g>\n",
       "     </g>\n",
       "     <g id=\"text_32\">\n",
       "      <!-- 0 -->\n",
       "      <g transform=\"translate(57.625057 688.076562) scale(0.1 -0.1)\">\n",
       "       <use xlink:href=\"#DejaVuSans-30\"/>\n",
       "      </g>\n",
       "     </g>\n",
       "    </g>\n",
       "    <g id=\"xtick_10\">\n",
       "     <g id=\"line2d_61\">\n",
       "      <path d=\"M 148.529683 673.478125 \n",
       "L 148.529683 376.918125 \n",
       "\" clip-path=\"url(#pc36e852f8c)\" style=\"fill: none; stroke: #b0b0b0; stroke-width: 0.8; stroke-linecap: square\"/>\n",
       "     </g>\n",
       "     <g id=\"line2d_62\">\n",
       "      <g>\n",
       "       <use xlink:href=\"#m83a443f03c\" x=\"148.529683\" y=\"673.478125\" style=\"stroke: #000000; stroke-width: 0.8\"/>\n",
       "      </g>\n",
       "     </g>\n",
       "     <g id=\"text_33\">\n",
       "      <!-- 2 -->\n",
       "      <g transform=\"translate(145.348433 688.076562) scale(0.1 -0.1)\">\n",
       "       <use xlink:href=\"#DejaVuSans-32\"/>\n",
       "      </g>\n",
       "     </g>\n",
       "    </g>\n",
       "    <g id=\"xtick_11\">\n",
       "     <g id=\"line2d_63\">\n",
       "      <path d=\"M 236.25306 673.478125 \n",
       "L 236.25306 376.918125 \n",
       "\" clip-path=\"url(#pc36e852f8c)\" style=\"fill: none; stroke: #b0b0b0; stroke-width: 0.8; stroke-linecap: square\"/>\n",
       "     </g>\n",
       "     <g id=\"line2d_64\">\n",
       "      <g>\n",
       "       <use xlink:href=\"#m83a443f03c\" x=\"236.25306\" y=\"673.478125\" style=\"stroke: #000000; stroke-width: 0.8\"/>\n",
       "      </g>\n",
       "     </g>\n",
       "     <g id=\"text_34\">\n",
       "      <!-- 4 -->\n",
       "      <g transform=\"translate(233.07181 688.076562) scale(0.1 -0.1)\">\n",
       "       <use xlink:href=\"#DejaVuSans-34\"/>\n",
       "      </g>\n",
       "     </g>\n",
       "    </g>\n",
       "    <g id=\"xtick_12\">\n",
       "     <g id=\"line2d_65\">\n",
       "      <path d=\"M 323.976437 673.478125 \n",
       "L 323.976437 376.918125 \n",
       "\" clip-path=\"url(#pc36e852f8c)\" style=\"fill: none; stroke: #b0b0b0; stroke-width: 0.8; stroke-linecap: square\"/>\n",
       "     </g>\n",
       "     <g id=\"line2d_66\">\n",
       "      <g>\n",
       "       <use xlink:href=\"#m83a443f03c\" x=\"323.976437\" y=\"673.478125\" style=\"stroke: #000000; stroke-width: 0.8\"/>\n",
       "      </g>\n",
       "     </g>\n",
       "     <g id=\"text_35\">\n",
       "      <!-- 6 -->\n",
       "      <g transform=\"translate(320.795187 688.076562) scale(0.1 -0.1)\">\n",
       "       <use xlink:href=\"#DejaVuSans-36\"/>\n",
       "      </g>\n",
       "     </g>\n",
       "    </g>\n",
       "    <g id=\"xtick_13\">\n",
       "     <g id=\"line2d_67\">\n",
       "      <path d=\"M 411.699813 673.478125 \n",
       "L 411.699813 376.918125 \n",
       "\" clip-path=\"url(#pc36e852f8c)\" style=\"fill: none; stroke: #b0b0b0; stroke-width: 0.8; stroke-linecap: square\"/>\n",
       "     </g>\n",
       "     <g id=\"line2d_68\">\n",
       "      <g>\n",
       "       <use xlink:href=\"#m83a443f03c\" x=\"411.699813\" y=\"673.478125\" style=\"stroke: #000000; stroke-width: 0.8\"/>\n",
       "      </g>\n",
       "     </g>\n",
       "     <g id=\"text_36\">\n",
       "      <!-- 8 -->\n",
       "      <g transform=\"translate(408.518563 688.076562) scale(0.1 -0.1)\">\n",
       "       <use xlink:href=\"#DejaVuSans-38\"/>\n",
       "      </g>\n",
       "     </g>\n",
       "    </g>\n",
       "    <g id=\"xtick_14\">\n",
       "     <g id=\"line2d_69\">\n",
       "      <path d=\"M 499.42319 673.478125 \n",
       "L 499.42319 376.918125 \n",
       "\" clip-path=\"url(#pc36e852f8c)\" style=\"fill: none; stroke: #b0b0b0; stroke-width: 0.8; stroke-linecap: square\"/>\n",
       "     </g>\n",
       "     <g id=\"line2d_70\">\n",
       "      <g>\n",
       "       <use xlink:href=\"#m83a443f03c\" x=\"499.42319\" y=\"673.478125\" style=\"stroke: #000000; stroke-width: 0.8\"/>\n",
       "      </g>\n",
       "     </g>\n",
       "     <g id=\"text_37\">\n",
       "      <!-- 10 -->\n",
       "      <g transform=\"translate(493.06069 688.076562) scale(0.1 -0.1)\">\n",
       "       <use xlink:href=\"#DejaVuSans-31\"/>\n",
       "       <use xlink:href=\"#DejaVuSans-30\" x=\"63.623047\"/>\n",
       "      </g>\n",
       "     </g>\n",
       "    </g>\n",
       "    <g id=\"xtick_15\">\n",
       "     <g id=\"line2d_71\">\n",
       "      <path d=\"M 587.146567 673.478125 \n",
       "L 587.146567 376.918125 \n",
       "\" clip-path=\"url(#pc36e852f8c)\" style=\"fill: none; stroke: #b0b0b0; stroke-width: 0.8; stroke-linecap: square\"/>\n",
       "     </g>\n",
       "     <g id=\"line2d_72\">\n",
       "      <g>\n",
       "       <use xlink:href=\"#m83a443f03c\" x=\"587.146567\" y=\"673.478125\" style=\"stroke: #000000; stroke-width: 0.8\"/>\n",
       "      </g>\n",
       "     </g>\n",
       "     <g id=\"text_38\">\n",
       "      <!-- 12 -->\n",
       "      <g transform=\"translate(580.784067 688.076562) scale(0.1 -0.1)\">\n",
       "       <use xlink:href=\"#DejaVuSans-31\"/>\n",
       "       <use xlink:href=\"#DejaVuSans-32\" x=\"63.623047\"/>\n",
       "      </g>\n",
       "     </g>\n",
       "    </g>\n",
       "    <g id=\"xtick_16\">\n",
       "     <g id=\"line2d_73\">\n",
       "      <path d=\"M 674.869943 673.478125 \n",
       "L 674.869943 376.918125 \n",
       "\" clip-path=\"url(#pc36e852f8c)\" style=\"fill: none; stroke: #b0b0b0; stroke-width: 0.8; stroke-linecap: square\"/>\n",
       "     </g>\n",
       "     <g id=\"line2d_74\">\n",
       "      <g>\n",
       "       <use xlink:href=\"#m83a443f03c\" x=\"674.869943\" y=\"673.478125\" style=\"stroke: #000000; stroke-width: 0.8\"/>\n",
       "      </g>\n",
       "     </g>\n",
       "     <g id=\"text_39\">\n",
       "      <!-- 14 -->\n",
       "      <g transform=\"translate(668.507443 688.076562) scale(0.1 -0.1)\">\n",
       "       <use xlink:href=\"#DejaVuSans-31\"/>\n",
       "       <use xlink:href=\"#DejaVuSans-34\" x=\"63.623047\"/>\n",
       "      </g>\n",
       "     </g>\n",
       "    </g>\n",
       "    <g id=\"text_40\">\n",
       "     <!-- Epoch -->\n",
       "     <g transform=\"translate(352.527187 701.754687) scale(0.1 -0.1)\">\n",
       "      <use xlink:href=\"#DejaVuSans-45\"/>\n",
       "      <use xlink:href=\"#DejaVuSans-70\" x=\"63.183594\"/>\n",
       "      <use xlink:href=\"#DejaVuSans-6f\" x=\"126.660156\"/>\n",
       "      <use xlink:href=\"#DejaVuSans-63\" x=\"187.841797\"/>\n",
       "      <use xlink:href=\"#DejaVuSans-68\" x=\"242.822266\"/>\n",
       "     </g>\n",
       "    </g>\n",
       "   </g>\n",
       "   <g id=\"matplotlib.axis_4\">\n",
       "    <g id=\"ytick_8\">\n",
       "     <g id=\"line2d_75\">\n",
       "      <path d=\"M 30.103125 671.718077 \n",
       "L 705.573125 671.718077 \n",
       "\" clip-path=\"url(#pc36e852f8c)\" style=\"fill: none; stroke: #b0b0b0; stroke-width: 0.8; stroke-linecap: square\"/>\n",
       "     </g>\n",
       "     <g id=\"line2d_76\">\n",
       "      <g>\n",
       "       <use xlink:href=\"#m630be87460\" x=\"30.103125\" y=\"671.718077\" style=\"stroke: #000000; stroke-width: 0.8\"/>\n",
       "      </g>\n",
       "     </g>\n",
       "     <g id=\"text_41\">\n",
       "      <!-- 0.2 -->\n",
       "      <g transform=\"translate(7.2 675.517296) scale(0.1 -0.1)\">\n",
       "       <use xlink:href=\"#DejaVuSans-30\"/>\n",
       "       <use xlink:href=\"#DejaVuSans-2e\" x=\"63.623047\"/>\n",
       "       <use xlink:href=\"#DejaVuSans-32\" x=\"95.410156\"/>\n",
       "      </g>\n",
       "     </g>\n",
       "    </g>\n",
       "    <g id=\"ytick_9\">\n",
       "     <g id=\"line2d_77\">\n",
       "      <path d=\"M 30.103125 620.314782 \n",
       "L 705.573125 620.314782 \n",
       "\" clip-path=\"url(#pc36e852f8c)\" style=\"fill: none; stroke: #b0b0b0; stroke-width: 0.8; stroke-linecap: square\"/>\n",
       "     </g>\n",
       "     <g id=\"line2d_78\">\n",
       "      <g>\n",
       "       <use xlink:href=\"#m630be87460\" x=\"30.103125\" y=\"620.314782\" style=\"stroke: #000000; stroke-width: 0.8\"/>\n",
       "      </g>\n",
       "     </g>\n",
       "     <g id=\"text_42\">\n",
       "      <!-- 0.3 -->\n",
       "      <g transform=\"translate(7.2 624.114001) scale(0.1 -0.1)\">\n",
       "       <defs>\n",
       "        <path id=\"DejaVuSans-33\" d=\"M 2597 2516 \n",
       "Q 3050 2419 3304 2112 \n",
       "Q 3559 1806 3559 1356 \n",
       "Q 3559 666 3084 287 \n",
       "Q 2609 -91 1734 -91 \n",
       "Q 1441 -91 1130 -33 \n",
       "Q 819 25 488 141 \n",
       "L 488 750 \n",
       "Q 750 597 1062 519 \n",
       "Q 1375 441 1716 441 \n",
       "Q 2309 441 2620 675 \n",
       "Q 2931 909 2931 1356 \n",
       "Q 2931 1769 2642 2001 \n",
       "Q 2353 2234 1838 2234 \n",
       "L 1294 2234 \n",
       "L 1294 2753 \n",
       "L 1863 2753 \n",
       "Q 2328 2753 2575 2939 \n",
       "Q 2822 3125 2822 3475 \n",
       "Q 2822 3834 2567 4026 \n",
       "Q 2313 4219 1838 4219 \n",
       "Q 1578 4219 1281 4162 \n",
       "Q 984 4106 628 3988 \n",
       "L 628 4550 \n",
       "Q 988 4650 1302 4700 \n",
       "Q 1616 4750 1894 4750 \n",
       "Q 2613 4750 3031 4423 \n",
       "Q 3450 4097 3450 3541 \n",
       "Q 3450 3153 3228 2886 \n",
       "Q 3006 2619 2597 2516 \n",
       "z\n",
       "\" transform=\"scale(0.015625)\"/>\n",
       "       </defs>\n",
       "       <use xlink:href=\"#DejaVuSans-30\"/>\n",
       "       <use xlink:href=\"#DejaVuSans-2e\" x=\"63.623047\"/>\n",
       "       <use xlink:href=\"#DejaVuSans-33\" x=\"95.410156\"/>\n",
       "      </g>\n",
       "     </g>\n",
       "    </g>\n",
       "    <g id=\"ytick_10\">\n",
       "     <g id=\"line2d_79\">\n",
       "      <path d=\"M 30.103125 568.911488 \n",
       "L 705.573125 568.911488 \n",
       "\" clip-path=\"url(#pc36e852f8c)\" style=\"fill: none; stroke: #b0b0b0; stroke-width: 0.8; stroke-linecap: square\"/>\n",
       "     </g>\n",
       "     <g id=\"line2d_80\">\n",
       "      <g>\n",
       "       <use xlink:href=\"#m630be87460\" x=\"30.103125\" y=\"568.911488\" style=\"stroke: #000000; stroke-width: 0.8\"/>\n",
       "      </g>\n",
       "     </g>\n",
       "     <g id=\"text_43\">\n",
       "      <!-- 0.4 -->\n",
       "      <g transform=\"translate(7.2 572.710706) scale(0.1 -0.1)\">\n",
       "       <use xlink:href=\"#DejaVuSans-30\"/>\n",
       "       <use xlink:href=\"#DejaVuSans-2e\" x=\"63.623047\"/>\n",
       "       <use xlink:href=\"#DejaVuSans-34\" x=\"95.410156\"/>\n",
       "      </g>\n",
       "     </g>\n",
       "    </g>\n",
       "    <g id=\"ytick_11\">\n",
       "     <g id=\"line2d_81\">\n",
       "      <path d=\"M 30.103125 517.508193 \n",
       "L 705.573125 517.508193 \n",
       "\" clip-path=\"url(#pc36e852f8c)\" style=\"fill: none; stroke: #b0b0b0; stroke-width: 0.8; stroke-linecap: square\"/>\n",
       "     </g>\n",
       "     <g id=\"line2d_82\">\n",
       "      <g>\n",
       "       <use xlink:href=\"#m630be87460\" x=\"30.103125\" y=\"517.508193\" style=\"stroke: #000000; stroke-width: 0.8\"/>\n",
       "      </g>\n",
       "     </g>\n",
       "     <g id=\"text_44\">\n",
       "      <!-- 0.5 -->\n",
       "      <g transform=\"translate(7.2 521.307412) scale(0.1 -0.1)\">\n",
       "       <defs>\n",
       "        <path id=\"DejaVuSans-35\" d=\"M 691 4666 \n",
       "L 3169 4666 \n",
       "L 3169 4134 \n",
       "L 1269 4134 \n",
       "L 1269 2991 \n",
       "Q 1406 3038 1543 3061 \n",
       "Q 1681 3084 1819 3084 \n",
       "Q 2600 3084 3056 2656 \n",
       "Q 3513 2228 3513 1497 \n",
       "Q 3513 744 3044 326 \n",
       "Q 2575 -91 1722 -91 \n",
       "Q 1428 -91 1123 -41 \n",
       "Q 819 9 494 109 \n",
       "L 494 744 \n",
       "Q 775 591 1075 516 \n",
       "Q 1375 441 1709 441 \n",
       "Q 2250 441 2565 725 \n",
       "Q 2881 1009 2881 1497 \n",
       "Q 2881 1984 2565 2268 \n",
       "Q 2250 2553 1709 2553 \n",
       "Q 1456 2553 1204 2497 \n",
       "Q 953 2441 691 2322 \n",
       "L 691 4666 \n",
       "z\n",
       "\" transform=\"scale(0.015625)\"/>\n",
       "       </defs>\n",
       "       <use xlink:href=\"#DejaVuSans-30\"/>\n",
       "       <use xlink:href=\"#DejaVuSans-2e\" x=\"63.623047\"/>\n",
       "       <use xlink:href=\"#DejaVuSans-35\" x=\"95.410156\"/>\n",
       "      </g>\n",
       "     </g>\n",
       "    </g>\n",
       "    <g id=\"ytick_12\">\n",
       "     <g id=\"line2d_83\">\n",
       "      <path d=\"M 30.103125 466.104898 \n",
       "L 705.573125 466.104898 \n",
       "\" clip-path=\"url(#pc36e852f8c)\" style=\"fill: none; stroke: #b0b0b0; stroke-width: 0.8; stroke-linecap: square\"/>\n",
       "     </g>\n",
       "     <g id=\"line2d_84\">\n",
       "      <g>\n",
       "       <use xlink:href=\"#m630be87460\" x=\"30.103125\" y=\"466.104898\" style=\"stroke: #000000; stroke-width: 0.8\"/>\n",
       "      </g>\n",
       "     </g>\n",
       "     <g id=\"text_45\">\n",
       "      <!-- 0.6 -->\n",
       "      <g transform=\"translate(7.2 469.904117) scale(0.1 -0.1)\">\n",
       "       <use xlink:href=\"#DejaVuSans-30\"/>\n",
       "       <use xlink:href=\"#DejaVuSans-2e\" x=\"63.623047\"/>\n",
       "       <use xlink:href=\"#DejaVuSans-36\" x=\"95.410156\"/>\n",
       "      </g>\n",
       "     </g>\n",
       "    </g>\n",
       "    <g id=\"ytick_13\">\n",
       "     <g id=\"line2d_85\">\n",
       "      <path d=\"M 30.103125 414.701604 \n",
       "L 705.573125 414.701604 \n",
       "\" clip-path=\"url(#pc36e852f8c)\" style=\"fill: none; stroke: #b0b0b0; stroke-width: 0.8; stroke-linecap: square\"/>\n",
       "     </g>\n",
       "     <g id=\"line2d_86\">\n",
       "      <g>\n",
       "       <use xlink:href=\"#m630be87460\" x=\"30.103125\" y=\"414.701604\" style=\"stroke: #000000; stroke-width: 0.8\"/>\n",
       "      </g>\n",
       "     </g>\n",
       "     <g id=\"text_46\">\n",
       "      <!-- 0.7 -->\n",
       "      <g transform=\"translate(7.2 418.500822) scale(0.1 -0.1)\">\n",
       "       <defs>\n",
       "        <path id=\"DejaVuSans-37\" d=\"M 525 4666 \n",
       "L 3525 4666 \n",
       "L 3525 4397 \n",
       "L 1831 0 \n",
       "L 1172 0 \n",
       "L 2766 4134 \n",
       "L 525 4134 \n",
       "L 525 4666 \n",
       "z\n",
       "\" transform=\"scale(0.015625)\"/>\n",
       "       </defs>\n",
       "       <use xlink:href=\"#DejaVuSans-30\"/>\n",
       "       <use xlink:href=\"#DejaVuSans-2e\" x=\"63.623047\"/>\n",
       "       <use xlink:href=\"#DejaVuSans-37\" x=\"95.410156\"/>\n",
       "      </g>\n",
       "     </g>\n",
       "    </g>\n",
       "   </g>\n",
       "   <g id=\"line2d_87\">\n",
       "    <path d=\"M 60.806307 654.960609 \n",
       "L 104.667995 588.547554 \n",
       "L 148.529683 566.341322 \n",
       "L 192.391372 557.294342 \n",
       "L 236.25306 542.921995 \n",
       "L 280.114748 533.936691 \n",
       "L 323.976437 524.540169 \n",
       "L 367.838125 510.579025 \n",
       "L 411.699813 496.638454 \n",
       "L 455.561502 484.568962 \n",
       "L 499.42319 464.233839 \n",
       "L 543.284878 445.05012 \n",
       "L 587.146567 426.873926 \n",
       "L 631.008255 415.91472 \n",
       "L 674.869943 390.665417 \n",
       "\" clip-path=\"url(#pc36e852f8c)\" style=\"fill: none; stroke: #000000; stroke-width: 1.5; stroke-linecap: square\"/>\n",
       "   </g>\n",
       "   <g id=\"line2d_88\">\n",
       "    <path d=\"M 60.806307 658.908381 \n",
       "L 104.667995 594.88043 \n",
       "L 148.529683 568.644192 \n",
       "L 192.391372 559.741138 \n",
       "L 236.25306 544.751941 \n",
       "L 280.114748 536.79472 \n",
       "L 323.976437 525.465429 \n",
       "L 367.838125 511.833283 \n",
       "L 411.699813 497.974947 \n",
       "L 455.561502 487.427006 \n",
       "L 499.42319 464.912365 \n",
       "L 543.284878 447.435224 \n",
       "L 587.146567 428.991738 \n",
       "L 631.008255 408.862201 \n",
       "L 674.869943 390.398125 \n",
       "\" clip-path=\"url(#pc36e852f8c)\" style=\"fill: none; stroke: #ff0000; stroke-width: 1.5; stroke-linecap: square\"/>\n",
       "   </g>\n",
       "   <g id=\"line2d_89\">\n",
       "    <path d=\"M 60.806307 659.730833 \n",
       "L 104.667995 614.578176 \n",
       "L 148.529683 582.625895 \n",
       "L 192.391372 576.539737 \n",
       "L 236.25306 565.518871 \n",
       "L 280.114748 555.855056 \n",
       "L 323.976437 549.522164 \n",
       "L 367.838125 543.292096 \n",
       "L 411.699813 540.39295 \n",
       "L 455.561502 534.450718 \n",
       "L 499.42319 529.906669 \n",
       "L 543.284878 528.426266 \n",
       "L 587.146567 520.941939 \n",
       "L 631.008255 519.255904 \n",
       "L 674.869943 515.390381 \n",
       "\" clip-path=\"url(#pc36e852f8c)\" style=\"fill: none; stroke: #0000ff; stroke-width: 1.5; stroke-linecap: square\"/>\n",
       "   </g>\n",
       "   <g id=\"line2d_90\">\n",
       "    <path d=\"M 60.806307 654.960609 \n",
       "L 104.667995 588.547554 \n",
       "L 148.529683 566.341322 \n",
       "L 192.391372 557.294342 \n",
       "L 236.25306 542.921995 \n",
       "L 280.114748 533.936691 \n",
       "L 323.976437 524.540169 \n",
       "L 367.838125 510.579025 \n",
       "L 411.699813 496.638454 \n",
       "L 455.561502 484.568962 \n",
       "L 499.42319 464.233839 \n",
       "L 543.284878 445.05012 \n",
       "L 587.146567 426.873926 \n",
       "L 631.008255 415.91472 \n",
       "L 674.869943 390.665417 \n",
       "\" clip-path=\"url(#pc36e852f8c)\" style=\"fill: none; stroke: #008000; stroke-width: 1.5; stroke-linecap: square\"/>\n",
       "   </g>\n",
       "   <g id=\"line2d_91\">\n",
       "    <path d=\"M 60.806307 659.998125 \n",
       "L 104.667995 605.140536 \n",
       "L 148.529683 584.928765 \n",
       "L 192.391372 574.092942 \n",
       "L 236.25306 565.765605 \n",
       "L 280.114748 558.651394 \n",
       "L 323.976437 551.043715 \n",
       "L 367.838125 545.923934 \n",
       "L 411.699813 538.830282 \n",
       "L 455.561502 535.787211 \n",
       "L 499.42319 532.127289 \n",
       "L 543.284878 529.51601 \n",
       "L 587.146567 522.586842 \n",
       "L 631.008255 522.134491 \n",
       "L 674.869943 517.878309 \n",
       "\" clip-path=\"url(#pc36e852f8c)\" style=\"fill: none; stroke: #ffa500; stroke-width: 1.5; stroke-linecap: square\"/>\n",
       "   </g>\n",
       "   <g id=\"line2d_92\">\n",
       "    <path d=\"M 60.806307 651.280129 \n",
       "L 104.667995 589.698989 \n",
       "L 148.529683 572.386348 \n",
       "L 192.391372 563.236575 \n",
       "L 236.25306 552.709177 \n",
       "L 280.114748 538.953649 \n",
       "L 323.976437 525.095328 \n",
       "L 367.838125 513.704361 \n",
       "L 411.699813 501.943278 \n",
       "L 455.561502 490.079402 \n",
       "L 499.42319 466.886235 \n",
       "L 543.284878 448.853952 \n",
       "L 587.146567 432.48716 \n",
       "L 631.008255 409.520168 \n",
       "L 674.869943 395.127247 \n",
       "\" clip-path=\"url(#pc36e852f8c)\" style=\"fill: none; stroke: #800080; stroke-width: 1.5; stroke-linecap: square\"/>\n",
       "   </g>\n",
       "   <g id=\"line2d_93\">\n",
       "    <path d=\"M 60.806307 658.291539 \n",
       "L 104.667995 633.206735 \n",
       "L 148.529683 603.557309 \n",
       "L 192.391372 583.530596 \n",
       "L 236.25306 581.844561 \n",
       "L 280.114748 572.674214 \n",
       "L 323.976437 568.788118 \n",
       "L 367.838125 561.262689 \n",
       "L 411.699813 555.320456 \n",
       "L 455.561502 554.580255 \n",
       "L 499.42319 546.479093 \n",
       "L 543.284878 542.757496 \n",
       "L 587.146567 540.516317 \n",
       "L 631.008255 538.871415 \n",
       "L 674.869943 532.949756 \n",
       "\" clip-path=\"url(#pc36e852f8c)\" style=\"fill: none; stroke: #00ffff; stroke-width: 1.5; stroke-linecap: square\"/>\n",
       "   </g>\n",
       "   <g id=\"line2d_94\">\n",
       "    <path d=\"M 60.806307 653.21289 \n",
       "L 104.667995 595.600089 \n",
       "L 148.529683 580.672567 \n",
       "L 192.391372 574.278 \n",
       "L 236.25306 574.771467 \n",
       "L 280.114748 569.960126 \n",
       "L 323.976437 567.98624 \n",
       "L 367.838125 570.474153 \n",
       "L 411.699813 570.885386 \n",
       "L 455.561502 575.552802 \n",
       "L 499.42319 580.158526 \n",
       "L 543.284878 585.812892 \n",
       "L 587.146567 585.689525 \n",
       "L 631.008255 587.848469 \n",
       "L 674.869943 585.730658 \n",
       "\" clip-path=\"url(#pc36e852f8c)\" style=\"fill: none; stroke-dasharray: 5.55,2.4; stroke-dashoffset: 0; stroke: #000000; stroke-width: 1.5\"/>\n",
       "   </g>\n",
       "   <g id=\"line2d_95\">\n",
       "    <path d=\"M 60.806307 656.975612 \n",
       "L 104.667995 598.602028 \n",
       "L 148.529683 582.214662 \n",
       "L 192.391372 577.95848 \n",
       "L 236.25306 576.354694 \n",
       "L 280.114748 571.954571 \n",
       "L 323.976437 569.918994 \n",
       "L 367.838125 571.58447 \n",
       "L 411.699813 572.550847 \n",
       "L 455.561502 575.162127 \n",
       "L 499.42319 580.323025 \n",
       "L 543.284878 588.732597 \n",
       "L 587.146567 587.026018 \n",
       "L 631.008255 589.14383 \n",
       "L 674.869943 588.835405 \n",
       "\" clip-path=\"url(#pc36e852f8c)\" style=\"fill: none; stroke-dasharray: 5.55,2.4; stroke-dashoffset: 0; stroke: #ff0000; stroke-width: 1.5\"/>\n",
       "   </g>\n",
       "   <g id=\"line2d_96\">\n",
       "    <path d=\"M 60.806307 658.743889 \n",
       "L 104.667995 613.940782 \n",
       "L 148.529683 592.063534 \n",
       "L 192.391372 582.091295 \n",
       "L 236.25306 575.635036 \n",
       "L 280.114748 574.833159 \n",
       "L 323.976437 567.595565 \n",
       "L 367.838125 566.012354 \n",
       "L 411.699813 566.629189 \n",
       "L 455.561502 564.69642 \n",
       "L 499.42319 563.421618 \n",
       "L 543.284878 562.434682 \n",
       "L 587.146567 563.483309 \n",
       "L 631.008255 562.516917 \n",
       "L 674.869943 562.39355 \n",
       "\" clip-path=\"url(#pc36e852f8c)\" style=\"fill: none; stroke-dasharray: 5.55,2.4; stroke-dashoffset: 0; stroke: #0000ff; stroke-width: 1.5\"/>\n",
       "   </g>\n",
       "   <g id=\"line2d_97\">\n",
       "    <path d=\"M 60.806307 653.21289 \n",
       "L 104.667995 595.600089 \n",
       "L 148.529683 580.672567 \n",
       "L 192.391372 574.278 \n",
       "L 236.25306 574.771467 \n",
       "L 280.114748 569.960126 \n",
       "L 323.976437 567.98624 \n",
       "L 367.838125 570.474153 \n",
       "L 411.699813 570.885386 \n",
       "L 455.561502 575.552802 \n",
       "L 499.42319 580.158526 \n",
       "L 543.284878 585.812892 \n",
       "L 587.146567 585.689525 \n",
       "L 631.008255 587.848469 \n",
       "L 674.869943 585.730658 \n",
       "\" clip-path=\"url(#pc36e852f8c)\" style=\"fill: none; stroke-dasharray: 5.55,2.4; stroke-dashoffset: 0; stroke: #008000; stroke-width: 1.5\"/>\n",
       "   </g>\n",
       "   <g id=\"line2d_98\">\n",
       "    <path d=\"M 60.806307 656.482144 \n",
       "L 104.667995 605.325579 \n",
       "L 148.529683 590.110207 \n",
       "L 192.391372 580.754817 \n",
       "L 236.25306 575.141568 \n",
       "L 280.114748 575.57336 \n",
       "L 323.976437 567.98624 \n",
       "L 367.838125 565.847855 \n",
       "L 411.699813 568.418017 \n",
       "L 455.561502 565.909546 \n",
       "L 499.42319 563.997335 \n",
       "L 543.284878 562.701975 \n",
       "L 587.146567 564.511377 \n",
       "L 631.008255 562.701975 \n",
       "L 674.869943 564.30576 \n",
       "\" clip-path=\"url(#pc36e852f8c)\" style=\"fill: none; stroke-dasharray: 5.55,2.4; stroke-dashoffset: 0; stroke: #ffa500; stroke-width: 1.5\"/>\n",
       "   </g>\n",
       "   <g id=\"line2d_99\">\n",
       "    <path d=\"M 60.806307 654.364325 \n",
       "L 104.667995 596.258041 \n",
       "L 148.529683 585.278307 \n",
       "L 192.391372 579.541691 \n",
       "L 236.25306 576.663104 \n",
       "L 280.114748 574.689218 \n",
       "L 323.976437 572.016247 \n",
       "L 367.838125 576.066828 \n",
       "L 411.699813 574.421925 \n",
       "L 455.561502 578.102405 \n",
       "L 499.42319 580.857626 \n",
       "L 543.284878 582.39972 \n",
       "L 587.146567 585.956818 \n",
       "L 631.008255 590.850424 \n",
       "L 674.869943 589.719547 \n",
       "\" clip-path=\"url(#pc36e852f8c)\" style=\"fill: none; stroke-dasharray: 5.55,2.4; stroke-dashoffset: 0; stroke: #800080; stroke-width: 1.5\"/>\n",
       "   </g>\n",
       "   <g id=\"line2d_100\">\n",
       "    <path d=\"M 60.806307 659.792516 \n",
       "L 104.667995 629.053346 \n",
       "L 148.529683 601.501174 \n",
       "L 192.391372 586.30636 \n",
       "L 236.25306 590.500881 \n",
       "L 280.114748 584.764265 \n",
       "L 323.976437 577.629496 \n",
       "L 367.838125 573.640591 \n",
       "L 411.699813 569.857318 \n",
       "L 455.561502 569.343276 \n",
       "L 499.42319 568.397458 \n",
       "L 543.284878 565.888972 \n",
       "L 587.146567 565.06652 \n",
       "L 631.008255 565.786179 \n",
       "L 674.869943 564.531935 \n",
       "\" clip-path=\"url(#pc36e852f8c)\" style=\"fill: none; stroke-dasharray: 5.55,2.4; stroke-dashoffset: 0; stroke: #00ffff; stroke-width: 1.5\"/>\n",
       "   </g>\n",
       "   <g id=\"patch_9\">\n",
       "    <path d=\"M 30.103125 673.478125 \n",
       "L 30.103125 376.918125 \n",
       "\" style=\"fill: none; stroke: #000000; stroke-width: 0.8; stroke-linejoin: miter; stroke-linecap: square\"/>\n",
       "   </g>\n",
       "   <g id=\"patch_10\">\n",
       "    <path d=\"M 705.573125 673.478125 \n",
       "L 705.573125 376.918125 \n",
       "\" style=\"fill: none; stroke: #000000; stroke-width: 0.8; stroke-linejoin: miter; stroke-linecap: square\"/>\n",
       "   </g>\n",
       "   <g id=\"patch_11\">\n",
       "    <path d=\"M 30.103125 673.478125 \n",
       "L 705.573125 673.478125 \n",
       "\" style=\"fill: none; stroke: #000000; stroke-width: 0.8; stroke-linejoin: miter; stroke-linecap: square\"/>\n",
       "   </g>\n",
       "   <g id=\"patch_12\">\n",
       "    <path d=\"M 30.103125 376.918125 \n",
       "L 705.573125 376.918125 \n",
       "\" style=\"fill: none; stroke: #000000; stroke-width: 0.8; stroke-linejoin: miter; stroke-linecap: square\"/>\n",
       "   </g>\n",
       "   <g id=\"text_47\">\n",
       "    <!-- Accuracy -->\n",
       "    <g transform=\"translate(340.444375 370.918125) scale(0.12 -0.12)\">\n",
       "     <defs>\n",
       "      <path id=\"DejaVuSans-41\" d=\"M 2188 4044 \n",
       "L 1331 1722 \n",
       "L 3047 1722 \n",
       "L 2188 4044 \n",
       "z\n",
       "M 1831 4666 \n",
       "L 2547 4666 \n",
       "L 4325 0 \n",
       "L 3669 0 \n",
       "L 3244 1197 \n",
       "L 1141 1197 \n",
       "L 716 0 \n",
       "L 50 0 \n",
       "L 1831 4666 \n",
       "z\n",
       "\" transform=\"scale(0.015625)\"/>\n",
       "      <path id=\"DejaVuSans-75\" d=\"M 544 1381 \n",
       "L 544 3500 \n",
       "L 1119 3500 \n",
       "L 1119 1403 \n",
       "Q 1119 906 1312 657 \n",
       "Q 1506 409 1894 409 \n",
       "Q 2359 409 2629 706 \n",
       "Q 2900 1003 2900 1516 \n",
       "L 2900 3500 \n",
       "L 3475 3500 \n",
       "L 3475 0 \n",
       "L 2900 0 \n",
       "L 2900 538 \n",
       "Q 2691 219 2414 64 \n",
       "Q 2138 -91 1772 -91 \n",
       "Q 1169 -91 856 284 \n",
       "Q 544 659 544 1381 \n",
       "z\n",
       "M 1991 3584 \n",
       "L 1991 3584 \n",
       "z\n",
       "\" transform=\"scale(0.015625)\"/>\n",
       "     </defs>\n",
       "     <use xlink:href=\"#DejaVuSans-41\"/>\n",
       "     <use xlink:href=\"#DejaVuSans-63\" x=\"66.658203\"/>\n",
       "     <use xlink:href=\"#DejaVuSans-63\" x=\"121.638672\"/>\n",
       "     <use xlink:href=\"#DejaVuSans-75\" x=\"176.619141\"/>\n",
       "     <use xlink:href=\"#DejaVuSans-72\" x=\"239.998047\"/>\n",
       "     <use xlink:href=\"#DejaVuSans-61\" x=\"281.111328\"/>\n",
       "     <use xlink:href=\"#DejaVuSans-63\" x=\"342.390625\"/>\n",
       "     <use xlink:href=\"#DejaVuSans-79\" x=\"397.371094\"/>\n",
       "    </g>\n",
       "   </g>\n",
       "   <g id=\"legend_2\">\n",
       "    <g id=\"patch_13\">\n",
       "     <path d=\"M 37.103125 590.411875 \n",
       "L 160.320313 590.411875 \n",
       "Q 162.320313 590.411875 162.320313 588.411875 \n",
       "L 162.320313 383.918125 \n",
       "Q 162.320313 381.918125 160.320313 381.918125 \n",
       "L 37.103125 381.918125 \n",
       "Q 35.103125 381.918125 35.103125 383.918125 \n",
       "L 35.103125 588.411875 \n",
       "Q 35.103125 590.411875 37.103125 590.411875 \n",
       "z\n",
       "\" style=\"fill: #ffffff; opacity: 0.8; stroke: #cccccc; stroke-linejoin: miter\"/>\n",
       "    </g>\n",
       "    <g id=\"line2d_101\">\n",
       "     <path d=\"M 39.103125 390.016562 \n",
       "L 49.103125 390.016562 \n",
       "L 59.103125 390.016562 \n",
       "\" style=\"fill: none; stroke: #000000; stroke-width: 1.5; stroke-linecap: square\"/>\n",
       "    </g>\n",
       "    <g id=\"text_48\">\n",
       "     <!-- Base -->\n",
       "     <g transform=\"translate(67.103125 393.516562) scale(0.1 -0.1)\">\n",
       "      <use xlink:href=\"#DejaVuSans-42\"/>\n",
       "      <use xlink:href=\"#DejaVuSans-61\" x=\"68.603516\"/>\n",
       "      <use xlink:href=\"#DejaVuSans-73\" x=\"129.882812\"/>\n",
       "      <use xlink:href=\"#DejaVuSans-65\" x=\"181.982422\"/>\n",
       "     </g>\n",
       "    </g>\n",
       "    <g id=\"line2d_102\">\n",
       "     <path d=\"M 39.103125 404.694687 \n",
       "L 49.103125 404.694687 \n",
       "L 59.103125 404.694687 \n",
       "\" style=\"fill: none; stroke: #ff0000; stroke-width: 1.5; stroke-linecap: square\"/>\n",
       "    </g>\n",
       "    <g id=\"text_49\">\n",
       "     <!-- VarDropCheck -->\n",
       "     <g transform=\"translate(67.103125 408.194687) scale(0.1 -0.1)\">\n",
       "      <use xlink:href=\"#DejaVuSans-56\"/>\n",
       "      <use xlink:href=\"#DejaVuSans-61\" x=\"60.658203\"/>\n",
       "      <use xlink:href=\"#DejaVuSans-72\" x=\"121.9375\"/>\n",
       "      <use xlink:href=\"#DejaVuSans-44\" x=\"163.050781\"/>\n",
       "      <use xlink:href=\"#DejaVuSans-72\" x=\"240.052734\"/>\n",
       "      <use xlink:href=\"#DejaVuSans-6f\" x=\"278.916016\"/>\n",
       "      <use xlink:href=\"#DejaVuSans-70\" x=\"340.097656\"/>\n",
       "      <use xlink:href=\"#DejaVuSans-43\" x=\"403.574219\"/>\n",
       "      <use xlink:href=\"#DejaVuSans-68\" x=\"473.398438\"/>\n",
       "      <use xlink:href=\"#DejaVuSans-65\" x=\"536.777344\"/>\n",
       "      <use xlink:href=\"#DejaVuSans-63\" x=\"598.300781\"/>\n",
       "      <use xlink:href=\"#DejaVuSans-6b\" x=\"653.28125\"/>\n",
       "     </g>\n",
       "    </g>\n",
       "    <g id=\"line2d_103\">\n",
       "     <path d=\"M 39.103125 419.372812 \n",
       "L 49.103125 419.372812 \n",
       "L 59.103125 419.372812 \n",
       "\" style=\"fill: none; stroke: #0000ff; stroke-width: 1.5; stroke-linecap: square\"/>\n",
       "    </g>\n",
       "    <g id=\"text_50\">\n",
       "     <!-- VarDrop -->\n",
       "     <g transform=\"translate(67.103125 422.872812) scale(0.1 -0.1)\">\n",
       "      <use xlink:href=\"#DejaVuSans-56\"/>\n",
       "      <use xlink:href=\"#DejaVuSans-61\" x=\"60.658203\"/>\n",
       "      <use xlink:href=\"#DejaVuSans-72\" x=\"121.9375\"/>\n",
       "      <use xlink:href=\"#DejaVuSans-44\" x=\"163.050781\"/>\n",
       "      <use xlink:href=\"#DejaVuSans-72\" x=\"240.052734\"/>\n",
       "      <use xlink:href=\"#DejaVuSans-6f\" x=\"278.916016\"/>\n",
       "      <use xlink:href=\"#DejaVuSans-70\" x=\"340.097656\"/>\n",
       "     </g>\n",
       "    </g>\n",
       "    <g id=\"line2d_104\">\n",
       "     <path d=\"M 39.103125 434.050937 \n",
       "L 49.103125 434.050937 \n",
       "L 59.103125 434.050937 \n",
       "\" style=\"fill: none; stroke: #008000; stroke-width: 1.5; stroke-linecap: square\"/>\n",
       "    </g>\n",
       "    <g id=\"text_51\">\n",
       "     <!-- FastVarDropCheck -->\n",
       "     <g transform=\"translate(67.103125 437.550937) scale(0.1 -0.1)\">\n",
       "      <use xlink:href=\"#DejaVuSans-46\"/>\n",
       "      <use xlink:href=\"#DejaVuSans-61\" x=\"48.394531\"/>\n",
       "      <use xlink:href=\"#DejaVuSans-73\" x=\"109.673828\"/>\n",
       "      <use xlink:href=\"#DejaVuSans-74\" x=\"161.773438\"/>\n",
       "      <use xlink:href=\"#DejaVuSans-56\" x=\"200.982422\"/>\n",
       "      <use xlink:href=\"#DejaVuSans-61\" x=\"261.640625\"/>\n",
       "      <use xlink:href=\"#DejaVuSans-72\" x=\"322.919922\"/>\n",
       "      <use xlink:href=\"#DejaVuSans-44\" x=\"364.033203\"/>\n",
       "      <use xlink:href=\"#DejaVuSans-72\" x=\"441.035156\"/>\n",
       "      <use xlink:href=\"#DejaVuSans-6f\" x=\"479.898438\"/>\n",
       "      <use xlink:href=\"#DejaVuSans-70\" x=\"541.080078\"/>\n",
       "      <use xlink:href=\"#DejaVuSans-43\" x=\"604.556641\"/>\n",
       "      <use xlink:href=\"#DejaVuSans-68\" x=\"674.380859\"/>\n",
       "      <use xlink:href=\"#DejaVuSans-65\" x=\"737.759766\"/>\n",
       "      <use xlink:href=\"#DejaVuSans-63\" x=\"799.283203\"/>\n",
       "      <use xlink:href=\"#DejaVuSans-6b\" x=\"854.263672\"/>\n",
       "     </g>\n",
       "    </g>\n",
       "    <g id=\"line2d_105\">\n",
       "     <path d=\"M 39.103125 448.729062 \n",
       "L 49.103125 448.729062 \n",
       "L 59.103125 448.729062 \n",
       "\" style=\"fill: none; stroke: #ffa500; stroke-width: 1.5; stroke-linecap: square\"/>\n",
       "    </g>\n",
       "    <g id=\"text_52\">\n",
       "     <!-- FastVarDrop -->\n",
       "     <g transform=\"translate(67.103125 452.229062) scale(0.1 -0.1)\">\n",
       "      <use xlink:href=\"#DejaVuSans-46\"/>\n",
       "      <use xlink:href=\"#DejaVuSans-61\" x=\"48.394531\"/>\n",
       "      <use xlink:href=\"#DejaVuSans-73\" x=\"109.673828\"/>\n",
       "      <use xlink:href=\"#DejaVuSans-74\" x=\"161.773438\"/>\n",
       "      <use xlink:href=\"#DejaVuSans-56\" x=\"200.982422\"/>\n",
       "      <use xlink:href=\"#DejaVuSans-61\" x=\"261.640625\"/>\n",
       "      <use xlink:href=\"#DejaVuSans-72\" x=\"322.919922\"/>\n",
       "      <use xlink:href=\"#DejaVuSans-44\" x=\"364.033203\"/>\n",
       "      <use xlink:href=\"#DejaVuSans-72\" x=\"441.035156\"/>\n",
       "      <use xlink:href=\"#DejaVuSans-6f\" x=\"479.898438\"/>\n",
       "      <use xlink:href=\"#DejaVuSans-70\" x=\"541.080078\"/>\n",
       "     </g>\n",
       "    </g>\n",
       "    <g id=\"line2d_106\">\n",
       "     <path d=\"M 39.103125 463.407187 \n",
       "L 49.103125 463.407187 \n",
       "L 59.103125 463.407187 \n",
       "\" style=\"fill: none; stroke: #800080; stroke-width: 1.5; stroke-linecap: square\"/>\n",
       "    </g>\n",
       "    <g id=\"text_53\">\n",
       "     <!-- HandmadeCheck -->\n",
       "     <g transform=\"translate(67.103125 466.907187) scale(0.1 -0.1)\">\n",
       "      <use xlink:href=\"#DejaVuSans-48\"/>\n",
       "      <use xlink:href=\"#DejaVuSans-61\" x=\"75.195312\"/>\n",
       "      <use xlink:href=\"#DejaVuSans-6e\" x=\"136.474609\"/>\n",
       "      <use xlink:href=\"#DejaVuSans-64\" x=\"199.853516\"/>\n",
       "      <use xlink:href=\"#DejaVuSans-6d\" x=\"263.330078\"/>\n",
       "      <use xlink:href=\"#DejaVuSans-61\" x=\"360.742188\"/>\n",
       "      <use xlink:href=\"#DejaVuSans-64\" x=\"422.021484\"/>\n",
       "      <use xlink:href=\"#DejaVuSans-65\" x=\"485.498047\"/>\n",
       "      <use xlink:href=\"#DejaVuSans-43\" x=\"547.021484\"/>\n",
       "      <use xlink:href=\"#DejaVuSans-68\" x=\"616.845703\"/>\n",
       "      <use xlink:href=\"#DejaVuSans-65\" x=\"680.224609\"/>\n",
       "      <use xlink:href=\"#DejaVuSans-63\" x=\"741.748047\"/>\n",
       "      <use xlink:href=\"#DejaVuSans-6b\" x=\"796.728516\"/>\n",
       "     </g>\n",
       "    </g>\n",
       "    <g id=\"line2d_107\">\n",
       "     <path d=\"M 39.103125 478.085312 \n",
       "L 49.103125 478.085312 \n",
       "L 59.103125 478.085312 \n",
       "\" style=\"fill: none; stroke: #00ffff; stroke-width: 1.5; stroke-linecap: square\"/>\n",
       "    </g>\n",
       "    <g id=\"text_54\">\n",
       "     <!-- Handmade -->\n",
       "     <g transform=\"translate(67.103125 481.585312) scale(0.1 -0.1)\">\n",
       "      <use xlink:href=\"#DejaVuSans-48\"/>\n",
       "      <use xlink:href=\"#DejaVuSans-61\" x=\"75.195312\"/>\n",
       "      <use xlink:href=\"#DejaVuSans-6e\" x=\"136.474609\"/>\n",
       "      <use xlink:href=\"#DejaVuSans-64\" x=\"199.853516\"/>\n",
       "      <use xlink:href=\"#DejaVuSans-6d\" x=\"263.330078\"/>\n",
       "      <use xlink:href=\"#DejaVuSans-61\" x=\"360.742188\"/>\n",
       "      <use xlink:href=\"#DejaVuSans-64\" x=\"422.021484\"/>\n",
       "      <use xlink:href=\"#DejaVuSans-65\" x=\"485.498047\"/>\n",
       "     </g>\n",
       "    </g>\n",
       "    <g id=\"line2d_108\">\n",
       "     <path d=\"M 39.103125 492.763437 \n",
       "L 49.103125 492.763437 \n",
       "L 59.103125 492.763437 \n",
       "\" style=\"fill: none; stroke-dasharray: 5.55,2.4; stroke-dashoffset: 0; stroke: #000000; stroke-width: 1.5\"/>\n",
       "    </g>\n",
       "    <g id=\"text_55\">\n",
       "     <!-- Base -->\n",
       "     <g transform=\"translate(67.103125 496.263437) scale(0.1 -0.1)\">\n",
       "      <use xlink:href=\"#DejaVuSans-42\"/>\n",
       "      <use xlink:href=\"#DejaVuSans-61\" x=\"68.603516\"/>\n",
       "      <use xlink:href=\"#DejaVuSans-73\" x=\"129.882812\"/>\n",
       "      <use xlink:href=\"#DejaVuSans-65\" x=\"181.982422\"/>\n",
       "     </g>\n",
       "    </g>\n",
       "    <g id=\"line2d_109\">\n",
       "     <path d=\"M 39.103125 507.441562 \n",
       "L 49.103125 507.441562 \n",
       "L 59.103125 507.441562 \n",
       "\" style=\"fill: none; stroke-dasharray: 5.55,2.4; stroke-dashoffset: 0; stroke: #ff0000; stroke-width: 1.5\"/>\n",
       "    </g>\n",
       "    <g id=\"text_56\">\n",
       "     <!-- VarDropCheck -->\n",
       "     <g transform=\"translate(67.103125 510.941562) scale(0.1 -0.1)\">\n",
       "      <use xlink:href=\"#DejaVuSans-56\"/>\n",
       "      <use xlink:href=\"#DejaVuSans-61\" x=\"60.658203\"/>\n",
       "      <use xlink:href=\"#DejaVuSans-72\" x=\"121.9375\"/>\n",
       "      <use xlink:href=\"#DejaVuSans-44\" x=\"163.050781\"/>\n",
       "      <use xlink:href=\"#DejaVuSans-72\" x=\"240.052734\"/>\n",
       "      <use xlink:href=\"#DejaVuSans-6f\" x=\"278.916016\"/>\n",
       "      <use xlink:href=\"#DejaVuSans-70\" x=\"340.097656\"/>\n",
       "      <use xlink:href=\"#DejaVuSans-43\" x=\"403.574219\"/>\n",
       "      <use xlink:href=\"#DejaVuSans-68\" x=\"473.398438\"/>\n",
       "      <use xlink:href=\"#DejaVuSans-65\" x=\"536.777344\"/>\n",
       "      <use xlink:href=\"#DejaVuSans-63\" x=\"598.300781\"/>\n",
       "      <use xlink:href=\"#DejaVuSans-6b\" x=\"653.28125\"/>\n",
       "     </g>\n",
       "    </g>\n",
       "    <g id=\"line2d_110\">\n",
       "     <path d=\"M 39.103125 522.119687 \n",
       "L 49.103125 522.119687 \n",
       "L 59.103125 522.119687 \n",
       "\" style=\"fill: none; stroke-dasharray: 5.55,2.4; stroke-dashoffset: 0; stroke: #0000ff; stroke-width: 1.5\"/>\n",
       "    </g>\n",
       "    <g id=\"text_57\">\n",
       "     <!-- VarDrop -->\n",
       "     <g transform=\"translate(67.103125 525.619687) scale(0.1 -0.1)\">\n",
       "      <use xlink:href=\"#DejaVuSans-56\"/>\n",
       "      <use xlink:href=\"#DejaVuSans-61\" x=\"60.658203\"/>\n",
       "      <use xlink:href=\"#DejaVuSans-72\" x=\"121.9375\"/>\n",
       "      <use xlink:href=\"#DejaVuSans-44\" x=\"163.050781\"/>\n",
       "      <use xlink:href=\"#DejaVuSans-72\" x=\"240.052734\"/>\n",
       "      <use xlink:href=\"#DejaVuSans-6f\" x=\"278.916016\"/>\n",
       "      <use xlink:href=\"#DejaVuSans-70\" x=\"340.097656\"/>\n",
       "     </g>\n",
       "    </g>\n",
       "    <g id=\"line2d_111\">\n",
       "     <path d=\"M 39.103125 536.797812 \n",
       "L 49.103125 536.797812 \n",
       "L 59.103125 536.797812 \n",
       "\" style=\"fill: none; stroke-dasharray: 5.55,2.4; stroke-dashoffset: 0; stroke: #008000; stroke-width: 1.5\"/>\n",
       "    </g>\n",
       "    <g id=\"text_58\">\n",
       "     <!-- FastVarDropCheck -->\n",
       "     <g transform=\"translate(67.103125 540.297812) scale(0.1 -0.1)\">\n",
       "      <use xlink:href=\"#DejaVuSans-46\"/>\n",
       "      <use xlink:href=\"#DejaVuSans-61\" x=\"48.394531\"/>\n",
       "      <use xlink:href=\"#DejaVuSans-73\" x=\"109.673828\"/>\n",
       "      <use xlink:href=\"#DejaVuSans-74\" x=\"161.773438\"/>\n",
       "      <use xlink:href=\"#DejaVuSans-56\" x=\"200.982422\"/>\n",
       "      <use xlink:href=\"#DejaVuSans-61\" x=\"261.640625\"/>\n",
       "      <use xlink:href=\"#DejaVuSans-72\" x=\"322.919922\"/>\n",
       "      <use xlink:href=\"#DejaVuSans-44\" x=\"364.033203\"/>\n",
       "      <use xlink:href=\"#DejaVuSans-72\" x=\"441.035156\"/>\n",
       "      <use xlink:href=\"#DejaVuSans-6f\" x=\"479.898438\"/>\n",
       "      <use xlink:href=\"#DejaVuSans-70\" x=\"541.080078\"/>\n",
       "      <use xlink:href=\"#DejaVuSans-43\" x=\"604.556641\"/>\n",
       "      <use xlink:href=\"#DejaVuSans-68\" x=\"674.380859\"/>\n",
       "      <use xlink:href=\"#DejaVuSans-65\" x=\"737.759766\"/>\n",
       "      <use xlink:href=\"#DejaVuSans-63\" x=\"799.283203\"/>\n",
       "      <use xlink:href=\"#DejaVuSans-6b\" x=\"854.263672\"/>\n",
       "     </g>\n",
       "    </g>\n",
       "    <g id=\"line2d_112\">\n",
       "     <path d=\"M 39.103125 551.475937 \n",
       "L 49.103125 551.475937 \n",
       "L 59.103125 551.475937 \n",
       "\" style=\"fill: none; stroke-dasharray: 5.55,2.4; stroke-dashoffset: 0; stroke: #ffa500; stroke-width: 1.5\"/>\n",
       "    </g>\n",
       "    <g id=\"text_59\">\n",
       "     <!-- FastVarDrop -->\n",
       "     <g transform=\"translate(67.103125 554.975937) scale(0.1 -0.1)\">\n",
       "      <use xlink:href=\"#DejaVuSans-46\"/>\n",
       "      <use xlink:href=\"#DejaVuSans-61\" x=\"48.394531\"/>\n",
       "      <use xlink:href=\"#DejaVuSans-73\" x=\"109.673828\"/>\n",
       "      <use xlink:href=\"#DejaVuSans-74\" x=\"161.773438\"/>\n",
       "      <use xlink:href=\"#DejaVuSans-56\" x=\"200.982422\"/>\n",
       "      <use xlink:href=\"#DejaVuSans-61\" x=\"261.640625\"/>\n",
       "      <use xlink:href=\"#DejaVuSans-72\" x=\"322.919922\"/>\n",
       "      <use xlink:href=\"#DejaVuSans-44\" x=\"364.033203\"/>\n",
       "      <use xlink:href=\"#DejaVuSans-72\" x=\"441.035156\"/>\n",
       "      <use xlink:href=\"#DejaVuSans-6f\" x=\"479.898438\"/>\n",
       "      <use xlink:href=\"#DejaVuSans-70\" x=\"541.080078\"/>\n",
       "     </g>\n",
       "    </g>\n",
       "    <g id=\"line2d_113\">\n",
       "     <path d=\"M 39.103125 566.154062 \n",
       "L 49.103125 566.154062 \n",
       "L 59.103125 566.154062 \n",
       "\" style=\"fill: none; stroke-dasharray: 5.55,2.4; stroke-dashoffset: 0; stroke: #800080; stroke-width: 1.5\"/>\n",
       "    </g>\n",
       "    <g id=\"text_60\">\n",
       "     <!-- HandmadeCheck -->\n",
       "     <g transform=\"translate(67.103125 569.654062) scale(0.1 -0.1)\">\n",
       "      <use xlink:href=\"#DejaVuSans-48\"/>\n",
       "      <use xlink:href=\"#DejaVuSans-61\" x=\"75.195312\"/>\n",
       "      <use xlink:href=\"#DejaVuSans-6e\" x=\"136.474609\"/>\n",
       "      <use xlink:href=\"#DejaVuSans-64\" x=\"199.853516\"/>\n",
       "      <use xlink:href=\"#DejaVuSans-6d\" x=\"263.330078\"/>\n",
       "      <use xlink:href=\"#DejaVuSans-61\" x=\"360.742188\"/>\n",
       "      <use xlink:href=\"#DejaVuSans-64\" x=\"422.021484\"/>\n",
       "      <use xlink:href=\"#DejaVuSans-65\" x=\"485.498047\"/>\n",
       "      <use xlink:href=\"#DejaVuSans-43\" x=\"547.021484\"/>\n",
       "      <use xlink:href=\"#DejaVuSans-68\" x=\"616.845703\"/>\n",
       "      <use xlink:href=\"#DejaVuSans-65\" x=\"680.224609\"/>\n",
       "      <use xlink:href=\"#DejaVuSans-63\" x=\"741.748047\"/>\n",
       "      <use xlink:href=\"#DejaVuSans-6b\" x=\"796.728516\"/>\n",
       "     </g>\n",
       "    </g>\n",
       "    <g id=\"line2d_114\">\n",
       "     <path d=\"M 39.103125 580.832187 \n",
       "L 49.103125 580.832187 \n",
       "L 59.103125 580.832187 \n",
       "\" style=\"fill: none; stroke-dasharray: 5.55,2.4; stroke-dashoffset: 0; stroke: #00ffff; stroke-width: 1.5\"/>\n",
       "    </g>\n",
       "    <g id=\"text_61\">\n",
       "     <!-- Handmade -->\n",
       "     <g transform=\"translate(67.103125 584.332187) scale(0.1 -0.1)\">\n",
       "      <use xlink:href=\"#DejaVuSans-48\"/>\n",
       "      <use xlink:href=\"#DejaVuSans-61\" x=\"75.195312\"/>\n",
       "      <use xlink:href=\"#DejaVuSans-6e\" x=\"136.474609\"/>\n",
       "      <use xlink:href=\"#DejaVuSans-64\" x=\"199.853516\"/>\n",
       "      <use xlink:href=\"#DejaVuSans-6d\" x=\"263.330078\"/>\n",
       "      <use xlink:href=\"#DejaVuSans-61\" x=\"360.742188\"/>\n",
       "      <use xlink:href=\"#DejaVuSans-64\" x=\"422.021484\"/>\n",
       "      <use xlink:href=\"#DejaVuSans-65\" x=\"485.498047\"/>\n",
       "     </g>\n",
       "    </g>\n",
       "   </g>\n",
       "  </g>\n",
       " </g>\n",
       " <defs>\n",
       "  <clipPath id=\"p530d9799bc\">\n",
       "   <rect x=\"30.103125\" y=\"22.318125\" width=\"675.47\" height=\"296.56\"/>\n",
       "  </clipPath>\n",
       "  <clipPath id=\"pc36e852f8c\">\n",
       "   <rect x=\"30.103125\" y=\"376.918125\" width=\"675.47\" height=\"296.56\"/>\n",
       "  </clipPath>\n",
       " </defs>\n",
       "</svg>\n"
      ],
      "text/plain": [
       "<Figure size 1000x1000 with 2 Axes>"
      ]
     },
     "metadata": {},
     "output_type": "display_data"
    }
   ],
   "source": [
    "fig, axes = plt.subplots(2, 1, figsize=(10, 10))\n",
    "colors = ['black', 'red', 'blue', 'green', 'orange', 'purple', 'cyan']\n",
    "\n",
    "# YOUR CODE HERE\n",
    "labels = ['Base', 'VarDropCheck', 'VarDrop', 'FastVarDropCheck', 'FastVarDrop', 'HandmadeCheck', 'Handmade']\n",
    "results = [base_res, var_drop_check_res, var_drop_res, fast_var_drop_check_res, fast_var_drop_res, handmade_check_res, handmade_res]\n",
    "\n",
    "for res, label, color in zip(results, labels, colors):\n",
    "    axes[0].plot(torch.tensor(res['train_losses']).cpu(), c=color, label=label, linestyle='-')\n",
    "    axes[1].plot(torch.tensor(res['train_accuracies']).cpu(), c=color, label=label, linestyle='-')\n",
    "\n",
    "for res, label, color in zip(results, labels, colors):\n",
    "    axes[0].plot(torch.tensor(res['test_losses']).cpu(), c=color, label=label, linestyle='--')\n",
    "    axes[1].plot(torch.tensor(res['test_accuracies']).cpu(), c=color, label=label, linestyle='--')\n",
    "\n",
    "\n",
    "axes[0].legend()\n",
    "axes[0].grid(True)\n",
    "axes[0].set_xlabel('Epoch')\n",
    "axes[0].set_title('CrossEntropy Loss')\n",
    "\n",
    "axes[1].legend()\n",
    "axes[1].grid(True)\n",
    "axes[1].set_xlabel('Epoch')\n",
    "axes[1].set_title('Accuracy')\n",
    "\n",
    "fig.tight_layout()\n",
    "plt.savefig(\"results.pdf\")\n",
    "plt.show()"
   ]
  },
  {
   "cell_type": "markdown",
   "id": "a2076750",
   "metadata": {
    "id": "a2076750",
    "papermill": {
     "duration": 0.071949,
     "end_time": "2025-04-03T12:15:48.271512",
     "exception": false,
     "start_time": "2025-04-03T12:15:48.199563",
     "status": "completed"
    },
    "tags": []
   },
   "source": [
    "Сделайте итоговые выводы о качестве работы моделей с разными реализациями DropOut:"
   ]
  },
  {
   "cell_type": "markdown",
   "id": "9652d02e",
   "metadata": {
    "id": "9652d02e",
    "papermill": {
     "duration": 0.071608,
     "end_time": "2025-04-03T12:15:48.415065",
     "exception": false,
     "start_time": "2025-04-03T12:15:48.343457",
     "status": "completed"
    },
    "tags": []
   },
   "source": [
    "**Ответ:** Краткие выводы уже были приведены выше.\n",
    "\n",
    "1. Без использования дропаутов LSTM действительно очень сильно переобучается и, как следствие, выдает меньшее качество на валидации.\n",
    "2. Использование дропаутов исправляет эту проблему, качество значительно растет, разница между качеством на валидации и трейне уменьшается.\n",
    "3. Лучше всего себя показала самая первая реализация дропаута Гала и Гарамани, так как имеет более сильную регуляризацию по сравнению с быстрой реализацией, и при этом основывается на базовой LSTM модели."
   ]
  },
  {
   "cell_type": "markdown",
   "id": "00a6dabf",
   "metadata": {
    "collapsed": true,
    "id": "00a6dabf",
    "jupyter": {
     "outputs_hidden": true
    },
    "papermill": {
     "duration": 0.071161,
     "end_time": "2025-04-03T12:15:48.558530",
     "exception": false,
     "start_time": "2025-04-03T12:15:48.487369",
     "status": "completed"
    },
    "tags": []
   },
   "source": [
    "## `Бонус. Zoneout (0.5 балла)`"
   ]
  },
  {
   "cell_type": "markdown",
   "id": "adb4e622",
   "metadata": {
    "collapsed": true,
    "id": "adb4e622",
    "jupyter": {
     "outputs_hidden": true
    },
    "papermill": {
     "duration": 0.07161,
     "end_time": "2025-04-03T12:15:48.702446",
     "exception": false,
     "start_time": "2025-04-03T12:15:48.630836",
     "status": "completed"
    },
    "tags": []
   },
   "source": [
    "Это еще одна модификация идеи дропаута применительно к рекуррентным нейросетям. В Zoneout на каждом временном шаге с вероятностью $p$ компонента скрытого состояния обновляется, а с вероятностью $1-p$ берется с предыдущего шага.\n",
    "В Виде формул ($m^t_h$ - бинарная маска):\n",
    "\n",
    "(сначала обычный рекуррентный переход, например LSTM)\n",
    "$$\n",
    "i = \\sigma(h_{t-1}W^i + x_t U^i+b_i) \\quad\n",
    "o = \\sigma(h_{t-1}W^o + x_t U^o+b_o)\n",
    "$$\n",
    "$$\n",
    "f = \\sigma(h_{t-1}W^f + x_t U^f+b_f) \\quad\n",
    "g = tanh(h_{t-1} W^g + x_t U^g+b_g)\n",
    "$$\n",
    "$$\n",
    "c_t = f \\odot c_{t-1} +  i \\odot  g \\quad\n",
    "h_t =  o \\odot tanh(c_t)\n",
    "$$\n",
    "Затем Zoneout:\n",
    "$$\n",
    "h_t = h_t * m_h^t + h_{t-1}*(1-m_h^t)\n",
    "$$\n",
    "В этом методе маска уже должна быть разная во все моменты времени (иначе метод упрощается до дропаута Гала и Гарамани). На входы $x_t$ вновь можно накладывать маску до начала работы рекуррентного слоя.  \n",
    "\n",
    "Если у вас осталось время, вы можете реализовать этот метод. Выберите основу из трех рассмотренных случаев самостоятельно.\n",
    "\n",
    "**Полный балл ставится только при наличии качественного и количественного сравнения с предыдущими моделями.**"
   ]
  },
  {
   "cell_type": "markdown",
   "id": "faa9ec3a",
   "metadata": {
    "ExecuteTime": {
     "end_time": "2021-03-31T16:05:00.702763Z",
     "start_time": "2021-03-31T16:05:00.674835Z"
    },
    "id": "faa9ec3a",
    "papermill": {
     "duration": 0.07071,
     "end_time": "2025-04-03T12:15:48.844116",
     "exception": false,
     "start_time": "2025-04-03T12:15:48.773406",
     "status": "completed"
    },
    "tags": []
   },
   "source": [
    "# `Часть 2. Language Modeling с помощью LSTM (5 баллов)`"
   ]
  },
  {
   "cell_type": "markdown",
   "id": "6fc1a2a3",
   "metadata": {
    "id": "6fc1a2a3",
    "papermill": {
     "duration": 0.071465,
     "end_time": "2025-04-03T12:15:48.989002",
     "exception": false,
     "start_time": "2025-04-03T12:15:48.917537",
     "status": "completed"
    },
    "tags": []
   },
   "source": [
    "Во второй части мы попробуем обучить модель для генерации отзывов по их началу."
   ]
  },
  {
   "cell_type": "markdown",
   "id": "adf7a2e1",
   "metadata": {
    "id": "adf7a2e1",
    "papermill": {
     "duration": 0.07255,
     "end_time": "2025-04-03T12:15:49.134081",
     "exception": false,
     "start_time": "2025-04-03T12:15:49.061531",
     "status": "completed"
    },
    "tags": []
   },
   "source": [
    "Концептуально модель будет выглядеть следующим образом:\n",
    "    \n",
    "![image info](https://www.researchgate.net/publication/350391597/figure/fig1/AS:1005416683167744@1616721425265/Structure-of-the-long-short-term-memory-language-model-LSTMLM.png)"
   ]
  },
  {
   "cell_type": "markdown",
   "id": "004d30bb",
   "metadata": {
    "id": "004d30bb",
    "papermill": {
     "duration": 0.071972,
     "end_time": "2025-04-03T12:15:49.278154",
     "exception": false,
     "start_time": "2025-04-03T12:15:49.206182",
     "status": "completed"
    },
    "tags": []
   },
   "source": [
    "В процессе обучения будем тренировать сеть предсказывать вероятность следующего символа при условии всех предыдущих. Эту вероятность можно моделировать с помощью скрытого состояния $h^{(t)}$ пропуская его через линейный слой с выходной размерностью равной размерности словаря:\n",
    "$$\n",
    "p(x^{t}|x^{t-1}, ..., x^{1}) = SoftMax(Linear(h^{(t)}))\n",
    "$$"
   ]
  },
  {
   "cell_type": "markdown",
   "id": "467f632d",
   "metadata": {
    "id": "467f632d",
    "papermill": {
     "duration": 0.072013,
     "end_time": "2025-04-03T12:15:49.421831",
     "exception": false,
     "start_time": "2025-04-03T12:15:49.349818",
     "status": "completed"
    },
    "tags": []
   },
   "source": [
    "Обратите внимание, что для вычисления $p(x^{t}|x^{t-1}, ..., x^{1})$ для всех моментов времени достаточно сделать один проход по RNN, а затем применить линейное преобразование ко всем скрытым состояниям."
   ]
  },
  {
   "cell_type": "markdown",
   "id": "36f2de75",
   "metadata": {
    "ExecuteTime": {
     "end_time": "2021-04-02T00:37:56.100520Z",
     "start_time": "2021-04-02T00:37:56.072747Z"
    },
    "id": "36f2de75",
    "papermill": {
     "duration": 0.072332,
     "end_time": "2025-04-03T12:15:49.571902",
     "exception": false,
     "start_time": "2025-04-03T12:15:49.499570",
     "status": "completed"
    },
    "tags": []
   },
   "source": [
    "В качестве функции потерь необходимо использовать `CrossEntropy`."
   ]
  },
  {
   "cell_type": "markdown",
   "id": "f8115e37",
   "metadata": {
    "id": "f8115e37",
    "papermill": {
     "duration": 0.0715,
     "end_time": "2025-04-03T12:15:49.719379",
     "exception": false,
     "start_time": "2025-04-03T12:15:49.647879",
     "status": "completed"
    },
    "tags": []
   },
   "source": [
    "Рассмотрим другой важный момент. Для того, чтобы решить данную задачу, модель должна уметь определять момент начала генерации предложения и оповещать о завершении генерации — конце предложения. Для этого добавим в словарь вспомогательные токены `<sos>`, `<eos>`. Добавив `<sos>` в начало каждого предложения и `<eos>` в конец.\n",
    "\n",
    "Модель сможет начинать генерацию как только ей будет передан токен `<sos>` и заканчивать генерацию, как только на очередном месте самым вероятным токеном оказывается `<eos>`."
   ]
  },
  {
   "cell_type": "markdown",
   "id": "34707ab8",
   "metadata": {
    "id": "34707ab8",
    "papermill": {
     "duration": 0.073596,
     "end_time": "2025-04-03T12:15:49.865675",
     "exception": false,
     "start_time": "2025-04-03T12:15:49.792079",
     "status": "completed"
    },
    "tags": []
   },
   "source": [
    "Для решения этой задачи мы воспользуемся уже реализованной LSTM с дропаутом `FastRNNLayer` и классом `RNNClassifier`, то есть архитектура сети принципиально не поменяется."
   ]
  },
  {
   "cell_type": "markdown",
   "id": "6ac34c87",
   "metadata": {
    "id": "6ac34c87",
    "papermill": {
     "duration": 0.07546,
     "end_time": "2025-04-03T12:15:50.063252",
     "exception": false,
     "start_time": "2025-04-03T12:15:49.987792",
     "status": "completed"
    },
    "tags": []
   },
   "source": [
    "## `Реализация модели и цикла обучения (2 балла)`"
   ]
  },
  {
   "cell_type": "markdown",
   "id": "c4ddbd7e",
   "metadata": {
    "id": "c4ddbd7e",
    "papermill": {
     "duration": 0.072305,
     "end_time": "2025-04-03T12:15:50.213404",
     "exception": false,
     "start_time": "2025-04-03T12:15:50.141099",
     "status": "completed"
    },
    "tags": []
   },
   "source": [
    "**Не используйте циклы в `RNNLM`, `LMCrossEntropyLoss`, `LMAccuracy`**"
   ]
  },
  {
   "cell_type": "code",
   "execution_count": 43,
   "id": "953b9efb",
   "metadata": {
    "ExecuteTime": {
     "end_time": "2024-03-30T22:43:32.296358Z",
     "start_time": "2024-03-30T22:43:32.292787Z"
    },
    "execution": {
     "iopub.execute_input": "2025-04-03T12:15:50.358519Z",
     "iopub.status.busy": "2025-04-03T12:15:50.358009Z",
     "iopub.status.idle": "2025-04-03T12:15:50.363417Z",
     "shell.execute_reply": "2025-04-03T12:15:50.362672Z"
    },
    "id": "953b9efb",
    "papermill": {
     "duration": 0.07951,
     "end_time": "2025-04-03T12:15:50.364686",
     "exception": false,
     "start_time": "2025-04-03T12:15:50.285176",
     "status": "completed"
    },
    "tags": []
   },
   "outputs": [],
   "source": [
    "class RNNLM(RNNClassifier):\n",
    "    def __init__(\n",
    "        self, embedding_dim, hidden_dim, tokenizer, dropout=0.5, layers_dropout=0.5, num_layers=1\n",
    "    ):\n",
    "        super().__init__(\n",
    "            embedding_dim=embedding_dim, hidden_dim=hidden_dim,\n",
    "            output_size=tokenizer.get_vocab_size(), tokenizer=tokenizer,\n",
    "            rec_layer=FastRNNLayer, dropout=dropout, layers_dropout=layers_dropout, num_layers=num_layers\n",
    "        )\n",
    "\n",
    "    def forward(self, tokens, tokens_lens):\n",
    "        \"\"\"\n",
    "        :param torch.Tensor(dtype=torch.long) tokens:\n",
    "            Batch of texts represented with tokens. Shape: [T, B]\n",
    "        :param torch.Tensor(dtype=torch.long) tokens_lens:\n",
    "            Number of non-padding tokens for each object in batch. Shape: [B]\n",
    "        :return torch.Tensor:\n",
    "            Distribution of next token for each time step. Shape: [T, B, V], V — size of vocabulary\n",
    "        \"\"\"\n",
    "        # Make embeddings for all tokens\n",
    "        # YOUR CODE HERE\n",
    "        embeddings = self.word_embeddings(tokens)\n",
    "\n",
    "        # Forward pass embeddings through network\n",
    "        # YOUR CODE HERE\n",
    "        batch_sz = tokens.shape[1]\n",
    "        out, (h_n, c_n) = self.rnn(embeddings)\n",
    "\n",
    "        # Take all hidden states from the last layer of LSTM for each step and perform linear transformation\n",
    "        # YOUR CODE HERE\n",
    "        out = self.output(out)\n",
    "        return out"
   ]
  },
  {
   "cell_type": "markdown",
   "id": "252c10e3",
   "metadata": {
    "id": "252c10e3",
    "papermill": {
     "duration": 0.073686,
     "end_time": "2025-04-03T12:15:50.515273",
     "exception": false,
     "start_time": "2025-04-03T12:15:50.441587",
     "status": "completed"
    },
    "tags": []
   },
   "source": [
    "Реализуем функцию потерь для данной задачи.\n",
    "\n",
    "Моменты на которые нужно обратить внимание:\n",
    "1. Распределение вероятности следующего токена для последнего токена в последовательности не участвует в подсчёте функции потерь.\n",
    "2. Необходимо учитывать, что в одном батче могут быть тексты разной длины."
   ]
  },
  {
   "cell_type": "markdown",
   "id": "bb3daba9",
   "metadata": {
    "id": "bb3daba9",
    "papermill": {
     "duration": 0.073967,
     "end_time": "2025-04-03T12:15:50.662248",
     "exception": false,
     "start_time": "2025-04-03T12:15:50.588281",
     "status": "completed"
    },
    "tags": []
   },
   "source": [
    "Для решения второй проблемы можно воспользоваться функцией `torch.nn.utils.rnn.pack_padded_sequence`.\n",
    "\n",
    "Принимая на вход батч тензоров и длину каждого тензора без учёта паддинга эта функция позволяет получить все элементы в тензорах, которые не относятся к паддингу в виде плоского массива:"
   ]
  },
  {
   "cell_type": "code",
   "execution_count": 44,
   "id": "d70d8fc7",
   "metadata": {
    "ExecuteTime": {
     "end_time": "2024-03-30T22:43:32.679509Z",
     "start_time": "2024-03-30T22:43:32.676456Z"
    },
    "execution": {
     "iopub.execute_input": "2025-04-03T12:15:50.808378Z",
     "iopub.status.busy": "2025-04-03T12:15:50.808038Z",
     "iopub.status.idle": "2025-04-03T12:15:50.812579Z",
     "shell.execute_reply": "2025-04-03T12:15:50.811885Z"
    },
    "id": "d70d8fc7",
    "papermill": {
     "duration": 0.079443,
     "end_time": "2025-04-03T12:15:50.813754",
     "exception": false,
     "start_time": "2025-04-03T12:15:50.734311",
     "status": "completed"
    },
    "tags": []
   },
   "outputs": [],
   "source": [
    "padded_tensors = torch.tensor([\n",
    "    [[1, 11, 111], [2, 22, 222], [3, 33, 333]],\n",
    "    [[4, 44, 444], [5, 55, 555], [6, 66, 666]],\n",
    "    [[7, 77, 777], [0, 0, 0], [8, 88, 888]],\n",
    "    [[9, 99, 999], [0, 0, 0], [0, 0, 0]]\n",
    "])\n",
    "tensors_lens = torch.tensor([4, 2, 3])"
   ]
  },
  {
   "cell_type": "markdown",
   "id": "83c0bf89",
   "metadata": {
    "id": "83c0bf89",
    "papermill": {
     "duration": 0.073193,
     "end_time": "2025-04-03T12:15:50.961394",
     "exception": false,
     "start_time": "2025-04-03T12:15:50.888201",
     "status": "completed"
    },
    "tags": []
   },
   "source": [
    "Обратите внимание, что `torch.nn.utils.rnn.pack_padded_sequence` автоматически переупорядочивает тензоры в батче по убыванию их длины."
   ]
  },
  {
   "cell_type": "code",
   "execution_count": 45,
   "id": "aca4a12c",
   "metadata": {
    "ExecuteTime": {
     "end_time": "2024-03-30T22:43:32.986692Z",
     "start_time": "2024-03-30T22:43:32.982235Z"
    },
    "colab": {
     "base_uri": "https://localhost:8080/"
    },
    "execution": {
     "iopub.execute_input": "2025-04-03T12:15:51.111976Z",
     "iopub.status.busy": "2025-04-03T12:15:51.111647Z",
     "iopub.status.idle": "2025-04-03T12:15:51.126567Z",
     "shell.execute_reply": "2025-04-03T12:15:51.125664Z"
    },
    "id": "aca4a12c",
    "outputId": "8b99024b-8991-45e9-efa2-08aa430fde86",
    "papermill": {
     "duration": 0.091118,
     "end_time": "2025-04-03T12:15:51.127820",
     "exception": false,
     "start_time": "2025-04-03T12:15:51.036702",
     "status": "completed"
    },
    "tags": []
   },
   "outputs": [
    {
     "data": {
      "text/plain": [
       "PackedSequence(data=tensor([[  1,  11, 111],\n",
       "        [  3,  33, 333],\n",
       "        [  2,  22, 222],\n",
       "        [  4,  44, 444],\n",
       "        [  6,  66, 666],\n",
       "        [  5,  55, 555],\n",
       "        [  7,  77, 777],\n",
       "        [  8,  88, 888],\n",
       "        [  9,  99, 999]]), batch_sizes=tensor([3, 3, 2, 1]), sorted_indices=tensor([0, 2, 1]), unsorted_indices=tensor([0, 2, 1]))"
      ]
     },
     "execution_count": 45,
     "metadata": {},
     "output_type": "execute_result"
    }
   ],
   "source": [
    "torch.nn.utils.rnn.pack_padded_sequence(padded_tensors, tensors_lens, batch_first=False, enforce_sorted=False)"
   ]
  },
  {
   "cell_type": "code",
   "execution_count": 46,
   "id": "e62e49a3",
   "metadata": {
    "ExecuteTime": {
     "end_time": "2024-03-30T22:43:33.678363Z",
     "start_time": "2024-03-30T22:43:33.675046Z"
    },
    "execution": {
     "iopub.execute_input": "2025-04-03T12:15:51.273304Z",
     "iopub.status.busy": "2025-04-03T12:15:51.273029Z",
     "iopub.status.idle": "2025-04-03T12:15:51.278125Z",
     "shell.execute_reply": "2025-04-03T12:15:51.277327Z"
    },
    "id": "e62e49a3",
    "papermill": {
     "duration": 0.079054,
     "end_time": "2025-04-03T12:15:51.279505",
     "exception": false,
     "start_time": "2025-04-03T12:15:51.200451",
     "status": "completed"
    },
    "tags": []
   },
   "outputs": [],
   "source": [
    "class LMCrossEntropyLoss(torch.nn.CrossEntropyLoss):\n",
    "    def __init__(self, *args, **kwargs):\n",
    "        super().__init__(*args, **kwargs)\n",
    "\n",
    "    def forward(self, outputs, tokens, tokens_lens):\n",
    "        \"\"\"\n",
    "        :param torch.Tensor outputs: Output from RNNLM.forward. Shape: [T, B, V]\n",
    "        :param torch.Tensor tokens: Batch of tokens. Shape: [T, B]\n",
    "        :param torch.Tensor tokens_lens: Length of each sequence in batch\n",
    "        :return torch.Tensor: CrossEntropyLoss between corresponding logits and tokens\n",
    "        \"\"\"\n",
    "        # Use torch.nn.utils.rnn.pack_padded_sequence().data to remove padding and flatten logits and tokens\n",
    "        # Do not forget specify enforce_sorted=False and correct value of batch_first\n",
    "        # YOUR CODE HERE\n",
    "        packed_outputs = torch.nn.utils.rnn.pack_padded_sequence(\n",
    "            outputs,\n",
    "            torch.clip(tokens_lens - 1, min=0).cpu(),\n",
    "            batch_first=False,\n",
    "            enforce_sorted=False\n",
    "        )\n",
    "        packed_tokens = torch.nn.utils.rnn.pack_padded_sequence(\n",
    "            tokens[1:],\n",
    "            torch.clip(tokens_lens - 1, min=0).cpu(),\n",
    "            batch_first=False,\n",
    "            enforce_sorted=False\n",
    "        )\n",
    "\n",
    "        # Use super().forward(..., ...) to compute CrossEntropyLoss\n",
    "        # YOUR CODE HERE\n",
    "        return super().forward(packed_outputs.data, packed_tokens.data)"
   ]
  },
  {
   "cell_type": "markdown",
   "id": "4e5ab7bb",
   "metadata": {
    "id": "4e5ab7bb",
    "papermill": {
     "duration": 0.072942,
     "end_time": "2025-04-03T12:15:51.425462",
     "exception": false,
     "start_time": "2025-04-03T12:15:51.352520",
     "status": "completed"
    },
    "tags": []
   },
   "source": [
    "Проверим как работает класс `LMCrossEntropyLoss`. Важно помнить, что при языковом моделировании мы предсказываем следующий токен, то есть `tokens` и `outputs` смещены друг относительно друга."
   ]
  },
  {
   "cell_type": "code",
   "execution_count": 47,
   "id": "e3c34e56",
   "metadata": {
    "colab": {
     "base_uri": "https://localhost:8080/"
    },
    "execution": {
     "iopub.execute_input": "2025-04-03T12:15:51.571023Z",
     "iopub.status.busy": "2025-04-03T12:15:51.570713Z",
     "iopub.status.idle": "2025-04-03T12:15:51.592540Z",
     "shell.execute_reply": "2025-04-03T12:15:51.591687Z"
    },
    "id": "e3c34e56",
    "outputId": "f36f2886-749d-48fe-9e80-3f5a70679ea2",
    "papermill": {
     "duration": 0.096784,
     "end_time": "2025-04-03T12:15:51.594127",
     "exception": false,
     "start_time": "2025-04-03T12:15:51.497343",
     "status": "completed"
    },
    "tags": []
   },
   "outputs": [
    {
     "data": {
      "text/plain": [
       "tensor([ 3.3636,  0.4519, 23.0000])"
      ]
     },
     "execution_count": 47,
     "metadata": {},
     "output_type": "execute_result"
    }
   ],
   "source": [
    "loss = LMCrossEntropyLoss(reduction='none')\n",
    "max_len_testing    = 3\n",
    "batch_size_testing = 2\n",
    "vocab_size_testing = 5\n",
    "\n",
    "logits = torch.zeros((max_len_testing, batch_size_testing, vocab_size_testing))\n",
    "tokens = torch.zeros((max_len_testing, batch_size_testing)).long()\n",
    "lens   = torch.tensor([2, 3])\n",
    "\n",
    "logits[:, 0, 0] = torch.tensor([1, -1, 0])\n",
    "logits[:, 0, 1] = torch.tensor([2, 3,  0])\n",
    "logits[:, 0, 2] = torch.tensor([3, 2,  0])\n",
    "logits[:, 0, 3] = torch.tensor([4, 2,  0])\n",
    "logits[:, 0, 4] = torch.tensor([5, 2,  0])\n",
    "\n",
    "\n",
    "logits[:, 1, 0] = torch.tensor([-1, 10, 2])\n",
    "logits[:, 1, 1] = torch.tensor([2, 30,  1])\n",
    "logits[:, 1, 2] = torch.tensor([4, 20,  1])\n",
    "logits[:, 1, 3] = torch.tensor([5, -10, 4])\n",
    "logits[:, 1, 4] = torch.tensor([1, 7,  13])\n",
    "\n",
    "tokens[:, 0]    = torch.tensor([1, 4, 0])\n",
    "tokens[:, 1]    = torch.tensor([3, 1, 4])\n",
    "\n",
    "\n",
    "loss(outputs=logits, tokens=tokens, tokens_lens=lens)"
   ]
  },
  {
   "cell_type": "markdown",
   "id": "5cd77711",
   "metadata": {
    "id": "5cd77711",
    "papermill": {
     "duration": 0.072643,
     "end_time": "2025-04-03T12:15:51.740503",
     "exception": false,
     "start_time": "2025-04-03T12:15:51.667860",
     "status": "completed"
    },
    "tags": []
   },
   "source": [
    "Для оценки качества нам также необходимо вычислять долю правильно предсказанных токенов. Реализуйте класс для вычисления точности."
   ]
  },
  {
   "cell_type": "code",
   "execution_count": 48,
   "id": "16754ac9",
   "metadata": {
    "ExecuteTime": {
     "end_time": "2024-03-30T22:43:34.348345Z",
     "start_time": "2024-03-30T22:43:34.343850Z"
    },
    "execution": {
     "iopub.execute_input": "2025-04-03T12:15:51.896656Z",
     "iopub.status.busy": "2025-04-03T12:15:51.896326Z",
     "iopub.status.idle": "2025-04-03T12:15:51.901586Z",
     "shell.execute_reply": "2025-04-03T12:15:51.900872Z"
    },
    "id": "16754ac9",
    "papermill": {
     "duration": 0.086327,
     "end_time": "2025-04-03T12:15:51.902906",
     "exception": false,
     "start_time": "2025-04-03T12:15:51.816579",
     "status": "completed"
    },
    "tags": []
   },
   "outputs": [],
   "source": [
    "class LMAccuracy(torch.nn.Module):\n",
    "    def __init__(self):\n",
    "        super().__init__()\n",
    "\n",
    "    def forward(self, outputs, tokens, tokens_lens):\n",
    "        \"\"\"\n",
    "        :param torch.Tensor outputs: Output from RNNLM.forward. Shape: [T, B, V]\n",
    "        :param torch.Tensor tokens: Batch of tokens. Shape: [T, B]\n",
    "        :param torch.Tensor tokens_lens: Length of each sequence in batch\n",
    "        :return torch.Tensor: Accuracy for given logits and tokens\n",
    "        \"\"\"\n",
    "        # Use torch.nn.utils.rnn.pack_padded_sequence().data to remove padding and flatten logits and tokens\n",
    "        # Do not forget specify enforce_sorted=False and correct value of batch_first\n",
    "        # YOUR CODE HERE\n",
    "        packed_outputs = torch.nn.utils.rnn.pack_padded_sequence(\n",
    "            outputs,\n",
    "            torch.clip(tokens_lens - 1, min=0).cpu(),\n",
    "            batch_first=False,\n",
    "            enforce_sorted=False\n",
    "        )\n",
    "        packed_tokens = torch.nn.utils.rnn.pack_padded_sequence(\n",
    "            tokens[1:],\n",
    "            torch.clip(tokens_lens - 1, min=0).cpu(),\n",
    "            batch_first=False,\n",
    "            enforce_sorted=False\n",
    "        )\n",
    "\n",
    "        # Use super().forward(..., ...) to compute CrossEntropyLoss\n",
    "        # YOUR CODE HERE\n",
    "        preds = torch.argmax(packed_outputs.data, dim=1)\n",
    "        return torch.sum(preds == packed_tokens.data) / preds.shape[0]"
   ]
  },
  {
   "cell_type": "markdown",
   "id": "3fbbd717",
   "metadata": {
    "id": "3fbbd717",
    "papermill": {
     "duration": 0.071396,
     "end_time": "2025-04-03T12:15:52.046504",
     "exception": false,
     "start_time": "2025-04-03T12:15:51.975108",
     "status": "completed"
    },
    "tags": []
   },
   "source": [
    "Проверим как работает класс `LMAccuracy`."
   ]
  },
  {
   "cell_type": "code",
   "execution_count": 49,
   "id": "8ac9cccb",
   "metadata": {
    "colab": {
     "base_uri": "https://localhost:8080/"
    },
    "execution": {
     "iopub.execute_input": "2025-04-03T12:15:52.193305Z",
     "iopub.status.busy": "2025-04-03T12:15:52.192976Z",
     "iopub.status.idle": "2025-04-03T12:15:52.204205Z",
     "shell.execute_reply": "2025-04-03T12:15:52.203557Z"
    },
    "id": "8ac9cccb",
    "outputId": "1f1cc2dc-71df-477a-f90e-b113a23ed8a7",
    "papermill": {
     "duration": 0.086696,
     "end_time": "2025-04-03T12:15:52.205470",
     "exception": false,
     "start_time": "2025-04-03T12:15:52.118774",
     "status": "completed"
    },
    "tags": []
   },
   "outputs": [
    {
     "data": {
      "text/plain": [
       "tensor(0.3333)"
      ]
     },
     "execution_count": 49,
     "metadata": {},
     "output_type": "execute_result"
    }
   ],
   "source": [
    "metric = LMAccuracy()\n",
    "max_len_testing    = 3\n",
    "batch_size_testing = 2\n",
    "vocab_size_testing = 5\n",
    "\n",
    "logits = torch.zeros((max_len_testing, batch_size_testing, vocab_size_testing))\n",
    "tokens = torch.zeros((max_len_testing, batch_size_testing)).long()\n",
    "lens   = torch.tensor([2, 3])\n",
    "\n",
    "logits[:, 0, 0] = torch.tensor([1, -1, 0])\n",
    "logits[:, 0, 1] = torch.tensor([2, 3,  0])\n",
    "logits[:, 0, 2] = torch.tensor([3, 2,  0])\n",
    "logits[:, 0, 3] = torch.tensor([4, 2,  0])\n",
    "logits[:, 0, 4] = torch.tensor([5, 2,  0])\n",
    "\n",
    "\n",
    "logits[:, 1, 0] = torch.tensor([-1, 10, 2])\n",
    "logits[:, 1, 1] = torch.tensor([2, 30,  1])\n",
    "logits[:, 1, 2] = torch.tensor([4, 20,  1])\n",
    "logits[:, 1, 3] = torch.tensor([5, -10, 4])\n",
    "logits[:, 1, 4] = torch.tensor([1, 7,  13])\n",
    "\n",
    "tokens[:, 0]    = torch.tensor([1, 4, 0])\n",
    "tokens[:, 1]    = torch.tensor([3, 1, 4])\n",
    "\n",
    "\n",
    "metric(outputs=logits, tokens=tokens, tokens_lens=lens)"
   ]
  },
  {
   "cell_type": "code",
   "execution_count": 50,
   "id": "e3965a75",
   "metadata": {
    "execution": {
     "iopub.execute_input": "2025-04-03T12:15:52.399130Z",
     "iopub.status.busy": "2025-04-03T12:15:52.398817Z",
     "iopub.status.idle": "2025-04-03T12:15:52.408082Z",
     "shell.execute_reply": "2025-04-03T12:15:52.407467Z"
    },
    "id": "e3965a75",
    "papermill": {
     "duration": 0.131234,
     "end_time": "2025-04-03T12:15:52.409473",
     "exception": false,
     "start_time": "2025-04-03T12:15:52.278239",
     "status": "completed"
    },
    "tags": []
   },
   "outputs": [],
   "source": [
    "metric = LMAccuracy()\n",
    "max_len_testing    = 10\n",
    "batch_size_testing = 3\n",
    "vocab_size_testing = 200\n",
    "\n",
    "set_global_seed(42)\n",
    "logits = torch.randn((max_len_testing, batch_size_testing, vocab_size_testing))\n",
    "logits[:, :, 1] = 1000\n",
    "\n",
    "tokens = torch.randint(low=0, high=vocab_size_testing, size=(max_len_testing, batch_size_testing))\n",
    "tokens[:5, :] = 1\n",
    "lens   = torch.tensor([10, 4, 9])\n",
    "\n",
    "assert metric(outputs=logits, tokens=tokens, tokens_lens=lens) == (4 + 3 + 4) / (lens - 1).sum()"
   ]
  },
  {
   "cell_type": "markdown",
   "id": "153a9648",
   "metadata": {
    "id": "153a9648",
    "papermill": {
     "duration": 0.072053,
     "end_time": "2025-04-03T12:15:52.555070",
     "exception": false,
     "start_time": "2025-04-03T12:15:52.483017",
     "status": "completed"
    },
    "tags": []
   },
   "source": [
    "Модифицируйте функции `train_epoch`, `evaluate`, `train` для обучения LM.\n",
    "\n",
    "**При вычислении точности, обратите внимание на то, что мы не предсказываем первый токен в каждой последовательности и токены, относящиеся к паддингу.**"
   ]
  },
  {
   "cell_type": "code",
   "execution_count": 51,
   "id": "72dc4fcb",
   "metadata": {
    "ExecuteTime": {
     "end_time": "2024-03-30T22:43:35.025284Z",
     "start_time": "2024-03-30T22:43:35.019283Z"
    },
    "execution": {
     "iopub.execute_input": "2025-04-03T12:15:52.700442Z",
     "iopub.status.busy": "2025-04-03T12:15:52.700128Z",
     "iopub.status.idle": "2025-04-03T12:15:52.708268Z",
     "shell.execute_reply": "2025-04-03T12:15:52.707616Z"
    },
    "id": "72dc4fcb",
    "papermill": {
     "duration": 0.08234,
     "end_time": "2025-04-03T12:15:52.709513",
     "exception": false,
     "start_time": "2025-04-03T12:15:52.627173",
     "status": "completed"
    },
    "tags": []
   },
   "outputs": [],
   "source": [
    "def train_epoch_lm(dataloader, model, loss_fn, optimizer, device):\n",
    "    model.train()\n",
    "    for idx, data in enumerate(dataloader):\n",
    "        optimizer.zero_grad()\n",
    "        # 1. Take data from batch\n",
    "        tokens, tokens_lens = data['tokens'].to(device), data['tokens_lens']\n",
    "        # 2. Perform forward pass\n",
    "        out = model(tokens, tokens_lens)\n",
    "        # 3. Evaluate loss\n",
    "        loss = loss_fn(out, tokens, tokens_lens)\n",
    "        # 4. Make optimizer step\n",
    "        loss.backward()\n",
    "        optimizer.step()\n",
    "\n",
    "def evaluate_lm(dataloader, model, loss_fn, device):\n",
    "    model.eval()\n",
    "\n",
    "    total_tokens = 0\n",
    "    total_loss = 0.0\n",
    "    total_accuracy = 0.0\n",
    "\n",
    "    accuracy_fn = LMAccuracy()\n",
    "    with torch.no_grad():\n",
    "        for idx, data in enumerate(dataloader):\n",
    "             # 1. Take data from batch\n",
    "            tokens, tokens_lens = data['tokens'].to(device), data['tokens_lens']\n",
    "            # 2. Perform forward pass\n",
    "            out = model(tokens, tokens_lens)\n",
    "            # 3. Evaluate loss\n",
    "            total_loss += loss_fn(out, tokens, tokens_lens).item() * (tokens_lens - 1).sum().item()\n",
    "            # 4. Evaluate accuracy\n",
    "            total_accuracy += accuracy_fn(out, tokens, tokens_lens).item() * (tokens_lens - 1).sum().item()\n",
    "            total_tokens += (tokens_lens - 1).sum().item()\n",
    "\n",
    "    return total_loss / total_tokens, total_accuracy / total_tokens\n",
    "\n",
    "def train_lm(\n",
    "    train_loader, test_loader, model, loss_fn, optimizer, device, num_epochs\n",
    "):\n",
    "    test_losses = []\n",
    "    train_losses = []\n",
    "    test_accuracies = []\n",
    "    train_accuracies = []\n",
    "    train_time = perf_counter()\n",
    "    for epoch in range(num_epochs):\n",
    "        train_epoch_lm(train_loader, model, loss_fn, optimizer, device)\n",
    "\n",
    "        train_loss, train_acc = evaluate_lm(train_loader, model, loss_fn, device)\n",
    "        train_accuracies.append(train_acc)\n",
    "        train_losses.append(train_loss)\n",
    "\n",
    "        test_loss, test_acc = evaluate_lm(test_loader, model, loss_fn, device)\n",
    "        test_accuracies.append(test_acc)\n",
    "        test_losses.append(test_loss)\n",
    "\n",
    "        print(\n",
    "            'Epoch: {0:d}/{1:d}. Loss (Train/Test): {2:.3f}/{3:.3f}. Accuracy (Train/Test): {4:.3f}/{5:.3f}'.format(\n",
    "                epoch + 1, num_epochs, train_losses[-1], test_losses[-1], train_accuracies[-1], test_accuracies[-1]\n",
    "            )\n",
    "        )\n",
    "    train_time = perf_counter() - train_time\n",
    "    res_dct = {\n",
    "        'train_losses': train_losses,\n",
    "        'train_accuracies': train_accuracies,\n",
    "        'test_losses': test_losses,\n",
    "        'test_accuracies': test_accuracies,\n",
    "        'train_time': train_time,\n",
    "    }\n",
    "    return res_dct"
   ]
  },
  {
   "cell_type": "markdown",
   "id": "f54c64e6",
   "metadata": {
    "id": "f54c64e6",
    "papermill": {
     "duration": 0.071986,
     "end_time": "2025-04-03T12:15:52.853949",
     "exception": false,
     "start_time": "2025-04-03T12:15:52.781963",
     "status": "completed"
    },
    "tags": []
   },
   "source": [
    "Теперь у нас всё готово для обучения модели."
   ]
  },
  {
   "cell_type": "markdown",
   "id": "24d1a664",
   "metadata": {
    "ExecuteTime": {
     "end_time": "2021-04-02T01:06:12.736180Z",
     "start_time": "2021-04-02T01:06:12.708814Z"
    },
    "id": "24d1a664",
    "papermill": {
     "duration": 0.072083,
     "end_time": "2025-04-03T12:15:53.000497",
     "exception": false,
     "start_time": "2025-04-03T12:15:52.928414",
     "status": "completed"
    },
    "tags": []
   },
   "source": [
    "Создадим токенизатор с `<sos>`, `<eos>` токенами.\n",
    "\n",
    "Обратите внимание, что в отличие от классификации текстов нам необходимо значительно увеличить размер словаря, чтобы доля `<unk>` токенов была не велика.\n",
    "\n",
    "Так же, так как задача генерации значительно сложнее задачи классификации текстов будем обучать модель только на префиксах рецензий длины $20$. Это позволяет значительно ускорить обучение."
   ]
  },
  {
   "cell_type": "code",
   "execution_count": 52,
   "id": "73c783d3",
   "metadata": {
    "execution": {
     "iopub.execute_input": "2025-04-03T12:15:53.145341Z",
     "iopub.status.busy": "2025-04-03T12:15:53.145025Z",
     "iopub.status.idle": "2025-04-03T12:15:53.158531Z",
     "shell.execute_reply": "2025-04-03T12:15:53.157850Z"
    },
    "id": "73c783d3",
    "papermill": {
     "duration": 0.087776,
     "end_time": "2025-04-03T12:15:53.159824",
     "exception": false,
     "start_time": "2025-04-03T12:15:53.072048",
     "status": "completed"
    },
    "tags": []
   },
   "outputs": [],
   "source": [
    "# min_freq=8 is approximately equivalent to max_size=30000.\n",
    "#   You can lower min_freq in order to make model vocabulary more diverse\n",
    "trainer = trainers.WordLevelTrainer(\n",
    "    min_frequency  = 8,\n",
    "    special_tokens = ['<pad>', '<unk>', '<sos>', '<eos>'],\n",
    ")\n",
    "\n",
    "tokenizer = tokenizers.Tokenizer(\n",
    "    model = tokenizers.models.WordLevel(unk_token=\"<unk>\")\n",
    ")"
   ]
  },
  {
   "cell_type": "code",
   "execution_count": 53,
   "id": "b7322e77",
   "metadata": {
    "colab": {
     "base_uri": "https://localhost:8080/"
    },
    "execution": {
     "iopub.execute_input": "2025-04-03T12:15:53.306289Z",
     "iopub.status.busy": "2025-04-03T12:15:53.305996Z",
     "iopub.status.idle": "2025-04-03T12:16:27.108914Z",
     "shell.execute_reply": "2025-04-03T12:16:27.107993Z"
    },
    "id": "b7322e77",
    "outputId": "ef424329-0113-4b79-8a04-f2914ba0f157",
    "papermill": {
     "duration": 33.877317,
     "end_time": "2025-04-03T12:16:27.110285",
     "exception": false,
     "start_time": "2025-04-03T12:15:53.232968",
     "status": "completed"
    },
    "tags": []
   },
   "outputs": [
    {
     "name": "stderr",
     "output_type": "stream",
     "text": [
      "100%|██████████| 50000/50000 [00:37<00:00, 1345.83it/s]\n"
     ]
    }
   ],
   "source": [
    "tokenizer.train_from_iterator(tqdm(get_data_iterator(), total=50_000), trainer=trainer)"
   ]
  },
  {
   "cell_type": "code",
   "execution_count": 54,
   "id": "c45bd4f3",
   "metadata": {
    "colab": {
     "base_uri": "https://localhost:8080/"
    },
    "execution": {
     "iopub.execute_input": "2025-04-03T12:16:27.287023Z",
     "iopub.status.busy": "2025-04-03T12:16:27.286720Z",
     "iopub.status.idle": "2025-04-03T12:16:27.297753Z",
     "shell.execute_reply": "2025-04-03T12:16:27.297062Z"
    },
    "id": "c45bd4f3",
    "outputId": "d6957a78-5d3d-4b08-f1eb-6e4baa5f35b5",
    "papermill": {
     "duration": 0.099507,
     "end_time": "2025-04-03T12:16:27.298984",
     "exception": false,
     "start_time": "2025-04-03T12:16:27.199477",
     "status": "completed"
    },
    "tags": []
   },
   "outputs": [
    {
     "name": "stdout",
     "output_type": "stream",
     "text": [
      "ID = 0, token = <pad>\n",
      "ID = 1, token = <unk>\n",
      "ID = 2, token = <sos>\n",
      "ID = 3, token = <eos>\n",
      "ID = 4, token = movie\n",
      "ID = 5, token = film\n",
      "ID = 6, token = one\n",
      "ID = 7, token = like\n",
      "ID = 8, token = good\n",
      "ID = 9, token = time\n"
     ]
    }
   ],
   "source": [
    "assert tokenizer.get_vocab_size() == 30000\n",
    "\n",
    "for i in range(10):\n",
    "    token = tokenizer.id_to_token(i)\n",
    "    print(f\"ID = {i}, token = {token}\")\n"
   ]
  },
  {
   "cell_type": "code",
   "execution_count": 55,
   "id": "bcdb2354",
   "metadata": {
    "ExecuteTime": {
     "end_time": "2024-03-30T22:43:49.510042Z",
     "start_time": "2024-03-30T22:43:36.069005Z"
    },
    "colab": {
     "base_uri": "https://localhost:8080/"
    },
    "execution": {
     "iopub.execute_input": "2025-04-03T12:16:27.472539Z",
     "iopub.status.busy": "2025-04-03T12:16:27.472252Z",
     "iopub.status.idle": "2025-04-03T12:17:10.828929Z",
     "shell.execute_reply": "2025-04-03T12:17:10.827853Z"
    },
    "id": "bcdb2354",
    "outputId": "7e75e7ef-6419-4196-d36e-e62fd1eb9c0f",
    "papermill": {
     "duration": 43.445013,
     "end_time": "2025-04-03T12:17:10.830242",
     "exception": false,
     "start_time": "2025-04-03T12:16:27.385229",
     "status": "completed"
    },
    "tags": []
   },
   "outputs": [
    {
     "name": "stderr",
     "output_type": "stream",
     "text": [
      "100%|██████████| 25000/25000 [00:30<00:00, 828.26it/s]\n",
      "100%|██████████| 25000/25000 [00:30<00:00, 821.02it/s] \n"
     ]
    }
   ],
   "source": [
    "lm_test_dataset = LargeMovieReviewDataset(test_data_path, tokenizer, max_len=20, pad_sos=True, pad_eos=True)\n",
    "lm_train_dataset = LargeMovieReviewDataset(train_data_path, tokenizer, max_len=20, pad_sos=True, pad_eos=True)"
   ]
  },
  {
   "cell_type": "markdown",
   "id": "0107758a",
   "metadata": {
    "id": "0107758a",
    "papermill": {
     "duration": 0.103471,
     "end_time": "2025-04-03T12:17:11.039400",
     "exception": false,
     "start_time": "2025-04-03T12:17:10.935929",
     "status": "completed"
    },
    "tags": []
   },
   "source": [
    "Создадим даталоадеры для тестовой и обучающей выборок:"
   ]
  },
  {
   "cell_type": "code",
   "execution_count": 56,
   "id": "50011c65",
   "metadata": {
    "ExecuteTime": {
     "end_time": "2024-03-30T22:43:49.514599Z",
     "start_time": "2024-03-30T22:43:49.511905Z"
    },
    "execution": {
     "iopub.execute_input": "2025-04-03T12:17:11.250185Z",
     "iopub.status.busy": "2025-04-03T12:17:11.249871Z",
     "iopub.status.idle": "2025-04-03T12:17:11.254304Z",
     "shell.execute_reply": "2025-04-03T12:17:11.253500Z"
    },
    "id": "50011c65",
    "papermill": {
     "duration": 0.109933,
     "end_time": "2025-04-03T12:17:11.255524",
     "exception": false,
     "start_time": "2025-04-03T12:17:11.145591",
     "status": "completed"
    },
    "tags": []
   },
   "outputs": [],
   "source": [
    "lm_test_dataloader = DataLoader(\n",
    "    lm_test_dataset, batch_size=196, shuffle=False, num_workers=0,\n",
    "    collate_fn=partial(collate_fn, padding_value=tokenizer.token_to_id('<pad>'))\n",
    ")\n",
    "lm_train_dataloader = DataLoader(\n",
    "    lm_train_dataset, batch_size=196, shuffle=True, num_workers=0,\n",
    "    collate_fn=partial(collate_fn, padding_value=tokenizer.token_to_id('<pad>'))\n",
    ")"
   ]
  },
  {
   "cell_type": "markdown",
   "id": "223394a0",
   "metadata": {
    "id": "223394a0",
    "papermill": {
     "duration": 0.103588,
     "end_time": "2025-04-03T12:17:11.462453",
     "exception": false,
     "start_time": "2025-04-03T12:17:11.358865",
     "status": "completed"
    },
    "tags": []
   },
   "source": [
    "Убедитесь, что все предложения имеют в начале `<sos>` токен, а в конце — `<eos>` токен."
   ]
  },
  {
   "cell_type": "code",
   "execution_count": 57,
   "id": "26171317",
   "metadata": {
    "ExecuteTime": {
     "end_time": "2024-03-30T22:43:49.750508Z",
     "start_time": "2024-03-30T22:43:49.516160Z"
    },
    "colab": {
     "base_uri": "https://localhost:8080/"
    },
    "execution": {
     "iopub.execute_input": "2025-04-03T12:17:11.718293Z",
     "iopub.status.busy": "2025-04-03T12:17:11.717954Z",
     "iopub.status.idle": "2025-04-03T12:17:11.963299Z",
     "shell.execute_reply": "2025-04-03T12:17:11.962230Z"
    },
    "id": "26171317",
    "outputId": "17da0d42-5f72-475a-cb64-8f748f44b856",
    "papermill": {
     "duration": 0.398978,
     "end_time": "2025-04-03T12:17:11.965012",
     "exception": false,
     "start_time": "2025-04-03T12:17:11.566034",
     "status": "completed"
    },
    "tags": []
   },
   "outputs": [
    {
     "data": {
      "text/plain": [
       "(tensor([[    2,     2,     2,  ...,     2,     2,     2],\n",
       "         [    5,     4,    44,  ...,   872,   106, 24597],\n",
       "         [   67,   221,   135,  ...,    63,     1, 16021],\n",
       "         ...,\n",
       "         [18324,  2178,  3214,  ...,  3387,  7180,  6159],\n",
       "         [  207,    12, 14698,  ...,   763,     6,   989],\n",
       "         [    3,     3,     3,  ...,     3,     3,     3]]),\n",
       " tensor([20, 20, 20, 20, 20, 20, 20, 20, 20, 20, 20, 20, 20, 20, 20, 20, 20, 20,\n",
       "         20, 20, 20, 20, 20, 20, 20, 20, 20, 20, 20, 20, 20, 20, 20, 20, 20, 20,\n",
       "         20, 20, 20, 20, 20, 20, 20, 20, 20, 20, 20, 20, 20, 20, 20, 20, 20, 20,\n",
       "         20, 20, 20, 20, 20, 20, 20, 20, 20, 20, 20, 20, 20, 20, 20, 20, 20, 20,\n",
       "         20, 20, 20, 20, 20, 20, 20, 20, 20, 20, 20, 20, 20, 20, 20, 20, 20, 20,\n",
       "         20, 20, 20, 20, 20, 20, 20, 20, 20, 20, 20, 20, 20, 20, 20, 20, 20, 20,\n",
       "         20, 20, 20, 20, 20, 20, 20, 20, 20, 20, 20, 20, 20, 20, 20, 20, 20, 20,\n",
       "         20, 20, 20, 20, 20, 20, 20, 20, 20, 20, 20, 20, 20, 20, 20, 20, 20, 20,\n",
       "         20, 20, 20, 20, 20, 20, 20, 20, 20, 20, 20, 20, 20, 20, 20, 20, 20, 20,\n",
       "         20, 20, 20, 20, 20, 20, 20, 20, 20, 20, 20, 20, 20, 20, 20, 20, 20, 20,\n",
       "         20, 20, 20, 20, 20, 20, 20, 20, 20, 20, 20, 20, 20, 20, 20, 20]))"
      ]
     },
     "execution_count": 57,
     "metadata": {},
     "output_type": "execute_result"
    }
   ],
   "source": [
    "batch = next(iter(lm_train_dataloader))\n",
    "batch['tokens'], batch['tokens_lens']"
   ]
  },
  {
   "cell_type": "markdown",
   "id": "20bfb695",
   "metadata": {
    "id": "20bfb695",
    "papermill": {
     "duration": 0.104966,
     "end_time": "2025-04-03T12:17:12.179125",
     "exception": false,
     "start_time": "2025-04-03T12:17:12.074159",
     "status": "completed"
    },
    "tags": []
   },
   "source": [
    "Создадим модель, функцию потерь и оптимизатор:"
   ]
  },
  {
   "cell_type": "code",
   "execution_count": 58,
   "id": "7621e6ac",
   "metadata": {
    "ExecuteTime": {
     "end_time": "2024-03-30T22:44:12.583751Z",
     "start_time": "2024-03-30T22:44:12.396308Z"
    },
    "execution": {
     "iopub.execute_input": "2025-04-03T12:17:12.388212Z",
     "iopub.status.busy": "2025-04-03T12:17:12.387915Z",
     "iopub.status.idle": "2025-04-03T12:17:12.743841Z",
     "shell.execute_reply": "2025-04-03T12:17:12.743091Z"
    },
    "id": "7621e6ac",
    "papermill": {
     "duration": 0.462222,
     "end_time": "2025-04-03T12:17:12.745370",
     "exception": false,
     "start_time": "2025-04-03T12:17:12.283148",
     "status": "completed"
    },
    "tags": []
   },
   "outputs": [],
   "source": [
    "lm_model = RNNLM(\n",
    "    embedding_dim=512, hidden_dim=512, tokenizer=tokenizer, dropout=0.6, layers_dropout=0.6, num_layers=2\n",
    ").to(device=device)"
   ]
  },
  {
   "cell_type": "code",
   "execution_count": 59,
   "id": "8c1e519d",
   "metadata": {
    "ExecuteTime": {
     "end_time": "2024-03-30T22:44:13.200355Z",
     "start_time": "2024-03-30T22:44:13.197422Z"
    },
    "execution": {
     "iopub.execute_input": "2025-04-03T12:17:12.957386Z",
     "iopub.status.busy": "2025-04-03T12:17:12.957064Z",
     "iopub.status.idle": "2025-04-03T12:17:12.961123Z",
     "shell.execute_reply": "2025-04-03T12:17:12.960446Z"
    },
    "id": "8c1e519d",
    "papermill": {
     "duration": 0.1112,
     "end_time": "2025-04-03T12:17:12.962354",
     "exception": false,
     "start_time": "2025-04-03T12:17:12.851154",
     "status": "completed"
    },
    "tags": []
   },
   "outputs": [],
   "source": [
    "lm_loss_fn = LMCrossEntropyLoss(reduction='mean')\n",
    "lm_optimizer = torch.optim.Adam(lm_model.parameters(), lr=0.005, weight_decay=1.2e-6)"
   ]
  },
  {
   "cell_type": "markdown",
   "id": "f95653e4",
   "metadata": {
    "id": "f95653e4",
    "papermill": {
     "duration": 0.10606,
     "end_time": "2025-04-03T12:17:13.172464",
     "exception": false,
     "start_time": "2025-04-03T12:17:13.066404",
     "status": "completed"
    },
    "tags": []
   },
   "source": [
    "Обучим модель:"
   ]
  },
  {
   "cell_type": "code",
   "execution_count": 60,
   "id": "6df10177",
   "metadata": {
    "ExecuteTime": {
     "end_time": "2024-03-30T22:43:49.959423Z",
     "start_time": "2024-03-30T22:43:49.950621Z"
    },
    "colab": {
     "base_uri": "https://localhost:8080/"
    },
    "execution": {
     "iopub.execute_input": "2025-04-03T12:17:13.381013Z",
     "iopub.status.busy": "2025-04-03T12:17:13.380735Z",
     "iopub.status.idle": "2025-04-03T12:17:13.385930Z",
     "shell.execute_reply": "2025-04-03T12:17:13.385139Z"
    },
    "id": "6df10177",
    "outputId": "567accc8-e99f-45c6-e519-573ffad1647b",
    "papermill": {
     "duration": 0.111163,
     "end_time": "2025-04-03T12:17:13.387108",
     "exception": false,
     "start_time": "2025-04-03T12:17:13.275945",
     "status": "completed"
    },
    "tags": []
   },
   "outputs": [
    {
     "name": "stdout",
     "output_type": "stream",
     "text": [
      "CPU times: user 2.53 s, sys: 105 ms, total: 2.63 s\n",
      "Wall time: 4.31 s\n"
     ]
    }
   ],
   "source": [
    "%%time\n",
    "lm_model = torch.compile(lm_model)"
   ]
  },
  {
   "cell_type": "code",
   "execution_count": 61,
   "id": "d5929056",
   "metadata": {
    "ExecuteTime": {
     "end_time": "2024-03-30T22:45:24.729739Z",
     "start_time": "2024-03-30T22:44:15.095894Z"
    },
    "colab": {
     "base_uri": "https://localhost:8080/"
    },
    "execution": {
     "iopub.execute_input": "2025-04-03T12:17:13.595868Z",
     "iopub.status.busy": "2025-04-03T12:17:13.595564Z",
     "iopub.status.idle": "2025-04-03T12:21:47.873781Z",
     "shell.execute_reply": "2025-04-03T12:21:47.872597Z"
    },
    "id": "d5929056",
    "outputId": "28b2f6ec-f208-427b-8534-e012d30f0e4d",
    "papermill": {
     "duration": 274.540768,
     "end_time": "2025-04-03T12:21:48.030763",
     "exception": false,
     "start_time": "2025-04-03T12:17:13.489995",
     "status": "completed"
    },
    "tags": []
   },
   "outputs": [
    {
     "name": "stderr",
     "output_type": "stream",
     "text": [
      "W0404 09:37:15.548000 654 torch/_inductor/utils.py:1137] [4/0] Not enough SMs to use max_autotune_gemm mode\n"
     ]
    },
    {
     "name": "stdout",
     "output_type": "stream",
     "text": [
      "Epoch: 1/10. Loss (Train/Test): 7.603/7.729. Accuracy (Train/Test): 0.074/0.074\n",
      "Epoch: 2/10. Loss (Train/Test): 7.508/7.669. Accuracy (Train/Test): 0.082/0.082\n",
      "Epoch: 3/10. Loss (Train/Test): 7.383/7.603. Accuracy (Train/Test): 0.087/0.086\n",
      "Epoch: 4/10. Loss (Train/Test): 7.195/7.486. Accuracy (Train/Test): 0.091/0.090\n",
      "Epoch: 5/10. Loss (Train/Test): 7.022/7.412. Accuracy (Train/Test): 0.095/0.094\n",
      "Epoch: 6/10. Loss (Train/Test): 6.865/7.375. Accuracy (Train/Test): 0.099/0.097\n",
      "Epoch: 7/10. Loss (Train/Test): 6.712/7.355. Accuracy (Train/Test): 0.102/0.099\n",
      "Epoch: 8/10. Loss (Train/Test): 6.556/7.345. Accuracy (Train/Test): 0.104/0.100\n",
      "Epoch: 9/10. Loss (Train/Test): 6.392/7.368. Accuracy (Train/Test): 0.107/0.101\n",
      "Epoch: 10/10. Loss (Train/Test): 6.249/7.400. Accuracy (Train/Test): 0.110/0.103\n"
     ]
    }
   ],
   "source": [
    "lm_res = train_lm(\n",
    "    lm_train_dataloader, lm_test_dataloader, lm_model, lm_loss_fn, lm_optimizer, device, 10\n",
    ")\n",
    "torch.save(lm_res, 'lm_res')"
   ]
  },
  {
   "cell_type": "markdown",
   "id": "84089c41",
   "metadata": {
    "id": "84089c41",
    "papermill": {
     "duration": 0.10549,
     "end_time": "2025-04-03T12:21:48.244691",
     "exception": false,
     "start_time": "2025-04-03T12:21:48.139201",
     "status": "completed"
    },
    "tags": []
   },
   "source": [
    "## `Реализация декодера (1 балл)`"
   ]
  },
  {
   "cell_type": "markdown",
   "id": "6dcb0c1a",
   "metadata": {
    "id": "6dcb0c1a",
    "papermill": {
     "duration": 0.10394,
     "end_time": "2025-04-03T12:21:48.452577",
     "exception": false,
     "start_time": "2025-04-03T12:21:48.348637",
     "status": "completed"
    },
    "tags": []
   },
   "source": [
    "Теперь, реализуем последнюю деталь — декодирование с использованием обученной модели.\n",
    "Есть несколько вариантов. Рассмотрим два самых простых:\n",
    "1. **Жадное декодирование.** На каждом шаге мы выбираем токен с максимальной вероятностью и используем его для обновления скрытого состояния RNN.\n",
    "2. **Top-k sampling.** На очередном шаге рассматриваются $k$ токенов с самыми большими вероятностями. Остальные токены игнорируются. Из выбранных токенов семплируется следующий токен пропорционально их вероятностям.\n",
    "\n",
    "Прочитать подробнее про разные варианты декодирования можно по ссылкам:\n",
    "1. [От huggingface](https://huggingface.co/blog/how-to-generate)\n",
    "2. [На towardsdatascience](https://towardsdatascience.com/decoding-strategies-that-you-need-to-know-for-response-generation-ba95ee0faadc)"
   ]
  },
  {
   "cell_type": "markdown",
   "id": "ead0e2b2",
   "metadata": {
    "id": "ead0e2b2",
    "papermill": {
     "duration": 0.104022,
     "end_time": "2025-04-03T12:21:48.660347",
     "exception": false,
     "start_time": "2025-04-03T12:21:48.556325",
     "status": "completed"
    },
    "tags": []
   },
   "source": [
    "Существенным в процессе декодирования является критерий останова. Как только очередной самый вероятный символ оказался `<eos>`, то данная последовательность считается сгенерированной. Однако, может так оказаться, что `<eos>` никогда не будет выбран, тогда необходимо прекратить генерацию, как только длина последовательности перейдёт порог `max_generated_len`."
   ]
  },
  {
   "cell_type": "code",
   "execution_count": 62,
   "id": "51806927",
   "metadata": {
    "ExecuteTime": {
     "end_time": "2024-03-30T22:46:24.344570Z",
     "start_time": "2024-03-30T22:46:24.337751Z"
    },
    "execution": {
     "iopub.execute_input": "2025-04-03T12:21:48.873988Z",
     "iopub.status.busy": "2025-04-03T12:21:48.873665Z",
     "iopub.status.idle": "2025-04-03T12:21:48.882748Z",
     "shell.execute_reply": "2025-04-03T12:21:48.882120Z"
    },
    "id": "51806927",
    "papermill": {
     "duration": 0.118579,
     "end_time": "2025-04-03T12:21:48.883924",
     "exception": false,
     "start_time": "2025-04-03T12:21:48.765345",
     "status": "completed"
    },
    "tags": []
   },
   "outputs": [],
   "source": [
    "@torch.no_grad()\n",
    "def decode(\n",
    "    model, start_tokens, start_tokens_lens,\n",
    "    max_generated_len=20, top_k=None, eos_idx=tokenizer.token_to_id('<eos>')\n",
    "):\n",
    "    \"\"\"\n",
    "    :param RNNLM model: Model\n",
    "    :param torch.Tensor start_tokens: Batch of seed tokens. Shape: [T, B]\n",
    "    :param torch.Tensor start_tokens_lens: Length of each sequence in batch. Shape: [B]\n",
    "    :param int max_generated_len: Maximum lenght of generated samples\n",
    "    :param Optional[int] top_k: Number of tokens with the largest probability to sample from\n",
    "    :return Tuple[torch.Tensor, torch.Tensor].\n",
    "        Newly predicted tokens and length of generated part. Shape [T*, B], [B]\n",
    "    \"\"\"\n",
    "    # Get embedding for start_tokens\n",
    "    # YOUR CODE HERE\n",
    "    embedding = model.word_embeddings(start_tokens)\n",
    "    # Pass embedding through rnn and collect hidden states and cell states for each time moment\n",
    "    all_h, all_c = [], []\n",
    "    h = embedding.new_zeros([model.rnn.num_layers, start_tokens.shape[1], model.hidden_dim])\n",
    "    c = embedding.new_zeros([model.rnn.num_layers, start_tokens.shape[1], model.hidden_dim])\n",
    "    for time_step in range(start_tokens.shape[0]):\n",
    "        # YOUR CODE HERE\n",
    "        _, (h, c) = model.rnn(embedding[time_step][None, :, :], (h, c))\n",
    "        all_h.append(h)\n",
    "        all_c.append(c)\n",
    "\n",
    "    all_h = torch.stack(all_h, dim=1)\n",
    "    all_c = torch.stack(all_c, dim=1)\n",
    "    # Take final hidden state and cell state for each start sequence in batch\n",
    "    # We will use them as h_0, c_0 for generation new tokens\n",
    "    h = all_h[:, start_tokens_lens - 1, torch.arange(start_tokens_lens.shape[0])]\n",
    "    c = all_c[:, start_tokens_lens - 1, torch.arange(start_tokens_lens.shape[0])]\n",
    "\n",
    "    # List of predicted tokens for each time step\n",
    "    predicted_tokens = []\n",
    "    # Length of generated part for each object in the batch\n",
    "    decoded_lens = torch.zeros_like(start_tokens_lens, dtype=torch.long)\n",
    "    # Boolean mask where we store if the sequence has already generated\n",
    "    # i.e. `<eos>` was selected on any step\n",
    "    is_finished_decoding = torch.zeros_like(start_tokens_lens, dtype=torch.bool)\n",
    "\n",
    "    # Stop when all sequences in the batch are finished\n",
    "    while not torch.all(is_finished_decoding) and torch.max(decoded_lens) < max_generated_len:\n",
    "        # Evaluate next token distribution using hidden state h.\n",
    "        # Note. Over first dimension h has hidden states for each layer of LSTM.\n",
    "        #     We must use hidden state from the last layer\n",
    "        # YOUR CODE HERE\n",
    "        logits = model.output(h[-1])\n",
    "        if top_k is not None:\n",
    "            # Top-k sampling. Use only top-k most probable logits to sample next token\n",
    "            indices_to_remove = logits < torch.topk(logits, top_k)[0][:, -1, None]\n",
    "            # Mask non top-k logits\n",
    "            logits[indices_to_remove] = -1e10\n",
    "            # Sample next_token.\n",
    "            # YOUR CODE HERE\n",
    "            probs = logits.softmax(dim=-1)\n",
    "            next_token = probs.multinomial(1)[:, 0]\n",
    "        else:\n",
    "            # Select most probable token\n",
    "            # YOUR CODE HERE\n",
    "            next_token = logits.argmax(dim=-1)\n",
    "        predicted_tokens.append(next_token)\n",
    "\n",
    "        decoded_lens += (~is_finished_decoding)\n",
    "        is_finished_decoding |= (next_token == torch.tensor(eos_idx))\n",
    "\n",
    "        # Compute embedding for next token\n",
    "        # YOUR CODE HERE\n",
    "        embedding = model.word_embeddings(next_token)\n",
    "\n",
    "        # Update hidden and cell states\n",
    "        # YOUR CODE HERE\n",
    "        _, (h, c) = model.rnn(embedding[None, :, :], (h, c))\n",
    "\n",
    "    return torch.stack(predicted_tokens), decoded_lens"
   ]
  },
  {
   "cell_type": "markdown",
   "id": "84ff49c1",
   "metadata": {
    "id": "84ff49c1",
    "papermill": {
     "duration": 0.107271,
     "end_time": "2025-04-03T12:21:49.095726",
     "exception": false,
     "start_time": "2025-04-03T12:21:48.988455",
     "status": "completed"
    },
    "tags": []
   },
   "source": [
    "Для тестирования создадим удобный класс `FakeLM`, который будет реализовывать весь необходимый функционал, а именно:\n",
    "\n",
    "- `word_embeddings` - по токенам возвращает их эмбеддинги;\n",
    "\n",
    "- `output` - по вектору контекста (h) возвращает вероятности следующих токенов;\n",
    "\n",
    "- `rnn` - обновляет контекст. Будем использовать класс `FakeRNN`.\n",
    "\n",
    "Для простоты будем считать, что эмбеддинг токена и есть сам токен, а процесс генерации является марковским, то есть все переходы можно описать матрицей.\n",
    "\n",
    "Такая постановка поможет нам удобно задать все переходы и нарисовать их на бумаге (если возникнет необходимость в отладке). Кроме того, мы можем не думать об обновлении контекста, так как контекст и есть текущее слово (его эмбеддинг)."
   ]
  },
  {
   "cell_type": "code",
   "execution_count": 63,
   "id": "9fda0e47",
   "metadata": {
    "execution": {
     "iopub.execute_input": "2025-04-03T12:21:49.307389Z",
     "iopub.status.busy": "2025-04-03T12:21:49.307057Z",
     "iopub.status.idle": "2025-04-03T12:21:49.312796Z",
     "shell.execute_reply": "2025-04-03T12:21:49.312150Z"
    },
    "id": "9fda0e47",
    "papermill": {
     "duration": 0.113172,
     "end_time": "2025-04-03T12:21:49.313932",
     "exception": false,
     "start_time": "2025-04-03T12:21:49.200760",
     "status": "completed"
    },
    "tags": []
   },
   "outputs": [],
   "source": [
    "class FakeRNN:\n",
    "    def __init__(self):\n",
    "        self.num_layers = 1\n",
    "\n",
    "    def __call__(self, embedding, h_c):\n",
    "        \"\"\"\n",
    "        :param torch.Tensor embedding: Batch of embedding. Shape: [T, B, E]\n",
    "        :param Optional[Tuple[torch.Tensor, torch.Tensor]] h_c: initial hidden state and initial cell state\n",
    "        \"\"\"\n",
    "        return None, (embedding, torch.zeros_like(embedding))\n",
    "\n",
    "\n",
    "class FakeLM:\n",
    "    def __init__(self, rnn, transition_matrix):\n",
    "        self.rnn = rnn\n",
    "        self.transition_matrix = transition_matrix\n",
    "        self.hidden_dim = 1\n",
    "\n",
    "    def word_embeddings(self, tokens):\n",
    "        \"\"\"\n",
    "        :param torch.Tensor tokens: Batch of seed tokens. Shape: [T, B] or [B]\n",
    "        :return torch.Tensor\n",
    "            Batch of tokens embeddings. Shape: [T, BS, E] or [B, E]\n",
    "        \"\"\"\n",
    "        return tokens[..., None].float()\n",
    "\n",
    "    def output(self, h):\n",
    "        \"\"\"\n",
    "        :param torch.Tensor h: Batch of seed tokens. Shape: [B, E]\n",
    "        :return torch.Tensor.\n",
    "            Batch of new_tokens logits. Shape: [B, V]\n",
    "        \"\"\"\n",
    "        idx  = h.long().ravel().cpu().numpy()\n",
    "        logits = list(self.transition_matrix[i] for i in idx)\n",
    "        logits = torch.stack(logits, dim=0).float()\n",
    "        return logits\n"
   ]
  },
  {
   "cell_type": "markdown",
   "id": "981bc44b",
   "metadata": {
    "id": "981bc44b",
    "papermill": {
     "duration": 0.105209,
     "end_time": "2025-04-03T12:21:49.523822",
     "exception": false,
     "start_time": "2025-04-03T12:21:49.418613",
     "status": "completed"
    },
    "tags": []
   },
   "source": [
    "#### `Тест 1`\n",
    "\n",
    "Зададим переходную матрицу `transitions` так, чтобы после токена $i$ вероятней всего следовал токен $i + 1$ mod $V$, где $V$ размер словаря. Тогда мы ожидаем получить циклические последовательности."
   ]
  },
  {
   "cell_type": "code",
   "execution_count": 64,
   "id": "6d01d8c4",
   "metadata": {
    "execution": {
     "iopub.execute_input": "2025-04-03T12:21:49.744106Z",
     "iopub.status.busy": "2025-04-03T12:21:49.743810Z",
     "iopub.status.idle": "2025-04-03T12:21:49.748468Z",
     "shell.execute_reply": "2025-04-03T12:21:49.747658Z"
    },
    "id": "6d01d8c4",
    "papermill": {
     "duration": 0.111281,
     "end_time": "2025-04-03T12:21:49.749673",
     "exception": false,
     "start_time": "2025-04-03T12:21:49.638392",
     "status": "completed"
    },
    "tags": []
   },
   "outputs": [],
   "source": [
    "transitions = {\n",
    "    0: torch.tensor([4, 5, 0, 0, 0]),\n",
    "    1: torch.tensor([0, 4, 5, 0, 0]),\n",
    "    2: torch.tensor([0, 0, 4, 5, 0]),\n",
    "    3: torch.tensor([0, 0, 0, 4, 5]),\n",
    "    4: torch.tensor([5, 0, 0, 0, 4]),\n",
    "}\n",
    "\n",
    "fake_lm = FakeLM(FakeRNN(), transitions)"
   ]
  },
  {
   "cell_type": "code",
   "execution_count": 65,
   "id": "8b6c7156",
   "metadata": {
    "execution": {
     "iopub.execute_input": "2025-04-03T12:21:50.009208Z",
     "iopub.status.busy": "2025-04-03T12:21:50.008900Z",
     "iopub.status.idle": "2025-04-03T12:21:50.017468Z",
     "shell.execute_reply": "2025-04-03T12:21:50.016631Z"
    },
    "id": "8b6c7156",
    "papermill": {
     "duration": 0.115907,
     "end_time": "2025-04-03T12:21:50.018765",
     "exception": false,
     "start_time": "2025-04-03T12:21:49.902858",
     "status": "completed"
    },
    "tags": []
   },
   "outputs": [],
   "source": [
    "decoded_tokens, decoded_lens = decode(\n",
    "    model             = fake_lm,\n",
    "    start_tokens      = torch.zeros((4, 3)),\n",
    "    start_tokens_lens = torch.tensor([1, 2, 3]),\n",
    "    eos_idx           = 10,\n",
    "    max_generated_len = 8\n",
    ")\n"
   ]
  },
  {
   "cell_type": "code",
   "execution_count": 66,
   "id": "4bc29a71",
   "metadata": {
    "execution": {
     "iopub.execute_input": "2025-04-03T12:21:50.230140Z",
     "iopub.status.busy": "2025-04-03T12:21:50.229860Z",
     "iopub.status.idle": "2025-04-03T12:21:50.235238Z",
     "shell.execute_reply": "2025-04-03T12:21:50.234431Z"
    },
    "id": "4bc29a71",
    "papermill": {
     "duration": 0.112062,
     "end_time": "2025-04-03T12:21:50.236569",
     "exception": false,
     "start_time": "2025-04-03T12:21:50.124507",
     "status": "completed"
    },
    "tags": []
   },
   "outputs": [],
   "source": [
    "assert decoded_tokens.shape == (8, 3), f\"Shape = {decoded_tokens.shape}\"\n",
    "assert (decoded_tokens[:, 0] == torch.tensor([1, 2, 3, 4, 0, 1, 2, 3])).all()\n",
    "assert (decoded_tokens[:, 1] == torch.tensor([1, 2, 3, 4, 0, 1, 2, 3])).all()\n",
    "assert (decoded_tokens[:, 2] == torch.tensor([1, 2, 3, 4, 0, 1, 2, 3])).all()"
   ]
  },
  {
   "cell_type": "markdown",
   "id": "feb08688",
   "metadata": {
    "id": "feb08688",
    "papermill": {
     "duration": 0.103627,
     "end_time": "2025-04-03T12:21:50.444503",
     "exception": false,
     "start_time": "2025-04-03T12:21:50.340876",
     "status": "completed"
    },
    "tags": []
   },
   "source": [
    "#### `Тест 2`\n",
    "\n",
    "Усложним и зададим разные начальные токены."
   ]
  },
  {
   "cell_type": "code",
   "execution_count": 67,
   "id": "de0f73fa",
   "metadata": {
    "execution": {
     "iopub.execute_input": "2025-04-03T12:21:50.653417Z",
     "iopub.status.busy": "2025-04-03T12:21:50.653090Z",
     "iopub.status.idle": "2025-04-03T12:21:50.659605Z",
     "shell.execute_reply": "2025-04-03T12:21:50.658953Z"
    },
    "id": "de0f73fa",
    "papermill": {
     "duration": 0.112353,
     "end_time": "2025-04-03T12:21:50.660782",
     "exception": false,
     "start_time": "2025-04-03T12:21:50.548429",
     "status": "completed"
    },
    "tags": []
   },
   "outputs": [],
   "source": [
    "start_tokens = torch.tensor(\n",
    "    [\n",
    "        [0, 0, 0],\n",
    "        [0, 1, 1],\n",
    "        [0, 0, 2],\n",
    "        [0, 0, 0]\n",
    "    ]\n",
    ")\n",
    "\n",
    "decoded_tokens, decoded_lens = decode(\n",
    "    model             = fake_lm,\n",
    "    start_tokens      = start_tokens,\n",
    "    start_tokens_lens = torch.tensor([1, 2, 3]),\n",
    "    eos_idx           = 10,\n",
    "    max_generated_len = 8\n",
    ")"
   ]
  },
  {
   "cell_type": "code",
   "execution_count": 68,
   "id": "d1150d33",
   "metadata": {
    "execution": {
     "iopub.execute_input": "2025-04-03T12:21:50.871871Z",
     "iopub.status.busy": "2025-04-03T12:21:50.871616Z",
     "iopub.status.idle": "2025-04-03T12:21:50.876435Z",
     "shell.execute_reply": "2025-04-03T12:21:50.875805Z"
    },
    "id": "d1150d33",
    "papermill": {
     "duration": 0.113266,
     "end_time": "2025-04-03T12:21:50.877670",
     "exception": false,
     "start_time": "2025-04-03T12:21:50.764404",
     "status": "completed"
    },
    "tags": []
   },
   "outputs": [],
   "source": [
    "assert decoded_tokens.shape == (8, 3), f\"Shape = {decoded_tokens.shape}\"\n",
    "assert (decoded_tokens[:, 0] == torch.tensor([1, 2, 3, 4, 0, 1, 2, 3])).all()\n",
    "assert (decoded_tokens[:, 1] == torch.tensor([2, 3, 4, 0, 1, 2, 3, 4])).all()\n",
    "assert (decoded_tokens[:, 2] == torch.tensor([3, 4, 0, 1, 2, 3, 4, 0])).all()"
   ]
  },
  {
   "cell_type": "code",
   "execution_count": 69,
   "id": "7ace2f7c",
   "metadata": {
    "execution": {
     "iopub.execute_input": "2025-04-03T12:21:51.106769Z",
     "iopub.status.busy": "2025-04-03T12:21:51.106444Z",
     "iopub.status.idle": "2025-04-03T12:21:51.113915Z",
     "shell.execute_reply": "2025-04-03T12:21:51.113184Z"
    },
    "id": "7ace2f7c",
    "papermill": {
     "duration": 0.133416,
     "end_time": "2025-04-03T12:21:51.115442",
     "exception": false,
     "start_time": "2025-04-03T12:21:50.982026",
     "status": "completed"
    },
    "tags": []
   },
   "outputs": [],
   "source": [
    "decoded_tokens, decoded_lens = decode(\n",
    "    model             = fake_lm,\n",
    "    start_tokens      = start_tokens,\n",
    "    start_tokens_lens = torch.tensor([1, 2, 3]),\n",
    "    eos_idx           = 4,\n",
    "    max_generated_len = 8\n",
    ")\n",
    "assert (decoded_lens == torch.tensor([4, 3, 2])).all()\n",
    "\n",
    "assert (decoded_tokens[:, 0] == torch.tensor([1, 2, 3, 4])).all()\n",
    "assert (decoded_tokens[:, 1] == torch.tensor([2, 3, 4, 0])).all()\n",
    "assert (decoded_tokens[:, 2] == torch.tensor([3, 4, 0, 1])).all()"
   ]
  },
  {
   "cell_type": "markdown",
   "id": "bf48f841",
   "metadata": {
    "id": "bf48f841",
    "papermill": {
     "duration": 0.104171,
     "end_time": "2025-04-03T12:21:51.327575",
     "exception": false,
     "start_time": "2025-04-03T12:21:51.223404",
     "status": "completed"
    },
    "tags": []
   },
   "source": [
    "#### `Тест 3`\n",
    "\n",
    "Перейдем к тестированию `top_k`. Благодаря этому параметру мы можем увеличить разнообразие текстов. Поскольку проверять недетерминированную генерацию достаточно трудно, мы проверим, что в среднем генерируются адекватные последовательности.\n",
    "\n",
    "При заданной нами переходной матрице мы ожидаем:\n",
    "\n",
    "- При `top_k = 1` получим детерминированную генерацию;\n",
    "\n",
    "- При `top_k = 2` получим последовательности, где в почти в половине случаев будем стоять на месте;\n",
    "\n",
    "- При `top_k > 2` получим похожее на `top_k = 2`."
   ]
  },
  {
   "cell_type": "code",
   "execution_count": 70,
   "id": "ba683087",
   "metadata": {
    "execution": {
     "iopub.execute_input": "2025-04-03T12:21:51.537013Z",
     "iopub.status.busy": "2025-04-03T12:21:51.536665Z",
     "iopub.status.idle": "2025-04-03T12:21:51.561458Z",
     "shell.execute_reply": "2025-04-03T12:21:51.560733Z"
    },
    "id": "ba683087",
    "papermill": {
     "duration": 0.13103,
     "end_time": "2025-04-03T12:21:51.562814",
     "exception": false,
     "start_time": "2025-04-03T12:21:51.431784",
     "status": "completed"
    },
    "tags": []
   },
   "outputs": [],
   "source": [
    "set_global_seed(42)\n",
    "\n",
    "decoded_tokens, decoded_lens = decode(\n",
    "    model             = fake_lm,\n",
    "    start_tokens      = torch.zeros((4, 3)),\n",
    "    start_tokens_lens = torch.tensor([1, 2, 3]),\n",
    "    eos_idx           = 10,\n",
    "    max_generated_len = 8,\n",
    "    top_k             = 1\n",
    ")"
   ]
  },
  {
   "cell_type": "code",
   "execution_count": 71,
   "id": "b5afaacb",
   "metadata": {
    "execution": {
     "iopub.execute_input": "2025-04-03T12:21:51.819072Z",
     "iopub.status.busy": "2025-04-03T12:21:51.818777Z",
     "iopub.status.idle": "2025-04-03T12:21:51.824032Z",
     "shell.execute_reply": "2025-04-03T12:21:51.823144Z"
    },
    "id": "b5afaacb",
    "papermill": {
     "duration": 0.158233,
     "end_time": "2025-04-03T12:21:51.825365",
     "exception": false,
     "start_time": "2025-04-03T12:21:51.667132",
     "status": "completed"
    },
    "tags": []
   },
   "outputs": [],
   "source": [
    "assert decoded_tokens.shape == (8, 3), f\"Shape = {decoded_tokens.shape}\"\n",
    "assert (decoded_tokens[:, 0] == torch.tensor([1, 2, 3, 4, 0, 1, 2, 3])).all()\n",
    "assert (decoded_tokens[:, 1] == torch.tensor([1, 2, 3, 4, 0, 1, 2, 3])).all()\n",
    "assert (decoded_tokens[:, 2] == torch.tensor([1, 2, 3, 4, 0, 1, 2, 3])).all()"
   ]
  },
  {
   "cell_type": "code",
   "execution_count": 72,
   "id": "3922514a",
   "metadata": {
    "colab": {
     "base_uri": "https://localhost:8080/"
    },
    "execution": {
     "iopub.execute_input": "2025-04-03T12:21:52.049760Z",
     "iopub.status.busy": "2025-04-03T12:21:52.049442Z",
     "iopub.status.idle": "2025-04-03T12:21:52.060152Z",
     "shell.execute_reply": "2025-04-03T12:21:52.059345Z"
    },
    "id": "3922514a",
    "outputId": "3b47bf43-8021-429b-c391-77440b2619e7",
    "papermill": {
     "duration": 0.125379,
     "end_time": "2025-04-03T12:21:52.061315",
     "exception": false,
     "start_time": "2025-04-03T12:21:51.935936",
     "status": "completed"
    },
    "tags": []
   },
   "outputs": [
    {
     "data": {
      "text/plain": [
       "tensor([[1, 1, 1],\n",
       "        [1, 2, 1],\n",
       "        [2, 3, 1],\n",
       "        [3, 4, 2],\n",
       "        [4, 0, 3],\n",
       "        [0, 0, 4],\n",
       "        [1, 1, 0],\n",
       "        [2, 2, 1]])"
      ]
     },
     "execution_count": 72,
     "metadata": {},
     "output_type": "execute_result"
    }
   ],
   "source": [
    "set_global_seed(42)\n",
    "\n",
    "decoded_tokens_k2, decoded_lens = decode(\n",
    "    model             = fake_lm,\n",
    "    start_tokens      = torch.zeros((4, 3)),\n",
    "    start_tokens_lens = torch.tensor([1, 2, 3]),\n",
    "    eos_idx           = 10,\n",
    "    max_generated_len = 8,\n",
    "    top_k             = 2\n",
    ")\n",
    "\n",
    "decoded_tokens_k2"
   ]
  },
  {
   "cell_type": "code",
   "execution_count": 73,
   "id": "d2beb003",
   "metadata": {
    "execution": {
     "iopub.execute_input": "2025-04-03T12:21:52.273510Z",
     "iopub.status.busy": "2025-04-03T12:21:52.273178Z",
     "iopub.status.idle": "2025-04-03T12:21:52.280844Z",
     "shell.execute_reply": "2025-04-03T12:21:52.280147Z"
    },
    "id": "d2beb003",
    "papermill": {
     "duration": 0.113507,
     "end_time": "2025-04-03T12:21:52.282074",
     "exception": false,
     "start_time": "2025-04-03T12:21:52.168567",
     "status": "completed"
    },
    "tags": []
   },
   "outputs": [],
   "source": [
    "set_global_seed(42)\n",
    "\n",
    "decoded_tokens_k3, decoded_lens = decode(\n",
    "    model             = fake_lm,\n",
    "    start_tokens      = torch.zeros((4, 3)),\n",
    "    start_tokens_lens = torch.tensor([1, 2, 3]),\n",
    "    eos_idx           = 10,\n",
    "    max_generated_len = 8,\n",
    "    top_k             = 3\n",
    ")"
   ]
  },
  {
   "cell_type": "code",
   "execution_count": 74,
   "id": "70dfa26a",
   "metadata": {
    "execution": {
     "iopub.execute_input": "2025-04-03T12:21:52.494398Z",
     "iopub.status.busy": "2025-04-03T12:21:52.494072Z",
     "iopub.status.idle": "2025-04-03T12:21:52.497691Z",
     "shell.execute_reply": "2025-04-03T12:21:52.497066Z"
    },
    "id": "70dfa26a",
    "papermill": {
     "duration": 0.11004,
     "end_time": "2025-04-03T12:21:52.498881",
     "exception": false,
     "start_time": "2025-04-03T12:21:52.388841",
     "status": "completed"
    },
    "tags": []
   },
   "outputs": [],
   "source": [
    "assert (decoded_tokens_k3 == decoded_tokens_k2).all()"
   ]
  },
  {
   "cell_type": "markdown",
   "id": "bb26339b",
   "metadata": {
    "ExecuteTime": {
     "end_time": "2021-04-02T01:38:06.232189Z",
     "start_time": "2021-04-02T01:38:06.205413Z"
    },
    "id": "bb26339b",
    "papermill": {
     "duration": 0.10347,
     "end_time": "2025-04-03T12:21:52.706276",
     "exception": false,
     "start_time": "2025-04-03T12:21:52.602806",
     "status": "completed"
    },
    "tags": []
   },
   "source": [
    "Попробуем сгенерировать продолжения для нескольких префиксов:"
   ]
  },
  {
   "cell_type": "code",
   "execution_count": 75,
   "id": "97508dc4",
   "metadata": {
    "ExecuteTime": {
     "end_time": "2024-03-30T22:46:25.138264Z",
     "start_time": "2024-03-30T22:46:25.135301Z"
    },
    "colab": {
     "base_uri": "https://localhost:8080/"
    },
    "execution": {
     "iopub.execute_input": "2025-04-03T12:21:52.918394Z",
     "iopub.status.busy": "2025-04-03T12:21:52.918068Z",
     "iopub.status.idle": "2025-04-03T12:21:52.925318Z",
     "shell.execute_reply": "2025-04-03T12:21:52.924422Z"
    },
    "id": "97508dc4",
    "outputId": "543091be-a75b-465d-9647-b63260254ec8",
    "papermill": {
     "duration": 0.114881,
     "end_time": "2025-04-03T12:21:52.926764",
     "exception": false,
     "start_time": "2025-04-03T12:21:52.811883",
     "status": "completed"
    },
    "tags": []
   },
   "outputs": [
    {
     "data": {
      "text/plain": [
       "tensor([[  2,   2,   2,   2],\n",
       "        [  0,   1,   1,   1],\n",
       "        [  0, 392,  42, 140],\n",
       "        [  0,   4,   4,   4]])"
      ]
     },
     "execution_count": 75,
     "metadata": {},
     "output_type": "execute_result"
    }
   ],
   "source": [
    "start_tokens = torch.tensor([\n",
    "    lm_model.tokenizer.encode(['<sos>', '<pad>', '<pad>', '<pad>'], is_pretokenized=True).ids,\n",
    "    lm_model.tokenizer.encode(['<sos>', 'my', 'favorite', 'movie'], is_pretokenized=True).ids,\n",
    "    lm_model.tokenizer.encode(['<sos>', 'the', 'best', 'movie'],    is_pretokenized=True).ids,\n",
    "    lm_model.tokenizer.encode(['<sos>', 'the', 'worst', 'movie'],   is_pretokenized=True).ids,\n",
    "]).T\n",
    "\n",
    "start_tokens_lens = torch.tensor([1, 4, 4, 4])\n",
    "start_tokens"
   ]
  },
  {
   "cell_type": "code",
   "execution_count": 76,
   "id": "48dc24b8",
   "metadata": {
    "ExecuteTime": {
     "end_time": "2024-03-30T22:46:25.775584Z",
     "start_time": "2024-03-30T22:46:25.524089Z"
    },
    "execution": {
     "iopub.execute_input": "2025-04-03T12:21:53.139501Z",
     "iopub.status.busy": "2025-04-03T12:21:53.139208Z",
     "iopub.status.idle": "2025-04-03T12:21:53.597136Z",
     "shell.execute_reply": "2025-04-03T12:21:53.596136Z"
    },
    "id": "48dc24b8",
    "papermill": {
     "duration": 0.564038,
     "end_time": "2025-04-03T12:21:53.598826",
     "exception": false,
     "start_time": "2025-04-03T12:21:53.034788",
     "status": "completed"
    },
    "tags": []
   },
   "outputs": [],
   "source": [
    "set_global_seed(42)\n",
    "\n",
    "lm_model = lm_model.cpu()\n",
    "lm_model.eval()\n",
    "decoded_tokens, decoded_lens = decode(lm_model, start_tokens, start_tokens_lens, max_generated_len=10, top_k=5)"
   ]
  },
  {
   "cell_type": "code",
   "execution_count": 77,
   "id": "d50de0be",
   "metadata": {
    "ExecuteTime": {
     "end_time": "2024-03-30T22:46:25.826630Z",
     "start_time": "2024-03-30T22:46:25.777128Z"
    },
    "colab": {
     "base_uri": "https://localhost:8080/",
     "height": 85
    },
    "execution": {
     "iopub.execute_input": "2025-04-03T12:21:53.813713Z",
     "iopub.status.busy": "2025-04-03T12:21:53.813435Z",
     "iopub.status.idle": "2025-04-03T12:21:53.823370Z",
     "shell.execute_reply": "2025-04-03T12:21:53.822536Z"
    },
    "id": "d50de0be",
    "outputId": "f0662c00-2094-466a-8624-4d60d0c3fe21",
    "papermill": {
     "duration": 0.117554,
     "end_time": "2025-04-03T12:21:53.824532",
     "exception": false,
     "start_time": "2025-04-03T12:21:53.706978",
     "status": "completed"
    },
    "tags": []
   },
   "outputs": [
    {
     "data": {
      "text/markdown": [
       "<div class=\"alert alert-block alert-info\"> <b>&lt;sos&gt; first half hour half hour episode first foremost like show</b></div>"
      ],
      "text/plain": [
       "<IPython.core.display.Markdown object>"
      ]
     },
     "metadata": {},
     "output_type": "display_data"
    },
    {
     "data": {
      "text/markdown": [
       "<div class=\"alert alert-block alert-info\"> <b>&lt;sos&gt; &lt;unk&gt; favorite movie goer happen film maker named christie films made film noir</b></div>"
      ],
      "text/plain": [
       "<IPython.core.display.Markdown object>"
      ]
     },
     "metadata": {},
     "output_type": "display_data"
    },
    {
     "data": {
      "text/markdown": [
       "<div class=\"alert alert-block alert-info\"> <b>&lt;sos&gt; &lt;unk&gt; best movie goer happen one worst indulgence existent craftsmen developed dialog weak</b></div>"
      ],
      "text/plain": [
       "<IPython.core.display.Markdown object>"
      ]
     },
     "metadata": {},
     "output_type": "display_data"
    },
    {
     "data": {
      "text/markdown": [
       "<div class=\"alert alert-block alert-info\"> <b>&lt;sos&gt; &lt;unk&gt; worst movie serves intentions bad news simon schrader &lt;unk&gt; hai made show</b></div>"
      ],
      "text/plain": [
       "<IPython.core.display.Markdown object>"
      ]
     },
     "metadata": {},
     "output_type": "display_data"
    }
   ],
   "source": [
    "for text_idx in range(start_tokens.shape[1]):\n",
    "    decoded_text_tokens = decoded_tokens[:decoded_lens[text_idx], text_idx]\n",
    "    tokens = start_tokens[:start_tokens_lens[text_idx], text_idx].tolist() + decoded_text_tokens.tolist()\n",
    "    words = lm_model.tokenizer.decode(tokens, skip_special_tokens=False).split(' ')\n",
    "\n",
    "    text = ' '.join(words).replace('<', '&lt;').replace('>', '&gt;')\n",
    "    display(Markdown(f'<div class=\"alert alert-block alert-info\"> <b>{text}</b></div>'))"
   ]
  },
  {
   "cell_type": "markdown",
   "id": "b57e9435",
   "metadata": {
    "id": "b57e9435",
    "papermill": {
     "duration": 0.104608,
     "end_time": "2025-04-03T12:21:54.033822",
     "exception": false,
     "start_time": "2025-04-03T12:21:53.929214",
     "status": "completed"
    },
    "tags": []
   },
   "source": [
    "Попробуйте выполнить семплирование для разных $k$. Сравните результаты top-k семплирования с жадным декодированием. Опишите ваши наблюдения."
   ]
  },
  {
   "cell_type": "code",
   "execution_count": 78,
   "id": "f0481393",
   "metadata": {
    "ExecuteTime": {
     "end_time": "2024-03-30T22:46:28.556188Z",
     "start_time": "2024-03-30T22:46:28.553997Z"
    },
    "colab": {
     "base_uri": "https://localhost:8080/",
     "height": 527
    },
    "execution": {
     "iopub.execute_input": "2025-04-03T12:21:54.325832Z",
     "iopub.status.busy": "2025-04-03T12:21:54.325416Z",
     "iopub.status.idle": "2025-04-03T12:21:55.547162Z",
     "shell.execute_reply": "2025-04-03T12:21:55.546322Z"
    },
    "id": "f0481393",
    "outputId": "5a06a0f9-2f17-494c-ab34-eb0fbd97b422",
    "papermill": {
     "duration": 1.332913,
     "end_time": "2025-04-03T12:21:55.548315",
     "exception": false,
     "start_time": "2025-04-03T12:21:54.215402",
     "status": "completed"
    },
    "tags": []
   },
   "outputs": [
    {
     "name": "stdout",
     "output_type": "stream",
     "text": [
      "Generation for top_k = 10\n",
      " ------------------------------\n"
     ]
    },
    {
     "data": {
      "text/markdown": [
       "<div class=\"alert alert-block alert-info\"> <b>&lt;sos&gt; first televised film centers eastwood best part story teller one</b></div>"
      ],
      "text/plain": [
       "<IPython.core.display.Markdown object>"
      ]
     },
     "metadata": {},
     "output_type": "display_data"
    },
    {
     "data": {
      "text/markdown": [
       "<div class=\"alert alert-block alert-info\"> <b>&lt;sos&gt; &lt;unk&gt; favorite movie goer happen film maker named christie films made film noir</b></div>"
      ],
      "text/plain": [
       "<IPython.core.display.Markdown object>"
      ]
     },
     "metadata": {},
     "output_type": "display_data"
    },
    {
     "data": {
      "text/markdown": [
       "<div class=\"alert alert-block alert-info\"> <b>&lt;sos&gt; &lt;unk&gt; best movie goer happen see provoking cast holes would recommend sequel based</b></div>"
      ],
      "text/plain": [
       "<IPython.core.display.Markdown object>"
      ]
     },
     "metadata": {},
     "output_type": "display_data"
    },
    {
     "data": {
      "text/markdown": [
       "<div class=\"alert alert-block alert-info\"> <b>&lt;sos&gt; &lt;unk&gt; worst movie serves rating going get wrong think good intentions bad news</b></div>"
      ],
      "text/plain": [
       "<IPython.core.display.Markdown object>"
      ]
     },
     "metadata": {},
     "output_type": "display_data"
    },
    {
     "name": "stdout",
     "output_type": "stream",
     "text": [
      "Generation for top_k = 25\n",
      " ------------------------------\n"
     ]
    },
    {
     "data": {
      "text/markdown": [
       "<div class=\"alert alert-block alert-info\"> <b>&lt;sos&gt; ok thought bad swim man attacked town attacked mexico around</b></div>"
      ],
      "text/plain": [
       "<IPython.core.display.Markdown object>"
      ]
     },
     "metadata": {},
     "output_type": "display_data"
    },
    {
     "data": {
      "text/markdown": [
       "<div class=\"alert alert-block alert-info\"> <b>&lt;sos&gt; &lt;unk&gt; favorite movie awful unrealistic synthesized movie goer describe sequel first half dozen</b></div>"
      ],
      "text/plain": [
       "<IPython.core.display.Markdown object>"
      ]
     },
     "metadata": {},
     "output_type": "display_data"
    },
    {
     "data": {
      "text/markdown": [
       "<div class=\"alert alert-block alert-info\"> <b>&lt;sos&gt; &lt;unk&gt; best movie would get impression father woman killed father attacked girl whose</b></div>"
      ],
      "text/plain": [
       "<IPython.core.display.Markdown object>"
      ]
     },
     "metadata": {},
     "output_type": "display_data"
    },
    {
     "data": {
      "text/markdown": [
       "<div class=\"alert alert-block alert-info\"> <b>&lt;sos&gt; &lt;unk&gt; worst movie bad dialogues effects unbelievable direction forwarding know found many hours</b></div>"
      ],
      "text/plain": [
       "<IPython.core.display.Markdown object>"
      ]
     },
     "metadata": {},
     "output_type": "display_data"
    },
    {
     "name": "stdout",
     "output_type": "stream",
     "text": [
      "Generation for top_k = 50\n",
      " ------------------------------\n"
     ]
    },
    {
     "data": {
      "text/markdown": [
       "<div class=\"alert alert-block alert-info\"> <b>&lt;sos&gt; good ol doubt relate watching since see movie bad outweighs</b></div>"
      ],
      "text/plain": [
       "<IPython.core.display.Markdown object>"
      ]
     },
     "metadata": {},
     "output_type": "display_data"
    },
    {
     "data": {
      "text/markdown": [
       "<div class=\"alert alert-block alert-info\"> <b>&lt;sos&gt; &lt;unk&gt; favorite movie starts eric carrey &lt;eos&gt;</b></div>"
      ],
      "text/plain": [
       "<IPython.core.display.Markdown object>"
      ]
     },
     "metadata": {},
     "output_type": "display_data"
    },
    {
     "data": {
      "text/markdown": [
       "<div class=\"alert alert-block alert-info\"> <b>&lt;sos&gt; &lt;unk&gt; best movie one best described points read reviews movie really decent craftsmen</b></div>"
      ],
      "text/plain": [
       "<IPython.core.display.Markdown object>"
      ]
     },
     "metadata": {},
     "output_type": "display_data"
    },
    {
     "data": {
      "text/markdown": [
       "<div class=\"alert alert-block alert-info\"> <b>&lt;sos&gt; &lt;unk&gt; worst movie serves dialogue weak reviews anything bothered one favorite series first</b></div>"
      ],
      "text/plain": [
       "<IPython.core.display.Markdown object>"
      ]
     },
     "metadata": {},
     "output_type": "display_data"
    },
    {
     "name": "stdout",
     "output_type": "stream",
     "text": [
      "Generation for top_k = 100\n",
      " ------------------------------\n"
     ]
    },
    {
     "data": {
      "text/markdown": [
       "<div class=\"alert alert-block alert-info\"> <b>&lt;sos&gt; great portrayals estate rents lake across dvd got guessing film</b></div>"
      ],
      "text/plain": [
       "<IPython.core.display.Markdown object>"
      ]
     },
     "metadata": {},
     "output_type": "display_data"
    },
    {
     "data": {
      "text/markdown": [
       "<div class=\"alert alert-block alert-info\"> <b>&lt;sos&gt; &lt;unk&gt; favorite movie interracial pond may recommend see old chamber new jersey singer</b></div>"
      ],
      "text/plain": [
       "<IPython.core.display.Markdown object>"
      ]
     },
     "metadata": {},
     "output_type": "display_data"
    },
    {
     "data": {
      "text/markdown": [
       "<div class=\"alert alert-block alert-info\"> <b>&lt;sos&gt; &lt;unk&gt; best movie typical pie one worst ever illusive plane michael earl beatty</b></div>"
      ],
      "text/plain": [
       "<IPython.core.display.Markdown object>"
      ]
     },
     "metadata": {},
     "output_type": "display_data"
    },
    {
     "data": {
      "text/markdown": [
       "<div class=\"alert alert-block alert-info\"> <b>&lt;sos&gt; &lt;unk&gt; worst movie combines holes much laugh good souls decided imitate boys much</b></div>"
      ],
      "text/plain": [
       "<IPython.core.display.Markdown object>"
      ]
     },
     "metadata": {},
     "output_type": "display_data"
    },
    {
     "name": "stdout",
     "output_type": "stream",
     "text": [
      "Generation for top_k = 1000\n",
      " ------------------------------\n"
     ]
    },
    {
     "data": {
      "text/markdown": [
       "<div class=\"alert alert-block alert-info\"> <b>&lt;sos&gt; first nobody relate yet intriguing principals past year testament without</b></div>"
      ],
      "text/plain": [
       "<IPython.core.display.Markdown object>"
      ]
     },
     "metadata": {},
     "output_type": "display_data"
    },
    {
     "data": {
      "text/markdown": [
       "<div class=\"alert alert-block alert-info\"> <b>&lt;sos&gt; &lt;unk&gt; favorite movie exceeds imagine actually afford spend timing detector park hunter fantastically</b></div>"
      ],
      "text/plain": [
       "<IPython.core.display.Markdown object>"
      ]
     },
     "metadata": {},
     "output_type": "display_data"
    },
    {
     "data": {
      "text/markdown": [
       "<div class=\"alert alert-block alert-info\"> <b>&lt;sos&gt; &lt;unk&gt; best movie easy time death military relations even girl meets reasons last</b></div>"
      ],
      "text/plain": [
       "<IPython.core.display.Markdown object>"
      ]
     },
     "metadata": {},
     "output_type": "display_data"
    },
    {
     "data": {
      "text/markdown": [
       "<div class=\"alert alert-block alert-info\"> <b>&lt;sos&gt; &lt;unk&gt; worst movie par watching revolved empty history french classics outstanding ol california</b></div>"
      ],
      "text/plain": [
       "<IPython.core.display.Markdown object>"
      ]
     },
     "metadata": {},
     "output_type": "display_data"
    }
   ],
   "source": [
    "set_global_seed(42)\n",
    "\n",
    "\n",
    "# YOUR CODE HERE\n",
    "for top_k in [10, 25, 50, 100, 1000]:\n",
    "    print(f'Generation for top_k = {top_k}\\n', '-'*30)\n",
    "    decoded_tokens, decoded_lens = decode(lm_model, start_tokens, start_tokens_lens, max_generated_len=10, top_k=top_k)\n",
    "\n",
    "    for text_idx in range(start_tokens.shape[1]):\n",
    "        decoded_text_tokens = decoded_tokens[:decoded_lens[text_idx], text_idx]\n",
    "        tokens = start_tokens[:start_tokens_lens[text_idx], text_idx].tolist() + decoded_text_tokens.tolist()\n",
    "        words = lm_model.tokenizer.decode(tokens, skip_special_tokens=False).split(' ')\n",
    "\n",
    "        text = ' '.join(words).replace('<', '&lt;').replace('>', '&gt;')\n",
    "        display(Markdown(f'<div class=\"alert alert-block alert-info\"> <b>{text}</b></div>'))"
   ]
  },
  {
   "cell_type": "code",
   "execution_count": 79,
   "id": "c6248a05",
   "metadata": {
    "colab": {
     "base_uri": "https://localhost:8080/",
     "height": 119
    },
    "execution": {
     "iopub.execute_input": "2025-04-03T12:21:55.768313Z",
     "iopub.status.busy": "2025-04-03T12:21:55.767989Z",
     "iopub.status.idle": "2025-04-03T12:21:55.951970Z",
     "shell.execute_reply": "2025-04-03T12:21:55.951274Z"
    },
    "id": "c6248a05",
    "outputId": "3da634a0-0655-41a0-b341-5e7b12d3cf20",
    "papermill": {
     "duration": 0.292172,
     "end_time": "2025-04-03T12:21:55.953275",
     "exception": false,
     "start_time": "2025-04-03T12:21:55.661103",
     "status": "completed"
    },
    "tags": []
   },
   "outputs": [
    {
     "name": "stdout",
     "output_type": "stream",
     "text": [
      "Generation with greedy decoding\n",
      " ------------------------------\n"
     ]
    },
    {
     "data": {
      "text/markdown": [
       "<div class=\"alert alert-block alert-info\"> <b>&lt;sos&gt; movie starts palsy seen movie starts palsy seen movie starts</b></div>"
      ],
      "text/plain": [
       "<IPython.core.display.Markdown object>"
      ]
     },
     "metadata": {},
     "output_type": "display_data"
    },
    {
     "data": {
      "text/markdown": [
       "<div class=\"alert alert-block alert-info\"> <b>&lt;sos&gt; &lt;unk&gt; favorite movie starts palsy seen movie starts palsy seen movie starts palsy</b></div>"
      ],
      "text/plain": [
       "<IPython.core.display.Markdown object>"
      ]
     },
     "metadata": {},
     "output_type": "display_data"
    },
    {
     "data": {
      "text/markdown": [
       "<div class=\"alert alert-block alert-info\"> <b>&lt;sos&gt; &lt;unk&gt; best movie starts palsy seen movie starts palsy seen movie starts palsy</b></div>"
      ],
      "text/plain": [
       "<IPython.core.display.Markdown object>"
      ]
     },
     "metadata": {},
     "output_type": "display_data"
    },
    {
     "data": {
      "text/markdown": [
       "<div class=\"alert alert-block alert-info\"> <b>&lt;sos&gt; &lt;unk&gt; worst movie starts palsy seen movie starts palsy seen movie starts palsy</b></div>"
      ],
      "text/plain": [
       "<IPython.core.display.Markdown object>"
      ]
     },
     "metadata": {},
     "output_type": "display_data"
    }
   ],
   "source": [
    "set_global_seed(42)\n",
    "\n",
    "\n",
    "print(f'Generation with greedy decoding\\n', '-'*30)\n",
    "decoded_tokens, decoded_lens = decode(lm_model, start_tokens, start_tokens_lens, max_generated_len=10, top_k=None)\n",
    "\n",
    "for text_idx in range(start_tokens.shape[1]):\n",
    "    decoded_text_tokens = decoded_tokens[:decoded_lens[text_idx], text_idx]\n",
    "    tokens = start_tokens[:start_tokens_lens[text_idx], text_idx].tolist() + decoded_text_tokens.tolist()\n",
    "    words = lm_model.tokenizer.decode(tokens, skip_special_tokens=False).split(' ')\n",
    "\n",
    "    text = ' '.join(words).replace('<', '&lt;').replace('>', '&gt;')\n",
    "    display(Markdown(f'<div class=\"alert alert-block alert-info\"> <b>{text}</b></div>'))"
   ]
  },
  {
   "cell_type": "markdown",
   "id": "e0d8b79c",
   "metadata": {
    "id": "e0d8b79c",
    "papermill": {
     "duration": 0.107875,
     "end_time": "2025-04-03T12:21:56.172834",
     "exception": false,
     "start_time": "2025-04-03T12:21:56.064959",
     "status": "completed"
    },
    "tags": []
   },
   "source": [
    "**Ответ:**\n",
    "\n",
    "Особо заметны отличия между жадным декодированием и использованием `top_k`. Выделим 3 группы результатов работы декодера:\n",
    "1. `top_k` $\\in [5, 100]$ - разнообразные ответы, слова подобраны неплохо для способностей модели, связных предложений не получается\n",
    "2. `top_k` $1000$ - получается уже случайный набор слов\n",
    "3. `greedy` - зацикливаемся и выдаем совершенно не разнообразные наборы слов"
   ]
  },
  {
   "cell_type": "markdown",
   "id": "7e5820f0",
   "metadata": {
    "id": "7e5820f0",
    "papermill": {
     "duration": 0.106973,
     "end_time": "2025-04-03T12:21:56.387067",
     "exception": false,
     "start_time": "2025-04-03T12:21:56.280094",
     "status": "completed"
    },
    "tags": []
   },
   "source": [
    "## `Beam Search (2 балла)`"
   ]
  },
  {
   "cell_type": "markdown",
   "id": "86c4c01a",
   "metadata": {
    "id": "86c4c01a",
    "papermill": {
     "duration": 0.106351,
     "end_time": "2025-04-03T12:21:56.601577",
     "exception": false,
     "start_time": "2025-04-03T12:21:56.495226",
     "status": "completed"
    },
    "tags": []
   },
   "source": [
    "Рассмотрим более продвинутый алгоритм для декодирования. Реализуйте алгоритм Beam Search.\n",
    "\n",
    "Прочитать подробнее про Beam Search можно по ссылкам:\n",
    "1. [От huggingface](https://huggingface.co/blog/how-to-generate#beam-search)\n",
    "2. [На wiki](https://en.wikipedia.org/w/index.php?title=Beam_search&oldid=1248868876)"
   ]
  },
  {
   "cell_type": "markdown",
   "id": "d85101b0",
   "metadata": {
    "id": "d85101b0",
    "papermill": {
     "duration": 0.106936,
     "end_time": "2025-04-03T12:21:56.814650",
     "exception": false,
     "start_time": "2025-04-03T12:21:56.707714",
     "status": "completed"
    },
    "tags": []
   },
   "source": [
    "Несколько замечаний по имплементации:\n",
    "\n",
    "1. При больших размерах `beam_size` число гипотез ($B \\times \\text{beam\\_size}$) на очередном шаге может быть слишком большим. Поэтому может потребоваться разбить все гипотезы на отдельные батчи и делать forward-pass в несколько итераций. Используйте [`torch.split`](https://pytorch.org/docs/stable/generated/torch.split.html)\n",
    "2. Для выбора лучших гипотез используйте [`torch.topk`](https://pytorch.org/docs/stable/generated/torch.topk.html). Обратите внимание на индексы, которые возвращает эта функция (может пригодиться метод [`torch.remainder`](https://pytorch.org/docs/stable/generated/torch.remainder.html))\n",
    "3. Можно отслеживать, какие элементы в батче (или какие гипотезы) закончили генерацию. Делая forward-pass только для незавершённых гипотез, можно ускорить декодинг, однако, это усложнит реализацию"
   ]
  },
  {
   "cell_type": "markdown",
   "id": "744970d9",
   "metadata": {
    "id": "744970d9",
    "papermill": {
     "duration": 0.143798,
     "end_time": "2025-04-03T12:21:57.071200",
     "exception": false,
     "start_time": "2025-04-03T12:21:56.927402",
     "status": "completed"
    },
    "tags": []
   },
   "source": [
    "Будем реализовывать в 2 части:\n",
    "\n",
    "- Получение всей необходимой информации из `start_tokens` в функции `beam_search_encode_start`.\n",
    "\n",
    "- Генерация и декодирования в функции `decode_beam_search`."
   ]
  },
  {
   "cell_type": "code",
   "execution_count": 80,
   "id": "8f39f880",
   "metadata": {
    "execution": {
     "iopub.execute_input": "2025-04-03T12:21:57.288857Z",
     "iopub.status.busy": "2025-04-03T12:21:57.288544Z",
     "iopub.status.idle": "2025-04-03T12:21:57.298452Z",
     "shell.execute_reply": "2025-04-03T12:21:57.297574Z"
    },
    "id": "8f39f880",
    "papermill": {
     "duration": 0.120754,
     "end_time": "2025-04-03T12:21:57.299904",
     "exception": false,
     "start_time": "2025-04-03T12:21:57.179150",
     "status": "completed"
    },
    "tags": []
   },
   "outputs": [],
   "source": [
    "@torch.no_grad()\n",
    "def beam_search_encode_start(model, start_tokens, start_tokens_lens, beam_size):\n",
    "    \"\"\"\n",
    "    :param RNNLM model: Model\n",
    "    :param torch.Tensor start_tokens: Batch of seed tokens. Shape: [T, B]\n",
    "    :param torch.Tensor start_tokens_lens: Length of each sequence in batch. Shape: [B]\n",
    "    :param int beam_size: Size of beam\n",
    "    :return Tuple[torch.Tensor, torch.Tensor, torch.Tensor, torch.Tensor, torch.Tensor].\n",
    "        Initialization h and c for each hypotheses, New tokens,\n",
    "        Initialize log probabilities, Initialize hypothesis\n",
    "        Shape [L, B * BS, H], [L, B * BS, H], [B * BS], [B * BS], [1, B * BS]\n",
    "    \"\"\"\n",
    "    # L — number of RNN layers in the model, H — hidden size, BS — beam size\n",
    "    #\n",
    "    # 1. Make forward pass of start_tokens through the model.\n",
    "    #      Obtain the last cell and hidden state for each element in the batch\n",
    "    #          (i.e. tensors of shape [L, B, H])\n",
    "    #      Use those states as the initialization for each hypotheses in the beam\n",
    "    #          (i.e. tensors of shape [L, B * BS, H])\n",
    "    #      Initialize probabilities for each hypotheses in the beam with 1.0\n",
    "    #          (i.e. tensor of shape [B * BS])\n",
    "\n",
    "    # Get embeddings for the start tokens\n",
    "    # YOUR CODE HERE\n",
    "    embedding = model.word_embeddings(start_tokens)\n",
    "\n",
    "    # Make forward pass through the RNN and\n",
    "    #   obtain the last cell and hidden state for each element in the batch\n",
    "    # YOUR CODE HERE\n",
    "    all_h, all_c = [], []\n",
    "    h = embedding.new_zeros([model.rnn.num_layers, start_tokens.shape[1], model.hidden_dim])\n",
    "    c = embedding.new_zeros([model.rnn.num_layers, start_tokens.shape[1], model.hidden_dim])\n",
    "    for time_step in range(start_tokens.shape[0]):\n",
    "        _, (h, c) = model.rnn(embedding[time_step][None, :, :], (h, c))\n",
    "        all_h.append(h)\n",
    "        all_c.append(c)\n",
    "\n",
    "    all_h = torch.stack(all_h, dim=1)\n",
    "    all_c = torch.stack(all_c, dim=1)\n",
    "    # Take final hidden state and cell state for each start sequence in batch\n",
    "    # We will use them as h_0, c_0 for generation new tokens\n",
    "    start_h = all_h[:, start_tokens_lens - 1, torch.arange(start_tokens_lens.shape[0])] # [L, B, H]\n",
    "    start_c = all_c[:, start_tokens_lens - 1, torch.arange(start_tokens_lens.shape[0])] # [L, B, H]\n",
    "\n",
    "    # Use those states as the initialization for each hypotheses in the beam\n",
    "    # YOUR CODE HERE\n",
    "    h = start_h.unsqueeze(2).expand(-1, -1, beam_size, -1)  # [L, B, BS, H]\n",
    "    c = start_c.unsqueeze(2).expand(-1, -1, beam_size, -1)  # [L, B, BS, H]\n",
    "\n",
    "    h = h.reshape(h.size(0), -1, h.size(3))  # [L, B * BS, H]\n",
    "    c = c.reshape(c.size(0), -1, c.size(3))  # [L, B * BS, H]\n",
    "\n",
    "    # Select initial tokens for each hypotheses in the beam\n",
    "    #   Compute log probabilities and select top-beam_size tokens for each element\n",
    "    #   Use them to initialize beam search state\n",
    "    # YOUR CODE HERE\n",
    "    logits = model.output(h[-1])  # [B * BS, V]\n",
    "    log_probs = torch.log_softmax(logits, dim=-1)\n",
    "\n",
    "    log_probs = log_probs.view(start_tokens.size(1), beam_size, -1)  # [B, BS, V]\n",
    "    # print(log_probs[:, 0, :].exp())\n",
    "    top_log_probs, top_indices = log_probs.topk(beam_size, dim=-1)  # [B, BS]\n",
    "    # print(top_log_probs[:, 0, :].exp(), top_indices[:, 0, :])\n",
    "    # print()\n",
    "\n",
    "    new_tokens = top_indices[:, 0, :].reshape(-1) # [B * BS]\n",
    "    log_probas = top_log_probs[:, 0, :].reshape(-1) # [B * BS]\n",
    "    hypothesis = new_tokens.unsqueeze(0) # [1, B * BS]\n",
    "\n",
    "    return h, c, new_tokens, log_probas, hypothesis"
   ]
  },
  {
   "cell_type": "markdown",
   "id": "c5295bc2",
   "metadata": {
    "id": "c5295bc2",
    "papermill": {
     "duration": 0.106353,
     "end_time": "2025-04-03T12:21:57.514312",
     "exception": false,
     "start_time": "2025-04-03T12:21:57.407959",
     "status": "completed"
    },
    "tags": []
   },
   "source": [
    "Проверим функцию `beam_search_encode_start`. Ниже опишем матрицу перехода, в которой содержатся логиты вероятности перехода. `Beam size` отвечает за число гипотез, то есть сколько потенциально лучших токенов мы можем взять. Например, при `beam size = 4` и начальном токене $0$, мы будем рассматривать (создадим гипотезы) токены $[1, 0, 4, 3]$ (отсортированы в порядке убывания вероятности)."
   ]
  },
  {
   "cell_type": "code",
   "execution_count": 81,
   "id": "37ad7b4c",
   "metadata": {
    "execution": {
     "iopub.execute_input": "2025-04-03T12:21:57.784856Z",
     "iopub.status.busy": "2025-04-03T12:21:57.784411Z",
     "iopub.status.idle": "2025-04-03T12:21:57.789838Z",
     "shell.execute_reply": "2025-04-03T12:21:57.789105Z"
    },
    "id": "37ad7b4c",
    "papermill": {
     "duration": 0.119386,
     "end_time": "2025-04-03T12:21:57.791017",
     "exception": false,
     "start_time": "2025-04-03T12:21:57.671631",
     "status": "completed"
    },
    "tags": []
   },
   "outputs": [],
   "source": [
    "transitions = {\n",
    "    0: torch.tensor([4, 5, 1, 2, 3]),\n",
    "    1: torch.tensor([3, 4, 5, 1, 2]),\n",
    "    2: torch.tensor([2, 3, 4, 5, 1]),\n",
    "    3: torch.tensor([1, 2, 3, 4, 5]),\n",
    "    4: torch.tensor([5, 1, 2, 3, 4]),\n",
    "}\n",
    "\n",
    "fake_lm = FakeLM(FakeRNN(), transitions)"
   ]
  },
  {
   "cell_type": "code",
   "execution_count": 82,
   "id": "29f43f1b",
   "metadata": {
    "execution": {
     "iopub.execute_input": "2025-04-03T12:21:58.015956Z",
     "iopub.status.busy": "2025-04-03T12:21:58.015659Z",
     "iopub.status.idle": "2025-04-03T12:21:58.022113Z",
     "shell.execute_reply": "2025-04-03T12:21:58.021436Z"
    },
    "id": "29f43f1b",
    "papermill": {
     "duration": 0.120794,
     "end_time": "2025-04-03T12:21:58.023497",
     "exception": false,
     "start_time": "2025-04-03T12:21:57.902703",
     "status": "completed"
    },
    "tags": []
   },
   "outputs": [],
   "source": [
    "start_tokens = torch.tensor(\n",
    "    [\n",
    "        [0, 0, 0],\n",
    "        [0, 1, 1],\n",
    "        [0, 0, 2],\n",
    "        [0, 0, 0]\n",
    "    ]\n",
    ")\n",
    "\n",
    "beam_size = 4\n",
    "h, c, new_tokens, log_probas, hypothesis = beam_search_encode_start(\n",
    "    model             = fake_lm,\n",
    "    start_tokens      = start_tokens,\n",
    "    start_tokens_lens = torch.tensor([1, 2, 3]),\n",
    "    beam_size         = beam_size\n",
    ")"
   ]
  },
  {
   "cell_type": "code",
   "execution_count": 83,
   "id": "21fbcc78",
   "metadata": {
    "execution": {
     "iopub.execute_input": "2025-04-03T12:21:58.247570Z",
     "iopub.status.busy": "2025-04-03T12:21:58.247224Z",
     "iopub.status.idle": "2025-04-03T12:21:58.251102Z",
     "shell.execute_reply": "2025-04-03T12:21:58.250476Z"
    },
    "id": "21fbcc78",
    "papermill": {
     "duration": 0.115501,
     "end_time": "2025-04-03T12:21:58.252231",
     "exception": false,
     "start_time": "2025-04-03T12:21:58.136730",
     "status": "completed"
    },
    "tags": []
   },
   "outputs": [],
   "source": [
    "assert h.shape == (1, 3 * beam_size, 1)\n",
    "assert c.shape == (1, 3 * beam_size, 1)\n",
    "assert new_tokens.shape[0] == (3 * beam_size)\n",
    "assert log_probas.shape[0] == (3 * beam_size)\n",
    "assert hypothesis.shape     == (1, 3 * beam_size)"
   ]
  },
  {
   "cell_type": "code",
   "execution_count": 84,
   "id": "432a0829",
   "metadata": {
    "execution": {
     "iopub.execute_input": "2025-04-03T12:21:58.470762Z",
     "iopub.status.busy": "2025-04-03T12:21:58.470443Z",
     "iopub.status.idle": "2025-04-03T12:21:58.476169Z",
     "shell.execute_reply": "2025-04-03T12:21:58.475523Z"
    },
    "id": "432a0829",
    "papermill": {
     "duration": 0.116878,
     "end_time": "2025-04-03T12:21:58.477462",
     "exception": false,
     "start_time": "2025-04-03T12:21:58.360584",
     "status": "completed"
    },
    "tags": []
   },
   "outputs": [],
   "source": [
    "assert (h[0, :, 0] == torch.tensor([0] * beam_size + [1] * beam_size + [2] * beam_size)).all()\n",
    "assert (new_tokens == torch.tensor([1, 0, 4, 3, 2, 1, 0, 4, 3, 2, 1, 0])).all()\n",
    "assert torch.isclose(log_probas[:beam_size], torch.tensor([5, 4, 3, 2, 1]).float().log_softmax(0)[:-1]).all()\n",
    "assert (hypothesis[0] == new_tokens).all()"
   ]
  },
  {
   "cell_type": "code",
   "execution_count": 85,
   "id": "46589b70",
   "metadata": {
    "ExecuteTime": {
     "end_time": "2024-03-30T22:46:29.834960Z",
     "start_time": "2024-03-30T22:46:29.824795Z"
    },
    "execution": {
     "iopub.execute_input": "2025-04-03T12:21:58.697392Z",
     "iopub.status.busy": "2025-04-03T12:21:58.697044Z",
     "iopub.status.idle": "2025-04-03T12:21:58.705537Z",
     "shell.execute_reply": "2025-04-03T12:21:58.704751Z"
    },
    "id": "46589b70",
    "papermill": {
     "duration": 0.119868,
     "end_time": "2025-04-03T12:21:58.706934",
     "exception": false,
     "start_time": "2025-04-03T12:21:58.587066",
     "status": "completed"
    },
    "tags": []
   },
   "outputs": [],
   "source": [
    "@torch.no_grad()\n",
    "def decode_beam_search(\n",
    "    model, start_tokens, start_tokens_lens,\n",
    "    max_generated_len=20, beam_size=5, eos_idx=tokenizer.token_to_id('<eos>')\n",
    "):\n",
    "    \"\"\"\n",
    "    :param RNNLM model: Model\n",
    "    :param torch.Tensor start_tokens: Batch of seed tokens. Shape: [T, B]\n",
    "    :param torch.Tensor start_tokens_lens: Length of each sequence in batch. Shape: [B]\n",
    "    :param int max_generated_len: Maximum length of generated samples\n",
    "    :param int beam_size: Size of beam\n",
    "    :return Tuple[torch.Tensor, torch.Tensor, torch.Tensor].\n",
    "        Newly predicted tokens, lengths of generated parts and log probabilities for each hypotheses\n",
    "        Shape [T*, B, beam_size], [T*, beam_size], [T*, beam_size]\n",
    "    \"\"\"\n",
    "\n",
    "    # L — number of RNN layers in the model, H — hidden size, BS — beam size\n",
    "    #\n",
    "    # 1. Make forward pass of start_tokens through the model.\n",
    "    #      Initialize vector that show whether hypothesis is finished\n",
    "    #          (i.e. tensor of shape [B * BS])\n",
    "    # 2. While all sequences do not end with <eos> and their length less than max_generated_len\n",
    "    #      1. Get probabilities for the next token for each hypothesis\n",
    "    #          (i.e. tensor of shape [B * BS, V])\n",
    "    #      2. Use those probabilities to compute probability for each extension of each hypothesis\n",
    "    #          (i.e. tensor of shape [B * BS, V])\n",
    "    #      3. For each element in the batch select new BS best hypotheses\n",
    "    #          Note, that some of the hypotheses on the previous step have been finished\n",
    "    #            so their probability should not change. So you have to select BS best hypotheses\n",
    "    #            among all extension of unfinished hypotheses and finished hypotheses\n",
    "    #          As a result you will have a new token for best extensions of unfinished hypotheses\n",
    "    #          For simplisity you can use <EOS> token if you select finished hypothesis in the beam\n",
    "    #            i.e. tensor of shape [B * BS] of indices for selected hypotheses and\n",
    "    #                 tensor of shape [B * BS] of extension tokens for each hypothesis\n",
    "    #      4. Update probabilities for each hypotheses and is_finished state for each hypothesis\n",
    "    #          Concat new tokens to the existing prefixes\n",
    "    #      5. Update hidden and cell state to correspond to the selected hypothesis\n",
    "\n",
    "    #  Make forward pass of start_tokens through the model.\n",
    "    h, c, new_tokens, log_probas, hypothesis = beam_search_encode_start(\n",
    "        model             = model,\n",
    "        start_tokens      = start_tokens,\n",
    "        start_tokens_lens = start_tokens_lens,\n",
    "        beam_size         = beam_size\n",
    "    )\n",
    "    # Initialize vector that show whether hypothesis is finished\n",
    "    is_finished = new_tokens == eos_idx # [B * BS]\n",
    "    decoded_lens = torch.ones_like(is_finished, dtype=torch.long) # [B * BS]\n",
    "    hidden_sz = h.shape[2]\n",
    "\n",
    "    while not torch.all(is_finished) and hypothesis.shape[0] < max_generated_len:\n",
    "        # Get probabilities for the next token for each hypothesis\n",
    "        # YOUR CODE HERE\n",
    "        embeddings = model.word_embeddings(hypothesis[-1].unsqueeze(0)) # [B * BS, H]\n",
    "        _, (h, c) = model.rnn(embeddings, (h, c))\n",
    "        logits = model.output(h[-1])\n",
    "\n",
    "        next_token_log_probas = logits.log_softmax(dim=-1) # [B * BS, V]\n",
    "        # Use those probabilities to compute probability for each extension of each hypothesis\n",
    "        # YOUR CODE HERE\n",
    "        extension_log_probas = log_probas[:, None] + next_token_log_probas # [B * BS, V]\n",
    "\n",
    "        # For each element in the batch select new BS best hypotheses\n",
    "        #   You can use loop over different beams\n",
    "        # YOUR CODE HERE\n",
    "        extension_log_probas = extension_log_probas.reshape(start_tokens.shape[1], -1) # [B, BS * V]\n",
    "        top_log_probs, top_indices = extension_log_probas.topk(beam_size, dim=-1) # [B, BS]\n",
    "\n",
    "        # Update probabilities for each hypotheses and is_finished state and decoded_lens for each hypothesis\n",
    "        # YOUR CODE HERE\n",
    "        log_probas = top_log_probs.reshape(-1) # [B * BS]\n",
    "        next_token = top_indices.reshape(-1) % logits.shape[-1] # [B * BS]\n",
    "\n",
    "        decoded_lens += (~is_finished)\n",
    "        is_finished |= (next_token == torch.tensor(eos_idx))\n",
    "\n",
    "        # Concat new tokens to the existing prefixes\n",
    "        # YOUR CODE HERE\n",
    "\n",
    "        # Update hidden and cell state to correspond to the selected hypothesis\n",
    "        # YOUR CODE HERE\n",
    "        batch_sz = start_tokens.shape[1]\n",
    "        beam_indices = top_indices // logits.shape[-1]\n",
    "\n",
    "        hypothesis = hypothesis.reshape(-1, batch_sz, beam_size)\n",
    "        beam_indices_expanded = beam_indices.unsqueeze(0).expand(hypothesis.size(0), -1, -1)\n",
    "        hypothesis = hypothesis.gather(2, beam_indices_expanded)\n",
    "\n",
    "        h = h.reshape(-1, batch_sz, beam_size, hidden_sz)\n",
    "        c = c.reshape(-1, batch_sz, beam_size, hidden_sz)\n",
    "\n",
    "        beam_indices_expanded = beam_indices[None, :, :, None].expand(h.size(0), -1, -1, h.size(3))\n",
    "        h = h.gather(2, beam_indices_expanded)\n",
    "        c = c.gather(2, beam_indices_expanded)\n",
    "\n",
    "        hypothesis = hypothesis.reshape(-1, batch_sz * beam_size)\n",
    "        h = h.reshape(-1, batch_sz * beam_size, hidden_sz)\n",
    "        c = c.reshape(-1, batch_sz * beam_size, hidden_sz)\n",
    "        hypothesis = torch.cat([hypothesis, next_token.unsqueeze(0)])\n",
    "\n",
    "    return (\n",
    "        hypothesis.view(-1, start_tokens.shape[1], beam_size),\n",
    "        decoded_lens.view(start_tokens.shape[1], beam_size),\n",
    "        log_probas.view(start_tokens.shape[1], beam_size)\n",
    "    )"
   ]
  },
  {
   "cell_type": "markdown",
   "id": "f7473148",
   "metadata": {
    "id": "f7473148",
    "papermill": {
     "duration": 0.110642,
     "end_time": "2025-04-03T12:21:58.939383",
     "exception": false,
     "start_time": "2025-04-03T12:21:58.828741",
     "status": "completed"
    },
    "tags": []
   },
   "source": [
    "Протестируем итоговую функцию `decode_beam_search`. Рассмотрим постановку, когда действовать жадно не выгодно для генерации."
   ]
  },
  {
   "cell_type": "code",
   "execution_count": 86,
   "id": "d4518f8b",
   "metadata": {
    "execution": {
     "iopub.execute_input": "2025-04-03T12:21:59.161089Z",
     "iopub.status.busy": "2025-04-03T12:21:59.160799Z",
     "iopub.status.idle": "2025-04-03T12:21:59.165658Z",
     "shell.execute_reply": "2025-04-03T12:21:59.164930Z"
    },
    "id": "d4518f8b",
    "papermill": {
     "duration": 0.117083,
     "end_time": "2025-04-03T12:21:59.166975",
     "exception": false,
     "start_time": "2025-04-03T12:21:59.049892",
     "status": "completed"
    },
    "tags": []
   },
   "outputs": [],
   "source": [
    "transitions = {\n",
    "    0: torch.tensor([-1e10, 1, -1e10, -1e10, 0.9]),\n",
    "    1: torch.tensor([-1e10, 1, 1.1, 0.9, -1e10]),\n",
    "    2: torch.tensor([-1e10, 0.9, 1, 1.1, -1e10]),\n",
    "    3: torch.tensor([-1e10, 1.1, 0.9, 1, -1e10]),\n",
    "    4: torch.tensor([-1e10, -1e10, -1e10, -1e10, 1]),\n",
    "}\n",
    "\n",
    "fake_lm = FakeLM(FakeRNN(), transitions)"
   ]
  },
  {
   "cell_type": "code",
   "execution_count": 87,
   "id": "a1e68e30",
   "metadata": {
    "colab": {
     "base_uri": "https://localhost:8080/"
    },
    "execution": {
     "iopub.execute_input": "2025-04-03T12:21:59.385131Z",
     "iopub.status.busy": "2025-04-03T12:21:59.384843Z",
     "iopub.status.idle": "2025-04-03T12:21:59.391916Z",
     "shell.execute_reply": "2025-04-03T12:21:59.390949Z"
    },
    "id": "a1e68e30",
    "outputId": "79dac913-0be8-4a6e-ccfa-b4415821e393",
    "papermill": {
     "duration": 0.117145,
     "end_time": "2025-04-03T12:21:59.393103",
     "exception": false,
     "start_time": "2025-04-03T12:21:59.275958",
     "status": "completed"
    },
    "tags": []
   },
   "outputs": [
    {
     "name": "stdout",
     "output_type": "stream",
     "text": [
      "log p(next_token | 0) = [0.    0.525 0.    0.    0.475]\n",
      "log p(next_token | 1) = [0.    0.332 0.367 0.301 0.   ]\n",
      "log p(next_token | 2) = [0.    0.301 0.332 0.367 0.   ]\n",
      "log p(next_token | 3) = [0.    0.367 0.301 0.332 0.   ]\n",
      "log p(next_token | 4) = [0. 0. 0. 0. 1.]\n"
     ]
    }
   ],
   "source": [
    "for k, v in transitions.items():\n",
    "    p = v.softmax(0).cpu().numpy()\n",
    "    p = np.around(p, 3)\n",
    "    print(f\"log p(next_token | {k}) = {p}\")"
   ]
  },
  {
   "cell_type": "markdown",
   "id": "3b10e1cf",
   "metadata": {
    "id": "3b10e1cf",
    "papermill": {
     "duration": 0.107146,
     "end_time": "2025-04-03T12:21:59.611713",
     "exception": false,
     "start_time": "2025-04-03T12:21:59.504567",
     "status": "completed"
    },
    "tags": []
   },
   "source": [
    "Действуя жадно и начиная с токена $0$, мы перейдем в токен $1$, а дальше с вероятностью будем блуждать по цепочке $1 \\to 2 \\to 3 \\to 1$. Но при числе гипотез больше 2 мы рассмотрим возможность перехода в токен $4$, где зациклимся. В результате во втором случае у последовательности будет высокая итоговая вероятность, а у первого способа - низкая.\n",
    "\n",
    "Сначала проверим как работает `beam_size = 1`, так как этот случай проще отладить в случае ошибки.\n",
    "\n",
    "**Важно:** При `beam_size = 1` мы получаем жадное декодирование."
   ]
  },
  {
   "cell_type": "code",
   "execution_count": 88,
   "id": "fa3efe76",
   "metadata": {
    "execution": {
     "iopub.execute_input": "2025-04-03T12:21:59.834391Z",
     "iopub.status.busy": "2025-04-03T12:21:59.834038Z",
     "iopub.status.idle": "2025-04-03T12:21:59.842130Z",
     "shell.execute_reply": "2025-04-03T12:21:59.841358Z"
    },
    "id": "fa3efe76",
    "papermill": {
     "duration": 0.122059,
     "end_time": "2025-04-03T12:21:59.843746",
     "exception": false,
     "start_time": "2025-04-03T12:21:59.721687",
     "status": "completed"
    },
    "tags": []
   },
   "outputs": [],
   "source": [
    "set_global_seed(42)\n",
    "\n",
    "decoded_tokens, decoded_lens, log_probas = decode_beam_search(\n",
    "    model             = fake_lm,\n",
    "    start_tokens      = torch.zeros((1, 3)),\n",
    "    start_tokens_lens = torch.tensor([1, 1, 1]),\n",
    "    eos_idx           = 10,\n",
    "    max_generated_len = 8,\n",
    "    beam_size         = 1\n",
    ")\n",
    "\n",
    "p = transitions[1].log_softmax(0)[2] * 7 + transitions[0].log_softmax(0)[1]"
   ]
  },
  {
   "cell_type": "code",
   "execution_count": 89,
   "id": "5227c879",
   "metadata": {
    "execution": {
     "iopub.execute_input": "2025-04-03T12:22:00.128235Z",
     "iopub.status.busy": "2025-04-03T12:22:00.127856Z",
     "iopub.status.idle": "2025-04-03T12:22:00.131824Z",
     "shell.execute_reply": "2025-04-03T12:22:00.130980Z"
    },
    "id": "5227c879",
    "papermill": {
     "duration": 0.168909,
     "end_time": "2025-04-03T12:22:00.133053",
     "exception": false,
     "start_time": "2025-04-03T12:21:59.964144",
     "status": "completed"
    },
    "tags": []
   },
   "outputs": [],
   "source": [
    "assert decoded_tokens.shape == (8, 3, 1)\n",
    "assert decoded_lens.shape   == (3, 1)\n",
    "assert log_probas.shape     == (3, 1)"
   ]
  },
  {
   "cell_type": "code",
   "execution_count": 90,
   "id": "e53c1d7a",
   "metadata": {
    "colab": {
     "base_uri": "https://localhost:8080/"
    },
    "execution": {
     "iopub.execute_input": "2025-04-03T12:22:00.354203Z",
     "iopub.status.busy": "2025-04-03T12:22:00.353879Z",
     "iopub.status.idle": "2025-04-03T12:22:00.359521Z",
     "shell.execute_reply": "2025-04-03T12:22:00.358728Z"
    },
    "id": "e53c1d7a",
    "outputId": "fa7d3919-cc4c-41b9-9530-9a807f3d12fd",
    "papermill": {
     "duration": 0.116878,
     "end_time": "2025-04-03T12:22:00.360752",
     "exception": false,
     "start_time": "2025-04-03T12:22:00.243874",
     "status": "completed"
    },
    "tags": []
   },
   "outputs": [
    {
     "data": {
      "text/plain": [
       "tensor([[1, 1, 1],\n",
       "        [2, 2, 2],\n",
       "        [3, 3, 3],\n",
       "        [1, 1, 1],\n",
       "        [2, 2, 2],\n",
       "        [3, 3, 3],\n",
       "        [1, 1, 1],\n",
       "        [2, 2, 2]])"
      ]
     },
     "execution_count": 90,
     "metadata": {},
     "output_type": "execute_result"
    }
   ],
   "source": [
    "decoded_tokens[:, :, 0]"
   ]
  },
  {
   "cell_type": "code",
   "execution_count": 91,
   "id": "79b48e5b",
   "metadata": {
    "execution": {
     "iopub.execute_input": "2025-04-03T12:22:00.580148Z",
     "iopub.status.busy": "2025-04-03T12:22:00.579819Z",
     "iopub.status.idle": "2025-04-03T12:22:00.583555Z",
     "shell.execute_reply": "2025-04-03T12:22:00.582908Z"
    },
    "id": "79b48e5b",
    "papermill": {
     "duration": 0.114291,
     "end_time": "2025-04-03T12:22:00.584793",
     "exception": false,
     "start_time": "2025-04-03T12:22:00.470502",
     "status": "completed"
    },
    "tags": []
   },
   "outputs": [],
   "source": [
    "assert torch.isclose(log_probas, p).all()"
   ]
  },
  {
   "cell_type": "code",
   "execution_count": 92,
   "id": "92ef7925",
   "metadata": {
    "execution": {
     "iopub.execute_input": "2025-04-03T12:22:00.808475Z",
     "iopub.status.busy": "2025-04-03T12:22:00.808136Z",
     "iopub.status.idle": "2025-04-03T12:22:00.815467Z",
     "shell.execute_reply": "2025-04-03T12:22:00.814742Z"
    },
    "id": "92ef7925",
    "papermill": {
     "duration": 0.121108,
     "end_time": "2025-04-03T12:22:00.816826",
     "exception": false,
     "start_time": "2025-04-03T12:22:00.695718",
     "status": "completed"
    },
    "tags": []
   },
   "outputs": [],
   "source": [
    "set_global_seed(42)\n",
    "\n",
    "decoded_tokens, decoded_lens, log_probas = decode_beam_search(\n",
    "    model             = fake_lm,\n",
    "    start_tokens      = torch.zeros((1, 3)),\n",
    "    start_tokens_lens = torch.tensor([1, 1, 1]),\n",
    "    eos_idx           = 10,\n",
    "    max_generated_len = 8,\n",
    "    beam_size         = 2\n",
    ")\n"
   ]
  },
  {
   "cell_type": "code",
   "execution_count": 93,
   "id": "89a1934b",
   "metadata": {
    "execution": {
     "iopub.execute_input": "2025-04-03T12:22:01.041712Z",
     "iopub.status.busy": "2025-04-03T12:22:01.041389Z",
     "iopub.status.idle": "2025-04-03T12:22:01.045212Z",
     "shell.execute_reply": "2025-04-03T12:22:01.044402Z"
    },
    "id": "89a1934b",
    "papermill": {
     "duration": 0.116496,
     "end_time": "2025-04-03T12:22:01.046691",
     "exception": false,
     "start_time": "2025-04-03T12:22:00.930195",
     "status": "completed"
    },
    "tags": []
   },
   "outputs": [],
   "source": [
    "assert decoded_tokens.shape == (8, 3, 2)\n",
    "assert decoded_lens.shape   == (3, 2)\n",
    "assert log_probas.shape     == (3, 2)"
   ]
  },
  {
   "cell_type": "markdown",
   "id": "381f43c6",
   "metadata": {
    "id": "381f43c6",
    "papermill": {
     "duration": 0.107434,
     "end_time": "2025-04-03T12:22:01.263671",
     "exception": false,
     "start_time": "2025-04-03T12:22:01.156237",
     "status": "completed"
    },
    "tags": []
   },
   "source": [
    "Посмотрим на наиболее вероятную гипотезу для каждого батча:"
   ]
  },
  {
   "cell_type": "code",
   "execution_count": 94,
   "id": "7c49ba75",
   "metadata": {
    "colab": {
     "base_uri": "https://localhost:8080/"
    },
    "execution": {
     "iopub.execute_input": "2025-04-03T12:22:01.480711Z",
     "iopub.status.busy": "2025-04-03T12:22:01.480400Z",
     "iopub.status.idle": "2025-04-03T12:22:01.485765Z",
     "shell.execute_reply": "2025-04-03T12:22:01.485067Z"
    },
    "id": "7c49ba75",
    "outputId": "956c8293-ffde-47b0-b27e-1e7a64d0a2aa",
    "papermill": {
     "duration": 0.115325,
     "end_time": "2025-04-03T12:22:01.486999",
     "exception": false,
     "start_time": "2025-04-03T12:22:01.371674",
     "status": "completed"
    },
    "tags": []
   },
   "outputs": [
    {
     "data": {
      "text/plain": [
       "tensor([[4, 4, 4],\n",
       "        [4, 4, 4],\n",
       "        [4, 4, 4],\n",
       "        [4, 4, 4],\n",
       "        [4, 4, 4],\n",
       "        [4, 4, 4],\n",
       "        [4, 4, 4],\n",
       "        [4, 4, 4]])"
      ]
     },
     "execution_count": 94,
     "metadata": {},
     "output_type": "execute_result"
    }
   ],
   "source": [
    "decoded_tokens[:, :, 0]"
   ]
  },
  {
   "cell_type": "markdown",
   "id": "334cc3d5",
   "metadata": {
    "id": "334cc3d5",
    "papermill": {
     "duration": 0.108326,
     "end_time": "2025-04-03T12:22:01.703730",
     "exception": false,
     "start_time": "2025-04-03T12:22:01.595404",
     "status": "completed"
    },
    "tags": []
   },
   "source": [
    "Посмотрим на вторую гипотезу для каждого батча:"
   ]
  },
  {
   "cell_type": "code",
   "execution_count": 95,
   "id": "29bcfcc7",
   "metadata": {
    "colab": {
     "base_uri": "https://localhost:8080/"
    },
    "execution": {
     "iopub.execute_input": "2025-04-03T12:22:01.974961Z",
     "iopub.status.busy": "2025-04-03T12:22:01.974670Z",
     "iopub.status.idle": "2025-04-03T12:22:01.980341Z",
     "shell.execute_reply": "2025-04-03T12:22:01.979621Z"
    },
    "id": "29bcfcc7",
    "outputId": "040f133b-07b5-4e83-b29c-202b5beef1d4",
    "papermill": {
     "duration": 0.118469,
     "end_time": "2025-04-03T12:22:01.981596",
     "exception": false,
     "start_time": "2025-04-03T12:22:01.863127",
     "status": "completed"
    },
    "tags": []
   },
   "outputs": [
    {
     "data": {
      "text/plain": [
       "tensor([[1, 1, 1],\n",
       "        [2, 2, 2],\n",
       "        [3, 3, 3],\n",
       "        [1, 1, 1],\n",
       "        [2, 2, 2],\n",
       "        [3, 3, 3],\n",
       "        [1, 1, 1],\n",
       "        [2, 2, 2]])"
      ]
     },
     "execution_count": 95,
     "metadata": {},
     "output_type": "execute_result"
    }
   ],
   "source": [
    "decoded_tokens[:, :, 1]"
   ]
  },
  {
   "cell_type": "markdown",
   "id": "e4592aee",
   "metadata": {
    "id": "e4592aee",
    "papermill": {
     "duration": 0.110069,
     "end_time": "2025-04-03T12:22:02.203151",
     "exception": false,
     "start_time": "2025-04-03T12:22:02.093082",
     "status": "completed"
    },
    "tags": []
   },
   "source": [
    "Подробнее, как это работает:\n",
    "\n",
    "1. На первом ходу мы берем 2 наиболее вероятных перехода: перейти в $1$, перейти в $4$.\n",
    "\n",
    "2. На следующих ходах мы рассматриваем для каждого \"луча\" 2 наиболее вероятных перехода (всего 4 случаев), из которых выбираем две наиболее вероятные гипотезы.\n",
    "\n",
    "- 1. Для случая, который перешел в $1$, мы рассматриваем 2 альтернативы: перейти в $2$ с вероятностью $0.367$, остаться в $1$ с вероятностью $0.332$)\n",
    "- 2. Для случая, который перешел в $4$, мы рассматриваем 2 альтернативы: остаться в $4$ с вероятностью 1, или перейти в любое другое состояние с вероятностью $\\approx$ 0)\n",
    "- 3. Из всех вариантов вероятней всего перейти из $1$ в $2$ и перейти из $4$ в $4$, то есть обновляем \"лучи\"\n",
    "\n",
    "3. Повторить пункт 2.\n",
    "\n",
    "**Важно:** Обратите внимание, что Beam Search детерминированный алгоритм"
   ]
  },
  {
   "cell_type": "code",
   "execution_count": 96,
   "id": "2a23f930",
   "metadata": {
    "ExecuteTime": {
     "end_time": "2024-03-30T22:46:30.504262Z",
     "start_time": "2024-03-30T22:46:30.501331Z"
    },
    "execution": {
     "iopub.execute_input": "2025-04-03T12:22:02.422516Z",
     "iopub.status.busy": "2025-04-03T12:22:02.422170Z",
     "iopub.status.idle": "2025-04-03T12:22:02.426948Z",
     "shell.execute_reply": "2025-04-03T12:22:02.426270Z"
    },
    "id": "2a23f930",
    "papermill": {
     "duration": 0.115654,
     "end_time": "2025-04-03T12:22:02.428051",
     "exception": false,
     "start_time": "2025-04-03T12:22:02.312397",
     "status": "completed"
    },
    "tags": []
   },
   "outputs": [],
   "source": [
    "start_tokens = torch.tensor([\n",
    "    lm_model.tokenizer.encode(['<sos>', '<pad>', '<pad>', '<pad>'], is_pretokenized=True).ids,\n",
    "    lm_model.tokenizer.encode(['<sos>', 'my', 'favorite', 'movie'], is_pretokenized=True).ids,\n",
    "    lm_model.tokenizer.encode(['<sos>', 'the', 'best', 'movie'],    is_pretokenized=True).ids,\n",
    "    lm_model.tokenizer.encode(['<sos>', 'the', 'worst', 'movie'],   is_pretokenized=True).ids,\n",
    "]).T\n",
    "\n",
    "start_tokens_lens = torch.tensor([1, 4, 4, 4])"
   ]
  },
  {
   "cell_type": "code",
   "execution_count": 97,
   "id": "db95c5e7",
   "metadata": {
    "ExecuteTime": {
     "end_time": "2024-03-30T22:46:31.081687Z",
     "start_time": "2024-03-30T22:46:30.966597Z"
    },
    "execution": {
     "iopub.execute_input": "2025-04-03T12:22:02.647324Z",
     "iopub.status.busy": "2025-04-03T12:22:02.647002Z",
     "iopub.status.idle": "2025-04-03T12:22:02.735869Z",
     "shell.execute_reply": "2025-04-03T12:22:02.735127Z"
    },
    "id": "db95c5e7",
    "papermill": {
     "duration": 0.200498,
     "end_time": "2025-04-03T12:22:02.737377",
     "exception": false,
     "start_time": "2025-04-03T12:22:02.536879",
     "status": "completed"
    },
    "tags": []
   },
   "outputs": [],
   "source": [
    "lm_model.to(device).eval()\n",
    "start_tokens = start_tokens.to(device)\n",
    "start_tokens_lens = start_tokens_lens.to(device)"
   ]
  },
  {
   "cell_type": "code",
   "execution_count": 98,
   "id": "6dcb8c06",
   "metadata": {
    "ExecuteTime": {
     "end_time": "2024-03-30T22:46:31.910807Z",
     "start_time": "2024-03-30T22:46:31.646253Z"
    },
    "execution": {
     "iopub.execute_input": "2025-04-03T12:22:02.958096Z",
     "iopub.status.busy": "2025-04-03T12:22:02.957808Z",
     "iopub.status.idle": "2025-04-03T12:22:03.177228Z",
     "shell.execute_reply": "2025-04-03T12:22:03.176520Z"
    },
    "id": "6dcb8c06",
    "papermill": {
     "duration": 0.329445,
     "end_time": "2025-04-03T12:22:03.178782",
     "exception": false,
     "start_time": "2025-04-03T12:22:02.849337",
     "status": "completed"
    },
    "tags": []
   },
   "outputs": [],
   "source": [
    "set_global_seed(42)\n",
    "\n",
    "beam_size = 100\n",
    "decoded_tokens, decoded_lens, log_probas = decode_beam_search(\n",
    "    lm_model, start_tokens, start_tokens_lens, max_generated_len=10, beam_size=beam_size\n",
    ")"
   ]
  },
  {
   "cell_type": "code",
   "execution_count": 99,
   "id": "0a3f68e5",
   "metadata": {
    "ExecuteTime": {
     "end_time": "2024-03-30T22:46:32.320606Z",
     "start_time": "2024-03-30T22:46:32.169949Z"
    },
    "colab": {
     "base_uri": "https://localhost:8080/",
     "height": 289
    },
    "execution": {
     "iopub.execute_input": "2025-04-03T12:22:03.407697Z",
     "iopub.status.busy": "2025-04-03T12:22:03.407389Z",
     "iopub.status.idle": "2025-04-03T12:22:03.435652Z",
     "shell.execute_reply": "2025-04-03T12:22:03.435008Z"
    },
    "id": "0a3f68e5",
    "outputId": "e5e851a1-f875-47e7-f42d-ab09baf6a203",
    "papermill": {
     "duration": 0.146641,
     "end_time": "2025-04-03T12:22:03.436796",
     "exception": false,
     "start_time": "2025-04-03T12:22:03.290155",
     "status": "completed"
    },
    "tags": []
   },
   "outputs": [
    {
     "data": {
      "text/markdown": [
       "<div class=\"alert alert-block alert-info\"> <b>&lt;sos&gt;</b></div>"
      ],
      "text/plain": [
       "<IPython.core.display.Markdown object>"
      ]
     },
     "metadata": {},
     "output_type": "display_data"
    },
    {
     "data": {
      "text/markdown": [
       "<div class=\"alert alert-block alert-success\"> <b>-37.453: first half hour half hour half dozen years old century</b></div>"
      ],
      "text/plain": [
       "<IPython.core.display.Markdown object>"
      ]
     },
     "metadata": {},
     "output_type": "display_data"
    },
    {
     "data": {
      "text/markdown": [
       "<div class=\"alert alert-block alert-success\"> <b>-37.655: first half hour half hour half dozen years old anniversary</b></div>"
      ],
      "text/plain": [
       "<IPython.core.display.Markdown object>"
      ]
     },
     "metadata": {},
     "output_type": "display_data"
    },
    {
     "data": {
      "text/markdown": [
       "<div class=\"alert alert-block alert-success\"> <b>-37.696: first half hour half dozen years old laurel pitt palsy</b></div>"
      ],
      "text/plain": [
       "<IPython.core.display.Markdown object>"
      ]
     },
     "metadata": {},
     "output_type": "display_data"
    },
    {
     "data": {
      "text/markdown": [
       "<div class=\"alert alert-block alert-info\"> <b>&lt;sos&gt; &lt;unk&gt; favorite movie</b></div>"
      ],
      "text/plain": [
       "<IPython.core.display.Markdown object>"
      ]
     },
     "metadata": {},
     "output_type": "display_data"
    },
    {
     "data": {
      "text/markdown": [
       "<div class=\"alert alert-block alert-success\"> <b>-40.293: without doubt worst bram pitt palsy read reviews thought provoking</b></div>"
      ],
      "text/plain": [
       "<IPython.core.display.Markdown object>"
      ]
     },
     "metadata": {},
     "output_type": "display_data"
    },
    {
     "data": {
      "text/markdown": [
       "<div class=\"alert alert-block alert-success\"> <b>-40.704: without doubt worst bram pitt palsy seen last years later</b></div>"
      ],
      "text/plain": [
       "<IPython.core.display.Markdown object>"
      ]
     },
     "metadata": {},
     "output_type": "display_data"
    },
    {
     "data": {
      "text/markdown": [
       "<div class=\"alert alert-block alert-success\"> <b>-40.921: without doubt worst bram pitt palsy seen last years old</b></div>"
      ],
      "text/plain": [
       "<IPython.core.display.Markdown object>"
      ]
     },
     "metadata": {},
     "output_type": "display_data"
    },
    {
     "data": {
      "text/markdown": [
       "<div class=\"alert alert-block alert-info\"> <b>&lt;sos&gt; &lt;unk&gt; best movie</b></div>"
      ],
      "text/plain": [
       "<IPython.core.display.Markdown object>"
      ]
     },
     "metadata": {},
     "output_type": "display_data"
    },
    {
     "data": {
      "text/markdown": [
       "<div class=\"alert alert-block alert-success\"> <b>-40.293: without doubt worst bram pitt palsy read reviews thought provoking</b></div>"
      ],
      "text/plain": [
       "<IPython.core.display.Markdown object>"
      ]
     },
     "metadata": {},
     "output_type": "display_data"
    },
    {
     "data": {
      "text/markdown": [
       "<div class=\"alert alert-block alert-success\"> <b>-40.704: without doubt worst bram pitt palsy seen last years later</b></div>"
      ],
      "text/plain": [
       "<IPython.core.display.Markdown object>"
      ]
     },
     "metadata": {},
     "output_type": "display_data"
    },
    {
     "data": {
      "text/markdown": [
       "<div class=\"alert alert-block alert-success\"> <b>-40.921: without doubt worst bram pitt palsy seen last years old</b></div>"
      ],
      "text/plain": [
       "<IPython.core.display.Markdown object>"
      ]
     },
     "metadata": {},
     "output_type": "display_data"
    },
    {
     "data": {
      "text/markdown": [
       "<div class=\"alert alert-block alert-info\"> <b>&lt;sos&gt; &lt;unk&gt; worst movie</b></div>"
      ],
      "text/plain": [
       "<IPython.core.display.Markdown object>"
      ]
     },
     "metadata": {},
     "output_type": "display_data"
    },
    {
     "data": {
      "text/markdown": [
       "<div class=\"alert alert-block alert-success\"> <b>-40.293: without doubt worst bram pitt palsy read reviews thought provoking</b></div>"
      ],
      "text/plain": [
       "<IPython.core.display.Markdown object>"
      ]
     },
     "metadata": {},
     "output_type": "display_data"
    },
    {
     "data": {
      "text/markdown": [
       "<div class=\"alert alert-block alert-success\"> <b>-40.704: without doubt worst bram pitt palsy seen last years later</b></div>"
      ],
      "text/plain": [
       "<IPython.core.display.Markdown object>"
      ]
     },
     "metadata": {},
     "output_type": "display_data"
    },
    {
     "data": {
      "text/markdown": [
       "<div class=\"alert alert-block alert-success\"> <b>-40.921: without doubt worst bram pitt palsy seen last years old</b></div>"
      ],
      "text/plain": [
       "<IPython.core.display.Markdown object>"
      ]
     },
     "metadata": {},
     "output_type": "display_data"
    }
   ],
   "source": [
    "for start_tokens_elem, start_tokens_lens_elem, decoded_tokens_elem, decoded_lens_elem, log_probas_elem in zip(\n",
    "    start_tokens.T, start_tokens_lens,\n",
    "    decoded_tokens.permute(1, 2, 0), decoded_lens.permute(0, 1), log_probas.permute(0, 1)\n",
    "):\n",
    "    start_tokens_elem = start_tokens_elem[:start_tokens_lens_elem].tolist()\n",
    "    start_words = lm_model.tokenizer.decode(start_tokens_elem, skip_special_tokens=False).split(' ')\n",
    "\n",
    "    start_text = ' '.join(start_words).replace('<', '&lt;').replace('>', '&gt;')\n",
    "    display(Markdown(f'<div class=\"alert alert-block alert-info\"> <b>{start_text}</b></div>'))\n",
    "\n",
    "    for idx, (hyp, hyp_len, hyp_log_prob) in enumerate(zip(decoded_tokens_elem, decoded_lens_elem, log_probas_elem)):\n",
    "        if idx >= 3:\n",
    "            break\n",
    "\n",
    "        hyp = hyp[:hyp_len].tolist()\n",
    "        hyp_words = lm_model.tokenizer.decode(hyp, skip_special_tokens=False).split(' ')\n",
    "        hyp_text = ' '.join(hyp_words).replace('<', '&lt;').replace('>', '&gt;')\n",
    "        display(Markdown(\n",
    "            f'<div class=\"alert alert-block alert-success\"> <b>{hyp_log_prob:.3f}: {hyp_text}</b></div>'\n",
    "        ))"
   ]
  },
  {
   "cell_type": "markdown",
   "id": "9f2396bd",
   "metadata": {
    "id": "9f2396bd",
    "papermill": {
     "duration": 0.108882,
     "end_time": "2025-04-03T12:22:03.656897",
     "exception": false,
     "start_time": "2025-04-03T12:22:03.548015",
     "status": "completed"
    },
    "tags": []
   },
   "source": [
    "Попробуйте выполнить декодинг для разных `beam_size`. Убедитесь, что при `beam_search=1` семплирование совпадает с top-1 (greedy decoding) подходом.\n",
    "\n",
    "Сравните результаты Beam Search с top-k семплированием и жадным декодированием. Опишите ваши наблюдения."
   ]
  },
  {
   "cell_type": "code",
   "execution_count": 100,
   "id": "d4998cae",
   "metadata": {
    "ExecuteTime": {
     "end_time": "2024-03-30T22:00:59.682820Z",
     "start_time": "2024-03-30T22:00:59.682812Z"
    },
    "colab": {
     "base_uri": "https://localhost:8080/",
     "height": 1000
    },
    "execution": {
     "iopub.execute_input": "2025-04-03T12:22:03.876613Z",
     "iopub.status.busy": "2025-04-03T12:22:03.876294Z",
     "iopub.status.idle": "2025-04-03T12:22:06.663040Z",
     "shell.execute_reply": "2025-04-03T12:22:06.662093Z"
    },
    "id": "d4998cae",
    "outputId": "cf642f27-14ec-49dc-8898-37891d403cbc",
    "papermill": {
     "duration": 2.899546,
     "end_time": "2025-04-03T12:22:06.664494",
     "exception": false,
     "start_time": "2025-04-03T12:22:03.764948",
     "status": "completed"
    },
    "tags": []
   },
   "outputs": [
    {
     "name": "stdout",
     "output_type": "stream",
     "text": [
      "Decoding results with beam_size = 1\n",
      " ------------------------------\n"
     ]
    },
    {
     "data": {
      "text/markdown": [
       "<div class=\"alert alert-block alert-info\"> <b>&lt;sos&gt;</b></div>"
      ],
      "text/plain": [
       "<IPython.core.display.Markdown object>"
      ]
     },
     "metadata": {},
     "output_type": "display_data"
    },
    {
     "data": {
      "text/markdown": [
       "<div class=\"alert alert-block alert-success\"> <b>-47.611: movie starts palsy seen movie starts palsy seen movie starts</b></div>"
      ],
      "text/plain": [
       "<IPython.core.display.Markdown object>"
      ]
     },
     "metadata": {},
     "output_type": "display_data"
    },
    {
     "data": {
      "text/markdown": [
       "<div class=\"alert alert-block alert-info\"> <b>&lt;sos&gt; &lt;unk&gt; favorite movie</b></div>"
      ],
      "text/plain": [
       "<IPython.core.display.Markdown object>"
      ]
     },
     "metadata": {},
     "output_type": "display_data"
    },
    {
     "data": {
      "text/markdown": [
       "<div class=\"alert alert-block alert-success\"> <b>-50.058: starts palsy seen movie starts palsy seen movie starts palsy</b></div>"
      ],
      "text/plain": [
       "<IPython.core.display.Markdown object>"
      ]
     },
     "metadata": {},
     "output_type": "display_data"
    },
    {
     "data": {
      "text/markdown": [
       "<div class=\"alert alert-block alert-info\"> <b>&lt;sos&gt; &lt;unk&gt; best movie</b></div>"
      ],
      "text/plain": [
       "<IPython.core.display.Markdown object>"
      ]
     },
     "metadata": {},
     "output_type": "display_data"
    },
    {
     "data": {
      "text/markdown": [
       "<div class=\"alert alert-block alert-success\"> <b>-50.058: starts palsy seen movie starts palsy seen movie starts palsy</b></div>"
      ],
      "text/plain": [
       "<IPython.core.display.Markdown object>"
      ]
     },
     "metadata": {},
     "output_type": "display_data"
    },
    {
     "data": {
      "text/markdown": [
       "<div class=\"alert alert-block alert-info\"> <b>&lt;sos&gt; &lt;unk&gt; worst movie</b></div>"
      ],
      "text/plain": [
       "<IPython.core.display.Markdown object>"
      ]
     },
     "metadata": {},
     "output_type": "display_data"
    },
    {
     "data": {
      "text/markdown": [
       "<div class=\"alert alert-block alert-success\"> <b>-50.058: starts palsy seen movie starts palsy seen movie starts palsy</b></div>"
      ],
      "text/plain": [
       "<IPython.core.display.Markdown object>"
      ]
     },
     "metadata": {},
     "output_type": "display_data"
    },
    {
     "name": "stdout",
     "output_type": "stream",
     "text": [
      "Generation takes 0.055 s\n",
      "\n",
      "Decoding results with beam_size = 5\n",
      " ------------------------------\n"
     ]
    },
    {
     "data": {
      "text/markdown": [
       "<div class=\"alert alert-block alert-info\"> <b>&lt;sos&gt;</b></div>"
      ],
      "text/plain": [
       "<IPython.core.display.Markdown object>"
      ]
     },
     "metadata": {},
     "output_type": "display_data"
    },
    {
     "data": {
      "text/markdown": [
       "<div class=\"alert alert-block alert-success\"> <b>-37.997: first half hour half hour half hour half hour foremost</b></div>"
      ],
      "text/plain": [
       "<IPython.core.display.Markdown object>"
      ]
     },
     "metadata": {},
     "output_type": "display_data"
    },
    {
     "data": {
      "text/markdown": [
       "<div class=\"alert alert-block alert-success\"> <b>-38.045: first half hour half hour half hour half baked singer</b></div>"
      ],
      "text/plain": [
       "<IPython.core.display.Markdown object>"
      ]
     },
     "metadata": {},
     "output_type": "display_data"
    },
    {
     "data": {
      "text/markdown": [
       "<div class=\"alert alert-block alert-success\"> <b>-38.225: first half hour half hour half hour half baked prem</b></div>"
      ],
      "text/plain": [
       "<IPython.core.display.Markdown object>"
      ]
     },
     "metadata": {},
     "output_type": "display_data"
    },
    {
     "data": {
      "text/markdown": [
       "<div class=\"alert alert-block alert-info\"> <b>&lt;sos&gt; &lt;unk&gt; favorite movie</b></div>"
      ],
      "text/plain": [
       "<IPython.core.display.Markdown object>"
      ]
     },
     "metadata": {},
     "output_type": "display_data"
    },
    {
     "data": {
      "text/markdown": [
       "<div class=\"alert alert-block alert-success\"> <b>-50.058: starts palsy seen movie starts palsy seen movie starts palsy</b></div>"
      ],
      "text/plain": [
       "<IPython.core.display.Markdown object>"
      ]
     },
     "metadata": {},
     "output_type": "display_data"
    },
    {
     "data": {
      "text/markdown": [
       "<div class=\"alert alert-block alert-success\"> <b>-50.117: starts palsy seen movie starts palsy seen movie goer say</b></div>"
      ],
      "text/plain": [
       "<IPython.core.display.Markdown object>"
      ]
     },
     "metadata": {},
     "output_type": "display_data"
    },
    {
     "data": {
      "text/markdown": [
       "<div class=\"alert alert-block alert-success\"> <b>-50.158: starts palsy seen movie starts palsy seen movie goer seen</b></div>"
      ],
      "text/plain": [
       "<IPython.core.display.Markdown object>"
      ]
     },
     "metadata": {},
     "output_type": "display_data"
    },
    {
     "data": {
      "text/markdown": [
       "<div class=\"alert alert-block alert-info\"> <b>&lt;sos&gt; &lt;unk&gt; best movie</b></div>"
      ],
      "text/plain": [
       "<IPython.core.display.Markdown object>"
      ]
     },
     "metadata": {},
     "output_type": "display_data"
    },
    {
     "data": {
      "text/markdown": [
       "<div class=\"alert alert-block alert-success\"> <b>-50.058: starts palsy seen movie starts palsy seen movie starts palsy</b></div>"
      ],
      "text/plain": [
       "<IPython.core.display.Markdown object>"
      ]
     },
     "metadata": {},
     "output_type": "display_data"
    },
    {
     "data": {
      "text/markdown": [
       "<div class=\"alert alert-block alert-success\"> <b>-50.117: starts palsy seen movie starts palsy seen movie goer say</b></div>"
      ],
      "text/plain": [
       "<IPython.core.display.Markdown object>"
      ]
     },
     "metadata": {},
     "output_type": "display_data"
    },
    {
     "data": {
      "text/markdown": [
       "<div class=\"alert alert-block alert-success\"> <b>-50.158: starts palsy seen movie starts palsy seen movie goer seen</b></div>"
      ],
      "text/plain": [
       "<IPython.core.display.Markdown object>"
      ]
     },
     "metadata": {},
     "output_type": "display_data"
    },
    {
     "data": {
      "text/markdown": [
       "<div class=\"alert alert-block alert-info\"> <b>&lt;sos&gt; &lt;unk&gt; worst movie</b></div>"
      ],
      "text/plain": [
       "<IPython.core.display.Markdown object>"
      ]
     },
     "metadata": {},
     "output_type": "display_data"
    },
    {
     "data": {
      "text/markdown": [
       "<div class=\"alert alert-block alert-success\"> <b>-50.058: starts palsy seen movie starts palsy seen movie starts palsy</b></div>"
      ],
      "text/plain": [
       "<IPython.core.display.Markdown object>"
      ]
     },
     "metadata": {},
     "output_type": "display_data"
    },
    {
     "data": {
      "text/markdown": [
       "<div class=\"alert alert-block alert-success\"> <b>-50.117: starts palsy seen movie starts palsy seen movie goer say</b></div>"
      ],
      "text/plain": [
       "<IPython.core.display.Markdown object>"
      ]
     },
     "metadata": {},
     "output_type": "display_data"
    },
    {
     "data": {
      "text/markdown": [
       "<div class=\"alert alert-block alert-success\"> <b>-50.158: starts palsy seen movie starts palsy seen movie goer seen</b></div>"
      ],
      "text/plain": [
       "<IPython.core.display.Markdown object>"
      ]
     },
     "metadata": {},
     "output_type": "display_data"
    },
    {
     "name": "stdout",
     "output_type": "stream",
     "text": [
      "Generation takes 0.052 s\n",
      "\n",
      "Decoding results with beam_size = 10\n",
      " ------------------------------\n"
     ]
    },
    {
     "data": {
      "text/markdown": [
       "<div class=\"alert alert-block alert-info\"> <b>&lt;sos&gt;</b></div>"
      ],
      "text/plain": [
       "<IPython.core.display.Markdown object>"
      ]
     },
     "metadata": {},
     "output_type": "display_data"
    },
    {
     "data": {
      "text/markdown": [
       "<div class=\"alert alert-block alert-success\"> <b>-37.997: first half hour half hour half hour half hour foremost</b></div>"
      ],
      "text/plain": [
       "<IPython.core.display.Markdown object>"
      ]
     },
     "metadata": {},
     "output_type": "display_data"
    },
    {
     "data": {
      "text/markdown": [
       "<div class=\"alert alert-block alert-success\"> <b>-38.045: first half hour half hour half hour half baked singer</b></div>"
      ],
      "text/plain": [
       "<IPython.core.display.Markdown object>"
      ]
     },
     "metadata": {},
     "output_type": "display_data"
    },
    {
     "data": {
      "text/markdown": [
       "<div class=\"alert alert-block alert-success\"> <b>-38.225: first half hour half hour half hour half baked prem</b></div>"
      ],
      "text/plain": [
       "<IPython.core.display.Markdown object>"
      ]
     },
     "metadata": {},
     "output_type": "display_data"
    },
    {
     "data": {
      "text/markdown": [
       "<div class=\"alert alert-block alert-info\"> <b>&lt;sos&gt; &lt;unk&gt; favorite movie</b></div>"
      ],
      "text/plain": [
       "<IPython.core.display.Markdown object>"
      ]
     },
     "metadata": {},
     "output_type": "display_data"
    },
    {
     "data": {
      "text/markdown": [
       "<div class=\"alert alert-block alert-success\"> <b>-44.031: divides fi flicks seen last morning doubt worst bram pitt</b></div>"
      ],
      "text/plain": [
       "<IPython.core.display.Markdown object>"
      ]
     },
     "metadata": {},
     "output_type": "display_data"
    },
    {
     "data": {
      "text/markdown": [
       "<div class=\"alert alert-block alert-success\"> <b>-44.071: divides fi flicks seen last morning doubt worst bram atwill</b></div>"
      ],
      "text/plain": [
       "<IPython.core.display.Markdown object>"
      ]
     },
     "metadata": {},
     "output_type": "display_data"
    },
    {
     "data": {
      "text/markdown": [
       "<div class=\"alert alert-block alert-success\"> <b>-44.287: divides fi flicks seen last morning doubt worst bram williams</b></div>"
      ],
      "text/plain": [
       "<IPython.core.display.Markdown object>"
      ]
     },
     "metadata": {},
     "output_type": "display_data"
    },
    {
     "data": {
      "text/markdown": [
       "<div class=\"alert alert-block alert-info\"> <b>&lt;sos&gt; &lt;unk&gt; best movie</b></div>"
      ],
      "text/plain": [
       "<IPython.core.display.Markdown object>"
      ]
     },
     "metadata": {},
     "output_type": "display_data"
    },
    {
     "data": {
      "text/markdown": [
       "<div class=\"alert alert-block alert-success\"> <b>-44.031: divides fi flicks seen last morning doubt worst bram pitt</b></div>"
      ],
      "text/plain": [
       "<IPython.core.display.Markdown object>"
      ]
     },
     "metadata": {},
     "output_type": "display_data"
    },
    {
     "data": {
      "text/markdown": [
       "<div class=\"alert alert-block alert-success\"> <b>-44.071: divides fi flicks seen last morning doubt worst bram atwill</b></div>"
      ],
      "text/plain": [
       "<IPython.core.display.Markdown object>"
      ]
     },
     "metadata": {},
     "output_type": "display_data"
    },
    {
     "data": {
      "text/markdown": [
       "<div class=\"alert alert-block alert-success\"> <b>-44.287: divides fi flicks seen last morning doubt worst bram williams</b></div>"
      ],
      "text/plain": [
       "<IPython.core.display.Markdown object>"
      ]
     },
     "metadata": {},
     "output_type": "display_data"
    },
    {
     "data": {
      "text/markdown": [
       "<div class=\"alert alert-block alert-info\"> <b>&lt;sos&gt; &lt;unk&gt; worst movie</b></div>"
      ],
      "text/plain": [
       "<IPython.core.display.Markdown object>"
      ]
     },
     "metadata": {},
     "output_type": "display_data"
    },
    {
     "data": {
      "text/markdown": [
       "<div class=\"alert alert-block alert-success\"> <b>-44.031: divides fi flicks seen last morning doubt worst bram pitt</b></div>"
      ],
      "text/plain": [
       "<IPython.core.display.Markdown object>"
      ]
     },
     "metadata": {},
     "output_type": "display_data"
    },
    {
     "data": {
      "text/markdown": [
       "<div class=\"alert alert-block alert-success\"> <b>-44.071: divides fi flicks seen last morning doubt worst bram atwill</b></div>"
      ],
      "text/plain": [
       "<IPython.core.display.Markdown object>"
      ]
     },
     "metadata": {},
     "output_type": "display_data"
    },
    {
     "data": {
      "text/markdown": [
       "<div class=\"alert alert-block alert-success\"> <b>-44.287: divides fi flicks seen last morning doubt worst bram williams</b></div>"
      ],
      "text/plain": [
       "<IPython.core.display.Markdown object>"
      ]
     },
     "metadata": {},
     "output_type": "display_data"
    },
    {
     "name": "stdout",
     "output_type": "stream",
     "text": [
      "Generation takes 0.057 s\n",
      "\n",
      "Decoding results with beam_size = 50\n",
      " ------------------------------\n"
     ]
    },
    {
     "data": {
      "text/markdown": [
       "<div class=\"alert alert-block alert-info\"> <b>&lt;sos&gt;</b></div>"
      ],
      "text/plain": [
       "<IPython.core.display.Markdown object>"
      ]
     },
     "metadata": {},
     "output_type": "display_data"
    },
    {
     "data": {
      "text/markdown": [
       "<div class=\"alert alert-block alert-success\"> <b>-37.453: first half hour half hour half dozen years old century</b></div>"
      ],
      "text/plain": [
       "<IPython.core.display.Markdown object>"
      ]
     },
     "metadata": {},
     "output_type": "display_data"
    },
    {
     "data": {
      "text/markdown": [
       "<div class=\"alert alert-block alert-success\"> <b>-37.655: first half hour half hour half dozen years old anniversary</b></div>"
      ],
      "text/plain": [
       "<IPython.core.display.Markdown object>"
      ]
     },
     "metadata": {},
     "output_type": "display_data"
    },
    {
     "data": {
      "text/markdown": [
       "<div class=\"alert alert-block alert-success\"> <b>-37.696: first half hour half dozen years old laurel pitt palsy</b></div>"
      ],
      "text/plain": [
       "<IPython.core.display.Markdown object>"
      ]
     },
     "metadata": {},
     "output_type": "display_data"
    },
    {
     "data": {
      "text/markdown": [
       "<div class=\"alert alert-block alert-info\"> <b>&lt;sos&gt; &lt;unk&gt; favorite movie</b></div>"
      ],
      "text/plain": [
       "<IPython.core.display.Markdown object>"
      ]
     },
     "metadata": {},
     "output_type": "display_data"
    },
    {
     "data": {
      "text/markdown": [
       "<div class=\"alert alert-block alert-success\"> <b>-41.865: could possibly worst bram pitt palsy read reviews thought provoking</b></div>"
      ],
      "text/plain": [
       "<IPython.core.display.Markdown object>"
      ]
     },
     "metadata": {},
     "output_type": "display_data"
    },
    {
     "data": {
      "text/markdown": [
       "<div class=\"alert alert-block alert-success\"> <b>-42.276: could possibly worst bram pitt palsy seen last years later</b></div>"
      ],
      "text/plain": [
       "<IPython.core.display.Markdown object>"
      ]
     },
     "metadata": {},
     "output_type": "display_data"
    },
    {
     "data": {
      "text/markdown": [
       "<div class=\"alert alert-block alert-success\"> <b>-42.492: could possibly worst bram pitt palsy seen last years old</b></div>"
      ],
      "text/plain": [
       "<IPython.core.display.Markdown object>"
      ]
     },
     "metadata": {},
     "output_type": "display_data"
    },
    {
     "data": {
      "text/markdown": [
       "<div class=\"alert alert-block alert-info\"> <b>&lt;sos&gt; &lt;unk&gt; best movie</b></div>"
      ],
      "text/plain": [
       "<IPython.core.display.Markdown object>"
      ]
     },
     "metadata": {},
     "output_type": "display_data"
    },
    {
     "data": {
      "text/markdown": [
       "<div class=\"alert alert-block alert-success\"> <b>-41.865: could possibly worst bram pitt palsy read reviews thought provoking</b></div>"
      ],
      "text/plain": [
       "<IPython.core.display.Markdown object>"
      ]
     },
     "metadata": {},
     "output_type": "display_data"
    },
    {
     "data": {
      "text/markdown": [
       "<div class=\"alert alert-block alert-success\"> <b>-42.276: could possibly worst bram pitt palsy seen last years later</b></div>"
      ],
      "text/plain": [
       "<IPython.core.display.Markdown object>"
      ]
     },
     "metadata": {},
     "output_type": "display_data"
    },
    {
     "data": {
      "text/markdown": [
       "<div class=\"alert alert-block alert-success\"> <b>-42.492: could possibly worst bram pitt palsy seen last years old</b></div>"
      ],
      "text/plain": [
       "<IPython.core.display.Markdown object>"
      ]
     },
     "metadata": {},
     "output_type": "display_data"
    },
    {
     "data": {
      "text/markdown": [
       "<div class=\"alert alert-block alert-info\"> <b>&lt;sos&gt; &lt;unk&gt; worst movie</b></div>"
      ],
      "text/plain": [
       "<IPython.core.display.Markdown object>"
      ]
     },
     "metadata": {},
     "output_type": "display_data"
    },
    {
     "data": {
      "text/markdown": [
       "<div class=\"alert alert-block alert-success\"> <b>-41.865: could possibly worst bram pitt palsy read reviews thought provoking</b></div>"
      ],
      "text/plain": [
       "<IPython.core.display.Markdown object>"
      ]
     },
     "metadata": {},
     "output_type": "display_data"
    },
    {
     "data": {
      "text/markdown": [
       "<div class=\"alert alert-block alert-success\"> <b>-42.276: could possibly worst bram pitt palsy seen last years later</b></div>"
      ],
      "text/plain": [
       "<IPython.core.display.Markdown object>"
      ]
     },
     "metadata": {},
     "output_type": "display_data"
    },
    {
     "data": {
      "text/markdown": [
       "<div class=\"alert alert-block alert-success\"> <b>-42.492: could possibly worst bram pitt palsy seen last years old</b></div>"
      ],
      "text/plain": [
       "<IPython.core.display.Markdown object>"
      ]
     },
     "metadata": {},
     "output_type": "display_data"
    },
    {
     "name": "stdout",
     "output_type": "stream",
     "text": [
      "Generation takes 0.101 s\n",
      "\n",
      "Decoding results with beam_size = 1000\n",
      " ------------------------------\n"
     ]
    },
    {
     "data": {
      "text/markdown": [
       "<div class=\"alert alert-block alert-info\"> <b>&lt;sos&gt;</b></div>"
      ],
      "text/plain": [
       "<IPython.core.display.Markdown object>"
      ]
     },
     "metadata": {},
     "output_type": "display_data"
    },
    {
     "data": {
      "text/markdown": [
       "<div class=\"alert alert-block alert-success\"> <b>-34.657: first quarter fi sci fi sci fi sci fi flicks</b></div>"
      ],
      "text/plain": [
       "<IPython.core.display.Markdown object>"
      ]
     },
     "metadata": {},
     "output_type": "display_data"
    },
    {
     "data": {
      "text/markdown": [
       "<div class=\"alert alert-block alert-success\"> <b>-34.762: first quarter fi sci fi sci fi sci fi c</b></div>"
      ],
      "text/plain": [
       "<IPython.core.display.Markdown object>"
      ]
     },
     "metadata": {},
     "output_type": "display_data"
    },
    {
     "data": {
      "text/markdown": [
       "<div class=\"alert alert-block alert-success\"> <b>-34.768: first quarter fi sci fi sci fi sci fi flick</b></div>"
      ],
      "text/plain": [
       "<IPython.core.display.Markdown object>"
      ]
     },
     "metadata": {},
     "output_type": "display_data"
    },
    {
     "data": {
      "text/markdown": [
       "<div class=\"alert alert-block alert-info\"> <b>&lt;sos&gt; &lt;unk&gt; favorite movie</b></div>"
      ],
      "text/plain": [
       "<IPython.core.display.Markdown object>"
      ]
     },
     "metadata": {},
     "output_type": "display_data"
    },
    {
     "data": {
      "text/markdown": [
       "<div class=\"alert alert-block alert-success\"> <b>-35.567: kung fu sci fi sci fi sci fi sci fi</b></div>"
      ],
      "text/plain": [
       "<IPython.core.display.Markdown object>"
      ]
     },
     "metadata": {},
     "output_type": "display_data"
    },
    {
     "data": {
      "text/markdown": [
       "<div class=\"alert alert-block alert-success\"> <b>-35.635: kung fu martial arts sci fi sci fi sci fi</b></div>"
      ],
      "text/plain": [
       "<IPython.core.display.Markdown object>"
      ]
     },
     "metadata": {},
     "output_type": "display_data"
    },
    {
     "data": {
      "text/markdown": [
       "<div class=\"alert alert-block alert-success\"> <b>-35.971: kung fu martial arts martial arts sci fi sci fi</b></div>"
      ],
      "text/plain": [
       "<IPython.core.display.Markdown object>"
      ]
     },
     "metadata": {},
     "output_type": "display_data"
    },
    {
     "data": {
      "text/markdown": [
       "<div class=\"alert alert-block alert-info\"> <b>&lt;sos&gt; &lt;unk&gt; best movie</b></div>"
      ],
      "text/plain": [
       "<IPython.core.display.Markdown object>"
      ]
     },
     "metadata": {},
     "output_type": "display_data"
    },
    {
     "data": {
      "text/markdown": [
       "<div class=\"alert alert-block alert-success\"> <b>-35.567: kung fu sci fi sci fi sci fi sci fi</b></div>"
      ],
      "text/plain": [
       "<IPython.core.display.Markdown object>"
      ]
     },
     "metadata": {},
     "output_type": "display_data"
    },
    {
     "data": {
      "text/markdown": [
       "<div class=\"alert alert-block alert-success\"> <b>-35.635: kung fu martial arts sci fi sci fi sci fi</b></div>"
      ],
      "text/plain": [
       "<IPython.core.display.Markdown object>"
      ]
     },
     "metadata": {},
     "output_type": "display_data"
    },
    {
     "data": {
      "text/markdown": [
       "<div class=\"alert alert-block alert-success\"> <b>-35.971: kung fu martial arts martial arts sci fi sci fi</b></div>"
      ],
      "text/plain": [
       "<IPython.core.display.Markdown object>"
      ]
     },
     "metadata": {},
     "output_type": "display_data"
    },
    {
     "data": {
      "text/markdown": [
       "<div class=\"alert alert-block alert-info\"> <b>&lt;sos&gt; &lt;unk&gt; worst movie</b></div>"
      ],
      "text/plain": [
       "<IPython.core.display.Markdown object>"
      ]
     },
     "metadata": {},
     "output_type": "display_data"
    },
    {
     "data": {
      "text/markdown": [
       "<div class=\"alert alert-block alert-success\"> <b>-35.567: kung fu sci fi sci fi sci fi sci fi</b></div>"
      ],
      "text/plain": [
       "<IPython.core.display.Markdown object>"
      ]
     },
     "metadata": {},
     "output_type": "display_data"
    },
    {
     "data": {
      "text/markdown": [
       "<div class=\"alert alert-block alert-success\"> <b>-35.635: kung fu martial arts sci fi sci fi sci fi</b></div>"
      ],
      "text/plain": [
       "<IPython.core.display.Markdown object>"
      ]
     },
     "metadata": {},
     "output_type": "display_data"
    },
    {
     "data": {
      "text/markdown": [
       "<div class=\"alert alert-block alert-success\"> <b>-35.971: kung fu martial arts martial arts sci fi sci fi</b></div>"
      ],
      "text/plain": [
       "<IPython.core.display.Markdown object>"
      ]
     },
     "metadata": {},
     "output_type": "display_data"
    },
    {
     "name": "stdout",
     "output_type": "stream",
     "text": [
      "Generation takes 0.770 s\n",
      "\n",
      "Decoding results with beam_size = 5000\n",
      " ------------------------------\n"
     ]
    },
    {
     "data": {
      "text/markdown": [
       "<div class=\"alert alert-block alert-info\"> <b>&lt;sos&gt;</b></div>"
      ],
      "text/plain": [
       "<IPython.core.display.Markdown object>"
      ]
     },
     "metadata": {},
     "output_type": "display_data"
    },
    {
     "data": {
      "text/markdown": [
       "<div class=\"alert alert-block alert-success\"> <b>-34.657: first quarter fi sci fi sci fi sci fi flicks</b></div>"
      ],
      "text/plain": [
       "<IPython.core.display.Markdown object>"
      ]
     },
     "metadata": {},
     "output_type": "display_data"
    },
    {
     "data": {
      "text/markdown": [
       "<div class=\"alert alert-block alert-success\"> <b>-34.762: first quarter fi sci fi sci fi sci fi c</b></div>"
      ],
      "text/plain": [
       "<IPython.core.display.Markdown object>"
      ]
     },
     "metadata": {},
     "output_type": "display_data"
    },
    {
     "data": {
      "text/markdown": [
       "<div class=\"alert alert-block alert-success\"> <b>-34.768: first quarter fi sci fi sci fi sci fi flick</b></div>"
      ],
      "text/plain": [
       "<IPython.core.display.Markdown object>"
      ]
     },
     "metadata": {},
     "output_type": "display_data"
    },
    {
     "data": {
      "text/markdown": [
       "<div class=\"alert alert-block alert-info\"> <b>&lt;sos&gt; &lt;unk&gt; favorite movie</b></div>"
      ],
      "text/plain": [
       "<IPython.core.display.Markdown object>"
      ]
     },
     "metadata": {},
     "output_type": "display_data"
    },
    {
     "data": {
      "text/markdown": [
       "<div class=\"alert alert-block alert-success\"> <b>-35.567: kung fu sci fi sci fi sci fi sci fi</b></div>"
      ],
      "text/plain": [
       "<IPython.core.display.Markdown object>"
      ]
     },
     "metadata": {},
     "output_type": "display_data"
    },
    {
     "data": {
      "text/markdown": [
       "<div class=\"alert alert-block alert-success\"> <b>-35.635: kung fu martial arts sci fi sci fi sci fi</b></div>"
      ],
      "text/plain": [
       "<IPython.core.display.Markdown object>"
      ]
     },
     "metadata": {},
     "output_type": "display_data"
    },
    {
     "data": {
      "text/markdown": [
       "<div class=\"alert alert-block alert-success\"> <b>-35.726: sci fi sci fi sci fi sci fi sci fi</b></div>"
      ],
      "text/plain": [
       "<IPython.core.display.Markdown object>"
      ]
     },
     "metadata": {},
     "output_type": "display_data"
    },
    {
     "data": {
      "text/markdown": [
       "<div class=\"alert alert-block alert-info\"> <b>&lt;sos&gt; &lt;unk&gt; best movie</b></div>"
      ],
      "text/plain": [
       "<IPython.core.display.Markdown object>"
      ]
     },
     "metadata": {},
     "output_type": "display_data"
    },
    {
     "data": {
      "text/markdown": [
       "<div class=\"alert alert-block alert-success\"> <b>-35.567: kung fu sci fi sci fi sci fi sci fi</b></div>"
      ],
      "text/plain": [
       "<IPython.core.display.Markdown object>"
      ]
     },
     "metadata": {},
     "output_type": "display_data"
    },
    {
     "data": {
      "text/markdown": [
       "<div class=\"alert alert-block alert-success\"> <b>-35.635: kung fu martial arts sci fi sci fi sci fi</b></div>"
      ],
      "text/plain": [
       "<IPython.core.display.Markdown object>"
      ]
     },
     "metadata": {},
     "output_type": "display_data"
    },
    {
     "data": {
      "text/markdown": [
       "<div class=\"alert alert-block alert-success\"> <b>-35.726: sci fi sci fi sci fi sci fi sci fi</b></div>"
      ],
      "text/plain": [
       "<IPython.core.display.Markdown object>"
      ]
     },
     "metadata": {},
     "output_type": "display_data"
    },
    {
     "data": {
      "text/markdown": [
       "<div class=\"alert alert-block alert-info\"> <b>&lt;sos&gt; &lt;unk&gt; worst movie</b></div>"
      ],
      "text/plain": [
       "<IPython.core.display.Markdown object>"
      ]
     },
     "metadata": {},
     "output_type": "display_data"
    },
    {
     "data": {
      "text/markdown": [
       "<div class=\"alert alert-block alert-success\"> <b>-35.567: kung fu sci fi sci fi sci fi sci fi</b></div>"
      ],
      "text/plain": [
       "<IPython.core.display.Markdown object>"
      ]
     },
     "metadata": {},
     "output_type": "display_data"
    },
    {
     "data": {
      "text/markdown": [
       "<div class=\"alert alert-block alert-success\"> <b>-35.635: kung fu martial arts sci fi sci fi sci fi</b></div>"
      ],
      "text/plain": [
       "<IPython.core.display.Markdown object>"
      ]
     },
     "metadata": {},
     "output_type": "display_data"
    },
    {
     "data": {
      "text/markdown": [
       "<div class=\"alert alert-block alert-success\"> <b>-35.726: sci fi sci fi sci fi sci fi sci fi</b></div>"
      ],
      "text/plain": [
       "<IPython.core.display.Markdown object>"
      ]
     },
     "metadata": {},
     "output_type": "display_data"
    },
    {
     "name": "stdout",
     "output_type": "stream",
     "text": [
      "Generation takes 3.892 s\n",
      "\n"
     ]
    }
   ],
   "source": [
    "# YOUR CODE HERE\n",
    "set_global_seed(42)\n",
    "\n",
    "for beam_size in [1, 5, 10, 50, 1000, 5000]:\n",
    "    print(f'Decoding results with beam_size = {beam_size}\\n', '-'*30)\n",
    "    start = perf_counter()\n",
    "    decoded_tokens, decoded_lens, log_probas = decode_beam_search(\n",
    "        lm_model, start_tokens, start_tokens_lens, max_generated_len=10, beam_size=beam_size\n",
    "    )\n",
    "    for start_tokens_elem, start_tokens_lens_elem, decoded_tokens_elem, decoded_lens_elem, log_probas_elem in zip(\n",
    "        start_tokens.T, start_tokens_lens,\n",
    "        decoded_tokens.permute(1, 2, 0), decoded_lens.permute(0, 1), log_probas.permute(0, 1)\n",
    "    ):\n",
    "        start_tokens_elem = start_tokens_elem[:start_tokens_lens_elem].tolist()\n",
    "        start_words = lm_model.tokenizer.decode(start_tokens_elem, skip_special_tokens=False).split(' ')\n",
    "\n",
    "        start_text = ' '.join(start_words).replace('<', '&lt;').replace('>', '&gt;')\n",
    "        display(Markdown(f'<div class=\"alert alert-block alert-info\"> <b>{start_text}</b></div>'))\n",
    "\n",
    "        for idx, (hyp, hyp_len, hyp_log_prob) in enumerate(zip(decoded_tokens_elem, decoded_lens_elem, log_probas_elem)):\n",
    "            if idx >= 3:\n",
    "                break\n",
    "\n",
    "            hyp = hyp[:hyp_len].tolist()\n",
    "            hyp_words = lm_model.tokenizer.decode(hyp, skip_special_tokens=False).split(' ')\n",
    "            hyp_text = ' '.join(hyp_words).replace('<', '&lt;').replace('>', '&gt;')\n",
    "            display(Markdown(\n",
    "                f'<div class=\"alert alert-block alert-success\"> <b>{hyp_log_prob:.3f}: {hyp_text}</b></div>'\n",
    "            ))\n",
    "    print(f'Generation takes {perf_counter()- start:.3f} s\\n')"
   ]
  },
  {
   "cell_type": "markdown",
   "id": "54f58280",
   "metadata": {
    "id": "54f58280",
    "papermill": {
     "duration": 0.130398,
     "end_time": "2025-04-03T12:22:06.912784",
     "exception": false,
     "start_time": "2025-04-03T12:22:06.782386",
     "status": "completed"
    },
    "tags": []
   },
   "source": [
    "---\n",
    "\n",
    "**Ответ:**\n",
    "\n",
    "1. Действительно, при `beam_size` $= 1$ результат совпал с полученным при жадном декодировании.\n",
    "2. По идее при увеличении `beam_size` качество генерируемого текста должно улучшаться (мы должны быть близки к полному перебору), но этого не происходит. Видимо, обучающей выборки и такой простой модели не достаточно, чтобы научиться генерировать что-то осмысленное. Возможно изначальные отзывы тоже не являются очень хорошими по качеству. Самое грустное, что генерации для запросов `best movie` и `worst movie` одинаковые (Я исследовал этот вопрос, вставить красивые результаты в ноутбук - долго, так что просто как факт: слово `movie` перетирает все что было до него в векторах $h$ и $c$ - такой вот результат обучения). Тем не менее разнообразие слов куда больше чем в `topk`, что как бы неплохо.\n",
    "3. Отсюда можно сделать вывод, что `top_k` сэмплирование проще по реализации, имеет меньшие требования к памяти и дает результат не сильно хуже"
   ]
  },
  {
   "cell_type": "markdown",
   "id": "7499cae3",
   "metadata": {
    "ExecuteTime": {
     "end_time": "2021-04-02T15:04:51.678260Z",
     "start_time": "2021-04-02T15:04:51.673587Z"
    },
    "id": "7499cae3",
    "papermill": {
     "duration": 0.115246,
     "end_time": "2025-04-03T12:22:07.210308",
     "exception": false,
     "start_time": "2025-04-03T12:22:07.095062",
     "status": "completed"
    },
    "tags": []
   },
   "source": [
    "## `Бонус. Существенное улучшение качества (до 6 баллов)`"
   ]
  },
  {
   "cell_type": "markdown",
   "id": "547d709f",
   "metadata": {
    "id": "547d709f",
    "papermill": {
     "duration": 0.113987,
     "end_time": "2025-04-03T12:22:07.439150",
     "exception": false,
     "start_time": "2025-04-03T12:22:07.325163",
     "status": "completed"
    },
    "tags": []
   },
   "source": [
    "Та модель, которая использовалась в предыдущей части во многом заимствует улучшения LSTM из статьи [Regularizing and Optimizing LSTM Language Models](https://arxiv.org/pdf/1708.02182.pdf). Вы можете попробовать применить другие варианты регуляризации из данной статьи для существенного улучшения качества LM.\n",
    "\n",
    "Например:\n",
    "1. Dropout для эмбеддингов **(+0.25)**\n",
    "2. Dropout входов и выходов RNN **(+0.25)**\n",
    "3. Регуляризация активаций (AR/TAR) **(+1.0)**\n",
    "4. NT-ASGD **(+1.5)**\n",
    "5. Tied веса эмбеддингов и софтмакса **(+1.0)**\n",
    "6. Attention **(+2.0)**\n",
    "\n",
    "**Полные баллы ставятся только при наличии качественного и количественного сравнения с бейзлайном.**\n",
    "\n",
    "**Для эксперимента с Attention необходимо изобразить Attention Maps для нескольких примеров.**"
   ]
  },
  {
   "cell_type": "code",
   "execution_count": null,
   "id": "3e527b2f",
   "metadata": {
    "id": "3e527b2f",
    "papermill": {
     "duration": 0.114064,
     "end_time": "2025-04-03T12:22:07.668698",
     "exception": false,
     "start_time": "2025-04-03T12:22:07.554634",
     "status": "completed"
    },
    "tags": []
   },
   "outputs": [],
   "source": []
  }
 ],
 "metadata": {
  "accelerator": "GPU",
  "colab": {
   "gpuType": "T4",
   "provenance": []
  },
  "kaggle": {
   "accelerator": "gpu",
   "dataSources": [],
   "dockerImageVersionId": 30918,
   "isGpuEnabled": true,
   "isInternetEnabled": true,
   "language": "python",
   "sourceType": "notebook"
  },
  "kernelspec": {
   "display_name": "Python 3 (ipykernel)",
   "language": "python",
   "name": "python3"
  },
  "language_info": {
   "codemirror_mode": {
    "name": "ipython",
    "version": 3
   },
   "file_extension": ".py",
   "mimetype": "text/x-python",
   "name": "python",
   "nbconvert_exporter": "python",
   "pygments_lexer": "ipython3",
   "version": "3.12.8"
  },
  "papermill": {
   "default_parameters": {},
   "duration": 5429.728394,
   "end_time": "2025-04-03T12:22:10.013031",
   "environment_variables": {},
   "exception": null,
   "input_path": "__notebook__.ipynb",
   "output_path": "__notebook__.ipynb",
   "parameters": {},
   "start_time": "2025-04-03T10:51:40.284637",
   "version": "2.6.0"
  },
  "toc": {
   "base_numbering": 1,
   "nav_menu": {},
   "number_sections": false,
   "sideBar": true,
   "skip_h1_title": false,
   "title_cell": "Table of Contents",
   "title_sidebar": "Contents",
   "toc_cell": false,
   "toc_position": {
    "height": "804px",
    "left": "148px",
    "top": "50px",
    "width": "555.391px"
   },
   "toc_section_display": true,
   "toc_window_display": false
  },
  "varInspector": {
   "cols": {
    "lenName": 16,
    "lenType": 16,
    "lenVar": 40
   },
   "kernels_config": {
    "python": {
     "delete_cmd_postfix": "",
     "delete_cmd_prefix": "del ",
     "library": "var_list.py",
     "varRefreshCmd": "print(var_dic_list())"
    },
    "r": {
     "delete_cmd_postfix": ") ",
     "delete_cmd_prefix": "rm(",
     "library": "var_list.r",
     "varRefreshCmd": "cat(var_dic_list()) "
    }
   },
   "position": {
    "height": "313px",
    "left": "926px",
    "right": "27px",
    "top": "120px",
    "width": "343px"
   },
   "types_to_exclude": [
    "module",
    "function",
    "builtin_function_or_method",
    "instance",
    "_Feature"
   ],
   "window_display": false
  }
 },
 "nbformat": 4,
 "nbformat_minor": 5
}
